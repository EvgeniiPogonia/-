{
  "cells": [
    {
      "cell_type": "markdown",
      "metadata": {
        "id": "view-in-github",
        "colab_type": "text"
      },
      "source": [
        "<a href=\"https://colab.research.google.com/github/EvgeniiPogonia/-/blob/main/flights_dataframe.ipynb\" target=\"_parent\"><img src=\"https://colab.research.google.com/assets/colab-badge.svg\" alt=\"Open In Colab\"/></a>"
      ]
    },
    {
      "cell_type": "markdown",
      "id": "34a8058e-3aaa-434e-b67a-2edbb8a3930f",
      "metadata": {
        "id": "34a8058e-3aaa-434e-b67a-2edbb8a3930f"
      },
      "source": [
        "### Математическая статистика. Полеты в Нью-Йорке в 2013 году."
      ]
    },
    {
      "cell_type": "code",
      "execution_count": 34,
      "id": "e3146bc5-2eba-4a68-bdfb-990ae063ea2b",
      "metadata": {
        "id": "e3146bc5-2eba-4a68-bdfb-990ae063ea2b"
      },
      "outputs": [],
      "source": [
        "import pandas as pd\n",
        "import numpy as np\n",
        "import scipy.stats as stats\n",
        "import warnings\n",
        "warnings.simplefilter('ignore')\n",
        "%matplotlib inline\n",
        "import seaborn as sns\n",
        "%config InlineBackend.figure_format = 'svg'\n",
        "from pylab import rcParams\n",
        "rcParams['figure.figsize'] = 8, 9\n",
        "import seaborn as sns\n",
        "import matplotlib.pyplot as plt\n",
        "import matplotlib"
      ]
    },
    {
      "cell_type": "code",
      "execution_count": 2,
      "id": "7a494b57-8eda-45b2-a40a-887af8e029ba",
      "metadata": {
        "id": "7a494b57-8eda-45b2-a40a-887af8e029ba"
      },
      "outputs": [],
      "source": [
        "df = pd.read_csv('flights_NY.csv').dropna()"
      ]
    },
    {
      "cell_type": "code",
      "execution_count": 3,
      "id": "22496863-bf75-4179-8c2e-dba6adac4ec8",
      "metadata": {
        "colab": {
          "base_uri": "https://localhost:8080/"
        },
        "id": "22496863-bf75-4179-8c2e-dba6adac4ec8",
        "outputId": "fcfadfac-fff9-4f7c-e36c-f6e91e9d0d53"
      },
      "outputs": [
        {
          "output_type": "stream",
          "name": "stdout",
          "text": [
            "<class 'pandas.core.frame.DataFrame'>\n",
            "Index: 327346 entries, 0 to 336769\n",
            "Data columns (total 14 columns):\n",
            " #   Column     Non-Null Count   Dtype  \n",
            "---  ------     --------------   -----  \n",
            " 0   year       327346 non-null  int64  \n",
            " 1   month      327346 non-null  int64  \n",
            " 2   day        327346 non-null  int64  \n",
            " 3   dep_time   327346 non-null  float64\n",
            " 4   dep_delay  327346 non-null  float64\n",
            " 5   arr_time   327346 non-null  float64\n",
            " 6   arr_delay  327346 non-null  float64\n",
            " 7   carrier    327346 non-null  object \n",
            " 8   tailnum    327346 non-null  object \n",
            " 9   flight     327346 non-null  int64  \n",
            " 10  origin     327346 non-null  object \n",
            " 11  dest       327346 non-null  object \n",
            " 12  air_time   327346 non-null  float64\n",
            " 13  distance   327346 non-null  int64  \n",
            "dtypes: float64(5), int64(5), object(4)\n",
            "memory usage: 37.5+ MB\n"
          ]
        }
      ],
      "source": [
        "df.info()"
      ]
    },
    {
      "cell_type": "code",
      "execution_count": 4,
      "id": "f8e85d1d-1c34-420b-aeed-fbb730ecd4d0",
      "metadata": {
        "colab": {
          "base_uri": "https://localhost:8080/",
          "height": 206
        },
        "id": "f8e85d1d-1c34-420b-aeed-fbb730ecd4d0",
        "outputId": "16c974b5-e741-4a74-ee84-31db6886dd8f"
      },
      "outputs": [
        {
          "output_type": "execute_result",
          "data": {
            "text/plain": [
              "   year  month  day  dep_time  dep_delay  arr_time  arr_delay carrier tailnum  \\\n",
              "0  2013      1    1     517.0        2.0     830.0       11.0      UA  N14228   \n",
              "1  2013      1    1     533.0        4.0     850.0       20.0      UA  N24211   \n",
              "2  2013      1    1     542.0        2.0     923.0       33.0      AA  N619AA   \n",
              "3  2013      1    1     544.0       -1.0    1004.0      -18.0      B6  N804JB   \n",
              "4  2013      1    1     554.0       -6.0     812.0      -25.0      DL  N668DN   \n",
              "\n",
              "   flight origin dest  air_time  distance  \n",
              "0    1545    EWR  IAH     227.0      1400  \n",
              "1    1714    LGA  IAH     227.0      1416  \n",
              "2    1141    JFK  MIA     160.0      1089  \n",
              "3     725    JFK  BQN     183.0      1576  \n",
              "4     461    LGA  ATL     116.0       762  "
            ],
            "text/html": [
              "\n",
              "  <div id=\"df-7768279b-1d72-4332-b856-894f4d22a318\" class=\"colab-df-container\">\n",
              "    <div>\n",
              "<style scoped>\n",
              "    .dataframe tbody tr th:only-of-type {\n",
              "        vertical-align: middle;\n",
              "    }\n",
              "\n",
              "    .dataframe tbody tr th {\n",
              "        vertical-align: top;\n",
              "    }\n",
              "\n",
              "    .dataframe thead th {\n",
              "        text-align: right;\n",
              "    }\n",
              "</style>\n",
              "<table border=\"1\" class=\"dataframe\">\n",
              "  <thead>\n",
              "    <tr style=\"text-align: right;\">\n",
              "      <th></th>\n",
              "      <th>year</th>\n",
              "      <th>month</th>\n",
              "      <th>day</th>\n",
              "      <th>dep_time</th>\n",
              "      <th>dep_delay</th>\n",
              "      <th>arr_time</th>\n",
              "      <th>arr_delay</th>\n",
              "      <th>carrier</th>\n",
              "      <th>tailnum</th>\n",
              "      <th>flight</th>\n",
              "      <th>origin</th>\n",
              "      <th>dest</th>\n",
              "      <th>air_time</th>\n",
              "      <th>distance</th>\n",
              "    </tr>\n",
              "  </thead>\n",
              "  <tbody>\n",
              "    <tr>\n",
              "      <th>0</th>\n",
              "      <td>2013</td>\n",
              "      <td>1</td>\n",
              "      <td>1</td>\n",
              "      <td>517.0</td>\n",
              "      <td>2.0</td>\n",
              "      <td>830.0</td>\n",
              "      <td>11.0</td>\n",
              "      <td>UA</td>\n",
              "      <td>N14228</td>\n",
              "      <td>1545</td>\n",
              "      <td>EWR</td>\n",
              "      <td>IAH</td>\n",
              "      <td>227.0</td>\n",
              "      <td>1400</td>\n",
              "    </tr>\n",
              "    <tr>\n",
              "      <th>1</th>\n",
              "      <td>2013</td>\n",
              "      <td>1</td>\n",
              "      <td>1</td>\n",
              "      <td>533.0</td>\n",
              "      <td>4.0</td>\n",
              "      <td>850.0</td>\n",
              "      <td>20.0</td>\n",
              "      <td>UA</td>\n",
              "      <td>N24211</td>\n",
              "      <td>1714</td>\n",
              "      <td>LGA</td>\n",
              "      <td>IAH</td>\n",
              "      <td>227.0</td>\n",
              "      <td>1416</td>\n",
              "    </tr>\n",
              "    <tr>\n",
              "      <th>2</th>\n",
              "      <td>2013</td>\n",
              "      <td>1</td>\n",
              "      <td>1</td>\n",
              "      <td>542.0</td>\n",
              "      <td>2.0</td>\n",
              "      <td>923.0</td>\n",
              "      <td>33.0</td>\n",
              "      <td>AA</td>\n",
              "      <td>N619AA</td>\n",
              "      <td>1141</td>\n",
              "      <td>JFK</td>\n",
              "      <td>MIA</td>\n",
              "      <td>160.0</td>\n",
              "      <td>1089</td>\n",
              "    </tr>\n",
              "    <tr>\n",
              "      <th>3</th>\n",
              "      <td>2013</td>\n",
              "      <td>1</td>\n",
              "      <td>1</td>\n",
              "      <td>544.0</td>\n",
              "      <td>-1.0</td>\n",
              "      <td>1004.0</td>\n",
              "      <td>-18.0</td>\n",
              "      <td>B6</td>\n",
              "      <td>N804JB</td>\n",
              "      <td>725</td>\n",
              "      <td>JFK</td>\n",
              "      <td>BQN</td>\n",
              "      <td>183.0</td>\n",
              "      <td>1576</td>\n",
              "    </tr>\n",
              "    <tr>\n",
              "      <th>4</th>\n",
              "      <td>2013</td>\n",
              "      <td>1</td>\n",
              "      <td>1</td>\n",
              "      <td>554.0</td>\n",
              "      <td>-6.0</td>\n",
              "      <td>812.0</td>\n",
              "      <td>-25.0</td>\n",
              "      <td>DL</td>\n",
              "      <td>N668DN</td>\n",
              "      <td>461</td>\n",
              "      <td>LGA</td>\n",
              "      <td>ATL</td>\n",
              "      <td>116.0</td>\n",
              "      <td>762</td>\n",
              "    </tr>\n",
              "  </tbody>\n",
              "</table>\n",
              "</div>\n",
              "    <div class=\"colab-df-buttons\">\n",
              "\n",
              "  <div class=\"colab-df-container\">\n",
              "    <button class=\"colab-df-convert\" onclick=\"convertToInteractive('df-7768279b-1d72-4332-b856-894f4d22a318')\"\n",
              "            title=\"Convert this dataframe to an interactive table.\"\n",
              "            style=\"display:none;\">\n",
              "\n",
              "  <svg xmlns=\"http://www.w3.org/2000/svg\" height=\"24px\" viewBox=\"0 -960 960 960\">\n",
              "    <path d=\"M120-120v-720h720v720H120Zm60-500h600v-160H180v160Zm220 220h160v-160H400v160Zm0 220h160v-160H400v160ZM180-400h160v-160H180v160Zm440 0h160v-160H620v160ZM180-180h160v-160H180v160Zm440 0h160v-160H620v160Z\"/>\n",
              "  </svg>\n",
              "    </button>\n",
              "\n",
              "  <style>\n",
              "    .colab-df-container {\n",
              "      display:flex;\n",
              "      gap: 12px;\n",
              "    }\n",
              "\n",
              "    .colab-df-convert {\n",
              "      background-color: #E8F0FE;\n",
              "      border: none;\n",
              "      border-radius: 50%;\n",
              "      cursor: pointer;\n",
              "      display: none;\n",
              "      fill: #1967D2;\n",
              "      height: 32px;\n",
              "      padding: 0 0 0 0;\n",
              "      width: 32px;\n",
              "    }\n",
              "\n",
              "    .colab-df-convert:hover {\n",
              "      background-color: #E2EBFA;\n",
              "      box-shadow: 0px 1px 2px rgba(60, 64, 67, 0.3), 0px 1px 3px 1px rgba(60, 64, 67, 0.15);\n",
              "      fill: #174EA6;\n",
              "    }\n",
              "\n",
              "    .colab-df-buttons div {\n",
              "      margin-bottom: 4px;\n",
              "    }\n",
              "\n",
              "    [theme=dark] .colab-df-convert {\n",
              "      background-color: #3B4455;\n",
              "      fill: #D2E3FC;\n",
              "    }\n",
              "\n",
              "    [theme=dark] .colab-df-convert:hover {\n",
              "      background-color: #434B5C;\n",
              "      box-shadow: 0px 1px 3px 1px rgba(0, 0, 0, 0.15);\n",
              "      filter: drop-shadow(0px 1px 2px rgba(0, 0, 0, 0.3));\n",
              "      fill: #FFFFFF;\n",
              "    }\n",
              "  </style>\n",
              "\n",
              "    <script>\n",
              "      const buttonEl =\n",
              "        document.querySelector('#df-7768279b-1d72-4332-b856-894f4d22a318 button.colab-df-convert');\n",
              "      buttonEl.style.display =\n",
              "        google.colab.kernel.accessAllowed ? 'block' : 'none';\n",
              "\n",
              "      async function convertToInteractive(key) {\n",
              "        const element = document.querySelector('#df-7768279b-1d72-4332-b856-894f4d22a318');\n",
              "        const dataTable =\n",
              "          await google.colab.kernel.invokeFunction('convertToInteractive',\n",
              "                                                    [key], {});\n",
              "        if (!dataTable) return;\n",
              "\n",
              "        const docLinkHtml = 'Like what you see? Visit the ' +\n",
              "          '<a target=\"_blank\" href=https://colab.research.google.com/notebooks/data_table.ipynb>data table notebook</a>'\n",
              "          + ' to learn more about interactive tables.';\n",
              "        element.innerHTML = '';\n",
              "        dataTable['output_type'] = 'display_data';\n",
              "        await google.colab.output.renderOutput(dataTable, element);\n",
              "        const docLink = document.createElement('div');\n",
              "        docLink.innerHTML = docLinkHtml;\n",
              "        element.appendChild(docLink);\n",
              "      }\n",
              "    </script>\n",
              "  </div>\n",
              "\n",
              "\n",
              "<div id=\"df-71db9903-25c4-4195-84c3-e81873b2f824\">\n",
              "  <button class=\"colab-df-quickchart\" onclick=\"quickchart('df-71db9903-25c4-4195-84c3-e81873b2f824')\"\n",
              "            title=\"Suggest charts\"\n",
              "            style=\"display:none;\">\n",
              "\n",
              "<svg xmlns=\"http://www.w3.org/2000/svg\" height=\"24px\"viewBox=\"0 0 24 24\"\n",
              "     width=\"24px\">\n",
              "    <g>\n",
              "        <path d=\"M19 3H5c-1.1 0-2 .9-2 2v14c0 1.1.9 2 2 2h14c1.1 0 2-.9 2-2V5c0-1.1-.9-2-2-2zM9 17H7v-7h2v7zm4 0h-2V7h2v10zm4 0h-2v-4h2v4z\"/>\n",
              "    </g>\n",
              "</svg>\n",
              "  </button>\n",
              "\n",
              "<style>\n",
              "  .colab-df-quickchart {\n",
              "      --bg-color: #E8F0FE;\n",
              "      --fill-color: #1967D2;\n",
              "      --hover-bg-color: #E2EBFA;\n",
              "      --hover-fill-color: #174EA6;\n",
              "      --disabled-fill-color: #AAA;\n",
              "      --disabled-bg-color: #DDD;\n",
              "  }\n",
              "\n",
              "  [theme=dark] .colab-df-quickchart {\n",
              "      --bg-color: #3B4455;\n",
              "      --fill-color: #D2E3FC;\n",
              "      --hover-bg-color: #434B5C;\n",
              "      --hover-fill-color: #FFFFFF;\n",
              "      --disabled-bg-color: #3B4455;\n",
              "      --disabled-fill-color: #666;\n",
              "  }\n",
              "\n",
              "  .colab-df-quickchart {\n",
              "    background-color: var(--bg-color);\n",
              "    border: none;\n",
              "    border-radius: 50%;\n",
              "    cursor: pointer;\n",
              "    display: none;\n",
              "    fill: var(--fill-color);\n",
              "    height: 32px;\n",
              "    padding: 0;\n",
              "    width: 32px;\n",
              "  }\n",
              "\n",
              "  .colab-df-quickchart:hover {\n",
              "    background-color: var(--hover-bg-color);\n",
              "    box-shadow: 0 1px 2px rgba(60, 64, 67, 0.3), 0 1px 3px 1px rgba(60, 64, 67, 0.15);\n",
              "    fill: var(--button-hover-fill-color);\n",
              "  }\n",
              "\n",
              "  .colab-df-quickchart-complete:disabled,\n",
              "  .colab-df-quickchart-complete:disabled:hover {\n",
              "    background-color: var(--disabled-bg-color);\n",
              "    fill: var(--disabled-fill-color);\n",
              "    box-shadow: none;\n",
              "  }\n",
              "\n",
              "  .colab-df-spinner {\n",
              "    border: 2px solid var(--fill-color);\n",
              "    border-color: transparent;\n",
              "    border-bottom-color: var(--fill-color);\n",
              "    animation:\n",
              "      spin 1s steps(1) infinite;\n",
              "  }\n",
              "\n",
              "  @keyframes spin {\n",
              "    0% {\n",
              "      border-color: transparent;\n",
              "      border-bottom-color: var(--fill-color);\n",
              "      border-left-color: var(--fill-color);\n",
              "    }\n",
              "    20% {\n",
              "      border-color: transparent;\n",
              "      border-left-color: var(--fill-color);\n",
              "      border-top-color: var(--fill-color);\n",
              "    }\n",
              "    30% {\n",
              "      border-color: transparent;\n",
              "      border-left-color: var(--fill-color);\n",
              "      border-top-color: var(--fill-color);\n",
              "      border-right-color: var(--fill-color);\n",
              "    }\n",
              "    40% {\n",
              "      border-color: transparent;\n",
              "      border-right-color: var(--fill-color);\n",
              "      border-top-color: var(--fill-color);\n",
              "    }\n",
              "    60% {\n",
              "      border-color: transparent;\n",
              "      border-right-color: var(--fill-color);\n",
              "    }\n",
              "    80% {\n",
              "      border-color: transparent;\n",
              "      border-right-color: var(--fill-color);\n",
              "      border-bottom-color: var(--fill-color);\n",
              "    }\n",
              "    90% {\n",
              "      border-color: transparent;\n",
              "      border-bottom-color: var(--fill-color);\n",
              "    }\n",
              "  }\n",
              "</style>\n",
              "\n",
              "  <script>\n",
              "    async function quickchart(key) {\n",
              "      const quickchartButtonEl =\n",
              "        document.querySelector('#' + key + ' button');\n",
              "      quickchartButtonEl.disabled = true;  // To prevent multiple clicks.\n",
              "      quickchartButtonEl.classList.add('colab-df-spinner');\n",
              "      try {\n",
              "        const charts = await google.colab.kernel.invokeFunction(\n",
              "            'suggestCharts', [key], {});\n",
              "      } catch (error) {\n",
              "        console.error('Error during call to suggestCharts:', error);\n",
              "      }\n",
              "      quickchartButtonEl.classList.remove('colab-df-spinner');\n",
              "      quickchartButtonEl.classList.add('colab-df-quickchart-complete');\n",
              "    }\n",
              "    (() => {\n",
              "      let quickchartButtonEl =\n",
              "        document.querySelector('#df-71db9903-25c4-4195-84c3-e81873b2f824 button');\n",
              "      quickchartButtonEl.style.display =\n",
              "        google.colab.kernel.accessAllowed ? 'block' : 'none';\n",
              "    })();\n",
              "  </script>\n",
              "</div>\n",
              "    </div>\n",
              "  </div>\n"
            ],
            "application/vnd.google.colaboratory.intrinsic+json": {
              "type": "dataframe",
              "variable_name": "df"
            }
          },
          "metadata": {},
          "execution_count": 4
        }
      ],
      "source": [
        "df.head()"
      ]
    },
    {
      "cell_type": "markdown",
      "id": "f70bb052-15da-45d7-abbc-11b006f182cf",
      "metadata": {
        "id": "f70bb052-15da-45d7-abbc-11b006f182cf"
      },
      "source": [
        "### Задание 1. *По каждой авиакомпании оцените вероятность того, что задержка прилета будет положительной и нарисуйте график, показывающий распределение этой вероятности по авиакомпаниям.*\n"
      ]
    },
    {
      "cell_type": "code",
      "execution_count": 5,
      "id": "1e021126-7b38-47ad-9724-a2ae48c06e1d",
      "metadata": {
        "id": "1e021126-7b38-47ad-9724-a2ae48c06e1d"
      },
      "outputs": [],
      "source": [
        "df_arr_delay = df[df['arr_delay'] >= 0]"
      ]
    },
    {
      "cell_type": "code",
      "execution_count": 6,
      "id": "c1a87ab8-125b-40eb-8c44-c9ae4d455b75",
      "metadata": {
        "colab": {
          "base_uri": "https://localhost:8080/",
          "height": 423
        },
        "id": "c1a87ab8-125b-40eb-8c44-c9ae4d455b75",
        "outputId": "e88ffe67-d593-4a4f-f63d-ab0838ac215d"
      },
      "outputs": [
        {
          "output_type": "execute_result",
          "data": {
            "text/plain": [
              "        year  month  day  dep_time  dep_delay  arr_time  arr_delay carrier  \\\n",
              "0       2013      1    1     517.0        2.0     830.0       11.0      UA   \n",
              "1       2013      1    1     533.0        4.0     850.0       20.0      UA   \n",
              "2       2013      1    1     542.0        2.0     923.0       33.0      AA   \n",
              "5       2013      1    1     554.0       -4.0     740.0       12.0      UA   \n",
              "6       2013      1    1     555.0       -5.0     913.0       19.0      B6   \n",
              "...      ...    ...  ...       ...        ...       ...        ...     ...   \n",
              "336759  2013      9   30    2207.0       27.0    2257.0        7.0      MQ   \n",
              "336760  2013      9   30    2211.0       72.0    2339.0       57.0      EV   \n",
              "336762  2013      9   30    2233.0       80.0     112.0       42.0      UA   \n",
              "336763  2013      9   30    2235.0      154.0      59.0      130.0      B6   \n",
              "336768  2013      9   30    2307.0       12.0    2359.0        1.0      B6   \n",
              "\n",
              "       tailnum  flight origin dest  air_time  distance  \n",
              "0       N14228    1545    EWR  IAH     227.0      1400  \n",
              "1       N24211    1714    LGA  IAH     227.0      1416  \n",
              "2       N619AA    1141    JFK  MIA     160.0      1089  \n",
              "5       N39463    1696    EWR  ORD     150.0       719  \n",
              "6       N516JB     507    EWR  FLL     158.0      1065  \n",
              "...        ...     ...    ...  ...       ...       ...  \n",
              "336759  N532MQ    3660    LGA  BNA      97.0       764  \n",
              "336760  N12145    4672    EWR  STL     120.0       872  \n",
              "336762  N578UA     471    EWR  SFO     318.0      2565  \n",
              "336763  N804JB    1083    JFK  MCO     123.0       944  \n",
              "336768  N565JB     718    JFK  BOS      33.0       187  \n",
              "\n",
              "[138413 rows x 14 columns]"
            ],
            "text/html": [
              "\n",
              "  <div id=\"df-3cf5bfe8-cf00-4dd2-ab54-75878221a901\" class=\"colab-df-container\">\n",
              "    <div>\n",
              "<style scoped>\n",
              "    .dataframe tbody tr th:only-of-type {\n",
              "        vertical-align: middle;\n",
              "    }\n",
              "\n",
              "    .dataframe tbody tr th {\n",
              "        vertical-align: top;\n",
              "    }\n",
              "\n",
              "    .dataframe thead th {\n",
              "        text-align: right;\n",
              "    }\n",
              "</style>\n",
              "<table border=\"1\" class=\"dataframe\">\n",
              "  <thead>\n",
              "    <tr style=\"text-align: right;\">\n",
              "      <th></th>\n",
              "      <th>year</th>\n",
              "      <th>month</th>\n",
              "      <th>day</th>\n",
              "      <th>dep_time</th>\n",
              "      <th>dep_delay</th>\n",
              "      <th>arr_time</th>\n",
              "      <th>arr_delay</th>\n",
              "      <th>carrier</th>\n",
              "      <th>tailnum</th>\n",
              "      <th>flight</th>\n",
              "      <th>origin</th>\n",
              "      <th>dest</th>\n",
              "      <th>air_time</th>\n",
              "      <th>distance</th>\n",
              "    </tr>\n",
              "  </thead>\n",
              "  <tbody>\n",
              "    <tr>\n",
              "      <th>0</th>\n",
              "      <td>2013</td>\n",
              "      <td>1</td>\n",
              "      <td>1</td>\n",
              "      <td>517.0</td>\n",
              "      <td>2.0</td>\n",
              "      <td>830.0</td>\n",
              "      <td>11.0</td>\n",
              "      <td>UA</td>\n",
              "      <td>N14228</td>\n",
              "      <td>1545</td>\n",
              "      <td>EWR</td>\n",
              "      <td>IAH</td>\n",
              "      <td>227.0</td>\n",
              "      <td>1400</td>\n",
              "    </tr>\n",
              "    <tr>\n",
              "      <th>1</th>\n",
              "      <td>2013</td>\n",
              "      <td>1</td>\n",
              "      <td>1</td>\n",
              "      <td>533.0</td>\n",
              "      <td>4.0</td>\n",
              "      <td>850.0</td>\n",
              "      <td>20.0</td>\n",
              "      <td>UA</td>\n",
              "      <td>N24211</td>\n",
              "      <td>1714</td>\n",
              "      <td>LGA</td>\n",
              "      <td>IAH</td>\n",
              "      <td>227.0</td>\n",
              "      <td>1416</td>\n",
              "    </tr>\n",
              "    <tr>\n",
              "      <th>2</th>\n",
              "      <td>2013</td>\n",
              "      <td>1</td>\n",
              "      <td>1</td>\n",
              "      <td>542.0</td>\n",
              "      <td>2.0</td>\n",
              "      <td>923.0</td>\n",
              "      <td>33.0</td>\n",
              "      <td>AA</td>\n",
              "      <td>N619AA</td>\n",
              "      <td>1141</td>\n",
              "      <td>JFK</td>\n",
              "      <td>MIA</td>\n",
              "      <td>160.0</td>\n",
              "      <td>1089</td>\n",
              "    </tr>\n",
              "    <tr>\n",
              "      <th>5</th>\n",
              "      <td>2013</td>\n",
              "      <td>1</td>\n",
              "      <td>1</td>\n",
              "      <td>554.0</td>\n",
              "      <td>-4.0</td>\n",
              "      <td>740.0</td>\n",
              "      <td>12.0</td>\n",
              "      <td>UA</td>\n",
              "      <td>N39463</td>\n",
              "      <td>1696</td>\n",
              "      <td>EWR</td>\n",
              "      <td>ORD</td>\n",
              "      <td>150.0</td>\n",
              "      <td>719</td>\n",
              "    </tr>\n",
              "    <tr>\n",
              "      <th>6</th>\n",
              "      <td>2013</td>\n",
              "      <td>1</td>\n",
              "      <td>1</td>\n",
              "      <td>555.0</td>\n",
              "      <td>-5.0</td>\n",
              "      <td>913.0</td>\n",
              "      <td>19.0</td>\n",
              "      <td>B6</td>\n",
              "      <td>N516JB</td>\n",
              "      <td>507</td>\n",
              "      <td>EWR</td>\n",
              "      <td>FLL</td>\n",
              "      <td>158.0</td>\n",
              "      <td>1065</td>\n",
              "    </tr>\n",
              "    <tr>\n",
              "      <th>...</th>\n",
              "      <td>...</td>\n",
              "      <td>...</td>\n",
              "      <td>...</td>\n",
              "      <td>...</td>\n",
              "      <td>...</td>\n",
              "      <td>...</td>\n",
              "      <td>...</td>\n",
              "      <td>...</td>\n",
              "      <td>...</td>\n",
              "      <td>...</td>\n",
              "      <td>...</td>\n",
              "      <td>...</td>\n",
              "      <td>...</td>\n",
              "      <td>...</td>\n",
              "    </tr>\n",
              "    <tr>\n",
              "      <th>336759</th>\n",
              "      <td>2013</td>\n",
              "      <td>9</td>\n",
              "      <td>30</td>\n",
              "      <td>2207.0</td>\n",
              "      <td>27.0</td>\n",
              "      <td>2257.0</td>\n",
              "      <td>7.0</td>\n",
              "      <td>MQ</td>\n",
              "      <td>N532MQ</td>\n",
              "      <td>3660</td>\n",
              "      <td>LGA</td>\n",
              "      <td>BNA</td>\n",
              "      <td>97.0</td>\n",
              "      <td>764</td>\n",
              "    </tr>\n",
              "    <tr>\n",
              "      <th>336760</th>\n",
              "      <td>2013</td>\n",
              "      <td>9</td>\n",
              "      <td>30</td>\n",
              "      <td>2211.0</td>\n",
              "      <td>72.0</td>\n",
              "      <td>2339.0</td>\n",
              "      <td>57.0</td>\n",
              "      <td>EV</td>\n",
              "      <td>N12145</td>\n",
              "      <td>4672</td>\n",
              "      <td>EWR</td>\n",
              "      <td>STL</td>\n",
              "      <td>120.0</td>\n",
              "      <td>872</td>\n",
              "    </tr>\n",
              "    <tr>\n",
              "      <th>336762</th>\n",
              "      <td>2013</td>\n",
              "      <td>9</td>\n",
              "      <td>30</td>\n",
              "      <td>2233.0</td>\n",
              "      <td>80.0</td>\n",
              "      <td>112.0</td>\n",
              "      <td>42.0</td>\n",
              "      <td>UA</td>\n",
              "      <td>N578UA</td>\n",
              "      <td>471</td>\n",
              "      <td>EWR</td>\n",
              "      <td>SFO</td>\n",
              "      <td>318.0</td>\n",
              "      <td>2565</td>\n",
              "    </tr>\n",
              "    <tr>\n",
              "      <th>336763</th>\n",
              "      <td>2013</td>\n",
              "      <td>9</td>\n",
              "      <td>30</td>\n",
              "      <td>2235.0</td>\n",
              "      <td>154.0</td>\n",
              "      <td>59.0</td>\n",
              "      <td>130.0</td>\n",
              "      <td>B6</td>\n",
              "      <td>N804JB</td>\n",
              "      <td>1083</td>\n",
              "      <td>JFK</td>\n",
              "      <td>MCO</td>\n",
              "      <td>123.0</td>\n",
              "      <td>944</td>\n",
              "    </tr>\n",
              "    <tr>\n",
              "      <th>336768</th>\n",
              "      <td>2013</td>\n",
              "      <td>9</td>\n",
              "      <td>30</td>\n",
              "      <td>2307.0</td>\n",
              "      <td>12.0</td>\n",
              "      <td>2359.0</td>\n",
              "      <td>1.0</td>\n",
              "      <td>B6</td>\n",
              "      <td>N565JB</td>\n",
              "      <td>718</td>\n",
              "      <td>JFK</td>\n",
              "      <td>BOS</td>\n",
              "      <td>33.0</td>\n",
              "      <td>187</td>\n",
              "    </tr>\n",
              "  </tbody>\n",
              "</table>\n",
              "<p>138413 rows × 14 columns</p>\n",
              "</div>\n",
              "    <div class=\"colab-df-buttons\">\n",
              "\n",
              "  <div class=\"colab-df-container\">\n",
              "    <button class=\"colab-df-convert\" onclick=\"convertToInteractive('df-3cf5bfe8-cf00-4dd2-ab54-75878221a901')\"\n",
              "            title=\"Convert this dataframe to an interactive table.\"\n",
              "            style=\"display:none;\">\n",
              "\n",
              "  <svg xmlns=\"http://www.w3.org/2000/svg\" height=\"24px\" viewBox=\"0 -960 960 960\">\n",
              "    <path d=\"M120-120v-720h720v720H120Zm60-500h600v-160H180v160Zm220 220h160v-160H400v160Zm0 220h160v-160H400v160ZM180-400h160v-160H180v160Zm440 0h160v-160H620v160ZM180-180h160v-160H180v160Zm440 0h160v-160H620v160Z\"/>\n",
              "  </svg>\n",
              "    </button>\n",
              "\n",
              "  <style>\n",
              "    .colab-df-container {\n",
              "      display:flex;\n",
              "      gap: 12px;\n",
              "    }\n",
              "\n",
              "    .colab-df-convert {\n",
              "      background-color: #E8F0FE;\n",
              "      border: none;\n",
              "      border-radius: 50%;\n",
              "      cursor: pointer;\n",
              "      display: none;\n",
              "      fill: #1967D2;\n",
              "      height: 32px;\n",
              "      padding: 0 0 0 0;\n",
              "      width: 32px;\n",
              "    }\n",
              "\n",
              "    .colab-df-convert:hover {\n",
              "      background-color: #E2EBFA;\n",
              "      box-shadow: 0px 1px 2px rgba(60, 64, 67, 0.3), 0px 1px 3px 1px rgba(60, 64, 67, 0.15);\n",
              "      fill: #174EA6;\n",
              "    }\n",
              "\n",
              "    .colab-df-buttons div {\n",
              "      margin-bottom: 4px;\n",
              "    }\n",
              "\n",
              "    [theme=dark] .colab-df-convert {\n",
              "      background-color: #3B4455;\n",
              "      fill: #D2E3FC;\n",
              "    }\n",
              "\n",
              "    [theme=dark] .colab-df-convert:hover {\n",
              "      background-color: #434B5C;\n",
              "      box-shadow: 0px 1px 3px 1px rgba(0, 0, 0, 0.15);\n",
              "      filter: drop-shadow(0px 1px 2px rgba(0, 0, 0, 0.3));\n",
              "      fill: #FFFFFF;\n",
              "    }\n",
              "  </style>\n",
              "\n",
              "    <script>\n",
              "      const buttonEl =\n",
              "        document.querySelector('#df-3cf5bfe8-cf00-4dd2-ab54-75878221a901 button.colab-df-convert');\n",
              "      buttonEl.style.display =\n",
              "        google.colab.kernel.accessAllowed ? 'block' : 'none';\n",
              "\n",
              "      async function convertToInteractive(key) {\n",
              "        const element = document.querySelector('#df-3cf5bfe8-cf00-4dd2-ab54-75878221a901');\n",
              "        const dataTable =\n",
              "          await google.colab.kernel.invokeFunction('convertToInteractive',\n",
              "                                                    [key], {});\n",
              "        if (!dataTable) return;\n",
              "\n",
              "        const docLinkHtml = 'Like what you see? Visit the ' +\n",
              "          '<a target=\"_blank\" href=https://colab.research.google.com/notebooks/data_table.ipynb>data table notebook</a>'\n",
              "          + ' to learn more about interactive tables.';\n",
              "        element.innerHTML = '';\n",
              "        dataTable['output_type'] = 'display_data';\n",
              "        await google.colab.output.renderOutput(dataTable, element);\n",
              "        const docLink = document.createElement('div');\n",
              "        docLink.innerHTML = docLinkHtml;\n",
              "        element.appendChild(docLink);\n",
              "      }\n",
              "    </script>\n",
              "  </div>\n",
              "\n",
              "\n",
              "<div id=\"df-044a96e5-a490-46e6-a7dc-76a5a7f2e4f1\">\n",
              "  <button class=\"colab-df-quickchart\" onclick=\"quickchart('df-044a96e5-a490-46e6-a7dc-76a5a7f2e4f1')\"\n",
              "            title=\"Suggest charts\"\n",
              "            style=\"display:none;\">\n",
              "\n",
              "<svg xmlns=\"http://www.w3.org/2000/svg\" height=\"24px\"viewBox=\"0 0 24 24\"\n",
              "     width=\"24px\">\n",
              "    <g>\n",
              "        <path d=\"M19 3H5c-1.1 0-2 .9-2 2v14c0 1.1.9 2 2 2h14c1.1 0 2-.9 2-2V5c0-1.1-.9-2-2-2zM9 17H7v-7h2v7zm4 0h-2V7h2v10zm4 0h-2v-4h2v4z\"/>\n",
              "    </g>\n",
              "</svg>\n",
              "  </button>\n",
              "\n",
              "<style>\n",
              "  .colab-df-quickchart {\n",
              "      --bg-color: #E8F0FE;\n",
              "      --fill-color: #1967D2;\n",
              "      --hover-bg-color: #E2EBFA;\n",
              "      --hover-fill-color: #174EA6;\n",
              "      --disabled-fill-color: #AAA;\n",
              "      --disabled-bg-color: #DDD;\n",
              "  }\n",
              "\n",
              "  [theme=dark] .colab-df-quickchart {\n",
              "      --bg-color: #3B4455;\n",
              "      --fill-color: #D2E3FC;\n",
              "      --hover-bg-color: #434B5C;\n",
              "      --hover-fill-color: #FFFFFF;\n",
              "      --disabled-bg-color: #3B4455;\n",
              "      --disabled-fill-color: #666;\n",
              "  }\n",
              "\n",
              "  .colab-df-quickchart {\n",
              "    background-color: var(--bg-color);\n",
              "    border: none;\n",
              "    border-radius: 50%;\n",
              "    cursor: pointer;\n",
              "    display: none;\n",
              "    fill: var(--fill-color);\n",
              "    height: 32px;\n",
              "    padding: 0;\n",
              "    width: 32px;\n",
              "  }\n",
              "\n",
              "  .colab-df-quickchart:hover {\n",
              "    background-color: var(--hover-bg-color);\n",
              "    box-shadow: 0 1px 2px rgba(60, 64, 67, 0.3), 0 1px 3px 1px rgba(60, 64, 67, 0.15);\n",
              "    fill: var(--button-hover-fill-color);\n",
              "  }\n",
              "\n",
              "  .colab-df-quickchart-complete:disabled,\n",
              "  .colab-df-quickchart-complete:disabled:hover {\n",
              "    background-color: var(--disabled-bg-color);\n",
              "    fill: var(--disabled-fill-color);\n",
              "    box-shadow: none;\n",
              "  }\n",
              "\n",
              "  .colab-df-spinner {\n",
              "    border: 2px solid var(--fill-color);\n",
              "    border-color: transparent;\n",
              "    border-bottom-color: var(--fill-color);\n",
              "    animation:\n",
              "      spin 1s steps(1) infinite;\n",
              "  }\n",
              "\n",
              "  @keyframes spin {\n",
              "    0% {\n",
              "      border-color: transparent;\n",
              "      border-bottom-color: var(--fill-color);\n",
              "      border-left-color: var(--fill-color);\n",
              "    }\n",
              "    20% {\n",
              "      border-color: transparent;\n",
              "      border-left-color: var(--fill-color);\n",
              "      border-top-color: var(--fill-color);\n",
              "    }\n",
              "    30% {\n",
              "      border-color: transparent;\n",
              "      border-left-color: var(--fill-color);\n",
              "      border-top-color: var(--fill-color);\n",
              "      border-right-color: var(--fill-color);\n",
              "    }\n",
              "    40% {\n",
              "      border-color: transparent;\n",
              "      border-right-color: var(--fill-color);\n",
              "      border-top-color: var(--fill-color);\n",
              "    }\n",
              "    60% {\n",
              "      border-color: transparent;\n",
              "      border-right-color: var(--fill-color);\n",
              "    }\n",
              "    80% {\n",
              "      border-color: transparent;\n",
              "      border-right-color: var(--fill-color);\n",
              "      border-bottom-color: var(--fill-color);\n",
              "    }\n",
              "    90% {\n",
              "      border-color: transparent;\n",
              "      border-bottom-color: var(--fill-color);\n",
              "    }\n",
              "  }\n",
              "</style>\n",
              "\n",
              "  <script>\n",
              "    async function quickchart(key) {\n",
              "      const quickchartButtonEl =\n",
              "        document.querySelector('#' + key + ' button');\n",
              "      quickchartButtonEl.disabled = true;  // To prevent multiple clicks.\n",
              "      quickchartButtonEl.classList.add('colab-df-spinner');\n",
              "      try {\n",
              "        const charts = await google.colab.kernel.invokeFunction(\n",
              "            'suggestCharts', [key], {});\n",
              "      } catch (error) {\n",
              "        console.error('Error during call to suggestCharts:', error);\n",
              "      }\n",
              "      quickchartButtonEl.classList.remove('colab-df-spinner');\n",
              "      quickchartButtonEl.classList.add('colab-df-quickchart-complete');\n",
              "    }\n",
              "    (() => {\n",
              "      let quickchartButtonEl =\n",
              "        document.querySelector('#df-044a96e5-a490-46e6-a7dc-76a5a7f2e4f1 button');\n",
              "      quickchartButtonEl.style.display =\n",
              "        google.colab.kernel.accessAllowed ? 'block' : 'none';\n",
              "    })();\n",
              "  </script>\n",
              "</div>\n",
              "    </div>\n",
              "  </div>\n"
            ],
            "application/vnd.google.colaboratory.intrinsic+json": {
              "type": "dataframe",
              "variable_name": "df_arr_delay"
            }
          },
          "metadata": {},
          "execution_count": 6
        }
      ],
      "source": [
        "df_arr_delay"
      ]
    },
    {
      "cell_type": "code",
      "execution_count": 7,
      "id": "18b999e1-d1e5-4c02-b4c6-a39c15ed6885",
      "metadata": {
        "colab": {
          "base_uri": "https://localhost:8080/"
        },
        "id": "18b999e1-d1e5-4c02-b4c6-a39c15ed6885",
        "outputId": "b0018a15-f350-45e0-9e25-41a7b6672d71"
      },
      "outputs": [
        {
          "output_type": "stream",
          "name": "stdout",
          "text": [
            "Доля положительных задержек перелетов по авиакомпании EWR = 0.44409060250838833\n",
            "Доля положительных задержек перелетов по авиакомпании LGA = 0.41238876804429503\n",
            "Доля положительных задержек перелетов по авиакомпании JFK = 0.4096938915831645\n"
          ]
        }
      ],
      "source": [
        "airlines = ['EWR', 'LGA', 'JFK']\n",
        "for airline in airlines:\n",
        "    arr_delay = df_arr_delay.loc[df_arr_delay['origin'] == airline]\n",
        "    probab_arr_delay = len(arr_delay['origin'])/len(df[df['origin'] == airline]['origin'])\n",
        "    print('Доля положительных задержек перелетов по авиакомпании', airline, '=', probab_arr_delay)"
      ]
    },
    {
      "cell_type": "code",
      "execution_count": 8,
      "id": "173ffafa-8c7f-405c-b325-5dbea17f4c7b",
      "metadata": {
        "colab": {
          "base_uri": "https://localhost:8080/",
          "height": 767
        },
        "id": "173ffafa-8c7f-405c-b325-5dbea17f4c7b",
        "outputId": "deeb747b-174c-4954-967c-b07893968eb2"
      },
      "outputs": [
        {
          "output_type": "display_data",
          "data": {
            "text/plain": [
              "<Figure size 800x900 with 1 Axes>"
            ],
            "image/svg+xml": "<?xml version=\"1.0\" encoding=\"utf-8\" standalone=\"no\"?>\n<!DOCTYPE svg PUBLIC \"-//W3C//DTD SVG 1.1//EN\"\n  \"http://www.w3.org/Graphics/SVG/1.1/DTD/svg11.dtd\">\n<svg xmlns:xlink=\"http://www.w3.org/1999/xlink\" width=\"519.65pt\" height=\"558.834375pt\" viewBox=\"0 0 519.65 558.834375\" xmlns=\"http://www.w3.org/2000/svg\" version=\"1.1\">\n <metadata>\n  <rdf:RDF xmlns:dc=\"http://purl.org/dc/elements/1.1/\" xmlns:cc=\"http://creativecommons.org/ns#\" xmlns:rdf=\"http://www.w3.org/1999/02/22-rdf-syntax-ns#\">\n   <cc:Work>\n    <dc:type rdf:resource=\"http://purl.org/dc/dcmitype/StillImage\"/>\n    <dc:date>2024-05-20T12:31:00.271926</dc:date>\n    <dc:format>image/svg+xml</dc:format>\n    <dc:creator>\n     <cc:Agent>\n      <dc:title>Matplotlib v3.7.1, https://matplotlib.org/</dc:title>\n     </cc:Agent>\n    </dc:creator>\n   </cc:Work>\n  </rdf:RDF>\n </metadata>\n <defs>\n  <style type=\"text/css\">*{stroke-linejoin: round; stroke-linecap: butt}</style>\n </defs>\n <g id=\"figure_1\">\n  <g id=\"patch_1\">\n   <path d=\"M 0 558.834375 \nL 519.65 558.834375 \nL 519.65 0 \nL 0 0 \nz\n\" style=\"fill: #ffffff\"/>\n  </g>\n  <g id=\"axes_1\">\n   <g id=\"patch_2\">\n    <path d=\"M 56.50625 521.278125 \nL 502.90625 521.278125 \nL 502.90625 22.318125 \nL 56.50625 22.318125 \nz\n\" style=\"fill: #ffffff\"/>\n   </g>\n   <g id=\"matplotlib.axis_1\">\n    <g id=\"xtick_1\">\n     <g id=\"line2d_1\">\n      <defs>\n       <path id=\"m3343dc75a6\" d=\"M 0 0 \nL 0 3.5 \n\" style=\"stroke: #000000; stroke-width: 0.8\"/>\n      </defs>\n      <g>\n       <use xlink:href=\"#m3343dc75a6\" x=\"56.50625\" y=\"521.278125\" style=\"stroke: #000000; stroke-width: 0.8\"/>\n      </g>\n     </g>\n     <g id=\"text_1\">\n      <!-- −20 -->\n      <g transform=\"translate(45.953906 535.876562) scale(0.1 -0.1)\">\n       <defs>\n        <path id=\"DejaVuSans-2212\" d=\"M 678 2272 \nL 4684 2272 \nL 4684 1741 \nL 678 1741 \nL 678 2272 \nz\n\" transform=\"scale(0.015625)\"/>\n        <path id=\"DejaVuSans-32\" d=\"M 1228 531 \nL 3431 531 \nL 3431 0 \nL 469 0 \nL 469 531 \nQ 828 903 1448 1529 \nQ 2069 2156 2228 2338 \nQ 2531 2678 2651 2914 \nQ 2772 3150 2772 3378 \nQ 2772 3750 2511 3984 \nQ 2250 4219 1831 4219 \nQ 1534 4219 1204 4116 \nQ 875 4013 500 3803 \nL 500 4441 \nQ 881 4594 1212 4672 \nQ 1544 4750 1819 4750 \nQ 2544 4750 2975 4387 \nQ 3406 4025 3406 3419 \nQ 3406 3131 3298 2873 \nQ 3191 2616 2906 2266 \nQ 2828 2175 2409 1742 \nQ 1991 1309 1228 531 \nz\n\" transform=\"scale(0.015625)\"/>\n        <path id=\"DejaVuSans-30\" d=\"M 2034 4250 \nQ 1547 4250 1301 3770 \nQ 1056 3291 1056 2328 \nQ 1056 1369 1301 889 \nQ 1547 409 2034 409 \nQ 2525 409 2770 889 \nQ 3016 1369 3016 2328 \nQ 3016 3291 2770 3770 \nQ 2525 4250 2034 4250 \nz\nM 2034 4750 \nQ 2819 4750 3233 4129 \nQ 3647 3509 3647 2328 \nQ 3647 1150 3233 529 \nQ 2819 -91 2034 -91 \nQ 1250 -91 836 529 \nQ 422 1150 422 2328 \nQ 422 3509 836 4129 \nQ 1250 4750 2034 4750 \nz\n\" transform=\"scale(0.015625)\"/>\n       </defs>\n       <use xlink:href=\"#DejaVuSans-2212\"/>\n       <use xlink:href=\"#DejaVuSans-32\" x=\"83.789062\"/>\n       <use xlink:href=\"#DejaVuSans-30\" x=\"147.412109\"/>\n      </g>\n     </g>\n    </g>\n    <g id=\"xtick_2\">\n     <g id=\"line2d_2\">\n      <g>\n       <use xlink:href=\"#m3343dc75a6\" x=\"120.277679\" y=\"521.278125\" style=\"stroke: #000000; stroke-width: 0.8\"/>\n      </g>\n     </g>\n     <g id=\"text_2\">\n      <!-- 0 -->\n      <g transform=\"translate(117.096429 535.876562) scale(0.1 -0.1)\">\n       <use xlink:href=\"#DejaVuSans-30\"/>\n      </g>\n     </g>\n    </g>\n    <g id=\"xtick_3\">\n     <g id=\"line2d_3\">\n      <g>\n       <use xlink:href=\"#m3343dc75a6\" x=\"184.049107\" y=\"521.278125\" style=\"stroke: #000000; stroke-width: 0.8\"/>\n      </g>\n     </g>\n     <g id=\"text_3\">\n      <!-- 20 -->\n      <g transform=\"translate(177.686607 535.876562) scale(0.1 -0.1)\">\n       <use xlink:href=\"#DejaVuSans-32\"/>\n       <use xlink:href=\"#DejaVuSans-30\" x=\"63.623047\"/>\n      </g>\n     </g>\n    </g>\n    <g id=\"xtick_4\">\n     <g id=\"line2d_4\">\n      <g>\n       <use xlink:href=\"#m3343dc75a6\" x=\"247.820536\" y=\"521.278125\" style=\"stroke: #000000; stroke-width: 0.8\"/>\n      </g>\n     </g>\n     <g id=\"text_4\">\n      <!-- 40 -->\n      <g transform=\"translate(241.458036 535.876562) scale(0.1 -0.1)\">\n       <defs>\n        <path id=\"DejaVuSans-34\" d=\"M 2419 4116 \nL 825 1625 \nL 2419 1625 \nL 2419 4116 \nz\nM 2253 4666 \nL 3047 4666 \nL 3047 1625 \nL 3713 1625 \nL 3713 1100 \nL 3047 1100 \nL 3047 0 \nL 2419 0 \nL 2419 1100 \nL 313 1100 \nL 313 1709 \nL 2253 4666 \nz\n\" transform=\"scale(0.015625)\"/>\n       </defs>\n       <use xlink:href=\"#DejaVuSans-34\"/>\n       <use xlink:href=\"#DejaVuSans-30\" x=\"63.623047\"/>\n      </g>\n     </g>\n    </g>\n    <g id=\"xtick_5\">\n     <g id=\"line2d_5\">\n      <g>\n       <use xlink:href=\"#m3343dc75a6\" x=\"311.591964\" y=\"521.278125\" style=\"stroke: #000000; stroke-width: 0.8\"/>\n      </g>\n     </g>\n     <g id=\"text_5\">\n      <!-- 60 -->\n      <g transform=\"translate(305.229464 535.876562) scale(0.1 -0.1)\">\n       <defs>\n        <path id=\"DejaVuSans-36\" d=\"M 2113 2584 \nQ 1688 2584 1439 2293 \nQ 1191 2003 1191 1497 \nQ 1191 994 1439 701 \nQ 1688 409 2113 409 \nQ 2538 409 2786 701 \nQ 3034 994 3034 1497 \nQ 3034 2003 2786 2293 \nQ 2538 2584 2113 2584 \nz\nM 3366 4563 \nL 3366 3988 \nQ 3128 4100 2886 4159 \nQ 2644 4219 2406 4219 \nQ 1781 4219 1451 3797 \nQ 1122 3375 1075 2522 \nQ 1259 2794 1537 2939 \nQ 1816 3084 2150 3084 \nQ 2853 3084 3261 2657 \nQ 3669 2231 3669 1497 \nQ 3669 778 3244 343 \nQ 2819 -91 2113 -91 \nQ 1303 -91 875 529 \nQ 447 1150 447 2328 \nQ 447 3434 972 4092 \nQ 1497 4750 2381 4750 \nQ 2619 4750 2861 4703 \nQ 3103 4656 3366 4563 \nz\n\" transform=\"scale(0.015625)\"/>\n       </defs>\n       <use xlink:href=\"#DejaVuSans-36\"/>\n       <use xlink:href=\"#DejaVuSans-30\" x=\"63.623047\"/>\n      </g>\n     </g>\n    </g>\n    <g id=\"xtick_6\">\n     <g id=\"line2d_6\">\n      <g>\n       <use xlink:href=\"#m3343dc75a6\" x=\"375.363393\" y=\"521.278125\" style=\"stroke: #000000; stroke-width: 0.8\"/>\n      </g>\n     </g>\n     <g id=\"text_6\">\n      <!-- 80 -->\n      <g transform=\"translate(369.000893 535.876562) scale(0.1 -0.1)\">\n       <defs>\n        <path id=\"DejaVuSans-38\" d=\"M 2034 2216 \nQ 1584 2216 1326 1975 \nQ 1069 1734 1069 1313 \nQ 1069 891 1326 650 \nQ 1584 409 2034 409 \nQ 2484 409 2743 651 \nQ 3003 894 3003 1313 \nQ 3003 1734 2745 1975 \nQ 2488 2216 2034 2216 \nz\nM 1403 2484 \nQ 997 2584 770 2862 \nQ 544 3141 544 3541 \nQ 544 4100 942 4425 \nQ 1341 4750 2034 4750 \nQ 2731 4750 3128 4425 \nQ 3525 4100 3525 3541 \nQ 3525 3141 3298 2862 \nQ 3072 2584 2669 2484 \nQ 3125 2378 3379 2068 \nQ 3634 1759 3634 1313 \nQ 3634 634 3220 271 \nQ 2806 -91 2034 -91 \nQ 1263 -91 848 271 \nQ 434 634 434 1313 \nQ 434 1759 690 2068 \nQ 947 2378 1403 2484 \nz\nM 1172 3481 \nQ 1172 3119 1398 2916 \nQ 1625 2713 2034 2713 \nQ 2441 2713 2670 2916 \nQ 2900 3119 2900 3481 \nQ 2900 3844 2670 4047 \nQ 2441 4250 2034 4250 \nQ 1625 4250 1398 4047 \nQ 1172 3844 1172 3481 \nz\n\" transform=\"scale(0.015625)\"/>\n       </defs>\n       <use xlink:href=\"#DejaVuSans-38\"/>\n       <use xlink:href=\"#DejaVuSans-30\" x=\"63.623047\"/>\n      </g>\n     </g>\n    </g>\n    <g id=\"xtick_7\">\n     <g id=\"line2d_7\">\n      <g>\n       <use xlink:href=\"#m3343dc75a6\" x=\"439.134821\" y=\"521.278125\" style=\"stroke: #000000; stroke-width: 0.8\"/>\n      </g>\n     </g>\n     <g id=\"text_7\">\n      <!-- 100 -->\n      <g transform=\"translate(429.591071 535.876562) scale(0.1 -0.1)\">\n       <defs>\n        <path id=\"DejaVuSans-31\" d=\"M 794 531 \nL 1825 531 \nL 1825 4091 \nL 703 3866 \nL 703 4441 \nL 1819 4666 \nL 2450 4666 \nL 2450 531 \nL 3481 531 \nL 3481 0 \nL 794 0 \nL 794 531 \nz\n\" transform=\"scale(0.015625)\"/>\n       </defs>\n       <use xlink:href=\"#DejaVuSans-31\"/>\n       <use xlink:href=\"#DejaVuSans-30\" x=\"63.623047\"/>\n       <use xlink:href=\"#DejaVuSans-30\" x=\"127.246094\"/>\n      </g>\n     </g>\n    </g>\n    <g id=\"xtick_8\">\n     <g id=\"line2d_8\">\n      <g>\n       <use xlink:href=\"#m3343dc75a6\" x=\"502.90625\" y=\"521.278125\" style=\"stroke: #000000; stroke-width: 0.8\"/>\n      </g>\n     </g>\n     <g id=\"text_8\">\n      <!-- 120 -->\n      <g transform=\"translate(493.3625 535.876562) scale(0.1 -0.1)\">\n       <use xlink:href=\"#DejaVuSans-31\"/>\n       <use xlink:href=\"#DejaVuSans-32\" x=\"63.623047\"/>\n       <use xlink:href=\"#DejaVuSans-30\" x=\"127.246094\"/>\n      </g>\n     </g>\n    </g>\n    <g id=\"text_9\">\n     <!-- Задержка (мин) -->\n     <g transform=\"translate(237.359375 549.554687) scale(0.1 -0.1)\">\n      <defs>\n       <path id=\"DejaVuSans-417\" d=\"M 1828 4750 \nQ 2597 4750 3084 4423 \nQ 3572 4097 3572 3541 \nQ 3572 3153 3350 2886 \nQ 3128 2619 2719 2516 \nQ 3172 2419 3426 2112 \nQ 3681 1806 3681 1356 \nQ 3681 638 3126 273 \nQ 2572 -91 1828 -91 \nQ 1447 -91 1003 12 \nQ 559 116 422 203 \nL 422 853 \nQ 900 575 1164 508 \nQ 1428 441 1816 441 \nQ 2403 441 2728 666 \nQ 3053 891 3053 1356 \nQ 3053 1769 2764 2001 \nQ 2475 2234 1866 2234 \nL 1228 2234 \nL 1228 2753 \nL 1891 2753 \nQ 2450 2753 2697 2939 \nQ 2944 3125 2944 3475 \nQ 2944 3834 2689 4026 \nQ 2434 4219 1816 4219 \nQ 1397 4219 1253 4181 \nQ 1109 4144 469 3903 \nL 469 4519 \nQ 822 4644 1190 4697 \nQ 1559 4750 1828 4750 \nz\n\" transform=\"scale(0.015625)\"/>\n       <path id=\"DejaVuSans-430\" d=\"M 2194 1759 \nQ 1497 1759 1228 1600 \nQ 959 1441 959 1056 \nQ 959 750 1161 570 \nQ 1363 391 1709 391 \nQ 2188 391 2477 730 \nQ 2766 1069 2766 1631 \nL 2766 1759 \nL 2194 1759 \nz\nM 3341 1997 \nL 3341 0 \nL 2766 0 \nL 2766 531 \nQ 2569 213 2275 61 \nQ 1981 -91 1556 -91 \nQ 1019 -91 701 211 \nQ 384 513 384 1019 \nQ 384 1609 779 1909 \nQ 1175 2209 1959 2209 \nL 2766 2209 \nL 2766 2266 \nQ 2766 2663 2505 2880 \nQ 2244 3097 1772 3097 \nQ 1472 3097 1187 3025 \nQ 903 2953 641 2809 \nL 641 3341 \nQ 956 3463 1253 3523 \nQ 1550 3584 1831 3584 \nQ 2591 3584 2966 3190 \nQ 3341 2797 3341 1997 \nz\n\" transform=\"scale(0.015625)\"/>\n       <path id=\"DejaVuSans-434\" d=\"M 1384 459 \nL 3053 459 \nL 3053 3041 \nL 1844 3041 \nL 1844 2603 \nQ 1844 1316 1475 628 \nL 1384 459 \nz\nM 550 459 \nQ 834 584 959 850 \nQ 1266 1509 1266 2838 \nL 1266 3500 \nL 3631 3500 \nL 3631 459 \nL 4091 459 \nL 4091 -884 \nL 3631 -884 \nL 3631 0 \nL 794 0 \nL 794 -884 \nL 334 -884 \nL 334 459 \nL 550 459 \nz\n\" transform=\"scale(0.015625)\"/>\n       <path id=\"DejaVuSans-435\" d=\"M 3597 1894 \nL 3597 1613 \nL 953 1613 \nQ 991 1019 1311 708 \nQ 1631 397 2203 397 \nQ 2534 397 2845 478 \nQ 3156 559 3463 722 \nL 3463 178 \nQ 3153 47 2828 -22 \nQ 2503 -91 2169 -91 \nQ 1331 -91 842 396 \nQ 353 884 353 1716 \nQ 353 2575 817 3079 \nQ 1281 3584 2069 3584 \nQ 2775 3584 3186 3129 \nQ 3597 2675 3597 1894 \nz\nM 3022 2063 \nQ 3016 2534 2758 2815 \nQ 2500 3097 2075 3097 \nQ 1594 3097 1305 2825 \nQ 1016 2553 972 2059 \nL 3022 2063 \nz\n\" transform=\"scale(0.015625)\"/>\n       <path id=\"DejaVuSans-440\" d=\"M 1159 525 \nL 1159 -1331 \nL 581 -1331 \nL 581 3500 \nL 1159 3500 \nL 1159 2969 \nQ 1341 3281 1617 3432 \nQ 1894 3584 2278 3584 \nQ 2916 3584 3314 3078 \nQ 3713 2572 3713 1747 \nQ 3713 922 3314 415 \nQ 2916 -91 2278 -91 \nQ 1894 -91 1617 61 \nQ 1341 213 1159 525 \nz\nM 3116 1747 \nQ 3116 2381 2855 2742 \nQ 2594 3103 2138 3103 \nQ 1681 3103 1420 2742 \nQ 1159 2381 1159 1747 \nQ 1159 1113 1420 752 \nQ 1681 391 2138 391 \nQ 2594 391 2855 752 \nQ 3116 1113 3116 1747 \nz\n\" transform=\"scale(0.015625)\"/>\n       <path id=\"DejaVuSans-436\" d=\"M 2597 3500 \nL 3169 3500 \nL 3169 1856 \nL 4697 3500 \nL 5366 3500 \nL 4109 2153 \nL 5547 0 \nL 4931 0 \nL 3753 1769 \nL 3169 1141 \nL 3169 0 \nL 2597 0 \nL 2597 1141 \nL 2013 1769 \nL 834 0 \nL 219 0 \nL 1656 2153 \nL 400 3500 \nL 1069 3500 \nL 2597 1856 \nL 2597 3500 \nz\n\" transform=\"scale(0.015625)\"/>\n       <path id=\"DejaVuSans-43a\" d=\"M 581 3500 \nL 1153 3500 \nL 1153 1856 \nL 2775 3500 \nL 3481 3500 \nL 2144 2147 \nL 3653 0 \nL 3009 0 \nL 1769 1766 \nL 1153 1141 \nL 1153 0 \nL 581 0 \nL 581 3500 \nz\n\" transform=\"scale(0.015625)\"/>\n       <path id=\"DejaVuSans-20\" transform=\"scale(0.015625)\"/>\n       <path id=\"DejaVuSans-28\" d=\"M 1984 4856 \nQ 1566 4138 1362 3434 \nQ 1159 2731 1159 2009 \nQ 1159 1288 1364 580 \nQ 1569 -128 1984 -844 \nL 1484 -844 \nQ 1016 -109 783 600 \nQ 550 1309 550 2009 \nQ 550 2706 781 3412 \nQ 1013 4119 1484 4856 \nL 1984 4856 \nz\n\" transform=\"scale(0.015625)\"/>\n       <path id=\"DejaVuSans-43c\" d=\"M 581 3500 \nL 1422 3500 \nL 2416 1156 \nL 3413 3500 \nL 4247 3500 \nL 4247 0 \nL 3669 0 \nL 3669 2950 \nL 2703 672 \nL 2128 672 \nL 1159 2950 \nL 1159 0 \nL 581 0 \nL 581 3500 \nz\n\" transform=\"scale(0.015625)\"/>\n       <path id=\"DejaVuSans-438\" d=\"M 3578 3500 \nL 3578 0 \nL 3006 0 \nL 3006 2809 \nL 1319 0 \nL 581 0 \nL 581 3500 \nL 1153 3500 \nL 1153 697 \nL 2838 3500 \nL 3578 3500 \nz\n\" transform=\"scale(0.015625)\"/>\n       <path id=\"DejaVuSans-43d\" d=\"M 581 3500 \nL 1159 3500 \nL 1159 2072 \nL 3025 2072 \nL 3025 3500 \nL 3603 3500 \nL 3603 0 \nL 3025 0 \nL 3025 1613 \nL 1159 1613 \nL 1159 0 \nL 581 0 \nL 581 3500 \nz\n\" transform=\"scale(0.015625)\"/>\n       <path id=\"DejaVuSans-29\" d=\"M 513 4856 \nL 1013 4856 \nQ 1481 4119 1714 3412 \nQ 1947 2706 1947 2009 \nQ 1947 1309 1714 600 \nQ 1481 -109 1013 -844 \nL 513 -844 \nQ 928 -128 1133 580 \nQ 1338 1288 1338 2009 \nQ 1338 2731 1133 3434 \nQ 928 4138 513 4856 \nz\n\" transform=\"scale(0.015625)\"/>\n      </defs>\n      <use xlink:href=\"#DejaVuSans-417\"/>\n      <use xlink:href=\"#DejaVuSans-430\" x=\"64.111328\"/>\n      <use xlink:href=\"#DejaVuSans-434\" x=\"125.390625\"/>\n      <use xlink:href=\"#DejaVuSans-435\" x=\"194.53125\"/>\n      <use xlink:href=\"#DejaVuSans-440\" x=\"256.054688\"/>\n      <use xlink:href=\"#DejaVuSans-436\" x=\"319.53125\"/>\n      <use xlink:href=\"#DejaVuSans-43a\" x=\"409.619141\"/>\n      <use xlink:href=\"#DejaVuSans-430\" x=\"470.019531\"/>\n      <use xlink:href=\"#DejaVuSans-20\" x=\"531.298828\"/>\n      <use xlink:href=\"#DejaVuSans-28\" x=\"563.085938\"/>\n      <use xlink:href=\"#DejaVuSans-43c\" x=\"602.099609\"/>\n      <use xlink:href=\"#DejaVuSans-438\" x=\"677.539062\"/>\n      <use xlink:href=\"#DejaVuSans-43d\" x=\"742.529297\"/>\n      <use xlink:href=\"#DejaVuSans-29\" x=\"807.910156\"/>\n     </g>\n    </g>\n   </g>\n   <g id=\"matplotlib.axis_2\">\n    <g id=\"ytick_1\">\n     <g id=\"line2d_9\">\n      <defs>\n       <path id=\"m007da285c7\" d=\"M 0 0 \nL -3.5 0 \n\" style=\"stroke: #000000; stroke-width: 0.8\"/>\n      </defs>\n      <g>\n       <use xlink:href=\"#m007da285c7\" x=\"56.50625\" y=\"521.278125\" style=\"stroke: #000000; stroke-width: 0.8\"/>\n      </g>\n     </g>\n     <g id=\"text_10\">\n      <!-- 0.000 -->\n      <g transform=\"translate(20.878125 525.077344) scale(0.1 -0.1)\">\n       <defs>\n        <path id=\"DejaVuSans-2e\" d=\"M 684 794 \nL 1344 794 \nL 1344 0 \nL 684 0 \nL 684 794 \nz\n\" transform=\"scale(0.015625)\"/>\n       </defs>\n       <use xlink:href=\"#DejaVuSans-30\"/>\n       <use xlink:href=\"#DejaVuSans-2e\" x=\"63.623047\"/>\n       <use xlink:href=\"#DejaVuSans-30\" x=\"95.410156\"/>\n       <use xlink:href=\"#DejaVuSans-30\" x=\"159.033203\"/>\n       <use xlink:href=\"#DejaVuSans-30\" x=\"222.65625\"/>\n      </g>\n     </g>\n    </g>\n    <g id=\"ytick_2\">\n     <g id=\"line2d_10\">\n      <g>\n       <use xlink:href=\"#m007da285c7\" x=\"56.50625\" y=\"420.794884\" style=\"stroke: #000000; stroke-width: 0.8\"/>\n      </g>\n     </g>\n     <g id=\"text_11\">\n      <!-- 0.005 -->\n      <g transform=\"translate(20.878125 424.594103) scale(0.1 -0.1)\">\n       <defs>\n        <path id=\"DejaVuSans-35\" d=\"M 691 4666 \nL 3169 4666 \nL 3169 4134 \nL 1269 4134 \nL 1269 2991 \nQ 1406 3038 1543 3061 \nQ 1681 3084 1819 3084 \nQ 2600 3084 3056 2656 \nQ 3513 2228 3513 1497 \nQ 3513 744 3044 326 \nQ 2575 -91 1722 -91 \nQ 1428 -91 1123 -41 \nQ 819 9 494 109 \nL 494 744 \nQ 775 591 1075 516 \nQ 1375 441 1709 441 \nQ 2250 441 2565 725 \nQ 2881 1009 2881 1497 \nQ 2881 1984 2565 2268 \nQ 2250 2553 1709 2553 \nQ 1456 2553 1204 2497 \nQ 953 2441 691 2322 \nL 691 4666 \nz\n\" transform=\"scale(0.015625)\"/>\n       </defs>\n       <use xlink:href=\"#DejaVuSans-30\"/>\n       <use xlink:href=\"#DejaVuSans-2e\" x=\"63.623047\"/>\n       <use xlink:href=\"#DejaVuSans-30\" x=\"95.410156\"/>\n       <use xlink:href=\"#DejaVuSans-30\" x=\"159.033203\"/>\n       <use xlink:href=\"#DejaVuSans-35\" x=\"222.65625\"/>\n      </g>\n     </g>\n    </g>\n    <g id=\"ytick_3\">\n     <g id=\"line2d_11\">\n      <g>\n       <use xlink:href=\"#m007da285c7\" x=\"56.50625\" y=\"320.311643\" style=\"stroke: #000000; stroke-width: 0.8\"/>\n      </g>\n     </g>\n     <g id=\"text_12\">\n      <!-- 0.010 -->\n      <g transform=\"translate(20.878125 324.110862) scale(0.1 -0.1)\">\n       <use xlink:href=\"#DejaVuSans-30\"/>\n       <use xlink:href=\"#DejaVuSans-2e\" x=\"63.623047\"/>\n       <use xlink:href=\"#DejaVuSans-30\" x=\"95.410156\"/>\n       <use xlink:href=\"#DejaVuSans-31\" x=\"159.033203\"/>\n       <use xlink:href=\"#DejaVuSans-30\" x=\"222.65625\"/>\n      </g>\n     </g>\n    </g>\n    <g id=\"ytick_4\">\n     <g id=\"line2d_12\">\n      <g>\n       <use xlink:href=\"#m007da285c7\" x=\"56.50625\" y=\"219.828402\" style=\"stroke: #000000; stroke-width: 0.8\"/>\n      </g>\n     </g>\n     <g id=\"text_13\">\n      <!-- 0.015 -->\n      <g transform=\"translate(20.878125 223.627621) scale(0.1 -0.1)\">\n       <use xlink:href=\"#DejaVuSans-30\"/>\n       <use xlink:href=\"#DejaVuSans-2e\" x=\"63.623047\"/>\n       <use xlink:href=\"#DejaVuSans-30\" x=\"95.410156\"/>\n       <use xlink:href=\"#DejaVuSans-31\" x=\"159.033203\"/>\n       <use xlink:href=\"#DejaVuSans-35\" x=\"222.65625\"/>\n      </g>\n     </g>\n    </g>\n    <g id=\"ytick_5\">\n     <g id=\"line2d_13\">\n      <g>\n       <use xlink:href=\"#m007da285c7\" x=\"56.50625\" y=\"119.345161\" style=\"stroke: #000000; stroke-width: 0.8\"/>\n      </g>\n     </g>\n     <g id=\"text_14\">\n      <!-- 0.020 -->\n      <g transform=\"translate(20.878125 123.144379) scale(0.1 -0.1)\">\n       <use xlink:href=\"#DejaVuSans-30\"/>\n       <use xlink:href=\"#DejaVuSans-2e\" x=\"63.623047\"/>\n       <use xlink:href=\"#DejaVuSans-30\" x=\"95.410156\"/>\n       <use xlink:href=\"#DejaVuSans-32\" x=\"159.033203\"/>\n       <use xlink:href=\"#DejaVuSans-30\" x=\"222.65625\"/>\n      </g>\n     </g>\n    </g>\n    <g id=\"text_15\">\n     <!-- Плотность -->\n     <g transform=\"translate(14.798437 299.662969) rotate(-90) scale(0.1 -0.1)\">\n      <defs>\n       <path id=\"DejaVuSans-41f\" d=\"M 4184 4666 \nL 4184 0 \nL 3553 0 \nL 3553 4134 \nL 1259 4134 \nL 1259 0 \nL 628 0 \nL 628 4666 \nL 4184 4666 \nz\n\" transform=\"scale(0.015625)\"/>\n       <path id=\"DejaVuSans-43b\" d=\"M 238 0 \nL 238 478 \nQ 806 566 981 959 \nQ 1194 1513 1194 2928 \nL 1194 3500 \nL 3559 3500 \nL 3559 0 \nL 2984 0 \nL 2984 3041 \nL 1769 3041 \nL 1769 2694 \nQ 1769 1344 1494 738 \nQ 1200 91 238 0 \nz\n\" transform=\"scale(0.015625)\"/>\n       <path id=\"DejaVuSans-43e\" d=\"M 1959 3097 \nQ 1497 3097 1228 2736 \nQ 959 2375 959 1747 \nQ 959 1119 1226 758 \nQ 1494 397 1959 397 \nQ 2419 397 2687 759 \nQ 2956 1122 2956 1747 \nQ 2956 2369 2687 2733 \nQ 2419 3097 1959 3097 \nz\nM 1959 3584 \nQ 2709 3584 3137 3096 \nQ 3566 2609 3566 1747 \nQ 3566 888 3137 398 \nQ 2709 -91 1959 -91 \nQ 1206 -91 779 398 \nQ 353 888 353 1747 \nQ 353 2609 779 3096 \nQ 1206 3584 1959 3584 \nz\n\" transform=\"scale(0.015625)\"/>\n       <path id=\"DejaVuSans-442\" d=\"M 188 3500 \nL 3541 3500 \nL 3541 3041 \nL 2147 3041 \nL 2147 0 \nL 1581 0 \nL 1581 3041 \nL 188 3041 \nL 188 3500 \nz\n\" transform=\"scale(0.015625)\"/>\n       <path id=\"DejaVuSans-441\" d=\"M 3122 3366 \nL 3122 2828 \nQ 2878 2963 2633 3030 \nQ 2388 3097 2138 3097 \nQ 1578 3097 1268 2742 \nQ 959 2388 959 1747 \nQ 959 1106 1268 751 \nQ 1578 397 2138 397 \nQ 2388 397 2633 464 \nQ 2878 531 3122 666 \nL 3122 134 \nQ 2881 22 2623 -34 \nQ 2366 -91 2075 -91 \nQ 1284 -91 818 406 \nQ 353 903 353 1747 \nQ 353 2603 823 3093 \nQ 1294 3584 2113 3584 \nQ 2378 3584 2631 3529 \nQ 2884 3475 3122 3366 \nz\n\" transform=\"scale(0.015625)\"/>\n       <path id=\"DejaVuSans-44c\" d=\"M 2781 1038 \nQ 2781 1319 2576 1466 \nQ 2372 1613 1978 1613 \nL 1159 1613 \nL 1159 459 \nL 1978 459 \nQ 2372 459 2576 607 \nQ 2781 756 2781 1038 \nz\nM 581 3500 \nL 1159 3500 \nL 1159 2072 \nL 2003 2072 \nQ 2672 2072 3033 1817 \nQ 3394 1563 3394 1038 \nQ 3394 513 3033 256 \nQ 2672 0 2003 0 \nL 581 0 \nL 581 3500 \nz\n\" transform=\"scale(0.015625)\"/>\n      </defs>\n      <use xlink:href=\"#DejaVuSans-41f\"/>\n      <use xlink:href=\"#DejaVuSans-43b\" x=\"75.195312\"/>\n      <use xlink:href=\"#DejaVuSans-43e\" x=\"139.111328\"/>\n      <use xlink:href=\"#DejaVuSans-442\" x=\"200.292969\"/>\n      <use xlink:href=\"#DejaVuSans-43d\" x=\"258.544922\"/>\n      <use xlink:href=\"#DejaVuSans-43e\" x=\"323.925781\"/>\n      <use xlink:href=\"#DejaVuSans-441\" x=\"385.107422\"/>\n      <use xlink:href=\"#DejaVuSans-442\" x=\"440.087891\"/>\n      <use xlink:href=\"#DejaVuSans-44c\" x=\"498.339844\"/>\n     </g>\n    </g>\n   </g>\n   <g id=\"line2d_14\">\n    <path d=\"M 62.660841 520.053874 \nL 81.009381 504.304993 \nL 99.35792 417.65122 \nL 117.70646 224.501536 \nL 136.054999 72.813905 \nL 154.403539 86.207005 \nL 172.752079 176.845074 \nL 191.100618 256.407311 \nL 209.449158 312.144964 \nL 227.797698 353.484005 \nL 246.146237 384.352737 \nL 264.494777 405.927579 \nL 282.843317 421.374576 \nL 301.191856 434.26527 \nL 319.540396 445.641056 \nL 337.888936 454.598285 \nL 356.237475 461.542193 \nL 374.586015 467.939752 \nL 392.934555 473.466704 \nL 411.283094 477.314066 \nL 429.631634 480.751288 \nL 447.980173 485.022696 \nL 466.328713 489.611764 \nL 484.677253 493.81433 \nL 503.025792 496.895476 \nL 520.65 498.379098 \nL 520.65 498.379098 \n\" clip-path=\"url(#p952e6f9880)\" style=\"fill: none; stroke: #1f77b4; stroke-linecap: square\"/>\n   </g>\n   <g id=\"line2d_15\">\n    <path d=\"M 59.764779 519.972286 \nL 75.033968 510.039605 \nL 90.303158 463.851449 \nL 105.572347 342.627754 \nL 120.841536 168.590619 \nL 136.110725 48.593718 \nL 151.379915 46.078125 \nL 166.649104 117.90212 \nL 181.918293 201.7601 \nL 197.187482 270.388363 \nL 212.456672 320.46398 \nL 227.725861 357.107322 \nL 242.99505 385.114328 \nL 258.264239 406.265685 \nL 273.533428 421.908416 \nL 288.802618 434.08241 \nL 304.071807 444.352319 \nL 319.340996 453.489767 \nL 334.610185 461.533296 \nL 349.879375 468.114004 \nL 365.148564 473.313567 \nL 380.417753 477.706141 \nL 395.686942 481.659934 \nL 410.956131 485.223845 \nL 426.225321 488.376032 \nL 441.49451 491.06817 \nL 472.032888 495.901283 \nL 487.302078 498.15789 \nL 502.571267 499.96552 \nL 520.65 501.530352 \nL 520.65 501.530352 \n\" clip-path=\"url(#p952e6f9880)\" style=\"fill: none; stroke: #ff7f0e; stroke-linecap: square\"/>\n   </g>\n   <g id=\"line2d_16\">\n    <path d=\"M 61.122139 519.975051 \nL 82.097887 498.319522 \nL 103.073636 374.309326 \nL 124.049384 144.180137 \nL 145.025133 50.161229 \nL 166.000881 130.858021 \nL 186.976629 233.859742 \nL 207.952378 308.007235 \nL 228.928126 356.823354 \nL 249.903875 389.694064 \nL 270.879623 414.854252 \nL 291.855372 434.108162 \nL 312.83112 447.225562 \nL 333.806868 456.715174 \nL 354.782617 464.684177 \nL 375.758365 471.857825 \nL 396.734114 477.607745 \nL 438.685611 486.116938 \nL 459.661359 490.678545 \nL 480.637107 493.961372 \nL 501.612856 496.63901 \nL 520.65 499.443526 \nL 520.65 499.443526 \n\" clip-path=\"url(#p952e6f9880)\" style=\"fill: none; stroke: #2ca02c; stroke-linecap: square\"/>\n   </g>\n   <g id=\"patch_3\">\n    <path d=\"M 56.50625 521.278125 \nL 56.50625 22.318125 \n\" style=\"fill: none; stroke: #000000; stroke-width: 0.8; stroke-linejoin: miter; stroke-linecap: square\"/>\n   </g>\n   <g id=\"patch_4\">\n    <path d=\"M 502.90625 521.278125 \nL 502.90625 22.318125 \n\" style=\"fill: none; stroke: #000000; stroke-width: 0.8; stroke-linejoin: miter; stroke-linecap: square\"/>\n   </g>\n   <g id=\"patch_5\">\n    <path d=\"M 56.50625 521.278125 \nL 502.90625 521.278125 \n\" style=\"fill: none; stroke: #000000; stroke-width: 0.8; stroke-linejoin: miter; stroke-linecap: square\"/>\n   </g>\n   <g id=\"patch_6\">\n    <path d=\"M 56.50625 22.318125 \nL 502.90625 22.318125 \n\" style=\"fill: none; stroke: #000000; stroke-width: 0.8; stroke-linejoin: miter; stroke-linecap: square\"/>\n   </g>\n   <g id=\"text_16\">\n    <!-- Распределение вероятности по авиакомпаниям -->\n    <g transform=\"translate(127.226563 16.318125) scale(0.12 -0.12)\">\n     <defs>\n      <path id=\"DejaVuSans-420\" d=\"M 1259 4147 \nL 1259 2394 \nL 2053 2394 \nQ 2494 2394 2734 2622 \nQ 2975 2850 2975 3272 \nQ 2975 3691 2734 3919 \nQ 2494 4147 2053 4147 \nL 1259 4147 \nz\nM 628 4666 \nL 2053 4666 \nQ 2838 4666 3239 4311 \nQ 3641 3956 3641 3272 \nQ 3641 2581 3239 2228 \nQ 2838 1875 2053 1875 \nL 1259 1875 \nL 1259 0 \nL 628 0 \nL 628 4666 \nz\n\" transform=\"scale(0.015625)\"/>\n      <path id=\"DejaVuSans-43f\" d=\"M 3603 3500 \nL 3603 0 \nL 3025 0 \nL 3025 3041 \nL 1159 3041 \nL 1159 0 \nL 581 0 \nL 581 3500 \nL 3603 3500 \nz\n\" transform=\"scale(0.015625)\"/>\n      <path id=\"DejaVuSans-432\" d=\"M 1156 1613 \nL 1156 459 \nL 1975 459 \nQ 2369 459 2575 607 \nQ 2781 756 2781 1038 \nQ 2781 1319 2575 1466 \nQ 2369 1613 1975 1613 \nL 1156 1613 \nz\nM 1156 3041 \nL 1156 2072 \nL 1913 2072 \nQ 2238 2072 2444 2201 \nQ 2650 2331 2650 2563 \nQ 2650 2794 2444 2917 \nQ 2238 3041 1913 3041 \nL 1156 3041 \nz\nM 581 3500 \nL 1950 3500 \nQ 2566 3500 2897 3275 \nQ 3228 3050 3228 2634 \nQ 3228 2313 3059 2123 \nQ 2891 1934 2559 1888 \nQ 2956 1813 3175 1575 \nQ 3394 1338 3394 981 \nQ 3394 513 3033 256 \nQ 2672 0 2003 0 \nL 581 0 \nL 581 3500 \nz\n\" transform=\"scale(0.015625)\"/>\n      <path id=\"DejaVuSans-44f\" d=\"M 1181 2491 \nQ 1181 2231 1381 2084 \nQ 1581 1938 1953 1938 \nL 2728 1938 \nL 2728 3041 \nL 1953 3041 \nQ 1581 3041 1381 2897 \nQ 1181 2753 1181 2491 \nz\nM 363 0 \nL 1431 1534 \nQ 1069 1616 828 1830 \nQ 588 2044 588 2491 \nQ 588 2997 923 3248 \nQ 1259 3500 1938 3500 \nL 3306 3500 \nL 3306 0 \nL 2728 0 \nL 2728 1478 \nL 2013 1478 \nL 981 0 \nL 363 0 \nz\n\" transform=\"scale(0.015625)\"/>\n     </defs>\n     <use xlink:href=\"#DejaVuSans-420\"/>\n     <use xlink:href=\"#DejaVuSans-430\" x=\"60.302734\"/>\n     <use xlink:href=\"#DejaVuSans-441\" x=\"121.582031\"/>\n     <use xlink:href=\"#DejaVuSans-43f\" x=\"176.5625\"/>\n     <use xlink:href=\"#DejaVuSans-440\" x=\"241.943359\"/>\n     <use xlink:href=\"#DejaVuSans-435\" x=\"305.419922\"/>\n     <use xlink:href=\"#DejaVuSans-434\" x=\"366.943359\"/>\n     <use xlink:href=\"#DejaVuSans-435\" x=\"436.083984\"/>\n     <use xlink:href=\"#DejaVuSans-43b\" x=\"497.607422\"/>\n     <use xlink:href=\"#DejaVuSans-435\" x=\"561.523438\"/>\n     <use xlink:href=\"#DejaVuSans-43d\" x=\"623.046875\"/>\n     <use xlink:href=\"#DejaVuSans-438\" x=\"688.427734\"/>\n     <use xlink:href=\"#DejaVuSans-435\" x=\"753.417969\"/>\n     <use xlink:href=\"#DejaVuSans-20\" x=\"814.941406\"/>\n     <use xlink:href=\"#DejaVuSans-432\" x=\"846.728516\"/>\n     <use xlink:href=\"#DejaVuSans-435\" x=\"905.664062\"/>\n     <use xlink:href=\"#DejaVuSans-440\" x=\"967.1875\"/>\n     <use xlink:href=\"#DejaVuSans-43e\" x=\"1030.664062\"/>\n     <use xlink:href=\"#DejaVuSans-44f\" x=\"1091.845703\"/>\n     <use xlink:href=\"#DejaVuSans-442\" x=\"1152.001953\"/>\n     <use xlink:href=\"#DejaVuSans-43d\" x=\"1210.253906\"/>\n     <use xlink:href=\"#DejaVuSans-43e\" x=\"1275.634766\"/>\n     <use xlink:href=\"#DejaVuSans-441\" x=\"1336.816406\"/>\n     <use xlink:href=\"#DejaVuSans-442\" x=\"1391.796875\"/>\n     <use xlink:href=\"#DejaVuSans-438\" x=\"1450.048828\"/>\n     <use xlink:href=\"#DejaVuSans-20\" x=\"1515.039062\"/>\n     <use xlink:href=\"#DejaVuSans-43f\" x=\"1546.826172\"/>\n     <use xlink:href=\"#DejaVuSans-43e\" x=\"1612.207031\"/>\n     <use xlink:href=\"#DejaVuSans-20\" x=\"1673.388672\"/>\n     <use xlink:href=\"#DejaVuSans-430\" x=\"1705.175781\"/>\n     <use xlink:href=\"#DejaVuSans-432\" x=\"1766.455078\"/>\n     <use xlink:href=\"#DejaVuSans-438\" x=\"1825.390625\"/>\n     <use xlink:href=\"#DejaVuSans-430\" x=\"1890.380859\"/>\n     <use xlink:href=\"#DejaVuSans-43a\" x=\"1951.660156\"/>\n     <use xlink:href=\"#DejaVuSans-43e\" x=\"2012.060547\"/>\n     <use xlink:href=\"#DejaVuSans-43c\" x=\"2073.242188\"/>\n     <use xlink:href=\"#DejaVuSans-43f\" x=\"2148.681641\"/>\n     <use xlink:href=\"#DejaVuSans-430\" x=\"2214.0625\"/>\n     <use xlink:href=\"#DejaVuSans-43d\" x=\"2275.341797\"/>\n     <use xlink:href=\"#DejaVuSans-438\" x=\"2340.722656\"/>\n     <use xlink:href=\"#DejaVuSans-44f\" x=\"2405.712891\"/>\n     <use xlink:href=\"#DejaVuSans-43c\" x=\"2465.869141\"/>\n    </g>\n   </g>\n   <g id=\"legend_1\">\n    <g id=\"patch_7\">\n     <path d=\"M 440.751562 89.030625 \nL 495.90625 89.030625 \nQ 497.90625 89.030625 497.90625 87.030625 \nL 497.90625 29.318125 \nQ 497.90625 27.318125 495.90625 27.318125 \nL 440.751562 27.318125 \nQ 438.751562 27.318125 438.751562 29.318125 \nL 438.751562 87.030625 \nQ 438.751562 89.030625 440.751562 89.030625 \nz\n\" style=\"fill: #ffffff; opacity: 0.8; stroke: #cccccc; stroke-linejoin: miter\"/>\n    </g>\n    <g id=\"text_17\">\n     <!-- Airline -->\n     <g transform=\"translate(452.440625 38.916562) scale(0.1 -0.1)\">\n      <defs>\n       <path id=\"DejaVuSans-41\" d=\"M 2188 4044 \nL 1331 1722 \nL 3047 1722 \nL 2188 4044 \nz\nM 1831 4666 \nL 2547 4666 \nL 4325 0 \nL 3669 0 \nL 3244 1197 \nL 1141 1197 \nL 716 0 \nL 50 0 \nL 1831 4666 \nz\n\" transform=\"scale(0.015625)\"/>\n       <path id=\"DejaVuSans-69\" d=\"M 603 3500 \nL 1178 3500 \nL 1178 0 \nL 603 0 \nL 603 3500 \nz\nM 603 4863 \nL 1178 4863 \nL 1178 4134 \nL 603 4134 \nL 603 4863 \nz\n\" transform=\"scale(0.015625)\"/>\n       <path id=\"DejaVuSans-72\" d=\"M 2631 2963 \nQ 2534 3019 2420 3045 \nQ 2306 3072 2169 3072 \nQ 1681 3072 1420 2755 \nQ 1159 2438 1159 1844 \nL 1159 0 \nL 581 0 \nL 581 3500 \nL 1159 3500 \nL 1159 2956 \nQ 1341 3275 1631 3429 \nQ 1922 3584 2338 3584 \nQ 2397 3584 2469 3576 \nQ 2541 3569 2628 3553 \nL 2631 2963 \nz\n\" transform=\"scale(0.015625)\"/>\n       <path id=\"DejaVuSans-6c\" d=\"M 603 4863 \nL 1178 4863 \nL 1178 0 \nL 603 0 \nL 603 4863 \nz\n\" transform=\"scale(0.015625)\"/>\n       <path id=\"DejaVuSans-6e\" d=\"M 3513 2113 \nL 3513 0 \nL 2938 0 \nL 2938 2094 \nQ 2938 2591 2744 2837 \nQ 2550 3084 2163 3084 \nQ 1697 3084 1428 2787 \nQ 1159 2491 1159 1978 \nL 1159 0 \nL 581 0 \nL 581 3500 \nL 1159 3500 \nL 1159 2956 \nQ 1366 3272 1645 3428 \nQ 1925 3584 2291 3584 \nQ 2894 3584 3203 3211 \nQ 3513 2838 3513 2113 \nz\n\" transform=\"scale(0.015625)\"/>\n       <path id=\"DejaVuSans-65\" d=\"M 3597 1894 \nL 3597 1613 \nL 953 1613 \nQ 991 1019 1311 708 \nQ 1631 397 2203 397 \nQ 2534 397 2845 478 \nQ 3156 559 3463 722 \nL 3463 178 \nQ 3153 47 2828 -22 \nQ 2503 -91 2169 -91 \nQ 1331 -91 842 396 \nQ 353 884 353 1716 \nQ 353 2575 817 3079 \nQ 1281 3584 2069 3584 \nQ 2775 3584 3186 3129 \nQ 3597 2675 3597 1894 \nz\nM 3022 2063 \nQ 3016 2534 2758 2815 \nQ 2500 3097 2075 3097 \nQ 1594 3097 1305 2825 \nQ 1016 2553 972 2059 \nL 3022 2063 \nz\n\" transform=\"scale(0.015625)\"/>\n      </defs>\n      <use xlink:href=\"#DejaVuSans-41\"/>\n      <use xlink:href=\"#DejaVuSans-69\" x=\"68.408203\"/>\n      <use xlink:href=\"#DejaVuSans-72\" x=\"96.191406\"/>\n      <use xlink:href=\"#DejaVuSans-6c\" x=\"137.304688\"/>\n      <use xlink:href=\"#DejaVuSans-69\" x=\"165.087891\"/>\n      <use xlink:href=\"#DejaVuSans-6e\" x=\"192.871094\"/>\n      <use xlink:href=\"#DejaVuSans-65\" x=\"256.25\"/>\n     </g>\n    </g>\n    <g id=\"line2d_17\">\n     <path d=\"M 442.751562 50.094687 \nL 452.751562 50.094687 \nL 462.751562 50.094687 \n\" style=\"fill: none; stroke: #1f77b4; stroke-linecap: square\"/>\n    </g>\n    <g id=\"text_18\">\n     <!-- EWR -->\n     <g transform=\"translate(470.751562 53.594687) scale(0.1 -0.1)\">\n      <defs>\n       <path id=\"DejaVuSans-45\" d=\"M 628 4666 \nL 3578 4666 \nL 3578 4134 \nL 1259 4134 \nL 1259 2753 \nL 3481 2753 \nL 3481 2222 \nL 1259 2222 \nL 1259 531 \nL 3634 531 \nL 3634 0 \nL 628 0 \nL 628 4666 \nz\n\" transform=\"scale(0.015625)\"/>\n       <path id=\"DejaVuSans-57\" d=\"M 213 4666 \nL 850 4666 \nL 1831 722 \nL 2809 4666 \nL 3519 4666 \nL 4500 722 \nL 5478 4666 \nL 6119 4666 \nL 4947 0 \nL 4153 0 \nL 3169 4050 \nL 2175 0 \nL 1381 0 \nL 213 4666 \nz\n\" transform=\"scale(0.015625)\"/>\n       <path id=\"DejaVuSans-52\" d=\"M 2841 2188 \nQ 3044 2119 3236 1894 \nQ 3428 1669 3622 1275 \nL 4263 0 \nL 3584 0 \nL 2988 1197 \nQ 2756 1666 2539 1819 \nQ 2322 1972 1947 1972 \nL 1259 1972 \nL 1259 0 \nL 628 0 \nL 628 4666 \nL 2053 4666 \nQ 2853 4666 3247 4331 \nQ 3641 3997 3641 3322 \nQ 3641 2881 3436 2590 \nQ 3231 2300 2841 2188 \nz\nM 1259 4147 \nL 1259 2491 \nL 2053 2491 \nQ 2509 2491 2742 2702 \nQ 2975 2913 2975 3322 \nQ 2975 3731 2742 3939 \nQ 2509 4147 2053 4147 \nL 1259 4147 \nz\n\" transform=\"scale(0.015625)\"/>\n      </defs>\n      <use xlink:href=\"#DejaVuSans-45\"/>\n      <use xlink:href=\"#DejaVuSans-57\" x=\"63.183594\"/>\n      <use xlink:href=\"#DejaVuSans-52\" x=\"162.060547\"/>\n     </g>\n    </g>\n    <g id=\"line2d_18\">\n     <path d=\"M 442.751562 64.772812 \nL 452.751562 64.772812 \nL 462.751562 64.772812 \n\" style=\"fill: none; stroke: #ff7f0e; stroke-linecap: square\"/>\n    </g>\n    <g id=\"text_19\">\n     <!-- LGA -->\n     <g transform=\"translate(470.751562 68.272812) scale(0.1 -0.1)\">\n      <defs>\n       <path id=\"DejaVuSans-4c\" d=\"M 628 4666 \nL 1259 4666 \nL 1259 531 \nL 3531 531 \nL 3531 0 \nL 628 0 \nL 628 4666 \nz\n\" transform=\"scale(0.015625)\"/>\n       <path id=\"DejaVuSans-47\" d=\"M 3809 666 \nL 3809 1919 \nL 2778 1919 \nL 2778 2438 \nL 4434 2438 \nL 4434 434 \nQ 4069 175 3628 42 \nQ 3188 -91 2688 -91 \nQ 1594 -91 976 548 \nQ 359 1188 359 2328 \nQ 359 3472 976 4111 \nQ 1594 4750 2688 4750 \nQ 3144 4750 3555 4637 \nQ 3966 4525 4313 4306 \nL 4313 3634 \nQ 3963 3931 3569 4081 \nQ 3175 4231 2741 4231 \nQ 1884 4231 1454 3753 \nQ 1025 3275 1025 2328 \nQ 1025 1384 1454 906 \nQ 1884 428 2741 428 \nQ 3075 428 3337 486 \nQ 3600 544 3809 666 \nz\n\" transform=\"scale(0.015625)\"/>\n      </defs>\n      <use xlink:href=\"#DejaVuSans-4c\"/>\n      <use xlink:href=\"#DejaVuSans-47\" x=\"55.712891\"/>\n      <use xlink:href=\"#DejaVuSans-41\" x=\"133.203125\"/>\n     </g>\n    </g>\n    <g id=\"line2d_19\">\n     <path d=\"M 442.751562 79.450937 \nL 452.751562 79.450937 \nL 462.751562 79.450937 \n\" style=\"fill: none; stroke: #2ca02c; stroke-linecap: square\"/>\n    </g>\n    <g id=\"text_20\">\n     <!-- JFK -->\n     <g transform=\"translate(470.751562 82.950937) scale(0.1 -0.1)\">\n      <defs>\n       <path id=\"DejaVuSans-4a\" d=\"M 628 4666 \nL 1259 4666 \nL 1259 325 \nQ 1259 -519 939 -900 \nQ 619 -1281 -91 -1281 \nL -331 -1281 \nL -331 -750 \nL -134 -750 \nQ 284 -750 456 -515 \nQ 628 -281 628 325 \nL 628 4666 \nz\n\" transform=\"scale(0.015625)\"/>\n       <path id=\"DejaVuSans-46\" d=\"M 628 4666 \nL 3309 4666 \nL 3309 4134 \nL 1259 4134 \nL 1259 2759 \nL 3109 2759 \nL 3109 2228 \nL 1259 2228 \nL 1259 0 \nL 628 0 \nL 628 4666 \nz\n\" transform=\"scale(0.015625)\"/>\n       <path id=\"DejaVuSans-4b\" d=\"M 628 4666 \nL 1259 4666 \nL 1259 2694 \nL 3353 4666 \nL 4166 4666 \nL 1850 2491 \nL 4331 0 \nL 3500 0 \nL 1259 2247 \nL 1259 0 \nL 628 0 \nL 628 4666 \nz\n\" transform=\"scale(0.015625)\"/>\n      </defs>\n      <use xlink:href=\"#DejaVuSans-4a\"/>\n      <use xlink:href=\"#DejaVuSans-46\" x=\"29.492188\"/>\n      <use xlink:href=\"#DejaVuSans-4b\" x=\"87.011719\"/>\n     </g>\n    </g>\n   </g>\n  </g>\n </g>\n <defs>\n  <clipPath id=\"p952e6f9880\">\n   <rect x=\"56.50625\" y=\"22.318125\" width=\"446.4\" height=\"498.96\"/>\n  </clipPath>\n </defs>\n</svg>\n"
          },
          "metadata": {}
        }
      ],
      "source": [
        "for airline in airlines:\n",
        "    fly = df[df['origin'] == airline]\n",
        "    sns.distplot(fly[fly['arr_delay']>=0]['arr_delay'], hist = False, kde = True,\n",
        "             kde_kws = {'linewidth': 1},\n",
        "                 label = airline)\n",
        "plt.xlim(-20, 120)\n",
        "plt.legend(prop={'size': 10}, title = 'Airline')\n",
        "plt.title('Распределение вероятности по авиакомпаниям');\n",
        "plt.xlabel('Задержка (мин)')\n",
        "plt.ylabel('Плотность');"
      ]
    },
    {
      "cell_type": "markdown",
      "id": "d79792ab-9a63-45cb-a574-32c2e66f1f85",
      "metadata": {
        "id": "d79792ab-9a63-45cb-a574-32c2e66f1f85"
      },
      "source": [
        "Графики распределения плотности вероятности по авиакомпаниям имеют очень схожий вид."
      ]
    },
    {
      "cell_type": "markdown",
      "id": "34e7ec1d-f604-4930-a40f-44670c81f788",
      "metadata": {
        "id": "34e7ec1d-f604-4930-a40f-44670c81f788"
      },
      "source": [
        "### Задание 2. *Построить гистограмму расстояния перелета distance. Выделить три группы перелетов: короткие, средние и длинные. Куда летят самолеты в группе длинных перелетов? Найти среднее время задержки вылета в каждой из трех выделенных групп.*"
      ]
    },
    {
      "cell_type": "markdown",
      "id": "71efef60-38da-43d3-8750-5206f13f3694",
      "metadata": {
        "id": "71efef60-38da-43d3-8750-5206f13f3694"
      },
      "source": [
        "Для оптимального выделения групп полетов нужно построить гистрограмму распределения времени полета."
      ]
    },
    {
      "cell_type": "code",
      "execution_count": 9,
      "id": "c87ce95b-3d2d-4a05-91ab-620d30386476",
      "metadata": {
        "id": "c87ce95b-3d2d-4a05-91ab-620d30386476"
      },
      "outputs": [],
      "source": [
        "air_flight = df['air_time']"
      ]
    },
    {
      "cell_type": "code",
      "execution_count": 10,
      "id": "0e3c5e03-3e96-4388-aaf7-0dd321daad2e",
      "metadata": {
        "colab": {
          "base_uri": "https://localhost:8080/",
          "height": 784
        },
        "id": "0e3c5e03-3e96-4388-aaf7-0dd321daad2e",
        "outputId": "a3690d29-6f15-40cb-908d-1d5e88fd8155"
      },
      "outputs": [
        {
          "output_type": "execute_result",
          "data": {
            "text/plain": [
              "Text(0.5, 1.0, 'Гистограмма распределения времени полета')"
            ]
          },
          "metadata": {},
          "execution_count": 10
        },
        {
          "output_type": "display_data",
          "data": {
            "text/plain": [
              "<Figure size 800x900 with 1 Axes>"
            ],
            "image/svg+xml": "<?xml version=\"1.0\" encoding=\"utf-8\" standalone=\"no\"?>\n<!DOCTYPE svg PUBLIC \"-//W3C//DTD SVG 1.1//EN\"\n  \"http://www.w3.org/Graphics/SVG/1.1/DTD/svg11.dtd\">\n<svg xmlns:xlink=\"http://www.w3.org/1999/xlink\" width=\"499.6125pt\" height=\"559.1125pt\" viewBox=\"0 0 499.6125 559.1125\" xmlns=\"http://www.w3.org/2000/svg\" version=\"1.1\">\n <metadata>\n  <rdf:RDF xmlns:dc=\"http://purl.org/dc/elements/1.1/\" xmlns:cc=\"http://creativecommons.org/ns#\" xmlns:rdf=\"http://www.w3.org/1999/02/22-rdf-syntax-ns#\">\n   <cc:Work>\n    <dc:type rdf:resource=\"http://purl.org/dc/dcmitype/StillImage\"/>\n    <dc:date>2024-05-20T12:31:09.384252</dc:date>\n    <dc:format>image/svg+xml</dc:format>\n    <dc:creator>\n     <cc:Agent>\n      <dc:title>Matplotlib v3.7.1, https://matplotlib.org/</dc:title>\n     </cc:Agent>\n    </dc:creator>\n   </cc:Work>\n  </rdf:RDF>\n </metadata>\n <defs>\n  <style type=\"text/css\">*{stroke-linejoin: round; stroke-linecap: butt}</style>\n </defs>\n <g id=\"figure_1\">\n  <g id=\"patch_1\">\n   <path d=\"M 0 559.1125 \nL 499.6125 559.1125 \nL 499.6125 0 \nL 0 0 \nz\n\" style=\"fill: #ffffff\"/>\n  </g>\n  <g id=\"axes_1\">\n   <g id=\"patch_2\">\n    <path d=\"M 46.0125 521.278125 \nL 492.4125 521.278125 \nL 492.4125 22.318125 \nL 46.0125 22.318125 \nz\n\" style=\"fill: #ffffff\"/>\n   </g>\n   <g id=\"patch_3\">\n    <path d=\"M 66.303409 521.278125 \nL 74.419773 521.278125 \nL 74.419773 465.756312 \nL 66.303409 465.756312 \nz\n\" clip-path=\"url(#p6b4ee5bacd)\" style=\"fill: #1f77b4; opacity: 0.4\"/>\n   </g>\n   <g id=\"patch_4\">\n    <path d=\"M 74.419773 521.278125 \nL 82.536136 521.278125 \nL 82.536136 59.851347 \nL 74.419773 59.851347 \nz\n\" clip-path=\"url(#p6b4ee5bacd)\" style=\"fill: #1f77b4; opacity: 0.4\"/>\n   </g>\n   <g id=\"patch_5\">\n    <path d=\"M 82.536136 521.278125 \nL 90.6525 521.278125 \nL 90.6525 192.754206 \nL 82.536136 192.754206 \nz\n\" clip-path=\"url(#p6b4ee5bacd)\" style=\"fill: #1f77b4; opacity: 0.4\"/>\n   </g>\n   <g id=\"patch_6\">\n    <path d=\"M 90.6525 521.278125 \nL 98.768864 521.278125 \nL 98.768864 285.258789 \nL 90.6525 285.258789 \nz\n\" clip-path=\"url(#p6b4ee5bacd)\" style=\"fill: #1f77b4; opacity: 0.4\"/>\n   </g>\n   <g id=\"patch_7\">\n    <path d=\"M 98.768864 521.278125 \nL 106.885227 521.278125 \nL 106.885227 167.35238 \nL 98.768864 167.35238 \nz\n\" clip-path=\"url(#p6b4ee5bacd)\" style=\"fill: #1f77b4; opacity: 0.4\"/>\n   </g>\n   <g id=\"patch_8\">\n    <path d=\"M 106.885227 521.278125 \nL 115.001591 521.278125 \nL 115.001591 253.375447 \nL 106.885227 253.375447 \nz\n\" clip-path=\"url(#p6b4ee5bacd)\" style=\"fill: #1f77b4; opacity: 0.4\"/>\n   </g>\n   <g id=\"patch_9\">\n    <path d=\"M 115.001591 521.278125 \nL 123.117955 521.278125 \nL 123.117955 46.078125 \nL 115.001591 46.078125 \nz\n\" clip-path=\"url(#p6b4ee5bacd)\" style=\"fill: #1f77b4; opacity: 0.4\"/>\n   </g>\n   <g id=\"patch_10\">\n    <path d=\"M 123.117955 521.278125 \nL 131.234318 521.278125 \nL 131.234318 145.81087 \nL 123.117955 145.81087 \nz\n\" clip-path=\"url(#p6b4ee5bacd)\" style=\"fill: #1f77b4; opacity: 0.4\"/>\n   </g>\n   <g id=\"patch_11\">\n    <path d=\"M 131.234318 521.278125 \nL 139.350682 521.278125 \nL 139.350682 116.62816 \nL 131.234318 116.62816 \nz\n\" clip-path=\"url(#p6b4ee5bacd)\" style=\"fill: #1f77b4; opacity: 0.4\"/>\n   </g>\n   <g id=\"patch_12\">\n    <path d=\"M 139.350682 521.278125 \nL 147.467045 521.278125 \nL 147.467045 90.463803 \nL 139.350682 90.463803 \nz\n\" clip-path=\"url(#p6b4ee5bacd)\" style=\"fill: #1f77b4; opacity: 0.4\"/>\n   </g>\n   <g id=\"patch_13\">\n    <path d=\"M 147.467045 521.278125 \nL 155.583409 521.278125 \nL 155.583409 248.895576 \nL 147.467045 248.895576 \nz\n\" clip-path=\"url(#p6b4ee5bacd)\" style=\"fill: #1f77b4; opacity: 0.4\"/>\n   </g>\n   <g id=\"patch_14\">\n    <path d=\"M 155.583409 521.278125 \nL 163.699773 521.278125 \nL 163.699773 393.25229 \nL 155.583409 393.25229 \nz\n\" clip-path=\"url(#p6b4ee5bacd)\" style=\"fill: #1f77b4; opacity: 0.4\"/>\n   </g>\n   <g id=\"patch_15\">\n    <path d=\"M 163.699773 521.278125 \nL 171.816136 521.278125 \nL 171.816136 359.287873 \nL 163.699773 359.287873 \nz\n\" clip-path=\"url(#p6b4ee5bacd)\" style=\"fill: #1f77b4; opacity: 0.4\"/>\n   </g>\n   <g id=\"patch_16\">\n    <path d=\"M 171.816136 521.278125 \nL 179.9325 521.278125 \nL 179.9325 360.940025 \nL 171.816136 360.940025 \nz\n\" clip-path=\"url(#p6b4ee5bacd)\" style=\"fill: #1f77b4; opacity: 0.4\"/>\n   </g>\n   <g id=\"patch_17\">\n    <path d=\"M 179.9325 521.278125 \nL 188.048864 521.278125 \nL 188.048864 405.532222 \nL 179.9325 405.532222 \nz\n\" clip-path=\"url(#p6b4ee5bacd)\" style=\"fill: #1f77b4; opacity: 0.4\"/>\n   </g>\n   <g id=\"patch_18\">\n    <path d=\"M 188.048864 521.278125 \nL 196.165227 521.278125 \nL 196.165227 453.015684 \nL 188.048864 453.015684 \nz\n\" clip-path=\"url(#p6b4ee5bacd)\" style=\"fill: #1f77b4; opacity: 0.4\"/>\n   </g>\n   <g id=\"patch_19\">\n    <path d=\"M 196.165227 521.278125 \nL 204.281591 521.278125 \nL 204.281591 484.708393 \nL 196.165227 484.708393 \nz\n\" clip-path=\"url(#p6b4ee5bacd)\" style=\"fill: #1f77b4; opacity: 0.4\"/>\n   </g>\n   <g id=\"patch_20\">\n    <path d=\"M 204.281591 521.278125 \nL 212.397955 521.278125 \nL 212.397955 497.957375 \nL 204.281591 497.957375 \nz\n\" clip-path=\"url(#p6b4ee5bacd)\" style=\"fill: #1f77b4; opacity: 0.4\"/>\n   </g>\n   <g id=\"patch_21\">\n    <path d=\"M 212.397955 521.278125 \nL 220.514318 521.278125 \nL 220.514318 484.771937 \nL 212.397955 484.771937 \nz\n\" clip-path=\"url(#p6b4ee5bacd)\" style=\"fill: #1f77b4; opacity: 0.4\"/>\n   </g>\n   <g id=\"patch_22\">\n    <path d=\"M 220.514318 521.278125 \nL 228.630682 521.278125 \nL 228.630682 469.203589 \nL 220.514318 469.203589 \nz\n\" clip-path=\"url(#p6b4ee5bacd)\" style=\"fill: #1f77b4; opacity: 0.4\"/>\n   </g>\n   <g id=\"patch_23\">\n    <path d=\"M 228.630682 521.278125 \nL 236.747045 521.278125 \nL 236.747045 438.813538 \nL 228.630682 438.813538 \nz\n\" clip-path=\"url(#p6b4ee5bacd)\" style=\"fill: #1f77b4; opacity: 0.4\"/>\n   </g>\n   <g id=\"patch_24\">\n    <path d=\"M 236.747045 521.278125 \nL 244.863409 521.278125 \nL 244.863409 399.686148 \nL 236.747045 399.686148 \nz\n\" clip-path=\"url(#p6b4ee5bacd)\" style=\"fill: #1f77b4; opacity: 0.4\"/>\n   </g>\n   <g id=\"patch_25\">\n    <path d=\"M 244.863409 521.278125 \nL 252.979773 521.278125 \nL 252.979773 344.656803 \nL 244.863409 344.656803 \nz\n\" clip-path=\"url(#p6b4ee5bacd)\" style=\"fill: #1f77b4; opacity: 0.4\"/>\n   </g>\n   <g id=\"patch_26\">\n    <path d=\"M 252.979773 521.278125 \nL 261.096136 521.278125 \nL 261.096136 359.256101 \nL 252.979773 359.256101 \nz\n\" clip-path=\"url(#p6b4ee5bacd)\" style=\"fill: #1f77b4; opacity: 0.4\"/>\n   </g>\n   <g id=\"patch_27\">\n    <path d=\"M 261.096136 521.278125 \nL 269.2125 521.278125 \nL 269.2125 394.9521 \nL 261.096136 394.9521 \nz\n\" clip-path=\"url(#p6b4ee5bacd)\" style=\"fill: #1f77b4; opacity: 0.4\"/>\n   </g>\n   <g id=\"patch_28\">\n    <path d=\"M 269.2125 521.278125 \nL 277.328864 521.278125 \nL 277.328864 469.092386 \nL 269.2125 469.092386 \nz\n\" clip-path=\"url(#p6b4ee5bacd)\" style=\"fill: #1f77b4; opacity: 0.4\"/>\n   </g>\n   <g id=\"patch_29\">\n    <path d=\"M 277.328864 521.278125 \nL 285.445227 521.278125 \nL 285.445227 502.913829 \nL 277.328864 502.913829 \nz\n\" clip-path=\"url(#p6b4ee5bacd)\" style=\"fill: #1f77b4; opacity: 0.4\"/>\n   </g>\n   <g id=\"patch_30\">\n    <path d=\"M 285.445227 521.278125 \nL 293.561591 521.278125 \nL 293.561591 517.322494 \nL 285.445227 517.322494 \nz\n\" clip-path=\"url(#p6b4ee5bacd)\" style=\"fill: #1f77b4; opacity: 0.4\"/>\n   </g>\n   <g id=\"patch_31\">\n    <path d=\"M 293.561591 521.278125 \nL 301.677955 521.278125 \nL 301.677955 520.61091 \nL 293.561591 520.61091 \nz\n\" clip-path=\"url(#p6b4ee5bacd)\" style=\"fill: #1f77b4; opacity: 0.4\"/>\n   </g>\n   <g id=\"patch_32\">\n    <path d=\"M 301.677955 521.278125 \nL 309.794318 521.278125 \nL 309.794318 521.13515 \nL 301.677955 521.13515 \nz\n\" clip-path=\"url(#p6b4ee5bacd)\" style=\"fill: #1f77b4; opacity: 0.4\"/>\n   </g>\n   <g id=\"patch_33\">\n    <path d=\"M 309.794318 521.278125 \nL 317.910682 521.278125 \nL 317.910682 521.214581 \nL 309.794318 521.214581 \nz\n\" clip-path=\"url(#p6b4ee5bacd)\" style=\"fill: #1f77b4; opacity: 0.4\"/>\n   </g>\n   <g id=\"patch_34\">\n    <path d=\"M 317.910682 521.278125 \nL 326.027045 521.278125 \nL 326.027045 521.262239 \nL 317.910682 521.262239 \nz\n\" clip-path=\"url(#p6b4ee5bacd)\" style=\"fill: #1f77b4; opacity: 0.4\"/>\n   </g>\n   <g id=\"patch_35\">\n    <path d=\"M 326.027045 521.278125 \nL 334.143409 521.278125 \nL 334.143409 521.278125 \nL 326.027045 521.278125 \nz\n\" clip-path=\"url(#p6b4ee5bacd)\" style=\"fill: #1f77b4; opacity: 0.4\"/>\n   </g>\n   <g id=\"patch_36\">\n    <path d=\"M 334.143409 521.278125 \nL 342.259773 521.278125 \nL 342.259773 521.278125 \nL 334.143409 521.278125 \nz\n\" clip-path=\"url(#p6b4ee5bacd)\" style=\"fill: #1f77b4; opacity: 0.4\"/>\n   </g>\n   <g id=\"patch_37\">\n    <path d=\"M 342.259773 521.278125 \nL 350.376136 521.278125 \nL 350.376136 521.262239 \nL 342.259773 521.262239 \nz\n\" clip-path=\"url(#p6b4ee5bacd)\" style=\"fill: #1f77b4; opacity: 0.4\"/>\n   </g>\n   <g id=\"patch_38\">\n    <path d=\"M 350.376136 521.278125 \nL 358.4925 521.278125 \nL 358.4925 521.278125 \nL 350.376136 521.278125 \nz\n\" clip-path=\"url(#p6b4ee5bacd)\" style=\"fill: #1f77b4; opacity: 0.4\"/>\n   </g>\n   <g id=\"patch_39\">\n    <path d=\"M 358.4925 521.278125 \nL 366.608864 521.278125 \nL 366.608864 521.278125 \nL 358.4925 521.278125 \nz\n\" clip-path=\"url(#p6b4ee5bacd)\" style=\"fill: #1f77b4; opacity: 0.4\"/>\n   </g>\n   <g id=\"patch_40\">\n    <path d=\"M 366.608864 521.278125 \nL 374.725227 521.278125 \nL 374.725227 521.278125 \nL 366.608864 521.278125 \nz\n\" clip-path=\"url(#p6b4ee5bacd)\" style=\"fill: #1f77b4; opacity: 0.4\"/>\n   </g>\n   <g id=\"patch_41\">\n    <path d=\"M 374.725227 521.278125 \nL 382.841591 521.278125 \nL 382.841591 521.278125 \nL 374.725227 521.278125 \nz\n\" clip-path=\"url(#p6b4ee5bacd)\" style=\"fill: #1f77b4; opacity: 0.4\"/>\n   </g>\n   <g id=\"patch_42\">\n    <path d=\"M 382.841591 521.278125 \nL 390.957955 521.278125 \nL 390.957955 521.278125 \nL 382.841591 521.278125 \nz\n\" clip-path=\"url(#p6b4ee5bacd)\" style=\"fill: #1f77b4; opacity: 0.4\"/>\n   </g>\n   <g id=\"patch_43\">\n    <path d=\"M 390.957955 521.278125 \nL 399.074318 521.278125 \nL 399.074318 521.13515 \nL 390.957955 521.13515 \nz\n\" clip-path=\"url(#p6b4ee5bacd)\" style=\"fill: #1f77b4; opacity: 0.4\"/>\n   </g>\n   <g id=\"patch_44\">\n    <path d=\"M 399.074318 521.278125 \nL 407.190682 521.278125 \nL 407.190682 520.69034 \nL 399.074318 520.69034 \nz\n\" clip-path=\"url(#p6b4ee5bacd)\" style=\"fill: #1f77b4; opacity: 0.4\"/>\n   </g>\n   <g id=\"patch_45\">\n    <path d=\"M 407.190682 521.278125 \nL 415.307045 521.278125 \nL 415.307045 519.673632 \nL 407.190682 519.673632 \nz\n\" clip-path=\"url(#p6b4ee5bacd)\" style=\"fill: #1f77b4; opacity: 0.4\"/>\n   </g>\n   <g id=\"patch_46\">\n    <path d=\"M 415.307045 521.278125 \nL 423.423409 521.278125 \nL 423.423409 518.561607 \nL 415.307045 518.561607 \nz\n\" clip-path=\"url(#p6b4ee5bacd)\" style=\"fill: #1f77b4; opacity: 0.4\"/>\n   </g>\n   <g id=\"patch_47\">\n    <path d=\"M 423.423409 521.278125 \nL 431.539773 521.278125 \nL 431.539773 518.641037 \nL 423.423409 518.641037 \nz\n\" clip-path=\"url(#p6b4ee5bacd)\" style=\"fill: #1f77b4; opacity: 0.4\"/>\n   </g>\n   <g id=\"patch_48\">\n    <path d=\"M 431.539773 521.278125 \nL 439.656136 521.278125 \nL 439.656136 519.403569 \nL 431.539773 519.403569 \nz\n\" clip-path=\"url(#p6b4ee5bacd)\" style=\"fill: #1f77b4; opacity: 0.4\"/>\n   </g>\n   <g id=\"patch_49\">\n    <path d=\"M 439.656136 521.278125 \nL 447.7725 521.278125 \nL 447.7725 520.293189 \nL 439.656136 520.293189 \nz\n\" clip-path=\"url(#p6b4ee5bacd)\" style=\"fill: #1f77b4; opacity: 0.4\"/>\n   </g>\n   <g id=\"patch_50\">\n    <path d=\"M 447.7725 521.278125 \nL 455.888864 521.278125 \nL 455.888864 520.880973 \nL 447.7725 520.880973 \nz\n\" clip-path=\"url(#p6b4ee5bacd)\" style=\"fill: #1f77b4; opacity: 0.4\"/>\n   </g>\n   <g id=\"patch_51\">\n    <path d=\"M 455.888864 521.278125 \nL 464.005227 521.278125 \nL 464.005227 521.166923 \nL 455.888864 521.166923 \nz\n\" clip-path=\"url(#p6b4ee5bacd)\" style=\"fill: #1f77b4; opacity: 0.4\"/>\n   </g>\n   <g id=\"patch_52\">\n    <path d=\"M 464.005227 521.278125 \nL 472.121591 521.278125 \nL 472.121591 521.198695 \nL 464.005227 521.198695 \nz\n\" clip-path=\"url(#p6b4ee5bacd)\" style=\"fill: #1f77b4; opacity: 0.4\"/>\n   </g>\n   <g id=\"matplotlib.axis_1\">\n    <g id=\"xtick_1\">\n     <g id=\"line2d_1\">\n      <defs>\n       <path id=\"mbfdbad62e3\" d=\"M 0 0 \nL 0 3.5 \n\" style=\"stroke: #000000; stroke-width: 0.8\"/>\n      </defs>\n      <g>\n       <use xlink:href=\"#mbfdbad62e3\" x=\"54.279167\" y=\"521.278125\" style=\"stroke: #000000; stroke-width: 0.8\"/>\n      </g>\n     </g>\n     <g id=\"text_1\">\n      <!-- 0 -->\n      <g transform=\"translate(51.097917 535.876562) scale(0.1 -0.1)\">\n       <defs>\n        <path id=\"DejaVuSans-30\" d=\"M 2034 4250 \nQ 1547 4250 1301 3770 \nQ 1056 3291 1056 2328 \nQ 1056 1369 1301 889 \nQ 1547 409 2034 409 \nQ 2525 409 2770 889 \nQ 3016 1369 3016 2328 \nQ 3016 3291 2770 3770 \nQ 2525 4250 2034 4250 \nz\nM 2034 4750 \nQ 2819 4750 3233 4129 \nQ 3647 3509 3647 2328 \nQ 3647 1150 3233 529 \nQ 2819 -91 2034 -91 \nQ 1250 -91 836 529 \nQ 422 1150 422 2328 \nQ 422 3509 836 4129 \nQ 1250 4750 2034 4750 \nz\n\" transform=\"scale(0.015625)\"/>\n       </defs>\n       <use xlink:href=\"#DejaVuSans-30\"/>\n      </g>\n     </g>\n    </g>\n    <g id=\"xtick_2\">\n     <g id=\"line2d_2\">\n      <g>\n       <use xlink:href=\"#mbfdbad62e3\" x=\"114.400379\" y=\"521.278125\" style=\"stroke: #000000; stroke-width: 0.8\"/>\n      </g>\n     </g>\n     <g id=\"text_2\">\n      <!-- 100 -->\n      <g transform=\"translate(104.856629 535.876562) scale(0.1 -0.1)\">\n       <defs>\n        <path id=\"DejaVuSans-31\" d=\"M 794 531 \nL 1825 531 \nL 1825 4091 \nL 703 3866 \nL 703 4441 \nL 1819 4666 \nL 2450 4666 \nL 2450 531 \nL 3481 531 \nL 3481 0 \nL 794 0 \nL 794 531 \nz\n\" transform=\"scale(0.015625)\"/>\n       </defs>\n       <use xlink:href=\"#DejaVuSans-31\"/>\n       <use xlink:href=\"#DejaVuSans-30\" x=\"63.623047\"/>\n       <use xlink:href=\"#DejaVuSans-30\" x=\"127.246094\"/>\n      </g>\n     </g>\n    </g>\n    <g id=\"xtick_3\">\n     <g id=\"line2d_3\">\n      <g>\n       <use xlink:href=\"#mbfdbad62e3\" x=\"174.521591\" y=\"521.278125\" style=\"stroke: #000000; stroke-width: 0.8\"/>\n      </g>\n     </g>\n     <g id=\"text_3\">\n      <!-- 200 -->\n      <g transform=\"translate(164.977841 535.876562) scale(0.1 -0.1)\">\n       <defs>\n        <path id=\"DejaVuSans-32\" d=\"M 1228 531 \nL 3431 531 \nL 3431 0 \nL 469 0 \nL 469 531 \nQ 828 903 1448 1529 \nQ 2069 2156 2228 2338 \nQ 2531 2678 2651 2914 \nQ 2772 3150 2772 3378 \nQ 2772 3750 2511 3984 \nQ 2250 4219 1831 4219 \nQ 1534 4219 1204 4116 \nQ 875 4013 500 3803 \nL 500 4441 \nQ 881 4594 1212 4672 \nQ 1544 4750 1819 4750 \nQ 2544 4750 2975 4387 \nQ 3406 4025 3406 3419 \nQ 3406 3131 3298 2873 \nQ 3191 2616 2906 2266 \nQ 2828 2175 2409 1742 \nQ 1991 1309 1228 531 \nz\n\" transform=\"scale(0.015625)\"/>\n       </defs>\n       <use xlink:href=\"#DejaVuSans-32\"/>\n       <use xlink:href=\"#DejaVuSans-30\" x=\"63.623047\"/>\n       <use xlink:href=\"#DejaVuSans-30\" x=\"127.246094\"/>\n      </g>\n     </g>\n    </g>\n    <g id=\"xtick_4\">\n     <g id=\"line2d_4\">\n      <g>\n       <use xlink:href=\"#mbfdbad62e3\" x=\"234.642803\" y=\"521.278125\" style=\"stroke: #000000; stroke-width: 0.8\"/>\n      </g>\n     </g>\n     <g id=\"text_4\">\n      <!-- 300 -->\n      <g transform=\"translate(225.099053 535.876562) scale(0.1 -0.1)\">\n       <defs>\n        <path id=\"DejaVuSans-33\" d=\"M 2597 2516 \nQ 3050 2419 3304 2112 \nQ 3559 1806 3559 1356 \nQ 3559 666 3084 287 \nQ 2609 -91 1734 -91 \nQ 1441 -91 1130 -33 \nQ 819 25 488 141 \nL 488 750 \nQ 750 597 1062 519 \nQ 1375 441 1716 441 \nQ 2309 441 2620 675 \nQ 2931 909 2931 1356 \nQ 2931 1769 2642 2001 \nQ 2353 2234 1838 2234 \nL 1294 2234 \nL 1294 2753 \nL 1863 2753 \nQ 2328 2753 2575 2939 \nQ 2822 3125 2822 3475 \nQ 2822 3834 2567 4026 \nQ 2313 4219 1838 4219 \nQ 1578 4219 1281 4162 \nQ 984 4106 628 3988 \nL 628 4550 \nQ 988 4650 1302 4700 \nQ 1616 4750 1894 4750 \nQ 2613 4750 3031 4423 \nQ 3450 4097 3450 3541 \nQ 3450 3153 3228 2886 \nQ 3006 2619 2597 2516 \nz\n\" transform=\"scale(0.015625)\"/>\n       </defs>\n       <use xlink:href=\"#DejaVuSans-33\"/>\n       <use xlink:href=\"#DejaVuSans-30\" x=\"63.623047\"/>\n       <use xlink:href=\"#DejaVuSans-30\" x=\"127.246094\"/>\n      </g>\n     </g>\n    </g>\n    <g id=\"xtick_5\">\n     <g id=\"line2d_5\">\n      <g>\n       <use xlink:href=\"#mbfdbad62e3\" x=\"294.764015\" y=\"521.278125\" style=\"stroke: #000000; stroke-width: 0.8\"/>\n      </g>\n     </g>\n     <g id=\"text_5\">\n      <!-- 400 -->\n      <g transform=\"translate(285.220265 535.876562) scale(0.1 -0.1)\">\n       <defs>\n        <path id=\"DejaVuSans-34\" d=\"M 2419 4116 \nL 825 1625 \nL 2419 1625 \nL 2419 4116 \nz\nM 2253 4666 \nL 3047 4666 \nL 3047 1625 \nL 3713 1625 \nL 3713 1100 \nL 3047 1100 \nL 3047 0 \nL 2419 0 \nL 2419 1100 \nL 313 1100 \nL 313 1709 \nL 2253 4666 \nz\n\" transform=\"scale(0.015625)\"/>\n       </defs>\n       <use xlink:href=\"#DejaVuSans-34\"/>\n       <use xlink:href=\"#DejaVuSans-30\" x=\"63.623047\"/>\n       <use xlink:href=\"#DejaVuSans-30\" x=\"127.246094\"/>\n      </g>\n     </g>\n    </g>\n    <g id=\"xtick_6\">\n     <g id=\"line2d_6\">\n      <g>\n       <use xlink:href=\"#mbfdbad62e3\" x=\"354.885227\" y=\"521.278125\" style=\"stroke: #000000; stroke-width: 0.8\"/>\n      </g>\n     </g>\n     <g id=\"text_6\">\n      <!-- 500 -->\n      <g transform=\"translate(345.341477 535.876562) scale(0.1 -0.1)\">\n       <defs>\n        <path id=\"DejaVuSans-35\" d=\"M 691 4666 \nL 3169 4666 \nL 3169 4134 \nL 1269 4134 \nL 1269 2991 \nQ 1406 3038 1543 3061 \nQ 1681 3084 1819 3084 \nQ 2600 3084 3056 2656 \nQ 3513 2228 3513 1497 \nQ 3513 744 3044 326 \nQ 2575 -91 1722 -91 \nQ 1428 -91 1123 -41 \nQ 819 9 494 109 \nL 494 744 \nQ 775 591 1075 516 \nQ 1375 441 1709 441 \nQ 2250 441 2565 725 \nQ 2881 1009 2881 1497 \nQ 2881 1984 2565 2268 \nQ 2250 2553 1709 2553 \nQ 1456 2553 1204 2497 \nQ 953 2441 691 2322 \nL 691 4666 \nz\n\" transform=\"scale(0.015625)\"/>\n       </defs>\n       <use xlink:href=\"#DejaVuSans-35\"/>\n       <use xlink:href=\"#DejaVuSans-30\" x=\"63.623047\"/>\n       <use xlink:href=\"#DejaVuSans-30\" x=\"127.246094\"/>\n      </g>\n     </g>\n    </g>\n    <g id=\"xtick_7\">\n     <g id=\"line2d_7\">\n      <g>\n       <use xlink:href=\"#mbfdbad62e3\" x=\"415.006439\" y=\"521.278125\" style=\"stroke: #000000; stroke-width: 0.8\"/>\n      </g>\n     </g>\n     <g id=\"text_7\">\n      <!-- 600 -->\n      <g transform=\"translate(405.462689 535.876562) scale(0.1 -0.1)\">\n       <defs>\n        <path id=\"DejaVuSans-36\" d=\"M 2113 2584 \nQ 1688 2584 1439 2293 \nQ 1191 2003 1191 1497 \nQ 1191 994 1439 701 \nQ 1688 409 2113 409 \nQ 2538 409 2786 701 \nQ 3034 994 3034 1497 \nQ 3034 2003 2786 2293 \nQ 2538 2584 2113 2584 \nz\nM 3366 4563 \nL 3366 3988 \nQ 3128 4100 2886 4159 \nQ 2644 4219 2406 4219 \nQ 1781 4219 1451 3797 \nQ 1122 3375 1075 2522 \nQ 1259 2794 1537 2939 \nQ 1816 3084 2150 3084 \nQ 2853 3084 3261 2657 \nQ 3669 2231 3669 1497 \nQ 3669 778 3244 343 \nQ 2819 -91 2113 -91 \nQ 1303 -91 875 529 \nQ 447 1150 447 2328 \nQ 447 3434 972 4092 \nQ 1497 4750 2381 4750 \nQ 2619 4750 2861 4703 \nQ 3103 4656 3366 4563 \nz\n\" transform=\"scale(0.015625)\"/>\n       </defs>\n       <use xlink:href=\"#DejaVuSans-36\"/>\n       <use xlink:href=\"#DejaVuSans-30\" x=\"63.623047\"/>\n       <use xlink:href=\"#DejaVuSans-30\" x=\"127.246094\"/>\n      </g>\n     </g>\n    </g>\n    <g id=\"xtick_8\">\n     <g id=\"line2d_8\">\n      <g>\n       <use xlink:href=\"#mbfdbad62e3\" x=\"475.127652\" y=\"521.278125\" style=\"stroke: #000000; stroke-width: 0.8\"/>\n      </g>\n     </g>\n     <g id=\"text_8\">\n      <!-- 700 -->\n      <g transform=\"translate(465.583902 535.876562) scale(0.1 -0.1)\">\n       <defs>\n        <path id=\"DejaVuSans-37\" d=\"M 525 4666 \nL 3525 4666 \nL 3525 4397 \nL 1831 0 \nL 1172 0 \nL 2766 4134 \nL 525 4134 \nL 525 4666 \nz\n\" transform=\"scale(0.015625)\"/>\n       </defs>\n       <use xlink:href=\"#DejaVuSans-37\"/>\n       <use xlink:href=\"#DejaVuSans-30\" x=\"63.623047\"/>\n       <use xlink:href=\"#DejaVuSans-30\" x=\"127.246094\"/>\n      </g>\n     </g>\n    </g>\n    <g id=\"text_9\">\n     <!-- air_time -->\n     <g transform=\"translate(248.907812 549.554688) scale(0.1 -0.1)\">\n      <defs>\n       <path id=\"DejaVuSans-61\" d=\"M 2194 1759 \nQ 1497 1759 1228 1600 \nQ 959 1441 959 1056 \nQ 959 750 1161 570 \nQ 1363 391 1709 391 \nQ 2188 391 2477 730 \nQ 2766 1069 2766 1631 \nL 2766 1759 \nL 2194 1759 \nz\nM 3341 1997 \nL 3341 0 \nL 2766 0 \nL 2766 531 \nQ 2569 213 2275 61 \nQ 1981 -91 1556 -91 \nQ 1019 -91 701 211 \nQ 384 513 384 1019 \nQ 384 1609 779 1909 \nQ 1175 2209 1959 2209 \nL 2766 2209 \nL 2766 2266 \nQ 2766 2663 2505 2880 \nQ 2244 3097 1772 3097 \nQ 1472 3097 1187 3025 \nQ 903 2953 641 2809 \nL 641 3341 \nQ 956 3463 1253 3523 \nQ 1550 3584 1831 3584 \nQ 2591 3584 2966 3190 \nQ 3341 2797 3341 1997 \nz\n\" transform=\"scale(0.015625)\"/>\n       <path id=\"DejaVuSans-69\" d=\"M 603 3500 \nL 1178 3500 \nL 1178 0 \nL 603 0 \nL 603 3500 \nz\nM 603 4863 \nL 1178 4863 \nL 1178 4134 \nL 603 4134 \nL 603 4863 \nz\n\" transform=\"scale(0.015625)\"/>\n       <path id=\"DejaVuSans-72\" d=\"M 2631 2963 \nQ 2534 3019 2420 3045 \nQ 2306 3072 2169 3072 \nQ 1681 3072 1420 2755 \nQ 1159 2438 1159 1844 \nL 1159 0 \nL 581 0 \nL 581 3500 \nL 1159 3500 \nL 1159 2956 \nQ 1341 3275 1631 3429 \nQ 1922 3584 2338 3584 \nQ 2397 3584 2469 3576 \nQ 2541 3569 2628 3553 \nL 2631 2963 \nz\n\" transform=\"scale(0.015625)\"/>\n       <path id=\"DejaVuSans-5f\" d=\"M 3263 -1063 \nL 3263 -1509 \nL -63 -1509 \nL -63 -1063 \nL 3263 -1063 \nz\n\" transform=\"scale(0.015625)\"/>\n       <path id=\"DejaVuSans-74\" d=\"M 1172 4494 \nL 1172 3500 \nL 2356 3500 \nL 2356 3053 \nL 1172 3053 \nL 1172 1153 \nQ 1172 725 1289 603 \nQ 1406 481 1766 481 \nL 2356 481 \nL 2356 0 \nL 1766 0 \nQ 1100 0 847 248 \nQ 594 497 594 1153 \nL 594 3053 \nL 172 3053 \nL 172 3500 \nL 594 3500 \nL 594 4494 \nL 1172 4494 \nz\n\" transform=\"scale(0.015625)\"/>\n       <path id=\"DejaVuSans-6d\" d=\"M 3328 2828 \nQ 3544 3216 3844 3400 \nQ 4144 3584 4550 3584 \nQ 5097 3584 5394 3201 \nQ 5691 2819 5691 2113 \nL 5691 0 \nL 5113 0 \nL 5113 2094 \nQ 5113 2597 4934 2840 \nQ 4756 3084 4391 3084 \nQ 3944 3084 3684 2787 \nQ 3425 2491 3425 1978 \nL 3425 0 \nL 2847 0 \nL 2847 2094 \nQ 2847 2600 2669 2842 \nQ 2491 3084 2119 3084 \nQ 1678 3084 1418 2786 \nQ 1159 2488 1159 1978 \nL 1159 0 \nL 581 0 \nL 581 3500 \nL 1159 3500 \nL 1159 2956 \nQ 1356 3278 1631 3431 \nQ 1906 3584 2284 3584 \nQ 2666 3584 2933 3390 \nQ 3200 3197 3328 2828 \nz\n\" transform=\"scale(0.015625)\"/>\n       <path id=\"DejaVuSans-65\" d=\"M 3597 1894 \nL 3597 1613 \nL 953 1613 \nQ 991 1019 1311 708 \nQ 1631 397 2203 397 \nQ 2534 397 2845 478 \nQ 3156 559 3463 722 \nL 3463 178 \nQ 3153 47 2828 -22 \nQ 2503 -91 2169 -91 \nQ 1331 -91 842 396 \nQ 353 884 353 1716 \nQ 353 2575 817 3079 \nQ 1281 3584 2069 3584 \nQ 2775 3584 3186 3129 \nQ 3597 2675 3597 1894 \nz\nM 3022 2063 \nQ 3016 2534 2758 2815 \nQ 2500 3097 2075 3097 \nQ 1594 3097 1305 2825 \nQ 1016 2553 972 2059 \nL 3022 2063 \nz\n\" transform=\"scale(0.015625)\"/>\n      </defs>\n      <use xlink:href=\"#DejaVuSans-61\"/>\n      <use xlink:href=\"#DejaVuSans-69\" x=\"61.279297\"/>\n      <use xlink:href=\"#DejaVuSans-72\" x=\"89.0625\"/>\n      <use xlink:href=\"#DejaVuSans-5f\" x=\"130.175781\"/>\n      <use xlink:href=\"#DejaVuSans-74\" x=\"180.175781\"/>\n      <use xlink:href=\"#DejaVuSans-69\" x=\"219.384766\"/>\n      <use xlink:href=\"#DejaVuSans-6d\" x=\"247.167969\"/>\n      <use xlink:href=\"#DejaVuSans-65\" x=\"344.580078\"/>\n     </g>\n    </g>\n   </g>\n   <g id=\"matplotlib.axis_2\">\n    <g id=\"ytick_1\">\n     <g id=\"line2d_9\">\n      <defs>\n       <path id=\"mcdd83a1760\" d=\"M 0 0 \nL -3.5 0 \n\" style=\"stroke: #000000; stroke-width: 0.8\"/>\n      </defs>\n      <g>\n       <use xlink:href=\"#mcdd83a1760\" x=\"46.0125\" y=\"521.278125\" style=\"stroke: #000000; stroke-width: 0.8\"/>\n      </g>\n     </g>\n     <g id=\"text_10\">\n      <!-- 0 -->\n      <g transform=\"translate(32.65 525.077344) scale(0.1 -0.1)\">\n       <use xlink:href=\"#DejaVuSans-30\"/>\n      </g>\n     </g>\n    </g>\n    <g id=\"ytick_2\">\n     <g id=\"line2d_10\">\n      <g>\n       <use xlink:href=\"#mcdd83a1760\" x=\"46.0125\" y=\"441.847777\" style=\"stroke: #000000; stroke-width: 0.8\"/>\n      </g>\n     </g>\n     <g id=\"text_11\">\n      <!-- 5000 -->\n      <g transform=\"translate(13.5625 445.646996) scale(0.1 -0.1)\">\n       <use xlink:href=\"#DejaVuSans-35\"/>\n       <use xlink:href=\"#DejaVuSans-30\" x=\"63.623047\"/>\n       <use xlink:href=\"#DejaVuSans-30\" x=\"127.246094\"/>\n       <use xlink:href=\"#DejaVuSans-30\" x=\"190.869141\"/>\n      </g>\n     </g>\n    </g>\n    <g id=\"ytick_3\">\n     <g id=\"line2d_11\">\n      <g>\n       <use xlink:href=\"#mcdd83a1760\" x=\"46.0125\" y=\"362.417429\" style=\"stroke: #000000; stroke-width: 0.8\"/>\n      </g>\n     </g>\n     <g id=\"text_12\">\n      <!-- 10000 -->\n      <g transform=\"translate(7.2 366.216648) scale(0.1 -0.1)\">\n       <use xlink:href=\"#DejaVuSans-31\"/>\n       <use xlink:href=\"#DejaVuSans-30\" x=\"63.623047\"/>\n       <use xlink:href=\"#DejaVuSans-30\" x=\"127.246094\"/>\n       <use xlink:href=\"#DejaVuSans-30\" x=\"190.869141\"/>\n       <use xlink:href=\"#DejaVuSans-30\" x=\"254.492188\"/>\n      </g>\n     </g>\n    </g>\n    <g id=\"ytick_4\">\n     <g id=\"line2d_12\">\n      <g>\n       <use xlink:href=\"#mcdd83a1760\" x=\"46.0125\" y=\"282.987081\" style=\"stroke: #000000; stroke-width: 0.8\"/>\n      </g>\n     </g>\n     <g id=\"text_13\">\n      <!-- 15000 -->\n      <g transform=\"translate(7.2 286.7863) scale(0.1 -0.1)\">\n       <use xlink:href=\"#DejaVuSans-31\"/>\n       <use xlink:href=\"#DejaVuSans-35\" x=\"63.623047\"/>\n       <use xlink:href=\"#DejaVuSans-30\" x=\"127.246094\"/>\n       <use xlink:href=\"#DejaVuSans-30\" x=\"190.869141\"/>\n       <use xlink:href=\"#DejaVuSans-30\" x=\"254.492188\"/>\n      </g>\n     </g>\n    </g>\n    <g id=\"ytick_5\">\n     <g id=\"line2d_13\">\n      <g>\n       <use xlink:href=\"#mcdd83a1760\" x=\"46.0125\" y=\"203.556733\" style=\"stroke: #000000; stroke-width: 0.8\"/>\n      </g>\n     </g>\n     <g id=\"text_14\">\n      <!-- 20000 -->\n      <g transform=\"translate(7.2 207.355952) scale(0.1 -0.1)\">\n       <use xlink:href=\"#DejaVuSans-32\"/>\n       <use xlink:href=\"#DejaVuSans-30\" x=\"63.623047\"/>\n       <use xlink:href=\"#DejaVuSans-30\" x=\"127.246094\"/>\n       <use xlink:href=\"#DejaVuSans-30\" x=\"190.869141\"/>\n       <use xlink:href=\"#DejaVuSans-30\" x=\"254.492188\"/>\n      </g>\n     </g>\n    </g>\n    <g id=\"ytick_6\">\n     <g id=\"line2d_14\">\n      <g>\n       <use xlink:href=\"#mcdd83a1760\" x=\"46.0125\" y=\"124.126385\" style=\"stroke: #000000; stroke-width: 0.8\"/>\n      </g>\n     </g>\n     <g id=\"text_15\">\n      <!-- 25000 -->\n      <g transform=\"translate(7.2 127.925604) scale(0.1 -0.1)\">\n       <use xlink:href=\"#DejaVuSans-32\"/>\n       <use xlink:href=\"#DejaVuSans-35\" x=\"63.623047\"/>\n       <use xlink:href=\"#DejaVuSans-30\" x=\"127.246094\"/>\n       <use xlink:href=\"#DejaVuSans-30\" x=\"190.869141\"/>\n       <use xlink:href=\"#DejaVuSans-30\" x=\"254.492188\"/>\n      </g>\n     </g>\n    </g>\n    <g id=\"ytick_7\">\n     <g id=\"line2d_15\">\n      <g>\n       <use xlink:href=\"#mcdd83a1760\" x=\"46.0125\" y=\"44.696037\" style=\"stroke: #000000; stroke-width: 0.8\"/>\n      </g>\n     </g>\n     <g id=\"text_16\">\n      <!-- 30000 -->\n      <g transform=\"translate(7.2 48.495256) scale(0.1 -0.1)\">\n       <use xlink:href=\"#DejaVuSans-33\"/>\n       <use xlink:href=\"#DejaVuSans-30\" x=\"63.623047\"/>\n       <use xlink:href=\"#DejaVuSans-30\" x=\"127.246094\"/>\n       <use xlink:href=\"#DejaVuSans-30\" x=\"190.869141\"/>\n       <use xlink:href=\"#DejaVuSans-30\" x=\"254.492188\"/>\n      </g>\n     </g>\n    </g>\n   </g>\n   <g id=\"patch_53\">\n    <path d=\"M 46.0125 521.278125 \nL 46.0125 22.318125 \n\" style=\"fill: none; stroke: #000000; stroke-width: 0.8; stroke-linejoin: miter; stroke-linecap: square\"/>\n   </g>\n   <g id=\"patch_54\">\n    <path d=\"M 492.4125 521.278125 \nL 492.4125 22.318125 \n\" style=\"fill: none; stroke: #000000; stroke-width: 0.8; stroke-linejoin: miter; stroke-linecap: square\"/>\n   </g>\n   <g id=\"patch_55\">\n    <path d=\"M 46.0125 521.278125 \nL 492.4125 521.278125 \n\" style=\"fill: none; stroke: #000000; stroke-width: 0.8; stroke-linejoin: miter; stroke-linecap: square\"/>\n   </g>\n   <g id=\"patch_56\">\n    <path d=\"M 46.0125 22.318125 \nL 492.4125 22.318125 \n\" style=\"fill: none; stroke: #000000; stroke-width: 0.8; stroke-linejoin: miter; stroke-linecap: square\"/>\n   </g>\n   <g id=\"text_17\">\n    <!-- Гистограмма распределения времени полета -->\n    <g transform=\"translate(123.72375 16.318125) scale(0.12 -0.12)\">\n     <defs>\n      <path id=\"DejaVuSans-413\" d=\"M 628 0 \nL 628 4666 \nL 3531 4666 \nL 3531 4134 \nL 1259 4134 \nL 1259 0 \nL 628 0 \nz\n\" transform=\"scale(0.015625)\"/>\n      <path id=\"DejaVuSans-438\" d=\"M 3578 3500 \nL 3578 0 \nL 3006 0 \nL 3006 2809 \nL 1319 0 \nL 581 0 \nL 581 3500 \nL 1153 3500 \nL 1153 697 \nL 2838 3500 \nL 3578 3500 \nz\n\" transform=\"scale(0.015625)\"/>\n      <path id=\"DejaVuSans-441\" d=\"M 3122 3366 \nL 3122 2828 \nQ 2878 2963 2633 3030 \nQ 2388 3097 2138 3097 \nQ 1578 3097 1268 2742 \nQ 959 2388 959 1747 \nQ 959 1106 1268 751 \nQ 1578 397 2138 397 \nQ 2388 397 2633 464 \nQ 2878 531 3122 666 \nL 3122 134 \nQ 2881 22 2623 -34 \nQ 2366 -91 2075 -91 \nQ 1284 -91 818 406 \nQ 353 903 353 1747 \nQ 353 2603 823 3093 \nQ 1294 3584 2113 3584 \nQ 2378 3584 2631 3529 \nQ 2884 3475 3122 3366 \nz\n\" transform=\"scale(0.015625)\"/>\n      <path id=\"DejaVuSans-442\" d=\"M 188 3500 \nL 3541 3500 \nL 3541 3041 \nL 2147 3041 \nL 2147 0 \nL 1581 0 \nL 1581 3041 \nL 188 3041 \nL 188 3500 \nz\n\" transform=\"scale(0.015625)\"/>\n      <path id=\"DejaVuSans-43e\" d=\"M 1959 3097 \nQ 1497 3097 1228 2736 \nQ 959 2375 959 1747 \nQ 959 1119 1226 758 \nQ 1494 397 1959 397 \nQ 2419 397 2687 759 \nQ 2956 1122 2956 1747 \nQ 2956 2369 2687 2733 \nQ 2419 3097 1959 3097 \nz\nM 1959 3584 \nQ 2709 3584 3137 3096 \nQ 3566 2609 3566 1747 \nQ 3566 888 3137 398 \nQ 2709 -91 1959 -91 \nQ 1206 -91 779 398 \nQ 353 888 353 1747 \nQ 353 2609 779 3096 \nQ 1206 3584 1959 3584 \nz\n\" transform=\"scale(0.015625)\"/>\n      <path id=\"DejaVuSans-433\" d=\"M 581 0 \nL 581 3500 \nL 3050 3500 \nL 3050 3041 \nL 1159 3041 \nL 1159 0 \nL 581 0 \nz\n\" transform=\"scale(0.015625)\"/>\n      <path id=\"DejaVuSans-440\" d=\"M 1159 525 \nL 1159 -1331 \nL 581 -1331 \nL 581 3500 \nL 1159 3500 \nL 1159 2969 \nQ 1341 3281 1617 3432 \nQ 1894 3584 2278 3584 \nQ 2916 3584 3314 3078 \nQ 3713 2572 3713 1747 \nQ 3713 922 3314 415 \nQ 2916 -91 2278 -91 \nQ 1894 -91 1617 61 \nQ 1341 213 1159 525 \nz\nM 3116 1747 \nQ 3116 2381 2855 2742 \nQ 2594 3103 2138 3103 \nQ 1681 3103 1420 2742 \nQ 1159 2381 1159 1747 \nQ 1159 1113 1420 752 \nQ 1681 391 2138 391 \nQ 2594 391 2855 752 \nQ 3116 1113 3116 1747 \nz\n\" transform=\"scale(0.015625)\"/>\n      <path id=\"DejaVuSans-430\" d=\"M 2194 1759 \nQ 1497 1759 1228 1600 \nQ 959 1441 959 1056 \nQ 959 750 1161 570 \nQ 1363 391 1709 391 \nQ 2188 391 2477 730 \nQ 2766 1069 2766 1631 \nL 2766 1759 \nL 2194 1759 \nz\nM 3341 1997 \nL 3341 0 \nL 2766 0 \nL 2766 531 \nQ 2569 213 2275 61 \nQ 1981 -91 1556 -91 \nQ 1019 -91 701 211 \nQ 384 513 384 1019 \nQ 384 1609 779 1909 \nQ 1175 2209 1959 2209 \nL 2766 2209 \nL 2766 2266 \nQ 2766 2663 2505 2880 \nQ 2244 3097 1772 3097 \nQ 1472 3097 1187 3025 \nQ 903 2953 641 2809 \nL 641 3341 \nQ 956 3463 1253 3523 \nQ 1550 3584 1831 3584 \nQ 2591 3584 2966 3190 \nQ 3341 2797 3341 1997 \nz\n\" transform=\"scale(0.015625)\"/>\n      <path id=\"DejaVuSans-43c\" d=\"M 581 3500 \nL 1422 3500 \nL 2416 1156 \nL 3413 3500 \nL 4247 3500 \nL 4247 0 \nL 3669 0 \nL 3669 2950 \nL 2703 672 \nL 2128 672 \nL 1159 2950 \nL 1159 0 \nL 581 0 \nL 581 3500 \nz\n\" transform=\"scale(0.015625)\"/>\n      <path id=\"DejaVuSans-20\" transform=\"scale(0.015625)\"/>\n      <path id=\"DejaVuSans-43f\" d=\"M 3603 3500 \nL 3603 0 \nL 3025 0 \nL 3025 3041 \nL 1159 3041 \nL 1159 0 \nL 581 0 \nL 581 3500 \nL 3603 3500 \nz\n\" transform=\"scale(0.015625)\"/>\n      <path id=\"DejaVuSans-435\" d=\"M 3597 1894 \nL 3597 1613 \nL 953 1613 \nQ 991 1019 1311 708 \nQ 1631 397 2203 397 \nQ 2534 397 2845 478 \nQ 3156 559 3463 722 \nL 3463 178 \nQ 3153 47 2828 -22 \nQ 2503 -91 2169 -91 \nQ 1331 -91 842 396 \nQ 353 884 353 1716 \nQ 353 2575 817 3079 \nQ 1281 3584 2069 3584 \nQ 2775 3584 3186 3129 \nQ 3597 2675 3597 1894 \nz\nM 3022 2063 \nQ 3016 2534 2758 2815 \nQ 2500 3097 2075 3097 \nQ 1594 3097 1305 2825 \nQ 1016 2553 972 2059 \nL 3022 2063 \nz\n\" transform=\"scale(0.015625)\"/>\n      <path id=\"DejaVuSans-434\" d=\"M 1384 459 \nL 3053 459 \nL 3053 3041 \nL 1844 3041 \nL 1844 2603 \nQ 1844 1316 1475 628 \nL 1384 459 \nz\nM 550 459 \nQ 834 584 959 850 \nQ 1266 1509 1266 2838 \nL 1266 3500 \nL 3631 3500 \nL 3631 459 \nL 4091 459 \nL 4091 -884 \nL 3631 -884 \nL 3631 0 \nL 794 0 \nL 794 -884 \nL 334 -884 \nL 334 459 \nL 550 459 \nz\n\" transform=\"scale(0.015625)\"/>\n      <path id=\"DejaVuSans-43b\" d=\"M 238 0 \nL 238 478 \nQ 806 566 981 959 \nQ 1194 1513 1194 2928 \nL 1194 3500 \nL 3559 3500 \nL 3559 0 \nL 2984 0 \nL 2984 3041 \nL 1769 3041 \nL 1769 2694 \nQ 1769 1344 1494 738 \nQ 1200 91 238 0 \nz\n\" transform=\"scale(0.015625)\"/>\n      <path id=\"DejaVuSans-43d\" d=\"M 581 3500 \nL 1159 3500 \nL 1159 2072 \nL 3025 2072 \nL 3025 3500 \nL 3603 3500 \nL 3603 0 \nL 3025 0 \nL 3025 1613 \nL 1159 1613 \nL 1159 0 \nL 581 0 \nL 581 3500 \nz\n\" transform=\"scale(0.015625)\"/>\n      <path id=\"DejaVuSans-44f\" d=\"M 1181 2491 \nQ 1181 2231 1381 2084 \nQ 1581 1938 1953 1938 \nL 2728 1938 \nL 2728 3041 \nL 1953 3041 \nQ 1581 3041 1381 2897 \nQ 1181 2753 1181 2491 \nz\nM 363 0 \nL 1431 1534 \nQ 1069 1616 828 1830 \nQ 588 2044 588 2491 \nQ 588 2997 923 3248 \nQ 1259 3500 1938 3500 \nL 3306 3500 \nL 3306 0 \nL 2728 0 \nL 2728 1478 \nL 2013 1478 \nL 981 0 \nL 363 0 \nz\n\" transform=\"scale(0.015625)\"/>\n      <path id=\"DejaVuSans-432\" d=\"M 1156 1613 \nL 1156 459 \nL 1975 459 \nQ 2369 459 2575 607 \nQ 2781 756 2781 1038 \nQ 2781 1319 2575 1466 \nQ 2369 1613 1975 1613 \nL 1156 1613 \nz\nM 1156 3041 \nL 1156 2072 \nL 1913 2072 \nQ 2238 2072 2444 2201 \nQ 2650 2331 2650 2563 \nQ 2650 2794 2444 2917 \nQ 2238 3041 1913 3041 \nL 1156 3041 \nz\nM 581 3500 \nL 1950 3500 \nQ 2566 3500 2897 3275 \nQ 3228 3050 3228 2634 \nQ 3228 2313 3059 2123 \nQ 2891 1934 2559 1888 \nQ 2956 1813 3175 1575 \nQ 3394 1338 3394 981 \nQ 3394 513 3033 256 \nQ 2672 0 2003 0 \nL 581 0 \nL 581 3500 \nz\n\" transform=\"scale(0.015625)\"/>\n     </defs>\n     <use xlink:href=\"#DejaVuSans-413\"/>\n     <use xlink:href=\"#DejaVuSans-438\" x=\"60.986328\"/>\n     <use xlink:href=\"#DejaVuSans-441\" x=\"125.976562\"/>\n     <use xlink:href=\"#DejaVuSans-442\" x=\"180.957031\"/>\n     <use xlink:href=\"#DejaVuSans-43e\" x=\"239.208984\"/>\n     <use xlink:href=\"#DejaVuSans-433\" x=\"300.390625\"/>\n     <use xlink:href=\"#DejaVuSans-440\" x=\"352.929688\"/>\n     <use xlink:href=\"#DejaVuSans-430\" x=\"416.40625\"/>\n     <use xlink:href=\"#DejaVuSans-43c\" x=\"477.685547\"/>\n     <use xlink:href=\"#DejaVuSans-43c\" x=\"553.125\"/>\n     <use xlink:href=\"#DejaVuSans-430\" x=\"628.564453\"/>\n     <use xlink:href=\"#DejaVuSans-20\" x=\"689.84375\"/>\n     <use xlink:href=\"#DejaVuSans-440\" x=\"721.630859\"/>\n     <use xlink:href=\"#DejaVuSans-430\" x=\"785.107422\"/>\n     <use xlink:href=\"#DejaVuSans-441\" x=\"846.386719\"/>\n     <use xlink:href=\"#DejaVuSans-43f\" x=\"901.367188\"/>\n     <use xlink:href=\"#DejaVuSans-440\" x=\"966.748047\"/>\n     <use xlink:href=\"#DejaVuSans-435\" x=\"1030.224609\"/>\n     <use xlink:href=\"#DejaVuSans-434\" x=\"1091.748047\"/>\n     <use xlink:href=\"#DejaVuSans-435\" x=\"1160.888672\"/>\n     <use xlink:href=\"#DejaVuSans-43b\" x=\"1222.412109\"/>\n     <use xlink:href=\"#DejaVuSans-435\" x=\"1286.328125\"/>\n     <use xlink:href=\"#DejaVuSans-43d\" x=\"1347.851562\"/>\n     <use xlink:href=\"#DejaVuSans-438\" x=\"1413.232422\"/>\n     <use xlink:href=\"#DejaVuSans-44f\" x=\"1478.222656\"/>\n     <use xlink:href=\"#DejaVuSans-20\" x=\"1538.378906\"/>\n     <use xlink:href=\"#DejaVuSans-432\" x=\"1570.166016\"/>\n     <use xlink:href=\"#DejaVuSans-440\" x=\"1629.101562\"/>\n     <use xlink:href=\"#DejaVuSans-435\" x=\"1692.578125\"/>\n     <use xlink:href=\"#DejaVuSans-43c\" x=\"1754.101562\"/>\n     <use xlink:href=\"#DejaVuSans-435\" x=\"1829.541016\"/>\n     <use xlink:href=\"#DejaVuSans-43d\" x=\"1891.064453\"/>\n     <use xlink:href=\"#DejaVuSans-438\" x=\"1956.445312\"/>\n     <use xlink:href=\"#DejaVuSans-20\" x=\"2021.435547\"/>\n     <use xlink:href=\"#DejaVuSans-43f\" x=\"2053.222656\"/>\n     <use xlink:href=\"#DejaVuSans-43e\" x=\"2118.603516\"/>\n     <use xlink:href=\"#DejaVuSans-43b\" x=\"2179.785156\"/>\n     <use xlink:href=\"#DejaVuSans-435\" x=\"2243.701172\"/>\n     <use xlink:href=\"#DejaVuSans-442\" x=\"2305.224609\"/>\n     <use xlink:href=\"#DejaVuSans-430\" x=\"2363.476562\"/>\n    </g>\n   </g>\n  </g>\n </g>\n <defs>\n  <clipPath id=\"p6b4ee5bacd\">\n   <rect x=\"46.0125\" y=\"22.318125\" width=\"446.4\" height=\"498.96\"/>\n  </clipPath>\n </defs>\n</svg>\n"
          },
          "metadata": {}
        }
      ],
      "source": [
        "sns.distplot(air_flight, hist = True, kde = False,\n",
        "           kde_kws = {'linewidth': 1})\n",
        "plt.title('Гистограмма распределения времени полета')"
      ]
    },
    {
      "cell_type": "markdown",
      "id": "24ca1802-2d0c-48ef-8fc9-f6f2ac819ef5",
      "metadata": {
        "id": "24ca1802-2d0c-48ef-8fc9-f6f2ac819ef5"
      },
      "source": [
        "I группа: до 80 минут. <br>\n",
        "II группа: от 80 до 170 минут. <br>\n",
        "III группа: более 170 минут."
      ]
    },
    {
      "cell_type": "code",
      "execution_count": 11,
      "id": "339487d6-432b-47b7-aaa5-0302ec494cd6",
      "metadata": {
        "id": "339487d6-432b-47b7-aaa5-0302ec494cd6"
      },
      "outputs": [],
      "source": [
        "near = df[df['distance'] <= 760]"
      ]
    },
    {
      "cell_type": "code",
      "execution_count": 12,
      "id": "96f9df5c-5125-4ca2-a3b5-c58cacc2d9c0",
      "metadata": {
        "id": "96f9df5c-5125-4ca2-a3b5-c58cacc2d9c0"
      },
      "outputs": [],
      "source": [
        "middle = df[(df['distance'] > 760) & (df['distance'] <= 1600)]"
      ]
    },
    {
      "cell_type": "code",
      "execution_count": 13,
      "id": "bf90da57-95bc-4ec3-80d1-67766d5335de",
      "metadata": {
        "id": "bf90da57-95bc-4ec3-80d1-67766d5335de"
      },
      "outputs": [],
      "source": [
        "far = df[df['distance'] > 1600]"
      ]
    },
    {
      "cell_type": "code",
      "execution_count": 14,
      "id": "9ac8dec5-a955-43bc-83f3-ec7b16b1a1a6",
      "metadata": {
        "colab": {
          "base_uri": "https://localhost:8080/",
          "height": 784
        },
        "id": "9ac8dec5-a955-43bc-83f3-ec7b16b1a1a6",
        "outputId": "ba2eb000-b192-42ac-a94b-e6d5c209ea73"
      },
      "outputs": [
        {
          "output_type": "execute_result",
          "data": {
            "text/plain": [
              "Text(0, 0.5, 'Плотность')"
            ]
          },
          "metadata": {},
          "execution_count": 14
        },
        {
          "output_type": "display_data",
          "data": {
            "text/plain": [
              "<Figure size 800x900 with 1 Axes>"
            ],
            "image/svg+xml": "<?xml version=\"1.0\" encoding=\"utf-8\" standalone=\"no\"?>\n<!DOCTYPE svg PUBLIC \"-//W3C//DTD SVG 1.1//EN\"\n  \"http://www.w3.org/Graphics/SVG/1.1/DTD/svg11.dtd\">\n<svg xmlns:xlink=\"http://www.w3.org/1999/xlink\" width=\"510.10625pt\" height=\"558.834375pt\" viewBox=\"0 0 510.10625 558.834375\" xmlns=\"http://www.w3.org/2000/svg\" version=\"1.1\">\n <metadata>\n  <rdf:RDF xmlns:dc=\"http://purl.org/dc/elements/1.1/\" xmlns:cc=\"http://creativecommons.org/ns#\" xmlns:rdf=\"http://www.w3.org/1999/02/22-rdf-syntax-ns#\">\n   <cc:Work>\n    <dc:type rdf:resource=\"http://purl.org/dc/dcmitype/StillImage\"/>\n    <dc:date>2024-05-20T12:31:19.353503</dc:date>\n    <dc:format>image/svg+xml</dc:format>\n    <dc:creator>\n     <cc:Agent>\n      <dc:title>Matplotlib v3.7.1, https://matplotlib.org/</dc:title>\n     </cc:Agent>\n    </dc:creator>\n   </cc:Work>\n  </rdf:RDF>\n </metadata>\n <defs>\n  <style type=\"text/css\">*{stroke-linejoin: round; stroke-linecap: butt}</style>\n </defs>\n <g id=\"figure_1\">\n  <g id=\"patch_1\">\n   <path d=\"M 0 558.834375 \nL 510.10625 558.834375 \nL 510.10625 0 \nL 0 0 \nz\n\" style=\"fill: #ffffff\"/>\n  </g>\n  <g id=\"axes_1\">\n   <g id=\"patch_2\">\n    <path d=\"M 56.50625 521.278125 \nL 502.90625 521.278125 \nL 502.90625 22.318125 \nL 56.50625 22.318125 \nz\n\" style=\"fill: #ffffff\"/>\n   </g>\n   <g id=\"patch_3\">\n    <path d=\"M 69.732917 521.278125 \nL 72.288068 521.278125 \nL 72.288068 493.321992 \nL 69.732917 493.321992 \nz\n\" clip-path=\"url(#p389cd423d3)\" style=\"fill: #1f77b4; opacity: 0.4\"/>\n   </g>\n   <g id=\"patch_4\">\n    <path d=\"M 72.288068 521.278125 \nL 74.84322 521.278125 \nL 74.84322 503.549846 \nL 72.288068 503.549846 \nz\n\" clip-path=\"url(#p389cd423d3)\" style=\"fill: #1f77b4; opacity: 0.4\"/>\n   </g>\n   <g id=\"patch_5\">\n    <path d=\"M 74.84322 521.278125 \nL 77.398371 521.278125 \nL 77.398371 509.063993 \nL 74.84322 509.063993 \nz\n\" clip-path=\"url(#p389cd423d3)\" style=\"fill: #1f77b4; opacity: 0.4\"/>\n   </g>\n   <g id=\"patch_6\">\n    <path d=\"M 77.398371 521.278125 \nL 79.953523 521.278125 \nL 79.953523 521.278125 \nL 77.398371 521.278125 \nz\n\" clip-path=\"url(#p389cd423d3)\" style=\"fill: #1f77b4; opacity: 0.4\"/>\n   </g>\n   <g id=\"patch_7\">\n    <path d=\"M 79.953523 521.278125 \nL 82.508674 521.278125 \nL 82.508674 508.886117 \nL 79.953523 508.886117 \nz\n\" clip-path=\"url(#p389cd423d3)\" style=\"fill: #1f77b4; opacity: 0.4\"/>\n   </g>\n   <g id=\"patch_8\">\n    <path d=\"M 82.508674 521.278125 \nL 85.063826 521.278125 \nL 85.063826 495.130395 \nL 82.508674 495.130395 \nz\n\" clip-path=\"url(#p389cd423d3)\" style=\"fill: #1f77b4; opacity: 0.4\"/>\n   </g>\n   <g id=\"patch_9\">\n    <path d=\"M 85.063826 521.278125 \nL 87.618977 521.278125 \nL 87.618977 190.785049 \nL 85.063826 190.785049 \nz\n\" clip-path=\"url(#p389cd423d3)\" style=\"fill: #1f77b4; opacity: 0.4\"/>\n   </g>\n   <g id=\"patch_10\">\n    <path d=\"M 87.618977 521.278125 \nL 90.174129 521.278125 \nL 90.174129 295.939242 \nL 87.618977 295.939242 \nz\n\" clip-path=\"url(#p389cd423d3)\" style=\"fill: #1f77b4; opacity: 0.4\"/>\n   </g>\n   <g id=\"patch_11\">\n    <path d=\"M 90.174129 521.278125 \nL 92.72928 521.278125 \nL 92.72928 199.263792 \nL 90.174129 199.263792 \nz\n\" clip-path=\"url(#p389cd423d3)\" style=\"fill: #1f77b4; opacity: 0.4\"/>\n   </g>\n   <g id=\"patch_12\">\n    <path d=\"M 92.72928 521.278125 \nL 95.284432 521.278125 \nL 95.284432 397.328399 \nL 92.72928 397.328399 \nz\n\" clip-path=\"url(#p389cd423d3)\" style=\"fill: #1f77b4; opacity: 0.4\"/>\n   </g>\n   <g id=\"patch_13\">\n    <path d=\"M 95.284432 521.278125 \nL 97.839583 521.278125 \nL 97.839583 506.8109 \nL 95.284432 506.8109 \nz\n\" clip-path=\"url(#p389cd423d3)\" style=\"fill: #1f77b4; opacity: 0.4\"/>\n   </g>\n   <g id=\"patch_14\">\n    <path d=\"M 97.839583 521.278125 \nL 100.394735 521.278125 \nL 100.394735 457.628266 \nL 97.839583 457.628266 \nz\n\" clip-path=\"url(#p389cd423d3)\" style=\"fill: #1f77b4; opacity: 0.4\"/>\n   </g>\n   <g id=\"patch_15\">\n    <path d=\"M 100.394735 521.278125 \nL 102.949886 521.278125 \nL 102.949886 361.012107 \nL 100.394735 361.012107 \nz\n\" clip-path=\"url(#p389cd423d3)\" style=\"fill: #1f77b4; opacity: 0.4\"/>\n   </g>\n   <g id=\"patch_16\">\n    <path d=\"M 102.949886 521.278125 \nL 105.505038 521.278125 \nL 105.505038 404.087676 \nL 102.949886 404.087676 \nz\n\" clip-path=\"url(#p389cd423d3)\" style=\"fill: #1f77b4; opacity: 0.4\"/>\n   </g>\n   <g id=\"patch_17\">\n    <path d=\"M 105.505038 521.278125 \nL 108.060189 521.278125 \nL 108.060189 415.797827 \nL 105.505038 415.797827 \nz\n\" clip-path=\"url(#p389cd423d3)\" style=\"fill: #1f77b4; opacity: 0.4\"/>\n   </g>\n   <g id=\"patch_18\">\n    <path d=\"M 108.060189 521.278125 \nL 110.615341 521.278125 \nL 110.615341 505.536124 \nL 108.060189 505.536124 \nz\n\" clip-path=\"url(#p389cd423d3)\" style=\"fill: #1f77b4; opacity: 0.4\"/>\n   </g>\n   <g id=\"patch_19\">\n    <path d=\"M 110.615341 521.278125 \nL 113.170492 521.278125 \nL 113.170492 455.612341 \nL 110.615341 455.612341 \nz\n\" clip-path=\"url(#p389cd423d3)\" style=\"fill: #1f77b4; opacity: 0.4\"/>\n   </g>\n   <g id=\"patch_20\">\n    <path d=\"M 113.170492 521.278125 \nL 115.725644 521.278125 \nL 115.725644 521.278125 \nL 113.170492 521.278125 \nz\n\" clip-path=\"url(#p389cd423d3)\" style=\"fill: #1f77b4; opacity: 0.4\"/>\n   </g>\n   <g id=\"patch_21\">\n    <path d=\"M 115.725644 521.278125 \nL 118.280795 521.278125 \nL 118.280795 521.278125 \nL 115.725644 521.278125 \nz\n\" clip-path=\"url(#p389cd423d3)\" style=\"fill: #1f77b4; opacity: 0.4\"/>\n   </g>\n   <g id=\"patch_22\">\n    <path d=\"M 118.280795 521.278125 \nL 120.835947 521.278125 \nL 120.835947 510.664874 \nL 118.280795 510.664874 \nz\n\" clip-path=\"url(#p389cd423d3)\" style=\"fill: #1f77b4; opacity: 0.4\"/>\n   </g>\n   <g id=\"patch_23\">\n    <path d=\"M 120.835947 521.278125 \nL 123.391098 521.278125 \nL 123.391098 445.028736 \nL 120.835947 445.028736 \nz\n\" clip-path=\"url(#p389cd423d3)\" style=\"fill: #1f77b4; opacity: 0.4\"/>\n   </g>\n   <g id=\"patch_24\">\n    <path d=\"M 123.391098 521.278125 \nL 125.94625 521.278125 \nL 125.94625 420.037198 \nL 123.391098 420.037198 \nz\n\" clip-path=\"url(#p389cd423d3)\" style=\"fill: #1f77b4; opacity: 0.4\"/>\n   </g>\n   <g id=\"patch_25\">\n    <path d=\"M 125.94625 521.278125 \nL 128.501402 521.278125 \nL 128.501402 313.193186 \nL 125.94625 313.193186 \nz\n\" clip-path=\"url(#p389cd423d3)\" style=\"fill: #1f77b4; opacity: 0.4\"/>\n   </g>\n   <g id=\"patch_26\">\n    <path d=\"M 128.501402 521.278125 \nL 131.056553 521.278125 \nL 131.056553 486.325547 \nL 128.501402 486.325547 \nz\n\" clip-path=\"url(#p389cd423d3)\" style=\"fill: #1f77b4; opacity: 0.4\"/>\n   </g>\n   <g id=\"patch_27\">\n    <path d=\"M 131.056553 521.278125 \nL 133.611705 521.278125 \nL 133.611705 487.689261 \nL 131.056553 487.689261 \nz\n\" clip-path=\"url(#p389cd423d3)\" style=\"fill: #1f77b4; opacity: 0.4\"/>\n   </g>\n   <g id=\"patch_28\">\n    <path d=\"M 133.611705 521.278125 \nL 136.166856 521.278125 \nL 136.166856 463.913207 \nL 133.611705 463.913207 \nz\n\" clip-path=\"url(#p389cd423d3)\" style=\"fill: #1f77b4; opacity: 0.4\"/>\n   </g>\n   <g id=\"patch_29\">\n    <path d=\"M 136.166856 521.278125 \nL 138.722008 521.278125 \nL 138.722008 411.173058 \nL 136.166856 411.173058 \nz\n\" clip-path=\"url(#p389cd423d3)\" style=\"fill: #1f77b4; opacity: 0.4\"/>\n   </g>\n   <g id=\"patch_30\">\n    <path d=\"M 138.722008 521.278125 \nL 141.277159 521.278125 \nL 141.277159 339.578084 \nL 138.722008 339.578084 \nz\n\" clip-path=\"url(#p389cd423d3)\" style=\"fill: #1f77b4; opacity: 0.4\"/>\n   </g>\n   <g id=\"patch_31\">\n    <path d=\"M 141.277159 521.278125 \nL 143.832311 521.278125 \nL 143.832311 521.278125 \nL 141.277159 521.278125 \nz\n\" clip-path=\"url(#p389cd423d3)\" style=\"fill: #1f77b4; opacity: 0.4\"/>\n   </g>\n   <g id=\"patch_32\">\n    <path d=\"M 143.832311 521.278125 \nL 146.387462 521.278125 \nL 146.387462 261.283124 \nL 143.832311 261.283124 \nz\n\" clip-path=\"url(#p389cd423d3)\" style=\"fill: #1f77b4; opacity: 0.4\"/>\n   </g>\n   <g id=\"patch_33\">\n    <path d=\"M 146.387462 521.278125 \nL 148.942614 521.278125 \nL 148.942614 332.789161 \nL 146.387462 332.789161 \nz\n\" clip-path=\"url(#p389cd423d3)\" style=\"fill: #1f77b4; opacity: 0.4\"/>\n   </g>\n   <g id=\"patch_34\">\n    <path d=\"M 148.942614 521.278125 \nL 151.497765 521.278125 \nL 151.497765 446.688909 \nL 148.942614 446.688909 \nz\n\" clip-path=\"url(#p389cd423d3)\" style=\"fill: #1f77b4; opacity: 0.4\"/>\n   </g>\n   <g id=\"patch_35\">\n    <path d=\"M 151.497765 521.278125 \nL 154.052917 521.278125 \nL 154.052917 477.906097 \nL 151.497765 477.906097 \nz\n\" clip-path=\"url(#p389cd423d3)\" style=\"fill: #1f77b4; opacity: 0.4\"/>\n   </g>\n   <g id=\"patch_36\">\n    <path d=\"M 154.052917 521.278125 \nL 156.608068 521.278125 \nL 156.608068 477.253886 \nL 154.052917 477.253886 \nz\n\" clip-path=\"url(#p389cd423d3)\" style=\"fill: #1f77b4; opacity: 0.4\"/>\n   </g>\n   <g id=\"patch_37\">\n    <path d=\"M 156.608068 521.278125 \nL 159.16322 521.278125 \nL 159.16322 516.831232 \nL 156.608068 516.831232 \nz\n\" clip-path=\"url(#p389cd423d3)\" style=\"fill: #1f77b4; opacity: 0.4\"/>\n   </g>\n   <g id=\"patch_38\">\n    <path d=\"M 159.16322 521.278125 \nL 161.718371 521.278125 \nL 161.718371 444.257941 \nL 159.16322 444.257941 \nz\n\" clip-path=\"url(#p389cd423d3)\" style=\"fill: #1f77b4; opacity: 0.4\"/>\n   </g>\n   <g id=\"patch_39\">\n    <path d=\"M 161.718371 521.278125 \nL 164.273523 521.278125 \nL 164.273523 436.312826 \nL 161.718371 436.312826 \nz\n\" clip-path=\"url(#p389cd423d3)\" style=\"fill: #1f77b4; opacity: 0.4\"/>\n   </g>\n   <g id=\"patch_40\">\n    <path d=\"M 164.273523 521.278125 \nL 166.828674 521.278125 \nL 166.828674 489.764478 \nL 164.273523 489.764478 \nz\n\" clip-path=\"url(#p389cd423d3)\" style=\"fill: #1f77b4; opacity: 0.4\"/>\n   </g>\n   <g id=\"patch_41\">\n    <path d=\"M 166.828674 521.278125 \nL 169.383826 521.278125 \nL 169.383826 521.278125 \nL 166.828674 521.278125 \nz\n\" clip-path=\"url(#p389cd423d3)\" style=\"fill: #1f77b4; opacity: 0.4\"/>\n   </g>\n   <g id=\"patch_42\">\n    <path d=\"M 169.383826 521.278125 \nL 171.938977 521.278125 \nL 171.938977 521.278125 \nL 169.383826 521.278125 \nz\n\" clip-path=\"url(#p389cd423d3)\" style=\"fill: #1f77b4; opacity: 0.4\"/>\n   </g>\n   <g id=\"patch_43\">\n    <path d=\"M 171.938977 521.278125 \nL 174.494129 521.278125 \nL 174.494129 442.153078 \nL 171.938977 442.153078 \nz\n\" clip-path=\"url(#p389cd423d3)\" style=\"fill: #1f77b4; opacity: 0.4\"/>\n   </g>\n   <g id=\"patch_44\">\n    <path d=\"M 174.494129 521.278125 \nL 177.04928 521.278125 \nL 177.04928 254.731368 \nL 174.494129 254.731368 \nz\n\" clip-path=\"url(#p389cd423d3)\" style=\"fill: #1f77b4; opacity: 0.4\"/>\n   </g>\n   <g id=\"patch_45\">\n    <path d=\"M 177.04928 521.278125 \nL 179.604432 521.278125 \nL 179.604432 159.093526 \nL 177.04928 159.093526 \nz\n\" clip-path=\"url(#p389cd423d3)\" style=\"fill: #1f77b4; opacity: 0.4\"/>\n   </g>\n   <g id=\"patch_46\">\n    <path d=\"M 179.604432 521.278125 \nL 182.159583 521.278125 \nL 182.159583 248.268551 \nL 179.604432 248.268551 \nz\n\" clip-path=\"url(#p389cd423d3)\" style=\"fill: #1f77b4; opacity: 0.4\"/>\n   </g>\n   <g id=\"patch_47\">\n    <path d=\"M 182.49025 521.278125 \nL 185.254623 521.278125 \nL 185.254623 70.832518 \nL 182.49025 70.832518 \nz\n\" clip-path=\"url(#p389cd423d3)\" style=\"fill: #ff7f0e; opacity: 0.4\"/>\n   </g>\n   <g id=\"patch_48\">\n    <path d=\"M 185.254623 521.278125 \nL 188.018997 521.278125 \nL 188.018997 521.278125 \nL 185.254623 521.278125 \nz\n\" clip-path=\"url(#p389cd423d3)\" style=\"fill: #ff7f0e; opacity: 0.4\"/>\n   </g>\n   <g id=\"patch_49\">\n    <path d=\"M 188.018997 521.278125 \nL 190.78337 521.278125 \nL 190.78337 503.239537 \nL 188.018997 503.239537 \nz\n\" clip-path=\"url(#p389cd423d3)\" style=\"fill: #ff7f0e; opacity: 0.4\"/>\n   </g>\n   <g id=\"patch_50\">\n    <path d=\"M 190.78337 521.278125 \nL 193.547743 521.278125 \nL 193.547743 441.856428 \nL 190.78337 441.856428 \nz\n\" clip-path=\"url(#p389cd423d3)\" style=\"fill: #ff7f0e; opacity: 0.4\"/>\n   </g>\n   <g id=\"patch_51\">\n    <path d=\"M 193.547743 521.278125 \nL 196.312117 521.278125 \nL 196.312117 515.600512 \nL 193.547743 515.600512 \nz\n\" clip-path=\"url(#p389cd423d3)\" style=\"fill: #ff7f0e; opacity: 0.4\"/>\n   </g>\n   <g id=\"patch_52\">\n    <path d=\"M 196.312117 521.278125 \nL 199.07649 521.278125 \nL 199.07649 521.278125 \nL 196.312117 521.278125 \nz\n\" clip-path=\"url(#p389cd423d3)\" style=\"fill: #ff7f0e; opacity: 0.4\"/>\n   </g>\n   <g id=\"patch_53\">\n    <path d=\"M 199.07649 521.278125 \nL 201.840863 521.278125 \nL 201.840863 435.529944 \nL 199.07649 435.529944 \nz\n\" clip-path=\"url(#p389cd423d3)\" style=\"fill: #ff7f0e; opacity: 0.4\"/>\n   </g>\n   <g id=\"patch_54\">\n    <path d=\"M 201.840863 521.278125 \nL 204.605237 521.278125 \nL 204.605237 463.91801 \nL 201.840863 463.91801 \nz\n\" clip-path=\"url(#p389cd423d3)\" style=\"fill: #ff7f0e; opacity: 0.4\"/>\n   </g>\n   <g id=\"patch_55\">\n    <path d=\"M 204.605237 521.278125 \nL 207.36961 521.278125 \nL 207.36961 521.278125 \nL 204.605237 521.278125 \nz\n\" clip-path=\"url(#p389cd423d3)\" style=\"fill: #ff7f0e; opacity: 0.4\"/>\n   </g>\n   <g id=\"patch_56\">\n    <path d=\"M 207.36961 521.278125 \nL 210.133983 521.278125 \nL 210.133983 521.278125 \nL 207.36961 521.278125 \nz\n\" clip-path=\"url(#p389cd423d3)\" style=\"fill: #ff7f0e; opacity: 0.4\"/>\n   </g>\n   <g id=\"patch_57\">\n    <path d=\"M 210.133983 521.278125 \nL 212.898357 521.278125 \nL 212.898357 186.396279 \nL 210.133983 186.396279 \nz\n\" clip-path=\"url(#p389cd423d3)\" style=\"fill: #ff7f0e; opacity: 0.4\"/>\n   </g>\n   <g id=\"patch_58\">\n    <path d=\"M 212.898357 521.278125 \nL 215.66273 521.278125 \nL 215.66273 375.606793 \nL 212.898357 375.606793 \nz\n\" clip-path=\"url(#p389cd423d3)\" style=\"fill: #ff7f0e; opacity: 0.4\"/>\n   </g>\n   <g id=\"patch_59\">\n    <path d=\"M 215.66273 521.278125 \nL 218.427103 521.278125 \nL 218.427103 493.993138 \nL 215.66273 493.993138 \nz\n\" clip-path=\"url(#p389cd423d3)\" style=\"fill: #ff7f0e; opacity: 0.4\"/>\n   </g>\n   <g id=\"patch_60\">\n    <path d=\"M 218.427103 521.278125 \nL 221.191477 521.278125 \nL 221.191477 521.278125 \nL 218.427103 521.278125 \nz\n\" clip-path=\"url(#p389cd423d3)\" style=\"fill: #ff7f0e; opacity: 0.4\"/>\n   </g>\n   <g id=\"patch_61\">\n    <path d=\"M 221.191477 521.278125 \nL 223.95585 521.278125 \nL 223.95585 208.360531 \nL 221.191477 208.360531 \nz\n\" clip-path=\"url(#p389cd423d3)\" style=\"fill: #ff7f0e; opacity: 0.4\"/>\n   </g>\n   <g id=\"patch_62\">\n    <path d=\"M 223.95585 521.278125 \nL 226.720223 521.278125 \nL 226.720223 225.328483 \nL 223.95585 225.328483 \nz\n\" clip-path=\"url(#p389cd423d3)\" style=\"fill: #ff7f0e; opacity: 0.4\"/>\n   </g>\n   <g id=\"patch_63\">\n    <path d=\"M 226.720223 521.278125 \nL 229.484597 521.278125 \nL 229.484597 422.844535 \nL 226.720223 422.844535 \nz\n\" clip-path=\"url(#p389cd423d3)\" style=\"fill: #ff7f0e; opacity: 0.4\"/>\n   </g>\n   <g id=\"patch_64\">\n    <path d=\"M 229.484597 521.278125 \nL 232.24897 521.278125 \nL 232.24897 497.626811 \nL 229.484597 497.626811 \nz\n\" clip-path=\"url(#p389cd423d3)\" style=\"fill: #ff7f0e; opacity: 0.4\"/>\n   </g>\n   <g id=\"patch_65\">\n    <path d=\"M 232.24897 521.278125 \nL 235.013343 521.278125 \nL 235.013343 46.078125 \nL 232.24897 46.078125 \nz\n\" clip-path=\"url(#p389cd423d3)\" style=\"fill: #ff7f0e; opacity: 0.4\"/>\n   </g>\n   <g id=\"patch_66\">\n    <path d=\"M 235.013343 521.278125 \nL 237.777717 521.278125 \nL 237.777717 79.36516 \nL 235.013343 79.36516 \nz\n\" clip-path=\"url(#p389cd423d3)\" style=\"fill: #ff7f0e; opacity: 0.4\"/>\n   </g>\n   <g id=\"patch_67\">\n    <path d=\"M 237.777717 521.278125 \nL 240.54209 521.278125 \nL 240.54209 501.520031 \nL 237.777717 501.520031 \nz\n\" clip-path=\"url(#p389cd423d3)\" style=\"fill: #ff7f0e; opacity: 0.4\"/>\n   </g>\n   <g id=\"patch_68\">\n    <path d=\"M 240.54209 521.278125 \nL 243.306463 521.278125 \nL 243.306463 521.278125 \nL 240.54209 521.278125 \nz\n\" clip-path=\"url(#p389cd423d3)\" style=\"fill: #ff7f0e; opacity: 0.4\"/>\n   </g>\n   <g id=\"patch_69\">\n    <path d=\"M 243.306463 521.278125 \nL 246.070837 521.278125 \nL 246.070837 488.54263 \nL 243.306463 488.54263 \nz\n\" clip-path=\"url(#p389cd423d3)\" style=\"fill: #ff7f0e; opacity: 0.4\"/>\n   </g>\n   <g id=\"patch_70\">\n    <path d=\"M 246.070837 521.278125 \nL 248.83521 521.278125 \nL 248.83521 495.323322 \nL 246.070837 495.323322 \nz\n\" clip-path=\"url(#p389cd423d3)\" style=\"fill: #ff7f0e; opacity: 0.4\"/>\n   </g>\n   <g id=\"patch_71\">\n    <path d=\"M 248.83521 521.278125 \nL 251.599583 521.278125 \nL 251.599583 484.779183 \nL 248.83521 484.779183 \nz\n\" clip-path=\"url(#p389cd423d3)\" style=\"fill: #ff7f0e; opacity: 0.4\"/>\n   </g>\n   <g id=\"patch_72\">\n    <path d=\"M 251.599583 521.278125 \nL 254.363957 521.278125 \nL 254.363957 437.24945 \nL 251.599583 437.24945 \nz\n\" clip-path=\"url(#p389cd423d3)\" style=\"fill: #ff7f0e; opacity: 0.4\"/>\n   </g>\n   <g id=\"patch_73\">\n    <path d=\"M 254.363957 521.278125 \nL 257.12833 521.278125 \nL 257.12833 520.726585 \nL 254.363957 520.726585 \nz\n\" clip-path=\"url(#p389cd423d3)\" style=\"fill: #ff7f0e; opacity: 0.4\"/>\n   </g>\n   <g id=\"patch_74\">\n    <path d=\"M 257.12833 521.278125 \nL 259.892703 521.278125 \nL 259.892703 511.739735 \nL 257.12833 511.739735 \nz\n\" clip-path=\"url(#p389cd423d3)\" style=\"fill: #ff7f0e; opacity: 0.4\"/>\n   </g>\n   <g id=\"patch_75\">\n    <path d=\"M 259.892703 521.278125 \nL 262.657077 521.278125 \nL 262.657077 521.278125 \nL 259.892703 521.278125 \nz\n\" clip-path=\"url(#p389cd423d3)\" style=\"fill: #ff7f0e; opacity: 0.4\"/>\n   </g>\n   <g id=\"patch_76\">\n    <path d=\"M 262.657077 521.278125 \nL 265.42145 521.278125 \nL 265.42145 521.278125 \nL 262.657077 521.278125 \nz\n\" clip-path=\"url(#p389cd423d3)\" style=\"fill: #ff7f0e; opacity: 0.4\"/>\n   </g>\n   <g id=\"patch_77\">\n    <path d=\"M 265.42145 521.278125 \nL 268.185823 521.278125 \nL 268.185823 521.278125 \nL 265.42145 521.278125 \nz\n\" clip-path=\"url(#p389cd423d3)\" style=\"fill: #ff7f0e; opacity: 0.4\"/>\n   </g>\n   <g id=\"patch_78\">\n    <path d=\"M 268.185823 521.278125 \nL 270.950197 521.278125 \nL 270.950197 521.278125 \nL 268.185823 521.278125 \nz\n\" clip-path=\"url(#p389cd423d3)\" style=\"fill: #ff7f0e; opacity: 0.4\"/>\n   </g>\n   <g id=\"patch_79\">\n    <path d=\"M 270.950197 521.278125 \nL 273.71457 521.278125 \nL 273.71457 521.278125 \nL 270.950197 521.278125 \nz\n\" clip-path=\"url(#p389cd423d3)\" style=\"fill: #ff7f0e; opacity: 0.4\"/>\n   </g>\n   <g id=\"patch_80\">\n    <path d=\"M 273.71457 521.278125 \nL 276.478943 521.278125 \nL 276.478943 511.058421 \nL 273.71457 511.058421 \nz\n\" clip-path=\"url(#p389cd423d3)\" style=\"fill: #ff7f0e; opacity: 0.4\"/>\n   </g>\n   <g id=\"patch_81\">\n    <path d=\"M 276.478943 521.278125 \nL 279.243317 521.278125 \nL 279.243317 521.278125 \nL 276.478943 521.278125 \nz\n\" clip-path=\"url(#p389cd423d3)\" style=\"fill: #ff7f0e; opacity: 0.4\"/>\n   </g>\n   <g id=\"patch_82\">\n    <path d=\"M 279.243317 521.278125 \nL 282.00769 521.278125 \nL 282.00769 521.278125 \nL 279.243317 521.278125 \nz\n\" clip-path=\"url(#p389cd423d3)\" style=\"fill: #ff7f0e; opacity: 0.4\"/>\n   </g>\n   <g id=\"patch_83\">\n    <path d=\"M 282.00769 521.278125 \nL 284.772063 521.278125 \nL 284.772063 423.493405 \nL 282.00769 423.493405 \nz\n\" clip-path=\"url(#p389cd423d3)\" style=\"fill: #ff7f0e; opacity: 0.4\"/>\n   </g>\n   <g id=\"patch_84\">\n    <path d=\"M 284.772063 521.278125 \nL 287.536437 521.278125 \nL 287.536437 346.926736 \nL 284.772063 346.926736 \nz\n\" clip-path=\"url(#p389cd423d3)\" style=\"fill: #ff7f0e; opacity: 0.4\"/>\n   </g>\n   <g id=\"patch_85\">\n    <path d=\"M 287.536437 521.278125 \nL 290.30081 521.278125 \nL 290.30081 363.245818 \nL 287.536437 363.245818 \nz\n\" clip-path=\"url(#p389cd423d3)\" style=\"fill: #ff7f0e; opacity: 0.4\"/>\n   </g>\n   <g id=\"patch_86\">\n    <path d=\"M 290.30081 521.278125 \nL 293.065183 521.278125 \nL 293.065183 381.868389 \nL 290.30081 381.868389 \nz\n\" clip-path=\"url(#p389cd423d3)\" style=\"fill: #ff7f0e; opacity: 0.4\"/>\n   </g>\n   <g id=\"patch_87\">\n    <path d=\"M 293.065183 521.278125 \nL 295.829557 521.278125 \nL 295.829557 521.278125 \nL 293.065183 521.278125 \nz\n\" clip-path=\"url(#p389cd423d3)\" style=\"fill: #ff7f0e; opacity: 0.4\"/>\n   </g>\n   <g id=\"patch_88\">\n    <path d=\"M 295.829557 521.278125 \nL 298.59393 521.278125 \nL 298.59393 521.278125 \nL 295.829557 521.278125 \nz\n\" clip-path=\"url(#p389cd423d3)\" style=\"fill: #ff7f0e; opacity: 0.4\"/>\n   </g>\n   <g id=\"patch_89\">\n    <path d=\"M 298.59393 521.278125 \nL 301.358303 521.278125 \nL 301.358303 521.278125 \nL 298.59393 521.278125 \nz\n\" clip-path=\"url(#p389cd423d3)\" style=\"fill: #ff7f0e; opacity: 0.4\"/>\n   </g>\n   <g id=\"patch_90\">\n    <path d=\"M 301.358303 521.278125 \nL 304.122677 521.278125 \nL 304.122677 521.278125 \nL 301.358303 521.278125 \nz\n\" clip-path=\"url(#p389cd423d3)\" style=\"fill: #ff7f0e; opacity: 0.4\"/>\n   </g>\n   <g id=\"patch_91\">\n    <path d=\"M 304.122677 521.278125 \nL 306.88705 521.278125 \nL 306.88705 490.229692 \nL 304.122677 490.229692 \nz\n\" clip-path=\"url(#p389cd423d3)\" style=\"fill: #ff7f0e; opacity: 0.4\"/>\n   </g>\n   <g id=\"patch_92\">\n    <path d=\"M 306.88705 521.278125 \nL 309.651423 521.278125 \nL 309.651423 474.10527 \nL 306.88705 474.10527 \nz\n\" clip-path=\"url(#p389cd423d3)\" style=\"fill: #ff7f0e; opacity: 0.4\"/>\n   </g>\n   <g id=\"patch_93\">\n    <path d=\"M 309.651423 521.278125 \nL 312.415797 521.278125 \nL 312.415797 521.278125 \nL 309.651423 521.278125 \nz\n\" clip-path=\"url(#p389cd423d3)\" style=\"fill: #ff7f0e; opacity: 0.4\"/>\n   </g>\n   <g id=\"patch_94\">\n    <path d=\"M 312.415797 521.278125 \nL 315.18017 521.278125 \nL 315.18017 521.278125 \nL 312.415797 521.278125 \nz\n\" clip-path=\"url(#p389cd423d3)\" style=\"fill: #ff7f0e; opacity: 0.4\"/>\n   </g>\n   <g id=\"patch_95\">\n    <path d=\"M 315.18017 521.278125 \nL 317.944543 521.278125 \nL 317.944543 491.559876 \nL 315.18017 491.559876 \nz\n\" clip-path=\"url(#p389cd423d3)\" style=\"fill: #ff7f0e; opacity: 0.4\"/>\n   </g>\n   <g id=\"patch_96\">\n    <path d=\"M 317.944543 521.278125 \nL 320.708917 521.278125 \nL 320.708917 347.997371 \nL 317.944543 347.997371 \nz\n\" clip-path=\"url(#p389cd423d3)\" style=\"fill: #ff7f0e; opacity: 0.4\"/>\n   </g>\n   <g id=\"patch_97\">\n    <path d=\"M 321.86625 521.278125 \nL 333.03617 521.278125 \nL 333.03617 381.562559 \nL 321.86625 381.562559 \nz\n\" clip-path=\"url(#p389cd423d3)\" style=\"fill: #2ca02c; opacity: 0.4\"/>\n   </g>\n   <g id=\"patch_98\">\n    <path d=\"M 333.03617 521.278125 \nL 344.20609 521.278125 \nL 344.20609 519.43734 \nL 333.03617 519.43734 \nz\n\" clip-path=\"url(#p389cd423d3)\" style=\"fill: #2ca02c; opacity: 0.4\"/>\n   </g>\n   <g id=\"patch_99\">\n    <path d=\"M 344.20609 521.278125 \nL 355.37601 521.278125 \nL 355.37601 519.51404 \nL 344.20609 519.51404 \nz\n\" clip-path=\"url(#p389cd423d3)\" style=\"fill: #2ca02c; opacity: 0.4\"/>\n   </g>\n   <g id=\"patch_100\">\n    <path d=\"M 355.37601 521.278125 \nL 366.54593 521.278125 \nL 366.54593 517.09034 \nL 355.37601 517.09034 \nz\n\" clip-path=\"url(#p389cd423d3)\" style=\"fill: #2ca02c; opacity: 0.4\"/>\n   </g>\n   <g id=\"patch_101\">\n    <path d=\"M 366.54593 521.278125 \nL 377.71585 521.278125 \nL 377.71585 520.71055 \nL 366.54593 520.71055 \nz\n\" clip-path=\"url(#p389cd423d3)\" style=\"fill: #2ca02c; opacity: 0.4\"/>\n   </g>\n   <g id=\"patch_102\">\n    <path d=\"M 377.71585 521.278125 \nL 388.88577 521.278125 \nL 388.88577 483.680095 \nL 377.71585 483.680095 \nz\n\" clip-path=\"url(#p389cd423d3)\" style=\"fill: #2ca02c; opacity: 0.4\"/>\n   </g>\n   <g id=\"patch_103\">\n    <path d=\"M 388.88577 521.278125 \nL 400.05569 521.278125 \nL 400.05569 521.278125 \nL 388.88577 521.278125 \nz\n\" clip-path=\"url(#p389cd423d3)\" style=\"fill: #2ca02c; opacity: 0.4\"/>\n   </g>\n   <g id=\"patch_104\">\n    <path d=\"M 400.05569 521.278125 \nL 411.22561 521.278125 \nL 411.22561 480.090565 \nL 400.05569 480.090565 \nz\n\" clip-path=\"url(#p389cd423d3)\" style=\"fill: #2ca02c; opacity: 0.4\"/>\n   </g>\n   <g id=\"patch_105\">\n    <path d=\"M 411.22561 521.278125 \nL 422.39553 521.278125 \nL 422.39553 491.810228 \nL 411.22561 491.810228 \nz\n\" clip-path=\"url(#p389cd423d3)\" style=\"fill: #2ca02c; opacity: 0.4\"/>\n   </g>\n   <g id=\"patch_106\">\n    <path d=\"M 422.39553 521.278125 \nL 433.56545 521.278125 \nL 433.56545 429.975199 \nL 422.39553 429.975199 \nz\n\" clip-path=\"url(#p389cd423d3)\" style=\"fill: #2ca02c; opacity: 0.4\"/>\n   </g>\n   <g id=\"patch_107\">\n    <path d=\"M 433.56545 521.278125 \nL 444.73537 521.278125 \nL 444.73537 521.278125 \nL 433.56545 521.278125 \nz\n\" clip-path=\"url(#p389cd423d3)\" style=\"fill: #2ca02c; opacity: 0.4\"/>\n   </g>\n   <g id=\"patch_108\">\n    <path d=\"M 444.73537 521.278125 \nL 455.90529 521.278125 \nL 455.90529 493.236837 \nL 444.73537 493.236837 \nz\n\" clip-path=\"url(#p389cd423d3)\" style=\"fill: #2ca02c; opacity: 0.4\"/>\n   </g>\n   <g id=\"patch_109\">\n    <path d=\"M 455.90529 521.278125 \nL 467.07521 521.278125 \nL 467.07521 153.197865 \nL 455.90529 153.197865 \nz\n\" clip-path=\"url(#p389cd423d3)\" style=\"fill: #2ca02c; opacity: 0.4\"/>\n   </g>\n   <g id=\"patch_110\">\n    <path d=\"M 467.07521 521.278125 \nL 478.24513 521.278125 \nL 478.24513 516.952281 \nL 467.07521 516.952281 \nz\n\" clip-path=\"url(#p389cd423d3)\" style=\"fill: #2ca02c; opacity: 0.4\"/>\n   </g>\n   <g id=\"patch_111\">\n    <path d=\"M 478.24513 521.278125 \nL 489.41505 521.278125 \nL 489.41505 309.434474 \nL 478.24513 309.434474 \nz\n\" clip-path=\"url(#p389cd423d3)\" style=\"fill: #2ca02c; opacity: 0.4\"/>\n   </g>\n   <g id=\"patch_112\">\n    <path d=\"M 489.41505 521.278125 \nL 500.58497 521.278125 \nL 500.58497 521.278125 \nL 489.41505 521.278125 \nz\n\" clip-path=\"url(#p389cd423d3)\" style=\"fill: #2ca02c; opacity: 0.4\"/>\n   </g>\n   <g id=\"patch_113\">\n    <path d=\"M 500.58497 521.278125 \nL 511.75489 521.278125 \nL 511.75489 521.278125 \nL 500.58497 521.278125 \nz\n\" clip-path=\"url(#p389cd423d3)\" style=\"fill: #2ca02c; opacity: 0.4\"/>\n   </g>\n   <g id=\"patch_114\">\n    <path d=\"M 511.75489 521.278125 \nL 522.92481 521.278125 \nL 522.92481 521.278125 \nL 511.75489 521.278125 \nz\n\" clip-path=\"url(#p389cd423d3)\" style=\"fill: #2ca02c; opacity: 0.4\"/>\n   </g>\n   <g id=\"patch_115\">\n    <path d=\"M 522.92481 521.278125 \nL 534.09473 521.278125 \nL 534.09473 521.278125 \nL 522.92481 521.278125 \nz\n\" clip-path=\"url(#p389cd423d3)\" style=\"fill: #2ca02c; opacity: 0.4\"/>\n   </g>\n   <g id=\"patch_116\">\n    <path d=\"M 534.09473 521.278125 \nL 545.26465 521.278125 \nL 545.26465 521.278125 \nL 534.09473 521.278125 \nz\n\" clip-path=\"url(#p389cd423d3)\" style=\"fill: #2ca02c; opacity: 0.4\"/>\n   </g>\n   <g id=\"patch_117\">\n    <path d=\"M 545.26465 521.278125 \nL 556.43457 521.278125 \nL 556.43457 521.278125 \nL 545.26465 521.278125 \nz\n\" clip-path=\"url(#p389cd423d3)\" style=\"fill: #2ca02c; opacity: 0.4\"/>\n   </g>\n   <g id=\"patch_118\">\n    <path d=\"M 556.43457 521.278125 \nL 567.60449 521.278125 \nL 567.60449 521.278125 \nL 556.43457 521.278125 \nz\n\" clip-path=\"url(#p389cd423d3)\" style=\"fill: #2ca02c; opacity: 0.4\"/>\n   </g>\n   <g id=\"patch_119\">\n    <path d=\"M 567.60449 521.278125 \nL 578.77441 521.278125 \nL 578.77441 521.278125 \nL 567.60449 521.278125 \nz\n\" clip-path=\"url(#p389cd423d3)\" style=\"fill: #2ca02c; opacity: 0.4\"/>\n   </g>\n   <g id=\"patch_120\">\n    <path d=\"M 578.77441 521.278125 \nL 589.94433 521.278125 \nL 589.94433 521.278125 \nL 578.77441 521.278125 \nz\n\" clip-path=\"url(#p389cd423d3)\" style=\"fill: #2ca02c; opacity: 0.4\"/>\n   </g>\n   <g id=\"patch_121\">\n    <path d=\"M 589.94433 521.278125 \nL 601.11425 521.278125 \nL 601.11425 521.278125 \nL 589.94433 521.278125 \nz\n\" clip-path=\"url(#p389cd423d3)\" style=\"fill: #2ca02c; opacity: 0.4\"/>\n   </g>\n   <g id=\"patch_122\">\n    <path d=\"M 601.11425 521.278125 \nL 612.28417 521.278125 \nL 612.28417 521.278125 \nL 601.11425 521.278125 \nz\n\" clip-path=\"url(#p389cd423d3)\" style=\"fill: #2ca02c; opacity: 0.4\"/>\n   </g>\n   <g id=\"patch_123\">\n    <path d=\"M 612.28417 521.278125 \nL 623.45409 521.278125 \nL 623.45409 521.155406 \nL 612.28417 521.155406 \nz\n\" clip-path=\"url(#p389cd423d3)\" style=\"fill: #2ca02c; opacity: 0.4\"/>\n   </g>\n   <g id=\"patch_124\">\n    <path d=\"M 623.45409 521.278125 \nL 634.62401 521.278125 \nL 634.62401 521.278125 \nL 623.45409 521.278125 \nz\n\" clip-path=\"url(#p389cd423d3)\" style=\"fill: #2ca02c; opacity: 0.4\"/>\n   </g>\n   <g id=\"patch_125\">\n    <path d=\"M 634.62401 521.278125 \nL 645.79393 521.278125 \nL 645.79393 521.278125 \nL 634.62401 521.278125 \nz\n\" clip-path=\"url(#p389cd423d3)\" style=\"fill: #2ca02c; opacity: 0.4\"/>\n   </g>\n   <g id=\"patch_126\">\n    <path d=\"M 645.79393 521.278125 \nL 656.96385 521.278125 \nL 656.96385 521.278125 \nL 645.79393 521.278125 \nz\n\" clip-path=\"url(#p389cd423d3)\" style=\"fill: #2ca02c; opacity: 0.4\"/>\n   </g>\n   <g id=\"patch_127\">\n    <path d=\"M 656.96385 521.278125 \nL 668.13377 521.278125 \nL 668.13377 521.278125 \nL 656.96385 521.278125 \nz\n\" clip-path=\"url(#p389cd423d3)\" style=\"fill: #2ca02c; opacity: 0.4\"/>\n   </g>\n   <g id=\"patch_128\">\n    <path d=\"M 668.13377 521.278125 \nL 679.30369 521.278125 \nL 679.30369 521.278125 \nL 668.13377 521.278125 \nz\n\" clip-path=\"url(#p389cd423d3)\" style=\"fill: #2ca02c; opacity: 0.4\"/>\n   </g>\n   <g id=\"patch_129\">\n    <path d=\"M 679.30369 521.278125 \nL 690.47361 521.278125 \nL 690.47361 521.278125 \nL 679.30369 521.278125 \nz\n\" clip-path=\"url(#p389cd423d3)\" style=\"fill: #2ca02c; opacity: 0.4\"/>\n   </g>\n   <g id=\"patch_130\">\n    <path d=\"M 690.47361 521.278125 \nL 701.64353 521.278125 \nL 701.64353 521.278125 \nL 690.47361 521.278125 \nz\n\" clip-path=\"url(#p389cd423d3)\" style=\"fill: #2ca02c; opacity: 0.4\"/>\n   </g>\n   <g id=\"patch_131\">\n    <path d=\"M 701.64353 521.278125 \nL 712.81345 521.278125 \nL 712.81345 521.278125 \nL 701.64353 521.278125 \nz\n\" clip-path=\"url(#p389cd423d3)\" style=\"fill: #2ca02c; opacity: 0.4\"/>\n   </g>\n   <g id=\"patch_132\">\n    <path d=\"M 712.81345 521.278125 \nL 723.98337 521.278125 \nL 723.98337 521.278125 \nL 712.81345 521.278125 \nz\n\" clip-path=\"url(#p389cd423d3)\" style=\"fill: #2ca02c; opacity: 0.4\"/>\n   </g>\n   <g id=\"patch_133\">\n    <path d=\"M 723.98337 521.278125 \nL 735.15329 521.278125 \nL 735.15329 521.278125 \nL 723.98337 521.278125 \nz\n\" clip-path=\"url(#p389cd423d3)\" style=\"fill: #2ca02c; opacity: 0.4\"/>\n   </g>\n   <g id=\"patch_134\">\n    <path d=\"M 735.15329 521.278125 \nL 746.32321 521.278125 \nL 746.32321 521.278125 \nL 735.15329 521.278125 \nz\n\" clip-path=\"url(#p389cd423d3)\" style=\"fill: #2ca02c; opacity: 0.4\"/>\n   </g>\n   <g id=\"patch_135\">\n    <path d=\"M 746.32321 521.278125 \nL 757.49313 521.278125 \nL 757.49313 521.278125 \nL 746.32321 521.278125 \nz\n\" clip-path=\"url(#p389cd423d3)\" style=\"fill: #2ca02c; opacity: 0.4\"/>\n   </g>\n   <g id=\"patch_136\">\n    <path d=\"M 757.49313 521.278125 \nL 768.66305 521.278125 \nL 768.66305 521.278125 \nL 757.49313 521.278125 \nz\n\" clip-path=\"url(#p389cd423d3)\" style=\"fill: #2ca02c; opacity: 0.4\"/>\n   </g>\n   <g id=\"patch_137\">\n    <path d=\"M 768.66305 521.278125 \nL 779.83297 521.278125 \nL 779.83297 521.278125 \nL 768.66305 521.278125 \nz\n\" clip-path=\"url(#p389cd423d3)\" style=\"fill: #2ca02c; opacity: 0.4\"/>\n   </g>\n   <g id=\"patch_138\">\n    <path d=\"M 779.83297 521.278125 \nL 791.00289 521.278125 \nL 791.00289 521.278125 \nL 779.83297 521.278125 \nz\n\" clip-path=\"url(#p389cd423d3)\" style=\"fill: #2ca02c; opacity: 0.4\"/>\n   </g>\n   <g id=\"patch_139\">\n    <path d=\"M 791.00289 521.278125 \nL 802.17281 521.278125 \nL 802.17281 521.278125 \nL 791.00289 521.278125 \nz\n\" clip-path=\"url(#p389cd423d3)\" style=\"fill: #2ca02c; opacity: 0.4\"/>\n   </g>\n   <g id=\"patch_140\">\n    <path d=\"M 802.17281 521.278125 \nL 813.34273 521.278125 \nL 813.34273 521.278125 \nL 802.17281 521.278125 \nz\n\" clip-path=\"url(#p389cd423d3)\" style=\"fill: #2ca02c; opacity: 0.4\"/>\n   </g>\n   <g id=\"patch_141\">\n    <path d=\"M 813.34273 521.278125 \nL 824.51265 521.278125 \nL 824.51265 521.278125 \nL 813.34273 521.278125 \nz\n\" clip-path=\"url(#p389cd423d3)\" style=\"fill: #2ca02c; opacity: 0.4\"/>\n   </g>\n   <g id=\"patch_142\">\n    <path d=\"M 824.51265 521.278125 \nL 835.68257 521.278125 \nL 835.68257 521.278125 \nL 824.51265 521.278125 \nz\n\" clip-path=\"url(#p389cd423d3)\" style=\"fill: #2ca02c; opacity: 0.4\"/>\n   </g>\n   <g id=\"patch_143\">\n    <path d=\"M 835.68257 521.278125 \nL 846.85249 521.278125 \nL 846.85249 521.278125 \nL 835.68257 521.278125 \nz\n\" clip-path=\"url(#p389cd423d3)\" style=\"fill: #2ca02c; opacity: 0.4\"/>\n   </g>\n   <g id=\"patch_144\">\n    <path d=\"M 846.85249 521.278125 \nL 858.02241 521.278125 \nL 858.02241 521.278125 \nL 846.85249 521.278125 \nz\n\" clip-path=\"url(#p389cd423d3)\" style=\"fill: #2ca02c; opacity: 0.4\"/>\n   </g>\n   <g id=\"patch_145\">\n    <path d=\"M 858.02241 521.278125 \nL 869.19233 521.278125 \nL 869.19233 521.278125 \nL 858.02241 521.278125 \nz\n\" clip-path=\"url(#p389cd423d3)\" style=\"fill: #2ca02c; opacity: 0.4\"/>\n   </g>\n   <g id=\"patch_146\">\n    <path d=\"M 869.19233 521.278125 \nL 880.36225 521.278125 \nL 880.36225 510.524874 \nL 869.19233 510.524874 \nz\n\" clip-path=\"url(#p389cd423d3)\" style=\"fill: #2ca02c; opacity: 0.4\"/>\n   </g>\n   <g id=\"matplotlib.axis_1\">\n    <g id=\"xtick_1\">\n     <g id=\"line2d_1\">\n      <defs>\n       <path id=\"m1bdfc407fc\" d=\"M 0 0 \nL 0 3.5 \n\" style=\"stroke: #000000; stroke-width: 0.8\"/>\n      </defs>\n      <g>\n       <use xlink:href=\"#m1bdfc407fc\" x=\"56.50625\" y=\"521.278125\" style=\"stroke: #000000; stroke-width: 0.8\"/>\n      </g>\n     </g>\n     <g id=\"text_1\">\n      <!-- 0 -->\n      <g transform=\"translate(53.325 535.876562) scale(0.1 -0.1)\">\n       <defs>\n        <path id=\"DejaVuSans-30\" d=\"M 2034 4250 \nQ 1547 4250 1301 3770 \nQ 1056 3291 1056 2328 \nQ 1056 1369 1301 889 \nQ 1547 409 2034 409 \nQ 2525 409 2770 889 \nQ 3016 1369 3016 2328 \nQ 3016 3291 2770 3770 \nQ 2525 4250 2034 4250 \nz\nM 2034 4750 \nQ 2819 4750 3233 4129 \nQ 3647 3509 3647 2328 \nQ 3647 1150 3233 529 \nQ 2819 -91 2034 -91 \nQ 1250 -91 836 529 \nQ 422 1150 422 2328 \nQ 422 3509 836 4129 \nQ 1250 4750 2034 4750 \nz\n\" transform=\"scale(0.015625)\"/>\n       </defs>\n       <use xlink:href=\"#DejaVuSans-30\"/>\n      </g>\n     </g>\n    </g>\n    <g id=\"xtick_2\">\n     <g id=\"line2d_2\">\n      <g>\n       <use xlink:href=\"#m1bdfc407fc\" x=\"139.172917\" y=\"521.278125\" style=\"stroke: #000000; stroke-width: 0.8\"/>\n      </g>\n     </g>\n     <g id=\"text_2\">\n      <!-- 500 -->\n      <g transform=\"translate(129.629167 535.876562) scale(0.1 -0.1)\">\n       <defs>\n        <path id=\"DejaVuSans-35\" d=\"M 691 4666 \nL 3169 4666 \nL 3169 4134 \nL 1269 4134 \nL 1269 2991 \nQ 1406 3038 1543 3061 \nQ 1681 3084 1819 3084 \nQ 2600 3084 3056 2656 \nQ 3513 2228 3513 1497 \nQ 3513 744 3044 326 \nQ 2575 -91 1722 -91 \nQ 1428 -91 1123 -41 \nQ 819 9 494 109 \nL 494 744 \nQ 775 591 1075 516 \nQ 1375 441 1709 441 \nQ 2250 441 2565 725 \nQ 2881 1009 2881 1497 \nQ 2881 1984 2565 2268 \nQ 2250 2553 1709 2553 \nQ 1456 2553 1204 2497 \nQ 953 2441 691 2322 \nL 691 4666 \nz\n\" transform=\"scale(0.015625)\"/>\n       </defs>\n       <use xlink:href=\"#DejaVuSans-35\"/>\n       <use xlink:href=\"#DejaVuSans-30\" x=\"63.623047\"/>\n       <use xlink:href=\"#DejaVuSans-30\" x=\"127.246094\"/>\n      </g>\n     </g>\n    </g>\n    <g id=\"xtick_3\">\n     <g id=\"line2d_3\">\n      <g>\n       <use xlink:href=\"#m1bdfc407fc\" x=\"221.839583\" y=\"521.278125\" style=\"stroke: #000000; stroke-width: 0.8\"/>\n      </g>\n     </g>\n     <g id=\"text_3\">\n      <!-- 1000 -->\n      <g transform=\"translate(209.114583 535.876562) scale(0.1 -0.1)\">\n       <defs>\n        <path id=\"DejaVuSans-31\" d=\"M 794 531 \nL 1825 531 \nL 1825 4091 \nL 703 3866 \nL 703 4441 \nL 1819 4666 \nL 2450 4666 \nL 2450 531 \nL 3481 531 \nL 3481 0 \nL 794 0 \nL 794 531 \nz\n\" transform=\"scale(0.015625)\"/>\n       </defs>\n       <use xlink:href=\"#DejaVuSans-31\"/>\n       <use xlink:href=\"#DejaVuSans-30\" x=\"63.623047\"/>\n       <use xlink:href=\"#DejaVuSans-30\" x=\"127.246094\"/>\n       <use xlink:href=\"#DejaVuSans-30\" x=\"190.869141\"/>\n      </g>\n     </g>\n    </g>\n    <g id=\"xtick_4\">\n     <g id=\"line2d_4\">\n      <g>\n       <use xlink:href=\"#m1bdfc407fc\" x=\"304.50625\" y=\"521.278125\" style=\"stroke: #000000; stroke-width: 0.8\"/>\n      </g>\n     </g>\n     <g id=\"text_4\">\n      <!-- 1500 -->\n      <g transform=\"translate(291.78125 535.876562) scale(0.1 -0.1)\">\n       <use xlink:href=\"#DejaVuSans-31\"/>\n       <use xlink:href=\"#DejaVuSans-35\" x=\"63.623047\"/>\n       <use xlink:href=\"#DejaVuSans-30\" x=\"127.246094\"/>\n       <use xlink:href=\"#DejaVuSans-30\" x=\"190.869141\"/>\n      </g>\n     </g>\n    </g>\n    <g id=\"xtick_5\">\n     <g id=\"line2d_5\">\n      <g>\n       <use xlink:href=\"#m1bdfc407fc\" x=\"387.172917\" y=\"521.278125\" style=\"stroke: #000000; stroke-width: 0.8\"/>\n      </g>\n     </g>\n     <g id=\"text_5\">\n      <!-- 2000 -->\n      <g transform=\"translate(374.447917 535.876562) scale(0.1 -0.1)\">\n       <defs>\n        <path id=\"DejaVuSans-32\" d=\"M 1228 531 \nL 3431 531 \nL 3431 0 \nL 469 0 \nL 469 531 \nQ 828 903 1448 1529 \nQ 2069 2156 2228 2338 \nQ 2531 2678 2651 2914 \nQ 2772 3150 2772 3378 \nQ 2772 3750 2511 3984 \nQ 2250 4219 1831 4219 \nQ 1534 4219 1204 4116 \nQ 875 4013 500 3803 \nL 500 4441 \nQ 881 4594 1212 4672 \nQ 1544 4750 1819 4750 \nQ 2544 4750 2975 4387 \nQ 3406 4025 3406 3419 \nQ 3406 3131 3298 2873 \nQ 3191 2616 2906 2266 \nQ 2828 2175 2409 1742 \nQ 1991 1309 1228 531 \nz\n\" transform=\"scale(0.015625)\"/>\n       </defs>\n       <use xlink:href=\"#DejaVuSans-32\"/>\n       <use xlink:href=\"#DejaVuSans-30\" x=\"63.623047\"/>\n       <use xlink:href=\"#DejaVuSans-30\" x=\"127.246094\"/>\n       <use xlink:href=\"#DejaVuSans-30\" x=\"190.869141\"/>\n      </g>\n     </g>\n    </g>\n    <g id=\"xtick_6\">\n     <g id=\"line2d_6\">\n      <g>\n       <use xlink:href=\"#m1bdfc407fc\" x=\"469.839583\" y=\"521.278125\" style=\"stroke: #000000; stroke-width: 0.8\"/>\n      </g>\n     </g>\n     <g id=\"text_6\">\n      <!-- 2500 -->\n      <g transform=\"translate(457.114583 535.876562) scale(0.1 -0.1)\">\n       <use xlink:href=\"#DejaVuSans-32\"/>\n       <use xlink:href=\"#DejaVuSans-35\" x=\"63.623047\"/>\n       <use xlink:href=\"#DejaVuSans-30\" x=\"127.246094\"/>\n       <use xlink:href=\"#DejaVuSans-30\" x=\"190.869141\"/>\n      </g>\n     </g>\n    </g>\n    <g id=\"text_7\">\n     <!-- Расстояние (км) -->\n     <g transform=\"translate(237.271875 549.554687) scale(0.1 -0.1)\">\n      <defs>\n       <path id=\"DejaVuSans-420\" d=\"M 1259 4147 \nL 1259 2394 \nL 2053 2394 \nQ 2494 2394 2734 2622 \nQ 2975 2850 2975 3272 \nQ 2975 3691 2734 3919 \nQ 2494 4147 2053 4147 \nL 1259 4147 \nz\nM 628 4666 \nL 2053 4666 \nQ 2838 4666 3239 4311 \nQ 3641 3956 3641 3272 \nQ 3641 2581 3239 2228 \nQ 2838 1875 2053 1875 \nL 1259 1875 \nL 1259 0 \nL 628 0 \nL 628 4666 \nz\n\" transform=\"scale(0.015625)\"/>\n       <path id=\"DejaVuSans-430\" d=\"M 2194 1759 \nQ 1497 1759 1228 1600 \nQ 959 1441 959 1056 \nQ 959 750 1161 570 \nQ 1363 391 1709 391 \nQ 2188 391 2477 730 \nQ 2766 1069 2766 1631 \nL 2766 1759 \nL 2194 1759 \nz\nM 3341 1997 \nL 3341 0 \nL 2766 0 \nL 2766 531 \nQ 2569 213 2275 61 \nQ 1981 -91 1556 -91 \nQ 1019 -91 701 211 \nQ 384 513 384 1019 \nQ 384 1609 779 1909 \nQ 1175 2209 1959 2209 \nL 2766 2209 \nL 2766 2266 \nQ 2766 2663 2505 2880 \nQ 2244 3097 1772 3097 \nQ 1472 3097 1187 3025 \nQ 903 2953 641 2809 \nL 641 3341 \nQ 956 3463 1253 3523 \nQ 1550 3584 1831 3584 \nQ 2591 3584 2966 3190 \nQ 3341 2797 3341 1997 \nz\n\" transform=\"scale(0.015625)\"/>\n       <path id=\"DejaVuSans-441\" d=\"M 3122 3366 \nL 3122 2828 \nQ 2878 2963 2633 3030 \nQ 2388 3097 2138 3097 \nQ 1578 3097 1268 2742 \nQ 959 2388 959 1747 \nQ 959 1106 1268 751 \nQ 1578 397 2138 397 \nQ 2388 397 2633 464 \nQ 2878 531 3122 666 \nL 3122 134 \nQ 2881 22 2623 -34 \nQ 2366 -91 2075 -91 \nQ 1284 -91 818 406 \nQ 353 903 353 1747 \nQ 353 2603 823 3093 \nQ 1294 3584 2113 3584 \nQ 2378 3584 2631 3529 \nQ 2884 3475 3122 3366 \nz\n\" transform=\"scale(0.015625)\"/>\n       <path id=\"DejaVuSans-442\" d=\"M 188 3500 \nL 3541 3500 \nL 3541 3041 \nL 2147 3041 \nL 2147 0 \nL 1581 0 \nL 1581 3041 \nL 188 3041 \nL 188 3500 \nz\n\" transform=\"scale(0.015625)\"/>\n       <path id=\"DejaVuSans-43e\" d=\"M 1959 3097 \nQ 1497 3097 1228 2736 \nQ 959 2375 959 1747 \nQ 959 1119 1226 758 \nQ 1494 397 1959 397 \nQ 2419 397 2687 759 \nQ 2956 1122 2956 1747 \nQ 2956 2369 2687 2733 \nQ 2419 3097 1959 3097 \nz\nM 1959 3584 \nQ 2709 3584 3137 3096 \nQ 3566 2609 3566 1747 \nQ 3566 888 3137 398 \nQ 2709 -91 1959 -91 \nQ 1206 -91 779 398 \nQ 353 888 353 1747 \nQ 353 2609 779 3096 \nQ 1206 3584 1959 3584 \nz\n\" transform=\"scale(0.015625)\"/>\n       <path id=\"DejaVuSans-44f\" d=\"M 1181 2491 \nQ 1181 2231 1381 2084 \nQ 1581 1938 1953 1938 \nL 2728 1938 \nL 2728 3041 \nL 1953 3041 \nQ 1581 3041 1381 2897 \nQ 1181 2753 1181 2491 \nz\nM 363 0 \nL 1431 1534 \nQ 1069 1616 828 1830 \nQ 588 2044 588 2491 \nQ 588 2997 923 3248 \nQ 1259 3500 1938 3500 \nL 3306 3500 \nL 3306 0 \nL 2728 0 \nL 2728 1478 \nL 2013 1478 \nL 981 0 \nL 363 0 \nz\n\" transform=\"scale(0.015625)\"/>\n       <path id=\"DejaVuSans-43d\" d=\"M 581 3500 \nL 1159 3500 \nL 1159 2072 \nL 3025 2072 \nL 3025 3500 \nL 3603 3500 \nL 3603 0 \nL 3025 0 \nL 3025 1613 \nL 1159 1613 \nL 1159 0 \nL 581 0 \nL 581 3500 \nz\n\" transform=\"scale(0.015625)\"/>\n       <path id=\"DejaVuSans-438\" d=\"M 3578 3500 \nL 3578 0 \nL 3006 0 \nL 3006 2809 \nL 1319 0 \nL 581 0 \nL 581 3500 \nL 1153 3500 \nL 1153 697 \nL 2838 3500 \nL 3578 3500 \nz\n\" transform=\"scale(0.015625)\"/>\n       <path id=\"DejaVuSans-435\" d=\"M 3597 1894 \nL 3597 1613 \nL 953 1613 \nQ 991 1019 1311 708 \nQ 1631 397 2203 397 \nQ 2534 397 2845 478 \nQ 3156 559 3463 722 \nL 3463 178 \nQ 3153 47 2828 -22 \nQ 2503 -91 2169 -91 \nQ 1331 -91 842 396 \nQ 353 884 353 1716 \nQ 353 2575 817 3079 \nQ 1281 3584 2069 3584 \nQ 2775 3584 3186 3129 \nQ 3597 2675 3597 1894 \nz\nM 3022 2063 \nQ 3016 2534 2758 2815 \nQ 2500 3097 2075 3097 \nQ 1594 3097 1305 2825 \nQ 1016 2553 972 2059 \nL 3022 2063 \nz\n\" transform=\"scale(0.015625)\"/>\n       <path id=\"DejaVuSans-20\" transform=\"scale(0.015625)\"/>\n       <path id=\"DejaVuSans-28\" d=\"M 1984 4856 \nQ 1566 4138 1362 3434 \nQ 1159 2731 1159 2009 \nQ 1159 1288 1364 580 \nQ 1569 -128 1984 -844 \nL 1484 -844 \nQ 1016 -109 783 600 \nQ 550 1309 550 2009 \nQ 550 2706 781 3412 \nQ 1013 4119 1484 4856 \nL 1984 4856 \nz\n\" transform=\"scale(0.015625)\"/>\n       <path id=\"DejaVuSans-43a\" d=\"M 581 3500 \nL 1153 3500 \nL 1153 1856 \nL 2775 3500 \nL 3481 3500 \nL 2144 2147 \nL 3653 0 \nL 3009 0 \nL 1769 1766 \nL 1153 1141 \nL 1153 0 \nL 581 0 \nL 581 3500 \nz\n\" transform=\"scale(0.015625)\"/>\n       <path id=\"DejaVuSans-43c\" d=\"M 581 3500 \nL 1422 3500 \nL 2416 1156 \nL 3413 3500 \nL 4247 3500 \nL 4247 0 \nL 3669 0 \nL 3669 2950 \nL 2703 672 \nL 2128 672 \nL 1159 2950 \nL 1159 0 \nL 581 0 \nL 581 3500 \nz\n\" transform=\"scale(0.015625)\"/>\n       <path id=\"DejaVuSans-29\" d=\"M 513 4856 \nL 1013 4856 \nQ 1481 4119 1714 3412 \nQ 1947 2706 1947 2009 \nQ 1947 1309 1714 600 \nQ 1481 -109 1013 -844 \nL 513 -844 \nQ 928 -128 1133 580 \nQ 1338 1288 1338 2009 \nQ 1338 2731 1133 3434 \nQ 928 4138 513 4856 \nz\n\" transform=\"scale(0.015625)\"/>\n      </defs>\n      <use xlink:href=\"#DejaVuSans-420\"/>\n      <use xlink:href=\"#DejaVuSans-430\" x=\"60.302734\"/>\n      <use xlink:href=\"#DejaVuSans-441\" x=\"121.582031\"/>\n      <use xlink:href=\"#DejaVuSans-441\" x=\"176.5625\"/>\n      <use xlink:href=\"#DejaVuSans-442\" x=\"231.542969\"/>\n      <use xlink:href=\"#DejaVuSans-43e\" x=\"289.794922\"/>\n      <use xlink:href=\"#DejaVuSans-44f\" x=\"350.976562\"/>\n      <use xlink:href=\"#DejaVuSans-43d\" x=\"411.132812\"/>\n      <use xlink:href=\"#DejaVuSans-438\" x=\"476.513672\"/>\n      <use xlink:href=\"#DejaVuSans-435\" x=\"541.503906\"/>\n      <use xlink:href=\"#DejaVuSans-20\" x=\"603.027344\"/>\n      <use xlink:href=\"#DejaVuSans-28\" x=\"634.814453\"/>\n      <use xlink:href=\"#DejaVuSans-43a\" x=\"673.828125\"/>\n      <use xlink:href=\"#DejaVuSans-43c\" x=\"734.228516\"/>\n      <use xlink:href=\"#DejaVuSans-29\" x=\"809.667969\"/>\n     </g>\n    </g>\n   </g>\n   <g id=\"matplotlib.axis_2\">\n    <g id=\"ytick_1\">\n     <g id=\"line2d_7\">\n      <defs>\n       <path id=\"mf91522bd7b\" d=\"M 0 0 \nL -3.5 0 \n\" style=\"stroke: #000000; stroke-width: 0.8\"/>\n      </defs>\n      <g>\n       <use xlink:href=\"#mf91522bd7b\" x=\"56.50625\" y=\"521.278125\" style=\"stroke: #000000; stroke-width: 0.8\"/>\n      </g>\n     </g>\n     <g id=\"text_8\">\n      <!-- 0.000 -->\n      <g transform=\"translate(20.878125 525.077344) scale(0.1 -0.1)\">\n       <defs>\n        <path id=\"DejaVuSans-2e\" d=\"M 684 794 \nL 1344 794 \nL 1344 0 \nL 684 0 \nL 684 794 \nz\n\" transform=\"scale(0.015625)\"/>\n       </defs>\n       <use xlink:href=\"#DejaVuSans-30\"/>\n       <use xlink:href=\"#DejaVuSans-2e\" x=\"63.623047\"/>\n       <use xlink:href=\"#DejaVuSans-30\" x=\"95.410156\"/>\n       <use xlink:href=\"#DejaVuSans-30\" x=\"159.033203\"/>\n       <use xlink:href=\"#DejaVuSans-30\" x=\"222.65625\"/>\n      </g>\n     </g>\n    </g>\n    <g id=\"ytick_2\">\n     <g id=\"line2d_8\">\n      <g>\n       <use xlink:href=\"#mf91522bd7b\" x=\"56.50625\" y=\"455.69093\" style=\"stroke: #000000; stroke-width: 0.8\"/>\n      </g>\n     </g>\n     <g id=\"text_9\">\n      <!-- 0.001 -->\n      <g transform=\"translate(20.878125 459.490148) scale(0.1 -0.1)\">\n       <use xlink:href=\"#DejaVuSans-30\"/>\n       <use xlink:href=\"#DejaVuSans-2e\" x=\"63.623047\"/>\n       <use xlink:href=\"#DejaVuSans-30\" x=\"95.410156\"/>\n       <use xlink:href=\"#DejaVuSans-30\" x=\"159.033203\"/>\n       <use xlink:href=\"#DejaVuSans-31\" x=\"222.65625\"/>\n      </g>\n     </g>\n    </g>\n    <g id=\"ytick_3\">\n     <g id=\"line2d_9\">\n      <g>\n       <use xlink:href=\"#mf91522bd7b\" x=\"56.50625\" y=\"390.103734\" style=\"stroke: #000000; stroke-width: 0.8\"/>\n      </g>\n     </g>\n     <g id=\"text_10\">\n      <!-- 0.002 -->\n      <g transform=\"translate(20.878125 393.902953) scale(0.1 -0.1)\">\n       <use xlink:href=\"#DejaVuSans-30\"/>\n       <use xlink:href=\"#DejaVuSans-2e\" x=\"63.623047\"/>\n       <use xlink:href=\"#DejaVuSans-30\" x=\"95.410156\"/>\n       <use xlink:href=\"#DejaVuSans-30\" x=\"159.033203\"/>\n       <use xlink:href=\"#DejaVuSans-32\" x=\"222.65625\"/>\n      </g>\n     </g>\n    </g>\n    <g id=\"ytick_4\">\n     <g id=\"line2d_10\">\n      <g>\n       <use xlink:href=\"#mf91522bd7b\" x=\"56.50625\" y=\"324.516539\" style=\"stroke: #000000; stroke-width: 0.8\"/>\n      </g>\n     </g>\n     <g id=\"text_11\">\n      <!-- 0.003 -->\n      <g transform=\"translate(20.878125 328.315757) scale(0.1 -0.1)\">\n       <defs>\n        <path id=\"DejaVuSans-33\" d=\"M 2597 2516 \nQ 3050 2419 3304 2112 \nQ 3559 1806 3559 1356 \nQ 3559 666 3084 287 \nQ 2609 -91 1734 -91 \nQ 1441 -91 1130 -33 \nQ 819 25 488 141 \nL 488 750 \nQ 750 597 1062 519 \nQ 1375 441 1716 441 \nQ 2309 441 2620 675 \nQ 2931 909 2931 1356 \nQ 2931 1769 2642 2001 \nQ 2353 2234 1838 2234 \nL 1294 2234 \nL 1294 2753 \nL 1863 2753 \nQ 2328 2753 2575 2939 \nQ 2822 3125 2822 3475 \nQ 2822 3834 2567 4026 \nQ 2313 4219 1838 4219 \nQ 1578 4219 1281 4162 \nQ 984 4106 628 3988 \nL 628 4550 \nQ 988 4650 1302 4700 \nQ 1616 4750 1894 4750 \nQ 2613 4750 3031 4423 \nQ 3450 4097 3450 3541 \nQ 3450 3153 3228 2886 \nQ 3006 2619 2597 2516 \nz\n\" transform=\"scale(0.015625)\"/>\n       </defs>\n       <use xlink:href=\"#DejaVuSans-30\"/>\n       <use xlink:href=\"#DejaVuSans-2e\" x=\"63.623047\"/>\n       <use xlink:href=\"#DejaVuSans-30\" x=\"95.410156\"/>\n       <use xlink:href=\"#DejaVuSans-30\" x=\"159.033203\"/>\n       <use xlink:href=\"#DejaVuSans-33\" x=\"222.65625\"/>\n      </g>\n     </g>\n    </g>\n    <g id=\"ytick_5\">\n     <g id=\"line2d_11\">\n      <g>\n       <use xlink:href=\"#mf91522bd7b\" x=\"56.50625\" y=\"258.929343\" style=\"stroke: #000000; stroke-width: 0.8\"/>\n      </g>\n     </g>\n     <g id=\"text_12\">\n      <!-- 0.004 -->\n      <g transform=\"translate(20.878125 262.728562) scale(0.1 -0.1)\">\n       <defs>\n        <path id=\"DejaVuSans-34\" d=\"M 2419 4116 \nL 825 1625 \nL 2419 1625 \nL 2419 4116 \nz\nM 2253 4666 \nL 3047 4666 \nL 3047 1625 \nL 3713 1625 \nL 3713 1100 \nL 3047 1100 \nL 3047 0 \nL 2419 0 \nL 2419 1100 \nL 313 1100 \nL 313 1709 \nL 2253 4666 \nz\n\" transform=\"scale(0.015625)\"/>\n       </defs>\n       <use xlink:href=\"#DejaVuSans-30\"/>\n       <use xlink:href=\"#DejaVuSans-2e\" x=\"63.623047\"/>\n       <use xlink:href=\"#DejaVuSans-30\" x=\"95.410156\"/>\n       <use xlink:href=\"#DejaVuSans-30\" x=\"159.033203\"/>\n       <use xlink:href=\"#DejaVuSans-34\" x=\"222.65625\"/>\n      </g>\n     </g>\n    </g>\n    <g id=\"ytick_6\">\n     <g id=\"line2d_12\">\n      <g>\n       <use xlink:href=\"#mf91522bd7b\" x=\"56.50625\" y=\"193.342148\" style=\"stroke: #000000; stroke-width: 0.8\"/>\n      </g>\n     </g>\n     <g id=\"text_13\">\n      <!-- 0.005 -->\n      <g transform=\"translate(20.878125 197.141366) scale(0.1 -0.1)\">\n       <use xlink:href=\"#DejaVuSans-30\"/>\n       <use xlink:href=\"#DejaVuSans-2e\" x=\"63.623047\"/>\n       <use xlink:href=\"#DejaVuSans-30\" x=\"95.410156\"/>\n       <use xlink:href=\"#DejaVuSans-30\" x=\"159.033203\"/>\n       <use xlink:href=\"#DejaVuSans-35\" x=\"222.65625\"/>\n      </g>\n     </g>\n    </g>\n    <g id=\"ytick_7\">\n     <g id=\"line2d_13\">\n      <g>\n       <use xlink:href=\"#mf91522bd7b\" x=\"56.50625\" y=\"127.754952\" style=\"stroke: #000000; stroke-width: 0.8\"/>\n      </g>\n     </g>\n     <g id=\"text_14\">\n      <!-- 0.006 -->\n      <g transform=\"translate(20.878125 131.554171) scale(0.1 -0.1)\">\n       <defs>\n        <path id=\"DejaVuSans-36\" d=\"M 2113 2584 \nQ 1688 2584 1439 2293 \nQ 1191 2003 1191 1497 \nQ 1191 994 1439 701 \nQ 1688 409 2113 409 \nQ 2538 409 2786 701 \nQ 3034 994 3034 1497 \nQ 3034 2003 2786 2293 \nQ 2538 2584 2113 2584 \nz\nM 3366 4563 \nL 3366 3988 \nQ 3128 4100 2886 4159 \nQ 2644 4219 2406 4219 \nQ 1781 4219 1451 3797 \nQ 1122 3375 1075 2522 \nQ 1259 2794 1537 2939 \nQ 1816 3084 2150 3084 \nQ 2853 3084 3261 2657 \nQ 3669 2231 3669 1497 \nQ 3669 778 3244 343 \nQ 2819 -91 2113 -91 \nQ 1303 -91 875 529 \nQ 447 1150 447 2328 \nQ 447 3434 972 4092 \nQ 1497 4750 2381 4750 \nQ 2619 4750 2861 4703 \nQ 3103 4656 3366 4563 \nz\n\" transform=\"scale(0.015625)\"/>\n       </defs>\n       <use xlink:href=\"#DejaVuSans-30\"/>\n       <use xlink:href=\"#DejaVuSans-2e\" x=\"63.623047\"/>\n       <use xlink:href=\"#DejaVuSans-30\" x=\"95.410156\"/>\n       <use xlink:href=\"#DejaVuSans-30\" x=\"159.033203\"/>\n       <use xlink:href=\"#DejaVuSans-36\" x=\"222.65625\"/>\n      </g>\n     </g>\n    </g>\n    <g id=\"ytick_8\">\n     <g id=\"line2d_14\">\n      <g>\n       <use xlink:href=\"#mf91522bd7b\" x=\"56.50625\" y=\"62.167757\" style=\"stroke: #000000; stroke-width: 0.8\"/>\n      </g>\n     </g>\n     <g id=\"text_15\">\n      <!-- 0.007 -->\n      <g transform=\"translate(20.878125 65.966975) scale(0.1 -0.1)\">\n       <defs>\n        <path id=\"DejaVuSans-37\" d=\"M 525 4666 \nL 3525 4666 \nL 3525 4397 \nL 1831 0 \nL 1172 0 \nL 2766 4134 \nL 525 4134 \nL 525 4666 \nz\n\" transform=\"scale(0.015625)\"/>\n       </defs>\n       <use xlink:href=\"#DejaVuSans-30\"/>\n       <use xlink:href=\"#DejaVuSans-2e\" x=\"63.623047\"/>\n       <use xlink:href=\"#DejaVuSans-30\" x=\"95.410156\"/>\n       <use xlink:href=\"#DejaVuSans-30\" x=\"159.033203\"/>\n       <use xlink:href=\"#DejaVuSans-37\" x=\"222.65625\"/>\n      </g>\n     </g>\n    </g>\n    <g id=\"text_16\">\n     <!-- Плотность -->\n     <g transform=\"translate(14.798437 299.662969) rotate(-90) scale(0.1 -0.1)\">\n      <defs>\n       <path id=\"DejaVuSans-41f\" d=\"M 4184 4666 \nL 4184 0 \nL 3553 0 \nL 3553 4134 \nL 1259 4134 \nL 1259 0 \nL 628 0 \nL 628 4666 \nL 4184 4666 \nz\n\" transform=\"scale(0.015625)\"/>\n       <path id=\"DejaVuSans-43b\" d=\"M 238 0 \nL 238 478 \nQ 806 566 981 959 \nQ 1194 1513 1194 2928 \nL 1194 3500 \nL 3559 3500 \nL 3559 0 \nL 2984 0 \nL 2984 3041 \nL 1769 3041 \nL 1769 2694 \nQ 1769 1344 1494 738 \nQ 1200 91 238 0 \nz\n\" transform=\"scale(0.015625)\"/>\n       <path id=\"DejaVuSans-44c\" d=\"M 2781 1038 \nQ 2781 1319 2576 1466 \nQ 2372 1613 1978 1613 \nL 1159 1613 \nL 1159 459 \nL 1978 459 \nQ 2372 459 2576 607 \nQ 2781 756 2781 1038 \nz\nM 581 3500 \nL 1159 3500 \nL 1159 2072 \nL 2003 2072 \nQ 2672 2072 3033 1817 \nQ 3394 1563 3394 1038 \nQ 3394 513 3033 256 \nQ 2672 0 2003 0 \nL 581 0 \nL 581 3500 \nz\n\" transform=\"scale(0.015625)\"/>\n      </defs>\n      <use xlink:href=\"#DejaVuSans-41f\"/>\n      <use xlink:href=\"#DejaVuSans-43b\" x=\"75.195312\"/>\n      <use xlink:href=\"#DejaVuSans-43e\" x=\"139.111328\"/>\n      <use xlink:href=\"#DejaVuSans-442\" x=\"200.292969\"/>\n      <use xlink:href=\"#DejaVuSans-43d\" x=\"258.544922\"/>\n      <use xlink:href=\"#DejaVuSans-43e\" x=\"323.925781\"/>\n      <use xlink:href=\"#DejaVuSans-441\" x=\"385.107422\"/>\n      <use xlink:href=\"#DejaVuSans-442\" x=\"440.087891\"/>\n      <use xlink:href=\"#DejaVuSans-44c\" x=\"498.339844\"/>\n     </g>\n    </g>\n   </g>\n   <g id=\"line2d_15\">\n    <path d=\"M 60.223373 521.261237 \nL 62.204967 521.148545 \nL 63.52603 520.86285 \nL 64.186562 520.577353 \nL 64.847093 520.141651 \nL 65.507624 519.507231 \nL 66.168156 518.62713 \nL 66.828687 517.465974 \nL 68.14975 514.290154 \nL 70.791876 506.679506 \nL 71.452407 505.327073 \nL 72.112939 504.464965 \nL 72.77347 504.148694 \nL 73.434001 504.363142 \nL 74.094533 505.024351 \nL 75.415596 507.091912 \nL 76.076127 508.129134 \nL 76.736659 508.906713 \nL 77.39719 509.224697 \nL 78.057721 508.871499 \nL 78.718253 507.60638 \nL 79.378784 505.140266 \nL 80.039316 501.123991 \nL 80.699847 495.153859 \nL 81.360379 486.802495 \nL 82.02091 475.677916 \nL 82.681441 461.505844 \nL 84.002504 424.049298 \nL 85.984099 353.397859 \nL 87.305161 309.409084 \nL 87.965693 292.189987 \nL 88.626224 279.550093 \nL 89.286756 272.17124 \nL 89.947287 270.385936 \nL 90.607819 274.164336 \nL 91.26835 283.121402 \nL 91.928881 296.539902 \nL 93.249944 332.49751 \nL 95.231539 389.310845 \nL 95.89207 403.922562 \nL 96.552601 414.914341 \nL 97.213133 421.983979 \nL 97.873664 425.256376 \nL 98.534196 425.243037 \nL 99.194727 422.751426 \nL 101.836853 407.37964 \nL 102.497384 406.204472 \nL 103.157916 406.981575 \nL 103.818447 409.754213 \nL 104.478979 414.381476 \nL 105.13951 420.580906 \nL 106.460573 436.101678 \nL 108.442167 460.465916 \nL 109.76323 473.383942 \nL 111.084293 482.860959 \nL 112.405356 490.12853 \nL 114.38695 499.355983 \nL 115.047481 501.886845 \nL 115.708013 503.859446 \nL 116.368544 505.043809 \nL 117.029076 505.216403 \nL 117.689607 504.181758 \nL 118.350139 501.783972 \nL 119.01067 497.912155 \nL 119.671201 492.505724 \nL 120.331733 485.564784 \nL 121.652796 467.497555 \nL 124.955453 415.72155 \nL 125.615984 409.301236 \nL 126.276516 405.706698 \nL 126.937047 405.227474 \nL 127.597579 407.814786 \nL 128.25811 413.059921 \nL 129.579173 428.388294 \nL 130.900236 443.526814 \nL 131.560767 448.721223 \nL 132.221299 451.529074 \nL 132.88183 451.728727 \nL 133.542361 449.40962 \nL 134.202893 444.931224 \nL 135.523956 431.844245 \nL 136.845019 417.672618 \nL 138.166081 406.323504 \nL 139.487144 398.287462 \nL 140.808207 390.924863 \nL 142.12927 381.556932 \nL 143.450333 371.199473 \nL 144.110864 367.242492 \nL 144.771396 365.231084 \nL 145.431927 365.878123 \nL 146.092459 369.581162 \nL 146.75299 376.325519 \nL 147.413521 385.683332 \nL 148.734584 409.073776 \nL 150.055647 432.759965 \nL 151.37671 451.756108 \nL 152.037241 458.996824 \nL 152.697773 464.8558 \nL 153.358304 469.530863 \nL 154.018836 473.210655 \nL 154.679367 476.023572 \nL 155.339899 478.018474 \nL 156.00043 479.176424 \nL 156.660961 479.44701 \nL 157.321493 478.798617 \nL 157.982024 477.269379 \nL 158.642556 475.005165 \nL 160.62415 466.954597 \nL 161.284681 465.225647 \nL 161.945213 464.609285 \nL 162.605744 465.320304 \nL 163.266276 467.401582 \nL 163.926807 470.716489 \nL 165.24787 479.731673 \nL 166.568933 488.717773 \nL 167.229464 491.797526 \nL 167.889996 493.145819 \nL 168.550527 492.1716 \nL 169.211059 488.30986 \nL 169.87159 481.060839 \nL 170.532121 470.048874 \nL 171.192653 455.096451 \nL 171.853184 436.301826 \nL 173.174247 389.314979 \nL 175.155841 312.565323 \nL 175.816373 291.586509 \nL 176.476904 275.599369 \nL 177.137436 265.853829 \nL 177.797967 263.141557 \nL 178.458499 267.697998 \nL 179.11903 279.169993 \nL 179.779561 296.656724 \nL 181.100624 344.047104 \nL 183.082218 421.804444 \nL 184.403281 463.136326 \nL 185.063813 478.854358 \nL 185.724344 491.287469 \nL 186.384876 500.746294 \nL 187.045407 507.672241 \nL 187.705938 512.555276 \nL 188.36647 515.870818 \nL 189.027001 518.038916 \nL 189.687533 519.404142 \nL 190.348064 520.231751 \nL 191.008596 520.714581 \nL 191.669127 520.985566 \nL 191.669127 520.985566 \n\" clip-path=\"url(#p389cd423d3)\" style=\"fill: none; stroke: #1f77b4; stroke-linecap: square\"/>\n   </g>\n   <g id=\"line2d_16\">\n    <path d=\"M 171.753796 519.848571 \nL 172.556267 518.532826 \nL 173.358737 516.2641 \nL 174.161207 512.568622 \nL 174.963677 506.889679 \nL 175.766147 498.670599 \nL 176.568618 487.493557 \nL 177.371088 473.258224 \nL 178.976028 437.790797 \nL 180.580969 402.384528 \nL 181.383439 389.55942 \nL 182.185909 382.328823 \nL 182.988379 381.601749 \nL 183.79085 387.303751 \nL 184.59332 398.383702 \nL 186.19826 429.20624 \nL 187.803201 458.396183 \nL 188.605671 469.046839 \nL 189.408141 476.606878 \nL 190.210611 481.447552 \nL 191.013082 484.25988 \nL 191.815552 485.811925 \nL 192.618022 486.747896 \nL 194.222963 488.084745 \nL 195.025433 488.498671 \nL 195.827903 488.482819 \nL 196.630373 487.825562 \nL 197.432843 486.44169 \nL 198.235314 484.43638 \nL 199.840254 479.844499 \nL 200.642724 478.069862 \nL 201.445195 477.042024 \nL 202.247665 476.766948 \nL 203.050135 476.922208 \nL 203.852605 476.857682 \nL 204.655075 475.67626 \nL 205.457546 472.390533 \nL 206.260016 466.136666 \nL 207.062486 456.41057 \nL 207.864956 443.276338 \nL 211.074837 380.583032 \nL 211.877307 371.571107 \nL 212.679778 368.227186 \nL 213.482248 370.694389 \nL 214.284718 378.063345 \nL 216.692129 409.13491 \nL 217.494599 414.703138 \nL 218.297069 415.013838 \nL 219.099539 409.604642 \nL 219.90201 398.977497 \nL 221.50695 367.968311 \nL 223.111891 337.361502 \nL 223.914361 326.71178 \nL 224.716831 320.400364 \nL 225.519301 318.29367 \nL 226.321771 319.412455 \nL 227.926712 324.478105 \nL 228.729182 324.620734 \nL 229.531652 321.219106 \nL 230.334122 313.787431 \nL 231.136593 302.843051 \nL 232.741533 276.94158 \nL 233.544003 266.541965 \nL 234.346474 260.883586 \nL 235.148944 261.616796 \nL 235.951414 269.531831 \nL 236.753884 284.454972 \nL 237.556354 305.319665 \nL 239.161295 357.537445 \nL 240.766235 409.856959 \nL 241.568706 431.802105 \nL 242.371176 449.708722 \nL 243.173646 463.368584 \nL 243.976116 473.025361 \nL 244.778586 479.216096 \nL 245.581057 482.617029 \nL 246.383527 483.929027 \nL 247.185997 483.815445 \nL 247.988467 482.883076 \nL 248.790938 481.683378 \nL 249.593408 480.710085 \nL 250.395878 480.379346 \nL 251.198348 480.993634 \nL 252.000818 482.703654 \nL 252.803289 485.487323 \nL 253.605759 489.160018 \nL 256.81564 506.296392 \nL 257.61811 509.7696 \nL 258.42058 512.644041 \nL 259.22305 514.93567 \nL 260.025521 516.709355 \nL 260.827991 518.050496 \nL 261.630461 519.044805 \nL 262.432931 519.767564 \nL 263.235402 520.28022 \nL 264.037872 520.630923 \nL 265.642812 520.98241 \nL 267.247753 520.996134 \nL 268.852693 520.711168 \nL 270.457634 520.090594 \nL 272.062574 519.096911 \nL 272.865044 518.440131 \nL 273.667514 517.633856 \nL 274.469985 516.596047 \nL 275.272455 515.181684 \nL 276.074925 513.170682 \nL 276.877395 510.270519 \nL 277.679866 506.139438 \nL 278.482336 500.431852 \nL 279.284806 492.861905 \nL 280.087276 483.275399 \nL 280.889746 471.716441 \nL 282.494687 444.096489 \nL 284.099627 415.22747 \nL 284.902097 402.698786 \nL 285.704568 392.741434 \nL 286.507038 386.147174 \nL 287.309508 383.439203 \nL 288.111978 384.811715 \nL 288.914449 390.115422 \nL 289.716919 398.888024 \nL 290.519389 410.420492 \nL 292.124329 438.23454 \nL 293.72927 466.423643 \nL 294.53174 478.816662 \nL 295.33421 489.448097 \nL 296.136681 498.098612 \nL 296.939151 504.72648 \nL 297.741621 509.425412 \nL 298.544091 512.375353 \nL 299.346561 513.798356 \nL 300.149032 513.928732 \nL 300.951502 513.001127 \nL 301.753972 511.253827 \nL 303.358913 506.333933 \nL 304.963853 501.433076 \nL 305.766323 499.701434 \nL 306.568793 498.731643 \nL 307.371264 498.606855 \nL 308.173734 499.274046 \nL 308.976204 500.539885 \nL 310.581145 503.532308 \nL 311.383615 504.444637 \nL 312.186085 504.437252 \nL 312.988555 503.202869 \nL 313.791025 500.5621 \nL 314.593496 496.499133 \nL 315.395966 491.186865 \nL 317.803377 472.348842 \nL 318.605847 467.33223 \nL 319.408317 464.1194 \nL 320.210787 463.204138 \nL 321.013257 464.788282 \nL 321.815728 468.733656 \nL 322.618198 474.586727 \nL 325.828079 503.094707 \nL 326.630549 508.539716 \nL 327.433019 512.77888 \nL 328.235489 515.878514 \nL 329.03796 518.012458 \nL 329.84043 519.398226 \nL 330.6429 520.24824 \nL 331.44537 520.741237 \nL 331.44537 520.741237 \n\" clip-path=\"url(#p389cd423d3)\" style=\"fill: none; stroke: #ff7f0e; stroke-linecap: square\"/>\n   </g>\n   <g id=\"line2d_17\">\n    <path d=\"M 298.704221 520.7412 \nL 301.743518 519.578774 \nL 304.782814 516.653867 \nL 307.822111 510.45716 \nL 310.861408 499.49984 \nL 313.900705 483.575003 \nL 316.940001 465.123368 \nL 319.979298 449.31321 \nL 323.018595 441.901269 \nL 326.057892 445.880562 \nL 329.097189 459.511986 \nL 332.136485 477.468474 \nL 335.175782 494.092361 \nL 338.215079 506.111731 \nL 341.254376 513.158338 \nL 344.293672 516.562193 \nL 347.332969 517.906123 \nL 350.372266 518.2917 \nL 365.56875 518.283502 \nL 368.608047 517.452065 \nL 371.647343 515.374314 \nL 374.68664 511.796724 \nL 380.765234 502.656966 \nL 383.804531 499.923556 \nL 386.843827 499.937873 \nL 389.883124 502.276597 \nL 392.922421 505.085513 \nL 395.961718 505.950724 \nL 399.001014 503.140946 \nL 402.040311 496.569035 \nL 405.079608 487.965374 \nL 408.118905 479.988277 \nL 411.158202 474.573022 \nL 414.197498 471.661152 \nL 417.236795 469.565226 \nL 423.315389 464.388487 \nL 426.354685 464.527604 \nL 429.393982 469.492495 \nL 432.433279 478.976674 \nL 435.472576 489.947173 \nL 438.511873 498.101164 \nL 441.551169 499.469529 \nL 444.590466 491.104912 \nL 447.629763 471.224312 \nL 450.66906 439.794771 \nL 453.708356 399.830001 \nL 456.747653 358.384959 \nL 459.78695 325.526069 \nL 462.826247 310.376574 \nL 465.865543 315.823242 \nL 468.90484 335.833294 \nL 471.944137 358.580616 \nL 474.983434 374.083962 \nL 478.022731 380.649018 \nL 481.062027 384.876019 \nL 484.101324 395.454678 \nL 487.140621 416.225267 \nL 493.219214 471.822987 \nL 496.258511 493.905052 \nL 499.297808 508.210263 \nL 502.337105 515.905086 \nL 505.376402 519.377148 \nL 508.415698 520.699775 \nL 511.10625 521.077887 \nL 511.10625 521.077887 \n\" clip-path=\"url(#p389cd423d3)\" style=\"fill: none; stroke: #2ca02c; stroke-linecap: square\"/>\n   </g>\n   <g id=\"patch_147\">\n    <path d=\"M 56.50625 521.278125 \nL 56.50625 22.318125 \n\" style=\"fill: none; stroke: #000000; stroke-width: 0.8; stroke-linejoin: miter; stroke-linecap: square\"/>\n   </g>\n   <g id=\"patch_148\">\n    <path d=\"M 502.90625 521.278125 \nL 502.90625 22.318125 \n\" style=\"fill: none; stroke: #000000; stroke-width: 0.8; stroke-linejoin: miter; stroke-linecap: square\"/>\n   </g>\n   <g id=\"patch_149\">\n    <path d=\"M 56.50625 521.278125 \nL 502.90625 521.278125 \n\" style=\"fill: none; stroke: #000000; stroke-width: 0.8; stroke-linejoin: miter; stroke-linecap: square\"/>\n   </g>\n   <g id=\"patch_150\">\n    <path d=\"M 56.50625 22.318125 \nL 502.90625 22.318125 \n\" style=\"fill: none; stroke: #000000; stroke-width: 0.8; stroke-linejoin: miter; stroke-linecap: square\"/>\n   </g>\n   <g id=\"text_17\">\n    <!-- Гистограмма расстояния перелета по трем группам -->\n    <g transform=\"translate(112.998125 16.318125) scale(0.12 -0.12)\">\n     <defs>\n      <path id=\"DejaVuSans-413\" d=\"M 628 0 \nL 628 4666 \nL 3531 4666 \nL 3531 4134 \nL 1259 4134 \nL 1259 0 \nL 628 0 \nz\n\" transform=\"scale(0.015625)\"/>\n      <path id=\"DejaVuSans-433\" d=\"M 581 0 \nL 581 3500 \nL 3050 3500 \nL 3050 3041 \nL 1159 3041 \nL 1159 0 \nL 581 0 \nz\n\" transform=\"scale(0.015625)\"/>\n      <path id=\"DejaVuSans-440\" d=\"M 1159 525 \nL 1159 -1331 \nL 581 -1331 \nL 581 3500 \nL 1159 3500 \nL 1159 2969 \nQ 1341 3281 1617 3432 \nQ 1894 3584 2278 3584 \nQ 2916 3584 3314 3078 \nQ 3713 2572 3713 1747 \nQ 3713 922 3314 415 \nQ 2916 -91 2278 -91 \nQ 1894 -91 1617 61 \nQ 1341 213 1159 525 \nz\nM 3116 1747 \nQ 3116 2381 2855 2742 \nQ 2594 3103 2138 3103 \nQ 1681 3103 1420 2742 \nQ 1159 2381 1159 1747 \nQ 1159 1113 1420 752 \nQ 1681 391 2138 391 \nQ 2594 391 2855 752 \nQ 3116 1113 3116 1747 \nz\n\" transform=\"scale(0.015625)\"/>\n      <path id=\"DejaVuSans-43f\" d=\"M 3603 3500 \nL 3603 0 \nL 3025 0 \nL 3025 3041 \nL 1159 3041 \nL 1159 0 \nL 581 0 \nL 581 3500 \nL 3603 3500 \nz\n\" transform=\"scale(0.015625)\"/>\n      <path id=\"DejaVuSans-443\" d=\"M 2059 -325 \nQ 1816 -950 1584 -1140 \nQ 1353 -1331 966 -1331 \nL 506 -1331 \nL 506 -850 \nL 844 -850 \nQ 1081 -850 1212 -737 \nQ 1344 -625 1503 -206 \nL 1606 56 \nL 191 3500 \nL 800 3500 \nL 1894 763 \nL 2988 3500 \nL 3597 3500 \nL 2059 -325 \nz\n\" transform=\"scale(0.015625)\"/>\n     </defs>\n     <use xlink:href=\"#DejaVuSans-413\"/>\n     <use xlink:href=\"#DejaVuSans-438\" x=\"60.986328\"/>\n     <use xlink:href=\"#DejaVuSans-441\" x=\"125.976562\"/>\n     <use xlink:href=\"#DejaVuSans-442\" x=\"180.957031\"/>\n     <use xlink:href=\"#DejaVuSans-43e\" x=\"239.208984\"/>\n     <use xlink:href=\"#DejaVuSans-433\" x=\"300.390625\"/>\n     <use xlink:href=\"#DejaVuSans-440\" x=\"352.929688\"/>\n     <use xlink:href=\"#DejaVuSans-430\" x=\"416.40625\"/>\n     <use xlink:href=\"#DejaVuSans-43c\" x=\"477.685547\"/>\n     <use xlink:href=\"#DejaVuSans-43c\" x=\"553.125\"/>\n     <use xlink:href=\"#DejaVuSans-430\" x=\"628.564453\"/>\n     <use xlink:href=\"#DejaVuSans-20\" x=\"689.84375\"/>\n     <use xlink:href=\"#DejaVuSans-440\" x=\"721.630859\"/>\n     <use xlink:href=\"#DejaVuSans-430\" x=\"785.107422\"/>\n     <use xlink:href=\"#DejaVuSans-441\" x=\"846.386719\"/>\n     <use xlink:href=\"#DejaVuSans-441\" x=\"901.367188\"/>\n     <use xlink:href=\"#DejaVuSans-442\" x=\"956.347656\"/>\n     <use xlink:href=\"#DejaVuSans-43e\" x=\"1014.599609\"/>\n     <use xlink:href=\"#DejaVuSans-44f\" x=\"1075.78125\"/>\n     <use xlink:href=\"#DejaVuSans-43d\" x=\"1135.9375\"/>\n     <use xlink:href=\"#DejaVuSans-438\" x=\"1201.318359\"/>\n     <use xlink:href=\"#DejaVuSans-44f\" x=\"1266.308594\"/>\n     <use xlink:href=\"#DejaVuSans-20\" x=\"1326.464844\"/>\n     <use xlink:href=\"#DejaVuSans-43f\" x=\"1358.251953\"/>\n     <use xlink:href=\"#DejaVuSans-435\" x=\"1423.632812\"/>\n     <use xlink:href=\"#DejaVuSans-440\" x=\"1485.15625\"/>\n     <use xlink:href=\"#DejaVuSans-435\" x=\"1548.632812\"/>\n     <use xlink:href=\"#DejaVuSans-43b\" x=\"1610.15625\"/>\n     <use xlink:href=\"#DejaVuSans-435\" x=\"1674.072266\"/>\n     <use xlink:href=\"#DejaVuSans-442\" x=\"1735.595703\"/>\n     <use xlink:href=\"#DejaVuSans-430\" x=\"1793.847656\"/>\n     <use xlink:href=\"#DejaVuSans-20\" x=\"1855.126953\"/>\n     <use xlink:href=\"#DejaVuSans-43f\" x=\"1886.914062\"/>\n     <use xlink:href=\"#DejaVuSans-43e\" x=\"1952.294922\"/>\n     <use xlink:href=\"#DejaVuSans-20\" x=\"2013.476562\"/>\n     <use xlink:href=\"#DejaVuSans-442\" x=\"2045.263672\"/>\n     <use xlink:href=\"#DejaVuSans-440\" x=\"2103.515625\"/>\n     <use xlink:href=\"#DejaVuSans-435\" x=\"2166.992188\"/>\n     <use xlink:href=\"#DejaVuSans-43c\" x=\"2228.515625\"/>\n     <use xlink:href=\"#DejaVuSans-20\" x=\"2303.955078\"/>\n     <use xlink:href=\"#DejaVuSans-433\" x=\"2335.742188\"/>\n     <use xlink:href=\"#DejaVuSans-440\" x=\"2388.28125\"/>\n     <use xlink:href=\"#DejaVuSans-443\" x=\"2451.757812\"/>\n     <use xlink:href=\"#DejaVuSans-43f\" x=\"2510.9375\"/>\n     <use xlink:href=\"#DejaVuSans-43f\" x=\"2576.318359\"/>\n     <use xlink:href=\"#DejaVuSans-430\" x=\"2641.699219\"/>\n     <use xlink:href=\"#DejaVuSans-43c\" x=\"2702.978516\"/>\n    </g>\n   </g>\n   <g id=\"legend_1\">\n    <g id=\"patch_151\">\n     <path d=\"M 429.759375 89.030625 \nL 495.90625 89.030625 \nQ 497.90625 89.030625 497.90625 87.030625 \nL 497.90625 29.318125 \nQ 497.90625 27.318125 495.90625 27.318125 \nL 429.759375 27.318125 \nQ 427.759375 27.318125 427.759375 29.318125 \nL 427.759375 87.030625 \nQ 427.759375 89.030625 429.759375 89.030625 \nz\n\" style=\"fill: #ffffff; opacity: 0.8; stroke: #cccccc; stroke-linejoin: miter\"/>\n    </g>\n    <g id=\"text_18\">\n     <!-- Distance -->\n     <g transform=\"translate(440.970312 38.916562) scale(0.1 -0.1)\">\n      <defs>\n       <path id=\"DejaVuSans-44\" d=\"M 1259 4147 \nL 1259 519 \nL 2022 519 \nQ 2988 519 3436 956 \nQ 3884 1394 3884 2338 \nQ 3884 3275 3436 3711 \nQ 2988 4147 2022 4147 \nL 1259 4147 \nz\nM 628 4666 \nL 1925 4666 \nQ 3281 4666 3915 4102 \nQ 4550 3538 4550 2338 \nQ 4550 1131 3912 565 \nQ 3275 0 1925 0 \nL 628 0 \nL 628 4666 \nz\n\" transform=\"scale(0.015625)\"/>\n       <path id=\"DejaVuSans-69\" d=\"M 603 3500 \nL 1178 3500 \nL 1178 0 \nL 603 0 \nL 603 3500 \nz\nM 603 4863 \nL 1178 4863 \nL 1178 4134 \nL 603 4134 \nL 603 4863 \nz\n\" transform=\"scale(0.015625)\"/>\n       <path id=\"DejaVuSans-73\" d=\"M 2834 3397 \nL 2834 2853 \nQ 2591 2978 2328 3040 \nQ 2066 3103 1784 3103 \nQ 1356 3103 1142 2972 \nQ 928 2841 928 2578 \nQ 928 2378 1081 2264 \nQ 1234 2150 1697 2047 \nL 1894 2003 \nQ 2506 1872 2764 1633 \nQ 3022 1394 3022 966 \nQ 3022 478 2636 193 \nQ 2250 -91 1575 -91 \nQ 1294 -91 989 -36 \nQ 684 19 347 128 \nL 347 722 \nQ 666 556 975 473 \nQ 1284 391 1588 391 \nQ 1994 391 2212 530 \nQ 2431 669 2431 922 \nQ 2431 1156 2273 1281 \nQ 2116 1406 1581 1522 \nL 1381 1569 \nQ 847 1681 609 1914 \nQ 372 2147 372 2553 \nQ 372 3047 722 3315 \nQ 1072 3584 1716 3584 \nQ 2034 3584 2315 3537 \nQ 2597 3491 2834 3397 \nz\n\" transform=\"scale(0.015625)\"/>\n       <path id=\"DejaVuSans-74\" d=\"M 1172 4494 \nL 1172 3500 \nL 2356 3500 \nL 2356 3053 \nL 1172 3053 \nL 1172 1153 \nQ 1172 725 1289 603 \nQ 1406 481 1766 481 \nL 2356 481 \nL 2356 0 \nL 1766 0 \nQ 1100 0 847 248 \nQ 594 497 594 1153 \nL 594 3053 \nL 172 3053 \nL 172 3500 \nL 594 3500 \nL 594 4494 \nL 1172 4494 \nz\n\" transform=\"scale(0.015625)\"/>\n       <path id=\"DejaVuSans-61\" d=\"M 2194 1759 \nQ 1497 1759 1228 1600 \nQ 959 1441 959 1056 \nQ 959 750 1161 570 \nQ 1363 391 1709 391 \nQ 2188 391 2477 730 \nQ 2766 1069 2766 1631 \nL 2766 1759 \nL 2194 1759 \nz\nM 3341 1997 \nL 3341 0 \nL 2766 0 \nL 2766 531 \nQ 2569 213 2275 61 \nQ 1981 -91 1556 -91 \nQ 1019 -91 701 211 \nQ 384 513 384 1019 \nQ 384 1609 779 1909 \nQ 1175 2209 1959 2209 \nL 2766 2209 \nL 2766 2266 \nQ 2766 2663 2505 2880 \nQ 2244 3097 1772 3097 \nQ 1472 3097 1187 3025 \nQ 903 2953 641 2809 \nL 641 3341 \nQ 956 3463 1253 3523 \nQ 1550 3584 1831 3584 \nQ 2591 3584 2966 3190 \nQ 3341 2797 3341 1997 \nz\n\" transform=\"scale(0.015625)\"/>\n       <path id=\"DejaVuSans-6e\" d=\"M 3513 2113 \nL 3513 0 \nL 2938 0 \nL 2938 2094 \nQ 2938 2591 2744 2837 \nQ 2550 3084 2163 3084 \nQ 1697 3084 1428 2787 \nQ 1159 2491 1159 1978 \nL 1159 0 \nL 581 0 \nL 581 3500 \nL 1159 3500 \nL 1159 2956 \nQ 1366 3272 1645 3428 \nQ 1925 3584 2291 3584 \nQ 2894 3584 3203 3211 \nQ 3513 2838 3513 2113 \nz\n\" transform=\"scale(0.015625)\"/>\n       <path id=\"DejaVuSans-63\" d=\"M 3122 3366 \nL 3122 2828 \nQ 2878 2963 2633 3030 \nQ 2388 3097 2138 3097 \nQ 1578 3097 1268 2742 \nQ 959 2388 959 1747 \nQ 959 1106 1268 751 \nQ 1578 397 2138 397 \nQ 2388 397 2633 464 \nQ 2878 531 3122 666 \nL 3122 134 \nQ 2881 22 2623 -34 \nQ 2366 -91 2075 -91 \nQ 1284 -91 818 406 \nQ 353 903 353 1747 \nQ 353 2603 823 3093 \nQ 1294 3584 2113 3584 \nQ 2378 3584 2631 3529 \nQ 2884 3475 3122 3366 \nz\n\" transform=\"scale(0.015625)\"/>\n       <path id=\"DejaVuSans-65\" d=\"M 3597 1894 \nL 3597 1613 \nL 953 1613 \nQ 991 1019 1311 708 \nQ 1631 397 2203 397 \nQ 2534 397 2845 478 \nQ 3156 559 3463 722 \nL 3463 178 \nQ 3153 47 2828 -22 \nQ 2503 -91 2169 -91 \nQ 1331 -91 842 396 \nQ 353 884 353 1716 \nQ 353 2575 817 3079 \nQ 1281 3584 2069 3584 \nQ 2775 3584 3186 3129 \nQ 3597 2675 3597 1894 \nz\nM 3022 2063 \nQ 3016 2534 2758 2815 \nQ 2500 3097 2075 3097 \nQ 1594 3097 1305 2825 \nQ 1016 2553 972 2059 \nL 3022 2063 \nz\n\" transform=\"scale(0.015625)\"/>\n      </defs>\n      <use xlink:href=\"#DejaVuSans-44\"/>\n      <use xlink:href=\"#DejaVuSans-69\" x=\"77.001953\"/>\n      <use xlink:href=\"#DejaVuSans-73\" x=\"104.785156\"/>\n      <use xlink:href=\"#DejaVuSans-74\" x=\"156.884766\"/>\n      <use xlink:href=\"#DejaVuSans-61\" x=\"196.09375\"/>\n      <use xlink:href=\"#DejaVuSans-6e\" x=\"257.373047\"/>\n      <use xlink:href=\"#DejaVuSans-63\" x=\"320.751953\"/>\n      <use xlink:href=\"#DejaVuSans-65\" x=\"375.732422\"/>\n     </g>\n    </g>\n    <g id=\"patch_152\">\n     <path d=\"M 431.759375 53.594687 \nL 451.759375 53.594687 \nL 451.759375 46.594687 \nL 431.759375 46.594687 \nz\n\" style=\"fill: #1f77b4; opacity: 0.4\"/>\n    </g>\n    <g id=\"text_19\">\n     <!-- near -->\n     <g transform=\"translate(459.759375 53.594687) scale(0.1 -0.1)\">\n      <defs>\n       <path id=\"DejaVuSans-72\" d=\"M 2631 2963 \nQ 2534 3019 2420 3045 \nQ 2306 3072 2169 3072 \nQ 1681 3072 1420 2755 \nQ 1159 2438 1159 1844 \nL 1159 0 \nL 581 0 \nL 581 3500 \nL 1159 3500 \nL 1159 2956 \nQ 1341 3275 1631 3429 \nQ 1922 3584 2338 3584 \nQ 2397 3584 2469 3576 \nQ 2541 3569 2628 3553 \nL 2631 2963 \nz\n\" transform=\"scale(0.015625)\"/>\n      </defs>\n      <use xlink:href=\"#DejaVuSans-6e\"/>\n      <use xlink:href=\"#DejaVuSans-65\" x=\"63.378906\"/>\n      <use xlink:href=\"#DejaVuSans-61\" x=\"124.902344\"/>\n      <use xlink:href=\"#DejaVuSans-72\" x=\"186.181641\"/>\n     </g>\n    </g>\n    <g id=\"patch_153\">\n     <path d=\"M 431.759375 68.272812 \nL 451.759375 68.272812 \nL 451.759375 61.272812 \nL 431.759375 61.272812 \nz\n\" style=\"fill: #ff7f0e; opacity: 0.4\"/>\n    </g>\n    <g id=\"text_20\">\n     <!-- middle -->\n     <g transform=\"translate(459.759375 68.272812) scale(0.1 -0.1)\">\n      <defs>\n       <path id=\"DejaVuSans-6d\" d=\"M 3328 2828 \nQ 3544 3216 3844 3400 \nQ 4144 3584 4550 3584 \nQ 5097 3584 5394 3201 \nQ 5691 2819 5691 2113 \nL 5691 0 \nL 5113 0 \nL 5113 2094 \nQ 5113 2597 4934 2840 \nQ 4756 3084 4391 3084 \nQ 3944 3084 3684 2787 \nQ 3425 2491 3425 1978 \nL 3425 0 \nL 2847 0 \nL 2847 2094 \nQ 2847 2600 2669 2842 \nQ 2491 3084 2119 3084 \nQ 1678 3084 1418 2786 \nQ 1159 2488 1159 1978 \nL 1159 0 \nL 581 0 \nL 581 3500 \nL 1159 3500 \nL 1159 2956 \nQ 1356 3278 1631 3431 \nQ 1906 3584 2284 3584 \nQ 2666 3584 2933 3390 \nQ 3200 3197 3328 2828 \nz\n\" transform=\"scale(0.015625)\"/>\n       <path id=\"DejaVuSans-64\" d=\"M 2906 2969 \nL 2906 4863 \nL 3481 4863 \nL 3481 0 \nL 2906 0 \nL 2906 525 \nQ 2725 213 2448 61 \nQ 2172 -91 1784 -91 \nQ 1150 -91 751 415 \nQ 353 922 353 1747 \nQ 353 2572 751 3078 \nQ 1150 3584 1784 3584 \nQ 2172 3584 2448 3432 \nQ 2725 3281 2906 2969 \nz\nM 947 1747 \nQ 947 1113 1208 752 \nQ 1469 391 1925 391 \nQ 2381 391 2643 752 \nQ 2906 1113 2906 1747 \nQ 2906 2381 2643 2742 \nQ 2381 3103 1925 3103 \nQ 1469 3103 1208 2742 \nQ 947 2381 947 1747 \nz\n\" transform=\"scale(0.015625)\"/>\n       <path id=\"DejaVuSans-6c\" d=\"M 603 4863 \nL 1178 4863 \nL 1178 0 \nL 603 0 \nL 603 4863 \nz\n\" transform=\"scale(0.015625)\"/>\n      </defs>\n      <use xlink:href=\"#DejaVuSans-6d\"/>\n      <use xlink:href=\"#DejaVuSans-69\" x=\"97.412109\"/>\n      <use xlink:href=\"#DejaVuSans-64\" x=\"125.195312\"/>\n      <use xlink:href=\"#DejaVuSans-64\" x=\"188.671875\"/>\n      <use xlink:href=\"#DejaVuSans-6c\" x=\"252.148438\"/>\n      <use xlink:href=\"#DejaVuSans-65\" x=\"279.931641\"/>\n     </g>\n    </g>\n    <g id=\"patch_154\">\n     <path d=\"M 431.759375 82.950937 \nL 451.759375 82.950937 \nL 451.759375 75.950937 \nL 431.759375 75.950937 \nz\n\" style=\"fill: #2ca02c; opacity: 0.4\"/>\n    </g>\n    <g id=\"text_21\">\n     <!-- far -->\n     <g transform=\"translate(459.759375 82.950937) scale(0.1 -0.1)\">\n      <defs>\n       <path id=\"DejaVuSans-66\" d=\"M 2375 4863 \nL 2375 4384 \nL 1825 4384 \nQ 1516 4384 1395 4259 \nQ 1275 4134 1275 3809 \nL 1275 3500 \nL 2222 3500 \nL 2222 3053 \nL 1275 3053 \nL 1275 0 \nL 697 0 \nL 697 3053 \nL 147 3053 \nL 147 3500 \nL 697 3500 \nL 697 3744 \nQ 697 4328 969 4595 \nQ 1241 4863 1831 4863 \nL 2375 4863 \nz\n\" transform=\"scale(0.015625)\"/>\n      </defs>\n      <use xlink:href=\"#DejaVuSans-66\"/>\n      <use xlink:href=\"#DejaVuSans-61\" x=\"35.205078\"/>\n      <use xlink:href=\"#DejaVuSans-72\" x=\"96.484375\"/>\n     </g>\n    </g>\n   </g>\n  </g>\n </g>\n <defs>\n  <clipPath id=\"p389cd423d3\">\n   <rect x=\"56.50625\" y=\"22.318125\" width=\"446.4\" height=\"498.96\"/>\n  </clipPath>\n </defs>\n</svg>\n"
          },
          "metadata": {}
        }
      ],
      "source": [
        "sns.distplot(near['distance'], hist = True, kde = True,\n",
        "           kde_kws = {'linewidth': 1},\n",
        "            label = 'near')\n",
        "sns.distplot(middle['distance'], hist = True, kde = True,\n",
        "            kde_kws = {'linewidth': 1},\n",
        "             label = 'middle')\n",
        "sns.distplot(far['distance'], hist = True, kde = True,\n",
        "            kde_kws = {'linewidth': 1},\n",
        "               label = 'far')\n",
        "plt.xlim(0, 2700)\n",
        "plt.legend(prop={'size': 10}, title = 'Distance')\n",
        "plt.title('Гистограмма расстояния перелета по трем группам');\n",
        "plt.xlabel('Расстояние (км)')\n",
        "plt.ylabel('Плотность')"
      ]
    },
    {
      "cell_type": "code",
      "execution_count": 15,
      "id": "cbcb314f-be82-41f5-902b-f0404c90222b",
      "metadata": {
        "colab": {
          "base_uri": "https://localhost:8080/"
        },
        "id": "cbcb314f-be82-41f5-902b-f0404c90222b",
        "outputId": "59c2db52-7008-4ebf-f922-90c56bba1e50"
      },
      "outputs": [
        {
          "output_type": "execute_result",
          "data": {
            "text/plain": [
              "count     63286\n",
              "unique       27\n",
              "top         LAX\n",
              "freq      16026\n",
              "Name: dest, dtype: object"
            ]
          },
          "metadata": {},
          "execution_count": 15
        }
      ],
      "source": [
        "dest = far['dest']\n",
        "dest.describe()"
      ]
    },
    {
      "cell_type": "markdown",
      "id": "8234baaa-025b-4aee-9e2c-bb0c5b7bf80d",
      "metadata": {
        "id": "8234baaa-025b-4aee-9e2c-bb0c5b7bf80d"
      },
      "source": [
        "Как видим, дальние перелеты чаще всего производились в **LAX.**"
      ]
    },
    {
      "cell_type": "code",
      "execution_count": 16,
      "id": "c224ea22-8aa3-4f47-9540-e2a051ae4081",
      "metadata": {
        "colab": {
          "base_uri": "https://localhost:8080/"
        },
        "id": "c224ea22-8aa3-4f47-9540-e2a051ae4081",
        "outputId": "287854be-c01c-4ed9-bebe-517f95aa4122"
      },
      "outputs": [
        {
          "output_type": "stream",
          "name": "stdout",
          "text": [
            "Среднее время задержки вылета (мин) в группах near, middle и far равно соответственно\n",
            "13.535542639991059\n",
            "12.149295331987958\n",
            "11.11293177005973\n"
          ]
        }
      ],
      "source": [
        "distance = [near, middle, far]\n",
        "print('Среднее время задержки вылета (мин) в группах near, middle и far равно соответственно')\n",
        "for i in distance:\n",
        "    i = i['dep_delay'].mean()\n",
        "    print(i)"
      ]
    },
    {
      "cell_type": "markdown",
      "id": "861f1de8-c66c-4ef9-b9c4-785b8d4fa735",
      "metadata": {
        "id": "861f1de8-c66c-4ef9-b9c4-785b8d4fa735"
      },
      "source": [
        " ### Задание 3. *Нарисуйте график среднего времени задержки вылета по месяцам и отметьте на нем границы доверительных интервалов с уровнем доверия 0.95. С помощью подходящего статистического теста проверьте, можно ли принять гипотезу о равенстве средних в январе и феврале на уровне значимости 0.05? на уровне значимости 0.01?*"
      ]
    },
    {
      "cell_type": "code",
      "execution_count": 17,
      "id": "344cf7af-e383-40b2-a064-a6fd4e205d27",
      "metadata": {
        "id": "344cf7af-e383-40b2-a064-a6fd4e205d27"
      },
      "outputs": [],
      "source": [
        "Month = ['Январь', 'Февраль', 'Март', 'Апрель', 'Май', 'Июнь', 'Июль', 'Август', 'Сентябрь', 'Октябрь', 'Ноябрь', 'Декабрь']"
      ]
    },
    {
      "cell_type": "code",
      "execution_count": 18,
      "id": "3fe67c96-8c9f-45cf-8c83-39fc468a3608",
      "metadata": {
        "colab": {
          "base_uri": "https://localhost:8080/"
        },
        "id": "3fe67c96-8c9f-45cf-8c83-39fc468a3608",
        "outputId": "c531235b-c5e6-41f8-8cb1-55936dee1388"
      },
      "outputs": [
        {
          "output_type": "stream",
          "name": "stdout",
          "text": [
            "(9.547487811696357, 10.298906895459746, 12.694367349961434, 13.34282576439827, 12.433799324572384, 20.114658064571547, 20.925081131172433, 12.1359701728788, 6.207256308191644, 5.889496796471599, 5.0914608610352925, 15.984561084051757)\n",
            "(10.423494838504418, 11.221570847964928, 13.634211246554946, 14.35554892722849, 13.349619332993033, 21.336570005603892, 22.119276130341014, 13.005078651714328, 7.053313851008653, 6.576853053273316, 5.749219870120394, 16.979761639856463)\n"
          ]
        }
      ],
      "source": [
        "dep_delay_month_average = []\n",
        "dots = []\n",
        "confidence = 0.95\n",
        "for i in range(1,13):\n",
        "    month = df[df['month'] == i]\n",
        "    interval = stats.norm.interval(confidence, loc=month['dep_delay'].mean(),\n",
        "                               scale=stats.sem(month['dep_delay']))\n",
        "    dots.append(interval)\n",
        "    dep_delay_month_average.append(month['dep_delay'].mean())\n",
        "y1 = list(zip(*dots))[0] #нижняя граница доверительного интервала\n",
        "y2 = list(zip(*dots))[1] #верхняя граница доверительного интервала\n",
        "print(y1)\n",
        "print(y2)"
      ]
    },
    {
      "cell_type": "code",
      "execution_count": 19,
      "id": "cd575051-995d-4fd3-b2d3-58f357fe0f55",
      "metadata": {
        "colab": {
          "base_uri": "https://localhost:8080/",
          "height": 710
        },
        "id": "cd575051-995d-4fd3-b2d3-58f357fe0f55",
        "outputId": "def603e5-e6e5-4e9f-82d8-ed3e74083420"
      },
      "outputs": [
        {
          "output_type": "execute_result",
          "data": {
            "text/plain": [
              "Text(0.5, 1.0, 'Среднее время задержки вылета по месяцам ')"
            ]
          },
          "metadata": {},
          "execution_count": 19
        },
        {
          "output_type": "display_data",
          "data": {
            "text/plain": [
              "<Figure size 1300x800 with 1 Axes>"
            ],
            "image/svg+xml": "<?xml version=\"1.0\" encoding=\"utf-8\" standalone=\"no\"?>\n<!DOCTYPE svg PUBLIC \"-//W3C//DTD SVG 1.1//EN\"\n  \"http://www.w3.org/Graphics/SVG/1.1/DTD/svg11.dtd\">\n<svg xmlns:xlink=\"http://www.w3.org/1999/xlink\" width=\"782.74375pt\" height=\"503.564687pt\" viewBox=\"0 0 782.74375 503.564687\" xmlns=\"http://www.w3.org/2000/svg\" version=\"1.1\">\n <metadata>\n  <rdf:RDF xmlns:dc=\"http://purl.org/dc/elements/1.1/\" xmlns:cc=\"http://creativecommons.org/ns#\" xmlns:rdf=\"http://www.w3.org/1999/02/22-rdf-syntax-ns#\">\n   <cc:Work>\n    <dc:type rdf:resource=\"http://purl.org/dc/dcmitype/StillImage\"/>\n    <dc:date>2024-05-20T12:31:33.085808</dc:date>\n    <dc:format>image/svg+xml</dc:format>\n    <dc:creator>\n     <cc:Agent>\n      <dc:title>Matplotlib v3.7.1, https://matplotlib.org/</dc:title>\n     </cc:Agent>\n    </dc:creator>\n   </cc:Work>\n  </rdf:RDF>\n </metadata>\n <defs>\n  <style type=\"text/css\">*{stroke-linejoin: round; stroke-linecap: butt}</style>\n </defs>\n <g id=\"figure_1\">\n  <g id=\"patch_1\">\n   <path d=\"M 0 503.564687 \nL 782.74375 503.564687 \nL 782.74375 0 \nL 0 0 \nz\n\" style=\"fill: #ffffff\"/>\n  </g>\n  <g id=\"axes_1\">\n   <g id=\"patch_2\">\n    <path d=\"M 50.14375 465.838125 \nL 775.54375 465.838125 \nL 775.54375 22.318125 \nL 50.14375 22.318125 \nz\n\" style=\"fill: #ffffff\"/>\n   </g>\n   <g id=\"PolyCollection_1\">\n    <defs>\n     <path id=\"me25277397d\" d=\"M 83.116477 -184.143282 \nL 83.116477 -163.400396 \nL 143.06689 -181.193176 \nL 203.017304 -237.915054 \nL 262.967717 -253.269838 \nL 322.91813 -231.745089 \nL 382.868543 -413.619404 \nL 442.818957 -432.809334 \nL 502.76937 -224.692821 \nL 562.719783 -84.307376 \nL 622.670196 -76.783179 \nL 682.62061 -57.886563 \nL 742.571023 -315.823235 \nL 742.571023 -339.388493 \nL 742.571023 -339.388493 \nL 682.62061 -73.461575 \nL 622.670196 -93.059021 \nL 562.719783 -104.341091 \nL 502.76937 -245.272357 \nL 442.818957 -461.086563 \nL 382.868543 -442.552939 \nL 322.91813 -253.430703 \nL 262.967717 -277.250013 \nL 203.017304 -260.169527 \nL 143.06689 -203.040847 \nL 83.116477 -184.143282 \nz\n\" style=\"stroke: #e5e4e2\"/>\n    </defs>\n    <g clip-path=\"url(#p7b2662028d)\">\n     <use xlink:href=\"#me25277397d\" x=\"0\" y=\"503.564687\" style=\"fill: #e5e4e2; stroke: #e5e4e2\"/>\n    </g>\n   </g>\n   <g id=\"matplotlib.axis_1\">\n    <g id=\"xtick_1\">\n     <g id=\"line2d_1\">\n      <defs>\n       <path id=\"mb9db203a4d\" d=\"M 0 0 \nL 0 3.5 \n\" style=\"stroke: #000000; stroke-width: 0.8\"/>\n      </defs>\n      <g>\n       <use xlink:href=\"#mb9db203a4d\" x=\"83.116477\" y=\"465.838125\" style=\"stroke: #000000; stroke-width: 0.8\"/>\n      </g>\n     </g>\n     <g id=\"text_1\">\n      <!-- Январь -->\n      <g transform=\"translate(64.241477 480.436562) scale(0.1 -0.1)\">\n       <defs>\n        <path id=\"DejaVuSans-42f\" d=\"M 1284 3322 \nQ 1284 2913 1517 2702 \nQ 1750 2491 2206 2491 \nL 3188 2491 \nL 3188 4147 \nL 2206 4147 \nQ 1750 4147 1517 3939 \nQ 1284 3731 1284 3322 \nz\nM 425 0 \nL 1700 2041 \nQ 1388 2122 988 2386 \nQ 588 2650 588 3322 \nQ 588 3966 994 4316 \nQ 1400 4666 2206 4666 \nL 3819 4666 \nL 3819 0 \nL 3188 0 \nL 3188 1972 \nL 2344 1972 \nL 1113 0 \nL 425 0 \nz\n\" transform=\"scale(0.015625)\"/>\n        <path id=\"DejaVuSans-43d\" d=\"M 581 3500 \nL 1159 3500 \nL 1159 2072 \nL 3025 2072 \nL 3025 3500 \nL 3603 3500 \nL 3603 0 \nL 3025 0 \nL 3025 1613 \nL 1159 1613 \nL 1159 0 \nL 581 0 \nL 581 3500 \nz\n\" transform=\"scale(0.015625)\"/>\n        <path id=\"DejaVuSans-432\" d=\"M 1156 1613 \nL 1156 459 \nL 1975 459 \nQ 2369 459 2575 607 \nQ 2781 756 2781 1038 \nQ 2781 1319 2575 1466 \nQ 2369 1613 1975 1613 \nL 1156 1613 \nz\nM 1156 3041 \nL 1156 2072 \nL 1913 2072 \nQ 2238 2072 2444 2201 \nQ 2650 2331 2650 2563 \nQ 2650 2794 2444 2917 \nQ 2238 3041 1913 3041 \nL 1156 3041 \nz\nM 581 3500 \nL 1950 3500 \nQ 2566 3500 2897 3275 \nQ 3228 3050 3228 2634 \nQ 3228 2313 3059 2123 \nQ 2891 1934 2559 1888 \nQ 2956 1813 3175 1575 \nQ 3394 1338 3394 981 \nQ 3394 513 3033 256 \nQ 2672 0 2003 0 \nL 581 0 \nL 581 3500 \nz\n\" transform=\"scale(0.015625)\"/>\n        <path id=\"DejaVuSans-430\" d=\"M 2194 1759 \nQ 1497 1759 1228 1600 \nQ 959 1441 959 1056 \nQ 959 750 1161 570 \nQ 1363 391 1709 391 \nQ 2188 391 2477 730 \nQ 2766 1069 2766 1631 \nL 2766 1759 \nL 2194 1759 \nz\nM 3341 1997 \nL 3341 0 \nL 2766 0 \nL 2766 531 \nQ 2569 213 2275 61 \nQ 1981 -91 1556 -91 \nQ 1019 -91 701 211 \nQ 384 513 384 1019 \nQ 384 1609 779 1909 \nQ 1175 2209 1959 2209 \nL 2766 2209 \nL 2766 2266 \nQ 2766 2663 2505 2880 \nQ 2244 3097 1772 3097 \nQ 1472 3097 1187 3025 \nQ 903 2953 641 2809 \nL 641 3341 \nQ 956 3463 1253 3523 \nQ 1550 3584 1831 3584 \nQ 2591 3584 2966 3190 \nQ 3341 2797 3341 1997 \nz\n\" transform=\"scale(0.015625)\"/>\n        <path id=\"DejaVuSans-440\" d=\"M 1159 525 \nL 1159 -1331 \nL 581 -1331 \nL 581 3500 \nL 1159 3500 \nL 1159 2969 \nQ 1341 3281 1617 3432 \nQ 1894 3584 2278 3584 \nQ 2916 3584 3314 3078 \nQ 3713 2572 3713 1747 \nQ 3713 922 3314 415 \nQ 2916 -91 2278 -91 \nQ 1894 -91 1617 61 \nQ 1341 213 1159 525 \nz\nM 3116 1747 \nQ 3116 2381 2855 2742 \nQ 2594 3103 2138 3103 \nQ 1681 3103 1420 2742 \nQ 1159 2381 1159 1747 \nQ 1159 1113 1420 752 \nQ 1681 391 2138 391 \nQ 2594 391 2855 752 \nQ 3116 1113 3116 1747 \nz\n\" transform=\"scale(0.015625)\"/>\n        <path id=\"DejaVuSans-44c\" d=\"M 2781 1038 \nQ 2781 1319 2576 1466 \nQ 2372 1613 1978 1613 \nL 1159 1613 \nL 1159 459 \nL 1978 459 \nQ 2372 459 2576 607 \nQ 2781 756 2781 1038 \nz\nM 581 3500 \nL 1159 3500 \nL 1159 2072 \nL 2003 2072 \nQ 2672 2072 3033 1817 \nQ 3394 1563 3394 1038 \nQ 3394 513 3033 256 \nQ 2672 0 2003 0 \nL 581 0 \nL 581 3500 \nz\n\" transform=\"scale(0.015625)\"/>\n       </defs>\n       <use xlink:href=\"#DejaVuSans-42f\"/>\n       <use xlink:href=\"#DejaVuSans-43d\" x=\"69.482422\"/>\n       <use xlink:href=\"#DejaVuSans-432\" x=\"134.863281\"/>\n       <use xlink:href=\"#DejaVuSans-430\" x=\"193.798828\"/>\n       <use xlink:href=\"#DejaVuSans-440\" x=\"255.078125\"/>\n       <use xlink:href=\"#DejaVuSans-44c\" x=\"318.554688\"/>\n      </g>\n     </g>\n    </g>\n    <g id=\"xtick_2\">\n     <g id=\"line2d_2\">\n      <g>\n       <use xlink:href=\"#mb9db203a4d\" x=\"143.06689\" y=\"465.838125\" style=\"stroke: #000000; stroke-width: 0.8\"/>\n      </g>\n     </g>\n     <g id=\"text_2\">\n      <!-- Февраль -->\n      <g transform=\"translate(120.358297 480.436562) scale(0.1 -0.1)\">\n       <defs>\n        <path id=\"DejaVuSans-424\" d=\"M 2441 3706 \nQ 1763 3644 1403 3325 \nQ 1044 3006 1044 2391 \nQ 1044 1775 1403 1458 \nQ 1763 1141 2441 1078 \nL 2441 3706 \nz\nM 3075 1078 \nQ 3753 1141 4109 1458 \nQ 4466 1775 4466 2391 \nQ 4466 3006 4109 3325 \nQ 3753 3644 3075 3706 \nL 3075 1078 \nz\nM 2441 556 \nQ 1450 628 914 1095 \nQ 378 1563 378 2391 \nQ 378 3219 914 3689 \nQ 1450 4159 2441 4231 \nL 2441 4666 \nL 3075 4666 \nL 3075 4231 \nQ 4066 4159 4598 3692 \nQ 5131 3225 5131 2391 \nQ 5131 1563 4598 1095 \nQ 4066 628 3075 556 \nL 3075 0 \nL 2441 0 \nL 2441 556 \nz\n\" transform=\"scale(0.015625)\"/>\n        <path id=\"DejaVuSans-435\" d=\"M 3597 1894 \nL 3597 1613 \nL 953 1613 \nQ 991 1019 1311 708 \nQ 1631 397 2203 397 \nQ 2534 397 2845 478 \nQ 3156 559 3463 722 \nL 3463 178 \nQ 3153 47 2828 -22 \nQ 2503 -91 2169 -91 \nQ 1331 -91 842 396 \nQ 353 884 353 1716 \nQ 353 2575 817 3079 \nQ 1281 3584 2069 3584 \nQ 2775 3584 3186 3129 \nQ 3597 2675 3597 1894 \nz\nM 3022 2063 \nQ 3016 2534 2758 2815 \nQ 2500 3097 2075 3097 \nQ 1594 3097 1305 2825 \nQ 1016 2553 972 2059 \nL 3022 2063 \nz\n\" transform=\"scale(0.015625)\"/>\n        <path id=\"DejaVuSans-43b\" d=\"M 238 0 \nL 238 478 \nQ 806 566 981 959 \nQ 1194 1513 1194 2928 \nL 1194 3500 \nL 3559 3500 \nL 3559 0 \nL 2984 0 \nL 2984 3041 \nL 1769 3041 \nL 1769 2694 \nQ 1769 1344 1494 738 \nQ 1200 91 238 0 \nz\n\" transform=\"scale(0.015625)\"/>\n       </defs>\n       <use xlink:href=\"#DejaVuSans-424\"/>\n       <use xlink:href=\"#DejaVuSans-435\" x=\"86.083984\"/>\n       <use xlink:href=\"#DejaVuSans-432\" x=\"147.607422\"/>\n       <use xlink:href=\"#DejaVuSans-440\" x=\"206.542969\"/>\n       <use xlink:href=\"#DejaVuSans-430\" x=\"270.019531\"/>\n       <use xlink:href=\"#DejaVuSans-43b\" x=\"331.298828\"/>\n       <use xlink:href=\"#DejaVuSans-44c\" x=\"395.214844\"/>\n      </g>\n     </g>\n    </g>\n    <g id=\"xtick_3\">\n     <g id=\"line2d_3\">\n      <g>\n       <use xlink:href=\"#mb9db203a4d\" x=\"203.017304\" y=\"465.838125\" style=\"stroke: #000000; stroke-width: 0.8\"/>\n      </g>\n     </g>\n     <g id=\"text_3\">\n      <!-- Март -->\n      <g transform=\"translate(189.55246 480.436562) scale(0.1 -0.1)\">\n       <defs>\n        <path id=\"DejaVuSans-41c\" d=\"M 628 4666 \nL 1569 4666 \nL 2759 1491 \nL 3956 4666 \nL 4897 4666 \nL 4897 0 \nL 4281 0 \nL 4281 4097 \nL 3078 897 \nL 2444 897 \nL 1241 4097 \nL 1241 0 \nL 628 0 \nL 628 4666 \nz\n\" transform=\"scale(0.015625)\"/>\n        <path id=\"DejaVuSans-442\" d=\"M 188 3500 \nL 3541 3500 \nL 3541 3041 \nL 2147 3041 \nL 2147 0 \nL 1581 0 \nL 1581 3041 \nL 188 3041 \nL 188 3500 \nz\n\" transform=\"scale(0.015625)\"/>\n       </defs>\n       <use xlink:href=\"#DejaVuSans-41c\"/>\n       <use xlink:href=\"#DejaVuSans-430\" x=\"86.279297\"/>\n       <use xlink:href=\"#DejaVuSans-440\" x=\"147.558594\"/>\n       <use xlink:href=\"#DejaVuSans-442\" x=\"211.035156\"/>\n      </g>\n     </g>\n    </g>\n    <g id=\"xtick_4\">\n     <g id=\"line2d_4\">\n      <g>\n       <use xlink:href=\"#mb9db203a4d\" x=\"262.967717\" y=\"465.838125\" style=\"stroke: #000000; stroke-width: 0.8\"/>\n      </g>\n     </g>\n     <g id=\"text_4\">\n      <!-- Апрель -->\n      <g transform=\"translate(243.884904 480.436562) scale(0.1 -0.1)\">\n       <defs>\n        <path id=\"DejaVuSans-410\" d=\"M 2188 4044 \nL 1331 1722 \nL 3047 1722 \nL 2188 4044 \nz\nM 1831 4666 \nL 2547 4666 \nL 4325 0 \nL 3669 0 \nL 3244 1197 \nL 1141 1197 \nL 716 0 \nL 50 0 \nL 1831 4666 \nz\n\" transform=\"scale(0.015625)\"/>\n        <path id=\"DejaVuSans-43f\" d=\"M 3603 3500 \nL 3603 0 \nL 3025 0 \nL 3025 3041 \nL 1159 3041 \nL 1159 0 \nL 581 0 \nL 581 3500 \nL 3603 3500 \nz\n\" transform=\"scale(0.015625)\"/>\n       </defs>\n       <use xlink:href=\"#DejaVuSans-410\"/>\n       <use xlink:href=\"#DejaVuSans-43f\" x=\"68.408203\"/>\n       <use xlink:href=\"#DejaVuSans-440\" x=\"133.789062\"/>\n       <use xlink:href=\"#DejaVuSans-435\" x=\"197.265625\"/>\n       <use xlink:href=\"#DejaVuSans-43b\" x=\"258.789062\"/>\n       <use xlink:href=\"#DejaVuSans-44c\" x=\"322.705078\"/>\n      </g>\n     </g>\n    </g>\n    <g id=\"xtick_5\">\n     <g id=\"line2d_5\">\n      <g>\n       <use xlink:href=\"#mb9db203a4d\" x=\"322.91813\" y=\"465.838125\" style=\"stroke: #000000; stroke-width: 0.8\"/>\n      </g>\n     </g>\n     <g id=\"text_5\">\n      <!-- Май -->\n      <g transform=\"translate(312.290786 480.436562) scale(0.1 -0.1)\">\n       <defs>\n        <path id=\"DejaVuSans-439\" d=\"M 3578 3500 \nL 3578 0 \nL 3006 0 \nL 3006 2809 \nL 1319 0 \nL 581 0 \nL 581 3500 \nL 1153 3500 \nL 1153 697 \nL 2838 3500 \nL 3578 3500 \nz\nM 1102 4833 \nL 1471 4833 \nQ 1505 4599 1656 4481 \nQ 1808 4364 2080 4364 \nQ 2349 4364 2499 4480 \nQ 2649 4596 2689 4833 \nL 3058 4833 \nQ 3027 4386 2780 4161 \nQ 2533 3936 2080 3936 \nQ 1627 3936 1380 4161 \nQ 1133 4386 1102 4833 \nz\n\" transform=\"scale(0.015625)\"/>\n       </defs>\n       <use xlink:href=\"#DejaVuSans-41c\"/>\n       <use xlink:href=\"#DejaVuSans-430\" x=\"86.279297\"/>\n       <use xlink:href=\"#DejaVuSans-439\" x=\"147.558594\"/>\n      </g>\n     </g>\n    </g>\n    <g id=\"xtick_6\">\n     <g id=\"line2d_6\">\n      <g>\n       <use xlink:href=\"#mb9db203a4d\" x=\"382.868543\" y=\"465.838125\" style=\"stroke: #000000; stroke-width: 0.8\"/>\n      </g>\n     </g>\n     <g id=\"text_6\">\n      <!-- Июнь -->\n      <g transform=\"translate(368.702918 480.436562) scale(0.1 -0.1)\">\n       <defs>\n        <path id=\"DejaVuSans-418\" d=\"M 4159 4666 \nL 4159 0 \nL 3547 0 \nL 3547 3903 \nL 1478 0 \nL 628 0 \nL 628 4666 \nL 1241 4666 \nL 1241 763 \nL 3309 4666 \nL 4159 4666 \nz\n\" transform=\"scale(0.015625)\"/>\n        <path id=\"DejaVuSans-44e\" d=\"M 3431 3097 \nQ 2969 3097 2700 2736 \nQ 2431 2375 2431 1747 \nQ 2431 1119 2698 758 \nQ 2966 397 3431 397 \nQ 3891 397 4159 759 \nQ 4428 1122 4428 1747 \nQ 4428 2369 4159 2733 \nQ 3891 3097 3431 3097 \nz\nM 1844 2103 \nQ 1903 2697 2292 3140 \nQ 2681 3584 3431 3584 \nQ 4181 3584 4609 3096 \nQ 5038 2609 5038 1747 \nQ 5038 888 4609 398 \nQ 4181 -91 3431 -91 \nQ 2678 -91 2267 381 \nQ 1856 853 1828 1628 \nL 1178 1628 \nL 1178 0 \nL 603 0 \nL 603 3500 \nL 1178 3500 \nL 1178 2103 \nL 1844 2103 \nz\n\" transform=\"scale(0.015625)\"/>\n       </defs>\n       <use xlink:href=\"#DejaVuSans-418\"/>\n       <use xlink:href=\"#DejaVuSans-44e\" x=\"74.804688\"/>\n       <use xlink:href=\"#DejaVuSans-43d\" x=\"158.984375\"/>\n       <use xlink:href=\"#DejaVuSans-44c\" x=\"224.365234\"/>\n      </g>\n     </g>\n    </g>\n    <g id=\"xtick_7\">\n     <g id=\"line2d_7\">\n      <g>\n       <use xlink:href=\"#mb9db203a4d\" x=\"442.818957\" y=\"465.838125\" style=\"stroke: #000000; stroke-width: 0.8\"/>\n      </g>\n     </g>\n     <g id=\"text_7\">\n      <!-- Июль -->\n      <g transform=\"translate(428.725988 480.436562) scale(0.1 -0.1)\">\n       <use xlink:href=\"#DejaVuSans-418\"/>\n       <use xlink:href=\"#DejaVuSans-44e\" x=\"74.804688\"/>\n       <use xlink:href=\"#DejaVuSans-43b\" x=\"158.984375\"/>\n       <use xlink:href=\"#DejaVuSans-44c\" x=\"222.900391\"/>\n      </g>\n     </g>\n    </g>\n    <g id=\"xtick_8\">\n     <g id=\"line2d_8\">\n      <g>\n       <use xlink:href=\"#mb9db203a4d\" x=\"502.76937\" y=\"465.838125\" style=\"stroke: #000000; stroke-width: 0.8\"/>\n      </g>\n     </g>\n     <g id=\"text_8\">\n      <!-- Август -->\n      <g transform=\"translate(485.153745 480.436562) scale(0.1 -0.1)\">\n       <defs>\n        <path id=\"DejaVuSans-433\" d=\"M 581 0 \nL 581 3500 \nL 3050 3500 \nL 3050 3041 \nL 1159 3041 \nL 1159 0 \nL 581 0 \nz\n\" transform=\"scale(0.015625)\"/>\n        <path id=\"DejaVuSans-443\" d=\"M 2059 -325 \nQ 1816 -950 1584 -1140 \nQ 1353 -1331 966 -1331 \nL 506 -1331 \nL 506 -850 \nL 844 -850 \nQ 1081 -850 1212 -737 \nQ 1344 -625 1503 -206 \nL 1606 56 \nL 191 3500 \nL 800 3500 \nL 1894 763 \nL 2988 3500 \nL 3597 3500 \nL 2059 -325 \nz\n\" transform=\"scale(0.015625)\"/>\n        <path id=\"DejaVuSans-441\" d=\"M 3122 3366 \nL 3122 2828 \nQ 2878 2963 2633 3030 \nQ 2388 3097 2138 3097 \nQ 1578 3097 1268 2742 \nQ 959 2388 959 1747 \nQ 959 1106 1268 751 \nQ 1578 397 2138 397 \nQ 2388 397 2633 464 \nQ 2878 531 3122 666 \nL 3122 134 \nQ 2881 22 2623 -34 \nQ 2366 -91 2075 -91 \nQ 1284 -91 818 406 \nQ 353 903 353 1747 \nQ 353 2603 823 3093 \nQ 1294 3584 2113 3584 \nQ 2378 3584 2631 3529 \nQ 2884 3475 3122 3366 \nz\n\" transform=\"scale(0.015625)\"/>\n       </defs>\n       <use xlink:href=\"#DejaVuSans-410\"/>\n       <use xlink:href=\"#DejaVuSans-432\" x=\"68.408203\"/>\n       <use xlink:href=\"#DejaVuSans-433\" x=\"127.34375\"/>\n       <use xlink:href=\"#DejaVuSans-443\" x=\"179.882812\"/>\n       <use xlink:href=\"#DejaVuSans-441\" x=\"239.0625\"/>\n       <use xlink:href=\"#DejaVuSans-442\" x=\"294.042969\"/>\n      </g>\n     </g>\n    </g>\n    <g id=\"xtick_9\">\n     <g id=\"line2d_9\">\n      <g>\n       <use xlink:href=\"#mb9db203a4d\" x=\"562.719783\" y=\"465.838125\" style=\"stroke: #000000; stroke-width: 0.8\"/>\n      </g>\n     </g>\n     <g id=\"text_9\">\n      <!-- Сентябрь -->\n      <g transform=\"translate(537.758064 480.606875) scale(0.1 -0.1)\">\n       <defs>\n        <path id=\"DejaVuSans-421\" d=\"M 4122 4306 \nL 4122 3641 \nQ 3803 3938 3442 4084 \nQ 3081 4231 2675 4231 \nQ 1875 4231 1450 3742 \nQ 1025 3253 1025 2328 \nQ 1025 1406 1450 917 \nQ 1875 428 2675 428 \nQ 3081 428 3442 575 \nQ 3803 722 4122 1019 \nL 4122 359 \nQ 3791 134 3420 21 \nQ 3050 -91 2638 -91 \nQ 1578 -91 968 557 \nQ 359 1206 359 2328 \nQ 359 3453 968 4101 \nQ 1578 4750 2638 4750 \nQ 3056 4750 3426 4639 \nQ 3797 4528 4122 4306 \nz\n\" transform=\"scale(0.015625)\"/>\n        <path id=\"DejaVuSans-44f\" d=\"M 1181 2491 \nQ 1181 2231 1381 2084 \nQ 1581 1938 1953 1938 \nL 2728 1938 \nL 2728 3041 \nL 1953 3041 \nQ 1581 3041 1381 2897 \nQ 1181 2753 1181 2491 \nz\nM 363 0 \nL 1431 1534 \nQ 1069 1616 828 1830 \nQ 588 2044 588 2491 \nQ 588 2997 923 3248 \nQ 1259 3500 1938 3500 \nL 3306 3500 \nL 3306 0 \nL 2728 0 \nL 2728 1478 \nL 2013 1478 \nL 981 0 \nL 363 0 \nz\n\" transform=\"scale(0.015625)\"/>\n        <path id=\"DejaVuSans-431\" d=\"M 1991 3584 \nQ 2741 3584 3169 3096 \nQ 3597 2609 3597 1747 \nQ 3597 888 3169 398 \nQ 2741 -91 1991 -91 \nQ 1238 -91 822 384 \nQ 406 859 384 1747 \nL 366 2463 \nQ 350 2834 350 2963 \nQ 350 3463 531 3831 \nQ 816 4409 1308 4659 \nQ 1800 4909 2625 4916 \nQ 3006 4919 3175 4972 \nL 3334 4516 \nQ 3181 4453 3041 4450 \nL 2259 4397 \nQ 1866 4369 1628 4231 \nQ 1006 3866 947 3388 \nL 925 3213 \nQ 1331 3584 1991 3584 \nz\nM 1991 3097 \nQ 1528 3097 1259 2736 \nQ 991 2375 991 1747 \nQ 991 1119 1258 758 \nQ 1525 397 1991 397 \nQ 2450 397 2719 759 \nQ 2988 1122 2988 1747 \nQ 2988 2369 2719 2733 \nQ 2450 3097 1991 3097 \nz\n\" transform=\"scale(0.015625)\"/>\n       </defs>\n       <use xlink:href=\"#DejaVuSans-421\"/>\n       <use xlink:href=\"#DejaVuSans-435\" x=\"69.824219\"/>\n       <use xlink:href=\"#DejaVuSans-43d\" x=\"131.347656\"/>\n       <use xlink:href=\"#DejaVuSans-442\" x=\"196.728516\"/>\n       <use xlink:href=\"#DejaVuSans-44f\" x=\"254.980469\"/>\n       <use xlink:href=\"#DejaVuSans-431\" x=\"315.136719\"/>\n       <use xlink:href=\"#DejaVuSans-440\" x=\"376.806641\"/>\n       <use xlink:href=\"#DejaVuSans-44c\" x=\"440.283203\"/>\n      </g>\n     </g>\n    </g>\n    <g id=\"xtick_10\">\n     <g id=\"line2d_10\">\n      <g>\n       <use xlink:href=\"#mb9db203a4d\" x=\"622.670196\" y=\"465.838125\" style=\"stroke: #000000; stroke-width: 0.8\"/>\n      </g>\n     </g>\n     <g id=\"text_10\">\n      <!-- Октябрь -->\n      <g transform=\"translate(600.588946 480.606875) scale(0.1 -0.1)\">\n       <defs>\n        <path id=\"DejaVuSans-41e\" d=\"M 2522 4238 \nQ 1834 4238 1429 3725 \nQ 1025 3213 1025 2328 \nQ 1025 1447 1429 934 \nQ 1834 422 2522 422 \nQ 3209 422 3611 934 \nQ 4013 1447 4013 2328 \nQ 4013 3213 3611 3725 \nQ 3209 4238 2522 4238 \nz\nM 2522 4750 \nQ 3503 4750 4090 4092 \nQ 4678 3434 4678 2328 \nQ 4678 1225 4090 567 \nQ 3503 -91 2522 -91 \nQ 1538 -91 948 565 \nQ 359 1222 359 2328 \nQ 359 3434 948 4092 \nQ 1538 4750 2522 4750 \nz\n\" transform=\"scale(0.015625)\"/>\n        <path id=\"DejaVuSans-43a\" d=\"M 581 3500 \nL 1153 3500 \nL 1153 1856 \nL 2775 3500 \nL 3481 3500 \nL 2144 2147 \nL 3653 0 \nL 3009 0 \nL 1769 1766 \nL 1153 1141 \nL 1153 0 \nL 581 0 \nL 581 3500 \nz\n\" transform=\"scale(0.015625)\"/>\n       </defs>\n       <use xlink:href=\"#DejaVuSans-41e\"/>\n       <use xlink:href=\"#DejaVuSans-43a\" x=\"78.710938\"/>\n       <use xlink:href=\"#DejaVuSans-442\" x=\"139.111328\"/>\n       <use xlink:href=\"#DejaVuSans-44f\" x=\"197.363281\"/>\n       <use xlink:href=\"#DejaVuSans-431\" x=\"257.519531\"/>\n       <use xlink:href=\"#DejaVuSans-440\" x=\"319.189453\"/>\n       <use xlink:href=\"#DejaVuSans-44c\" x=\"382.666016\"/>\n      </g>\n     </g>\n    </g>\n    <g id=\"xtick_11\">\n     <g id=\"line2d_11\">\n      <g>\n       <use xlink:href=\"#mb9db203a4d\" x=\"682.62061\" y=\"465.838125\" style=\"stroke: #000000; stroke-width: 0.8\"/>\n      </g>\n     </g>\n     <g id=\"text_11\">\n      <!-- Ноябрь -->\n      <g transform=\"translate(663.588578 480.606875) scale(0.1 -0.1)\">\n       <defs>\n        <path id=\"DejaVuSans-41d\" d=\"M 628 4666 \nL 1259 4666 \nL 1259 2753 \nL 3553 2753 \nL 3553 4666 \nL 4184 4666 \nL 4184 0 \nL 3553 0 \nL 3553 2222 \nL 1259 2222 \nL 1259 0 \nL 628 0 \nL 628 4666 \nz\n\" transform=\"scale(0.015625)\"/>\n        <path id=\"DejaVuSans-43e\" d=\"M 1959 3097 \nQ 1497 3097 1228 2736 \nQ 959 2375 959 1747 \nQ 959 1119 1226 758 \nQ 1494 397 1959 397 \nQ 2419 397 2687 759 \nQ 2956 1122 2956 1747 \nQ 2956 2369 2687 2733 \nQ 2419 3097 1959 3097 \nz\nM 1959 3584 \nQ 2709 3584 3137 3096 \nQ 3566 2609 3566 1747 \nQ 3566 888 3137 398 \nQ 2709 -91 1959 -91 \nQ 1206 -91 779 398 \nQ 353 888 353 1747 \nQ 353 2609 779 3096 \nQ 1206 3584 1959 3584 \nz\n\" transform=\"scale(0.015625)\"/>\n       </defs>\n       <use xlink:href=\"#DejaVuSans-41d\"/>\n       <use xlink:href=\"#DejaVuSans-43e\" x=\"75.195312\"/>\n       <use xlink:href=\"#DejaVuSans-44f\" x=\"136.376953\"/>\n       <use xlink:href=\"#DejaVuSans-431\" x=\"196.533203\"/>\n       <use xlink:href=\"#DejaVuSans-440\" x=\"258.203125\"/>\n       <use xlink:href=\"#DejaVuSans-44c\" x=\"321.679688\"/>\n      </g>\n     </g>\n    </g>\n    <g id=\"xtick_12\">\n     <g id=\"line2d_12\">\n      <g>\n       <use xlink:href=\"#mb9db203a4d\" x=\"742.571023\" y=\"465.838125\" style=\"stroke: #000000; stroke-width: 0.8\"/>\n      </g>\n     </g>\n     <g id=\"text_12\">\n      <!-- Декабрь -->\n      <g transform=\"translate(720.299148 480.606875) scale(0.1 -0.1)\">\n       <defs>\n        <path id=\"DejaVuSans-414\" d=\"M 1459 531 \nL 3522 531 \nL 3522 4134 \nL 2006 4134 \nL 2006 3472 \nQ 2006 1913 1656 878 \nQ 1584 666 1459 531 \nz\nM 538 531 \nQ 956 728 1075 1103 \nQ 1378 2066 1378 3784 \nL 1378 4666 \nL 4153 4666 \nL 4153 531 \nL 4684 531 \nL 4684 -1003 \nL 4153 -1003 \nL 4153 0 \nL 847 0 \nL 847 -1003 \nL 316 -1003 \nL 316 531 \nL 538 531 \nz\n\" transform=\"scale(0.015625)\"/>\n       </defs>\n       <use xlink:href=\"#DejaVuSans-414\"/>\n       <use xlink:href=\"#DejaVuSans-435\" x=\"78.125\"/>\n       <use xlink:href=\"#DejaVuSans-43a\" x=\"139.648438\"/>\n       <use xlink:href=\"#DejaVuSans-430\" x=\"200.048828\"/>\n       <use xlink:href=\"#DejaVuSans-431\" x=\"261.328125\"/>\n       <use xlink:href=\"#DejaVuSans-440\" x=\"322.998047\"/>\n       <use xlink:href=\"#DejaVuSans-44c\" x=\"386.474609\"/>\n      </g>\n     </g>\n    </g>\n    <g id=\"text_13\">\n     <!-- Месяцы -->\n     <g transform=\"translate(392.345313 494.285) scale(0.1 -0.1)\">\n      <defs>\n       <path id=\"DejaVuSans-446\" d=\"M 3603 0 \nL 581 0 \nL 581 3500 \nL 1159 3500 \nL 1159 459 \nL 3025 459 \nL 3025 3500 \nL 3603 3500 \nL 3603 459 \nL 4063 459 \nL 4063 -884 \nL 3603 -884 \nL 3603 0 \nz\n\" transform=\"scale(0.015625)\"/>\n       <path id=\"DejaVuSans-44b\" d=\"M 3907 3500 \nL 4482 3500 \nL 4482 0 \nL 3907 0 \nL 3907 3500 \nz\nM 4195 3584 \nL 4195 3584 \nz\nM 2781 1038 \nQ 2781 1319 2576 1466 \nQ 2372 1613 1978 1613 \nL 1159 1613 \nL 1159 459 \nL 1978 459 \nQ 2372 459 2576 607 \nQ 2781 756 2781 1038 \nz\nM 581 3500 \nL 1159 3500 \nL 1159 2072 \nL 2003 2072 \nQ 2672 2072 3033 1817 \nQ 3394 1563 3394 1038 \nQ 3394 513 3033 256 \nQ 2672 0 2003 0 \nL 581 0 \nL 581 3500 \nz\n\" transform=\"scale(0.015625)\"/>\n      </defs>\n      <use xlink:href=\"#DejaVuSans-41c\"/>\n      <use xlink:href=\"#DejaVuSans-435\" x=\"86.279297\"/>\n      <use xlink:href=\"#DejaVuSans-441\" x=\"147.802734\"/>\n      <use xlink:href=\"#DejaVuSans-44f\" x=\"202.783203\"/>\n      <use xlink:href=\"#DejaVuSans-446\" x=\"262.939453\"/>\n      <use xlink:href=\"#DejaVuSans-44b\" x=\"331.005859\"/>\n     </g>\n    </g>\n   </g>\n   <g id=\"matplotlib.axis_2\">\n    <g id=\"ytick_1\">\n     <g id=\"line2d_13\">\n      <defs>\n       <path id=\"m9610950d67\" d=\"M 0 0 \nL -3.5 0 \n\" style=\"stroke: #000000; stroke-width: 0.8\"/>\n      </defs>\n      <g>\n       <use xlink:href=\"#m9610950d67\" x=\"50.14375\" y=\"447.843818\" style=\"stroke: #000000; stroke-width: 0.8\"/>\n      </g>\n     </g>\n     <g id=\"text_14\">\n      <!-- 5.0 -->\n      <g transform=\"translate(27.240625 451.643037) scale(0.1 -0.1)\">\n       <defs>\n        <path id=\"DejaVuSans-35\" d=\"M 691 4666 \nL 3169 4666 \nL 3169 4134 \nL 1269 4134 \nL 1269 2991 \nQ 1406 3038 1543 3061 \nQ 1681 3084 1819 3084 \nQ 2600 3084 3056 2656 \nQ 3513 2228 3513 1497 \nQ 3513 744 3044 326 \nQ 2575 -91 1722 -91 \nQ 1428 -91 1123 -41 \nQ 819 9 494 109 \nL 494 744 \nQ 775 591 1075 516 \nQ 1375 441 1709 441 \nQ 2250 441 2565 725 \nQ 2881 1009 2881 1497 \nQ 2881 1984 2565 2268 \nQ 2250 2553 1709 2553 \nQ 1456 2553 1204 2497 \nQ 953 2441 691 2322 \nL 691 4666 \nz\n\" transform=\"scale(0.015625)\"/>\n        <path id=\"DejaVuSans-2e\" d=\"M 684 794 \nL 1344 794 \nL 1344 0 \nL 684 0 \nL 684 794 \nz\n\" transform=\"scale(0.015625)\"/>\n        <path id=\"DejaVuSans-30\" d=\"M 2034 4250 \nQ 1547 4250 1301 3770 \nQ 1056 3291 1056 2328 \nQ 1056 1369 1301 889 \nQ 1547 409 2034 409 \nQ 2525 409 2770 889 \nQ 3016 1369 3016 2328 \nQ 3016 3291 2770 3770 \nQ 2525 4250 2034 4250 \nz\nM 2034 4750 \nQ 2819 4750 3233 4129 \nQ 3647 3509 3647 2328 \nQ 3647 1150 3233 529 \nQ 2819 -91 2034 -91 \nQ 1250 -91 836 529 \nQ 422 1150 422 2328 \nQ 422 3509 836 4129 \nQ 1250 4750 2034 4750 \nz\n\" transform=\"scale(0.015625)\"/>\n       </defs>\n       <use xlink:href=\"#DejaVuSans-35\"/>\n       <use xlink:href=\"#DejaVuSans-2e\" x=\"63.623047\"/>\n       <use xlink:href=\"#DejaVuSans-30\" x=\"95.410156\"/>\n      </g>\n     </g>\n    </g>\n    <g id=\"ytick_2\">\n     <g id=\"line2d_14\">\n      <g>\n       <use xlink:href=\"#m9610950d67\" x=\"50.14375\" y=\"388.646558\" style=\"stroke: #000000; stroke-width: 0.8\"/>\n      </g>\n     </g>\n     <g id=\"text_15\">\n      <!-- 7.5 -->\n      <g transform=\"translate(27.240625 392.445777) scale(0.1 -0.1)\">\n       <defs>\n        <path id=\"DejaVuSans-37\" d=\"M 525 4666 \nL 3525 4666 \nL 3525 4397 \nL 1831 0 \nL 1172 0 \nL 2766 4134 \nL 525 4134 \nL 525 4666 \nz\n\" transform=\"scale(0.015625)\"/>\n       </defs>\n       <use xlink:href=\"#DejaVuSans-37\"/>\n       <use xlink:href=\"#DejaVuSans-2e\" x=\"63.623047\"/>\n       <use xlink:href=\"#DejaVuSans-35\" x=\"95.410156\"/>\n      </g>\n     </g>\n    </g>\n    <g id=\"ytick_3\">\n     <g id=\"line2d_15\">\n      <g>\n       <use xlink:href=\"#m9610950d67\" x=\"50.14375\" y=\"329.449299\" style=\"stroke: #000000; stroke-width: 0.8\"/>\n      </g>\n     </g>\n     <g id=\"text_16\">\n      <!-- 10.0 -->\n      <g transform=\"translate(20.878125 333.248518) scale(0.1 -0.1)\">\n       <defs>\n        <path id=\"DejaVuSans-31\" d=\"M 794 531 \nL 1825 531 \nL 1825 4091 \nL 703 3866 \nL 703 4441 \nL 1819 4666 \nL 2450 4666 \nL 2450 531 \nL 3481 531 \nL 3481 0 \nL 794 0 \nL 794 531 \nz\n\" transform=\"scale(0.015625)\"/>\n       </defs>\n       <use xlink:href=\"#DejaVuSans-31\"/>\n       <use xlink:href=\"#DejaVuSans-30\" x=\"63.623047\"/>\n       <use xlink:href=\"#DejaVuSans-2e\" x=\"127.246094\"/>\n       <use xlink:href=\"#DejaVuSans-30\" x=\"159.033203\"/>\n      </g>\n     </g>\n    </g>\n    <g id=\"ytick_4\">\n     <g id=\"line2d_16\">\n      <g>\n       <use xlink:href=\"#m9610950d67\" x=\"50.14375\" y=\"270.252039\" style=\"stroke: #000000; stroke-width: 0.8\"/>\n      </g>\n     </g>\n     <g id=\"text_17\">\n      <!-- 12.5 -->\n      <g transform=\"translate(20.878125 274.051258) scale(0.1 -0.1)\">\n       <defs>\n        <path id=\"DejaVuSans-32\" d=\"M 1228 531 \nL 3431 531 \nL 3431 0 \nL 469 0 \nL 469 531 \nQ 828 903 1448 1529 \nQ 2069 2156 2228 2338 \nQ 2531 2678 2651 2914 \nQ 2772 3150 2772 3378 \nQ 2772 3750 2511 3984 \nQ 2250 4219 1831 4219 \nQ 1534 4219 1204 4116 \nQ 875 4013 500 3803 \nL 500 4441 \nQ 881 4594 1212 4672 \nQ 1544 4750 1819 4750 \nQ 2544 4750 2975 4387 \nQ 3406 4025 3406 3419 \nQ 3406 3131 3298 2873 \nQ 3191 2616 2906 2266 \nQ 2828 2175 2409 1742 \nQ 1991 1309 1228 531 \nz\n\" transform=\"scale(0.015625)\"/>\n       </defs>\n       <use xlink:href=\"#DejaVuSans-31\"/>\n       <use xlink:href=\"#DejaVuSans-32\" x=\"63.623047\"/>\n       <use xlink:href=\"#DejaVuSans-2e\" x=\"127.246094\"/>\n       <use xlink:href=\"#DejaVuSans-35\" x=\"159.033203\"/>\n      </g>\n     </g>\n    </g>\n    <g id=\"ytick_5\">\n     <g id=\"line2d_17\">\n      <g>\n       <use xlink:href=\"#m9610950d67\" x=\"50.14375\" y=\"211.05478\" style=\"stroke: #000000; stroke-width: 0.8\"/>\n      </g>\n     </g>\n     <g id=\"text_18\">\n      <!-- 15.0 -->\n      <g transform=\"translate(20.878125 214.853998) scale(0.1 -0.1)\">\n       <use xlink:href=\"#DejaVuSans-31\"/>\n       <use xlink:href=\"#DejaVuSans-35\" x=\"63.623047\"/>\n       <use xlink:href=\"#DejaVuSans-2e\" x=\"127.246094\"/>\n       <use xlink:href=\"#DejaVuSans-30\" x=\"159.033203\"/>\n      </g>\n     </g>\n    </g>\n    <g id=\"ytick_6\">\n     <g id=\"line2d_18\">\n      <g>\n       <use xlink:href=\"#m9610950d67\" x=\"50.14375\" y=\"151.85752\" style=\"stroke: #000000; stroke-width: 0.8\"/>\n      </g>\n     </g>\n     <g id=\"text_19\">\n      <!-- 17.5 -->\n      <g transform=\"translate(20.878125 155.656739) scale(0.1 -0.1)\">\n       <use xlink:href=\"#DejaVuSans-31\"/>\n       <use xlink:href=\"#DejaVuSans-37\" x=\"63.623047\"/>\n       <use xlink:href=\"#DejaVuSans-2e\" x=\"127.246094\"/>\n       <use xlink:href=\"#DejaVuSans-35\" x=\"159.033203\"/>\n      </g>\n     </g>\n    </g>\n    <g id=\"ytick_7\">\n     <g id=\"line2d_19\">\n      <g>\n       <use xlink:href=\"#m9610950d67\" x=\"50.14375\" y=\"92.660261\" style=\"stroke: #000000; stroke-width: 0.8\"/>\n      </g>\n     </g>\n     <g id=\"text_20\">\n      <!-- 20.0 -->\n      <g transform=\"translate(20.878125 96.459479) scale(0.1 -0.1)\">\n       <use xlink:href=\"#DejaVuSans-32\"/>\n       <use xlink:href=\"#DejaVuSans-30\" x=\"63.623047\"/>\n       <use xlink:href=\"#DejaVuSans-2e\" x=\"127.246094\"/>\n       <use xlink:href=\"#DejaVuSans-30\" x=\"159.033203\"/>\n      </g>\n     </g>\n    </g>\n    <g id=\"ytick_8\">\n     <g id=\"line2d_20\">\n      <g>\n       <use xlink:href=\"#m9610950d67\" x=\"50.14375\" y=\"33.463001\" style=\"stroke: #000000; stroke-width: 0.8\"/>\n      </g>\n     </g>\n     <g id=\"text_21\">\n      <!-- 22.5 -->\n      <g transform=\"translate(20.878125 37.26222) scale(0.1 -0.1)\">\n       <use xlink:href=\"#DejaVuSans-32\"/>\n       <use xlink:href=\"#DejaVuSans-32\" x=\"63.623047\"/>\n       <use xlink:href=\"#DejaVuSans-2e\" x=\"127.246094\"/>\n       <use xlink:href=\"#DejaVuSans-35\" x=\"159.033203\"/>\n      </g>\n     </g>\n    </g>\n    <g id=\"text_22\">\n     <!-- Среднее время задержки вылета (мин) -->\n     <g transform=\"translate(14.798438 348.572656) rotate(-90) scale(0.1 -0.1)\">\n      <defs>\n       <path id=\"DejaVuSans-434\" d=\"M 1384 459 \nL 3053 459 \nL 3053 3041 \nL 1844 3041 \nL 1844 2603 \nQ 1844 1316 1475 628 \nL 1384 459 \nz\nM 550 459 \nQ 834 584 959 850 \nQ 1266 1509 1266 2838 \nL 1266 3500 \nL 3631 3500 \nL 3631 459 \nL 4091 459 \nL 4091 -884 \nL 3631 -884 \nL 3631 0 \nL 794 0 \nL 794 -884 \nL 334 -884 \nL 334 459 \nL 550 459 \nz\n\" transform=\"scale(0.015625)\"/>\n       <path id=\"DejaVuSans-20\" transform=\"scale(0.015625)\"/>\n       <path id=\"DejaVuSans-43c\" d=\"M 581 3500 \nL 1422 3500 \nL 2416 1156 \nL 3413 3500 \nL 4247 3500 \nL 4247 0 \nL 3669 0 \nL 3669 2950 \nL 2703 672 \nL 2128 672 \nL 1159 2950 \nL 1159 0 \nL 581 0 \nL 581 3500 \nz\n\" transform=\"scale(0.015625)\"/>\n       <path id=\"DejaVuSans-437\" d=\"M 2206 1888 \nQ 2594 1813 2809 1584 \nQ 3025 1356 3025 1019 \nQ 3025 478 2622 193 \nQ 2219 -91 1475 -91 \nQ 1225 -91 961 -47 \nQ 697 -3 416 84 \nL 416 619 \nQ 638 503 903 445 \nQ 1169 388 1459 388 \nQ 1931 388 2195 563 \nQ 2459 738 2459 1019 \nQ 2459 1294 2225 1461 \nQ 1991 1628 1563 1628 \nL 1100 1628 \nL 1100 2103 \nL 1584 2103 \nQ 1947 2103 2158 2242 \nQ 2369 2381 2369 2600 \nQ 2369 2800 2151 2944 \nQ 1934 3088 1563 3088 \nQ 1341 3088 1089 3047 \nQ 838 3006 534 2916 \nL 534 3438 \nQ 841 3513 1106 3550 \nQ 1372 3588 1609 3588 \nQ 2222 3588 2576 3342 \nQ 2931 3097 2931 2656 \nQ 2931 2366 2743 2164 \nQ 2556 1963 2206 1888 \nz\n\" transform=\"scale(0.015625)\"/>\n       <path id=\"DejaVuSans-436\" d=\"M 2597 3500 \nL 3169 3500 \nL 3169 1856 \nL 4697 3500 \nL 5366 3500 \nL 4109 2153 \nL 5547 0 \nL 4931 0 \nL 3753 1769 \nL 3169 1141 \nL 3169 0 \nL 2597 0 \nL 2597 1141 \nL 2013 1769 \nL 834 0 \nL 219 0 \nL 1656 2153 \nL 400 3500 \nL 1069 3500 \nL 2597 1856 \nL 2597 3500 \nz\n\" transform=\"scale(0.015625)\"/>\n       <path id=\"DejaVuSans-438\" d=\"M 3578 3500 \nL 3578 0 \nL 3006 0 \nL 3006 2809 \nL 1319 0 \nL 581 0 \nL 581 3500 \nL 1153 3500 \nL 1153 697 \nL 2838 3500 \nL 3578 3500 \nz\n\" transform=\"scale(0.015625)\"/>\n       <path id=\"DejaVuSans-28\" d=\"M 1984 4856 \nQ 1566 4138 1362 3434 \nQ 1159 2731 1159 2009 \nQ 1159 1288 1364 580 \nQ 1569 -128 1984 -844 \nL 1484 -844 \nQ 1016 -109 783 600 \nQ 550 1309 550 2009 \nQ 550 2706 781 3412 \nQ 1013 4119 1484 4856 \nL 1984 4856 \nz\n\" transform=\"scale(0.015625)\"/>\n       <path id=\"DejaVuSans-29\" d=\"M 513 4856 \nL 1013 4856 \nQ 1481 4119 1714 3412 \nQ 1947 2706 1947 2009 \nQ 1947 1309 1714 600 \nQ 1481 -109 1013 -844 \nL 513 -844 \nQ 928 -128 1133 580 \nQ 1338 1288 1338 2009 \nQ 1338 2731 1133 3434 \nQ 928 4138 513 4856 \nz\n\" transform=\"scale(0.015625)\"/>\n      </defs>\n      <use xlink:href=\"#DejaVuSans-421\"/>\n      <use xlink:href=\"#DejaVuSans-440\" x=\"69.824219\"/>\n      <use xlink:href=\"#DejaVuSans-435\" x=\"133.300781\"/>\n      <use xlink:href=\"#DejaVuSans-434\" x=\"194.824219\"/>\n      <use xlink:href=\"#DejaVuSans-43d\" x=\"263.964844\"/>\n      <use xlink:href=\"#DejaVuSans-435\" x=\"329.345703\"/>\n      <use xlink:href=\"#DejaVuSans-435\" x=\"390.869141\"/>\n      <use xlink:href=\"#DejaVuSans-20\" x=\"452.392578\"/>\n      <use xlink:href=\"#DejaVuSans-432\" x=\"484.179688\"/>\n      <use xlink:href=\"#DejaVuSans-440\" x=\"543.115234\"/>\n      <use xlink:href=\"#DejaVuSans-435\" x=\"606.591797\"/>\n      <use xlink:href=\"#DejaVuSans-43c\" x=\"668.115234\"/>\n      <use xlink:href=\"#DejaVuSans-44f\" x=\"743.554688\"/>\n      <use xlink:href=\"#DejaVuSans-20\" x=\"803.710938\"/>\n      <use xlink:href=\"#DejaVuSans-437\" x=\"835.498047\"/>\n      <use xlink:href=\"#DejaVuSans-430\" x=\"888.671875\"/>\n      <use xlink:href=\"#DejaVuSans-434\" x=\"949.951172\"/>\n      <use xlink:href=\"#DejaVuSans-435\" x=\"1019.091797\"/>\n      <use xlink:href=\"#DejaVuSans-440\" x=\"1080.615234\"/>\n      <use xlink:href=\"#DejaVuSans-436\" x=\"1144.091797\"/>\n      <use xlink:href=\"#DejaVuSans-43a\" x=\"1234.179688\"/>\n      <use xlink:href=\"#DejaVuSans-438\" x=\"1294.580078\"/>\n      <use xlink:href=\"#DejaVuSans-20\" x=\"1359.570312\"/>\n      <use xlink:href=\"#DejaVuSans-432\" x=\"1391.357422\"/>\n      <use xlink:href=\"#DejaVuSans-44b\" x=\"1450.292969\"/>\n      <use xlink:href=\"#DejaVuSans-43b\" x=\"1529.248047\"/>\n      <use xlink:href=\"#DejaVuSans-435\" x=\"1593.164062\"/>\n      <use xlink:href=\"#DejaVuSans-442\" x=\"1654.6875\"/>\n      <use xlink:href=\"#DejaVuSans-430\" x=\"1712.939453\"/>\n      <use xlink:href=\"#DejaVuSans-20\" x=\"1774.21875\"/>\n      <use xlink:href=\"#DejaVuSans-28\" x=\"1806.005859\"/>\n      <use xlink:href=\"#DejaVuSans-43c\" x=\"1845.019531\"/>\n      <use xlink:href=\"#DejaVuSans-438\" x=\"1920.458984\"/>\n      <use xlink:href=\"#DejaVuSans-43d\" x=\"1985.449219\"/>\n      <use xlink:href=\"#DejaVuSans-29\" x=\"2050.830078\"/>\n     </g>\n    </g>\n   </g>\n   <g id=\"line2d_21\">\n    <path d=\"M 83.116477 329.792848 \nL 143.06689 311.447676 \nL 203.017304 254.522397 \nL 262.967717 238.304762 \nL 322.91813 260.976792 \nL 382.868543 75.478516 \nL 442.818957 56.616739 \nL 502.76937 268.582099 \nL 562.719783 409.240454 \nL 622.670196 418.643587 \nL 682.62061 437.890619 \nL 742.571023 175.958823 \n\" clip-path=\"url(#p7b2662028d)\" style=\"fill: none; stroke: #ff0000; stroke-width: 1.5; stroke-linecap: square\"/>\n    <defs>\n     <path id=\"m5d887cfab1\" d=\"M 0 3 \nC 0.795609 3 1.55874 2.683901 2.12132 2.12132 \nC 2.683901 1.55874 3 0.795609 3 0 \nC 3 -0.795609 2.683901 -1.55874 2.12132 -2.12132 \nC 1.55874 -2.683901 0.795609 -3 0 -3 \nC -0.795609 -3 -1.55874 -2.683901 -2.12132 -2.12132 \nC -2.683901 -1.55874 -3 -0.795609 -3 0 \nC -3 0.795609 -2.683901 1.55874 -2.12132 2.12132 \nC -1.55874 2.683901 -0.795609 3 0 3 \nz\n\" style=\"stroke: #ff0000\"/>\n    </defs>\n    <g clip-path=\"url(#p7b2662028d)\">\n     <use xlink:href=\"#m5d887cfab1\" x=\"83.116477\" y=\"329.792848\" style=\"fill: #ff0000; stroke: #ff0000\"/>\n     <use xlink:href=\"#m5d887cfab1\" x=\"143.06689\" y=\"311.447676\" style=\"fill: #ff0000; stroke: #ff0000\"/>\n     <use xlink:href=\"#m5d887cfab1\" x=\"203.017304\" y=\"254.522397\" style=\"fill: #ff0000; stroke: #ff0000\"/>\n     <use xlink:href=\"#m5d887cfab1\" x=\"262.967717\" y=\"238.304762\" style=\"fill: #ff0000; stroke: #ff0000\"/>\n     <use xlink:href=\"#m5d887cfab1\" x=\"322.91813\" y=\"260.976792\" style=\"fill: #ff0000; stroke: #ff0000\"/>\n     <use xlink:href=\"#m5d887cfab1\" x=\"382.868543\" y=\"75.478516\" style=\"fill: #ff0000; stroke: #ff0000\"/>\n     <use xlink:href=\"#m5d887cfab1\" x=\"442.818957\" y=\"56.616739\" style=\"fill: #ff0000; stroke: #ff0000\"/>\n     <use xlink:href=\"#m5d887cfab1\" x=\"502.76937\" y=\"268.582099\" style=\"fill: #ff0000; stroke: #ff0000\"/>\n     <use xlink:href=\"#m5d887cfab1\" x=\"562.719783\" y=\"409.240454\" style=\"fill: #ff0000; stroke: #ff0000\"/>\n     <use xlink:href=\"#m5d887cfab1\" x=\"622.670196\" y=\"418.643587\" style=\"fill: #ff0000; stroke: #ff0000\"/>\n     <use xlink:href=\"#m5d887cfab1\" x=\"682.62061\" y=\"437.890619\" style=\"fill: #ff0000; stroke: #ff0000\"/>\n     <use xlink:href=\"#m5d887cfab1\" x=\"742.571023\" y=\"175.958823\" style=\"fill: #ff0000; stroke: #ff0000\"/>\n    </g>\n   </g>\n   <g id=\"line2d_22\">\n    <path d=\"M 83.116477 340.164291 \nL 143.06689 322.371511 \nL 203.017304 265.649634 \nL 262.967717 250.294849 \nL 322.91813 271.819599 \nL 382.868543 89.945283 \nL 442.818957 70.755354 \nL 502.76937 278.871867 \nL 562.719783 419.257312 \nL 622.670196 426.781509 \nL 682.62061 445.678125 \nL 742.571023 187.741453 \n\" clip-path=\"url(#p7b2662028d)\" style=\"fill: none; stroke: #000000; stroke-width: 1.5; stroke-linecap: square\"/>\n   </g>\n   <g id=\"line2d_23\">\n    <path d=\"M 83.116477 319.421405 \nL 143.06689 300.52384 \nL 203.017304 243.39516 \nL 262.967717 226.314675 \nL 322.91813 250.133985 \nL 382.868543 61.011748 \nL 442.818957 42.478125 \nL 502.76937 258.29233 \nL 562.719783 399.223597 \nL 622.670196 410.505666 \nL 682.62061 430.103113 \nL 742.571023 164.176194 \n\" clip-path=\"url(#p7b2662028d)\" style=\"fill: none; stroke: #000000; stroke-width: 1.5; stroke-linecap: square\"/>\n   </g>\n   <g id=\"patch_3\">\n    <path d=\"M 50.14375 465.838125 \nL 50.14375 22.318125 \n\" style=\"fill: none; stroke: #000000; stroke-width: 0.8; stroke-linejoin: miter; stroke-linecap: square\"/>\n   </g>\n   <g id=\"patch_4\">\n    <path d=\"M 775.54375 465.838125 \nL 775.54375 22.318125 \n\" style=\"fill: none; stroke: #000000; stroke-width: 0.8; stroke-linejoin: miter; stroke-linecap: square\"/>\n   </g>\n   <g id=\"patch_5\">\n    <path d=\"M 50.14375 465.838125 \nL 775.54375 465.838125 \n\" style=\"fill: none; stroke: #000000; stroke-width: 0.8; stroke-linejoin: miter; stroke-linecap: square\"/>\n   </g>\n   <g id=\"patch_6\">\n    <path d=\"M 50.14375 22.318125 \nL 775.54375 22.318125 \n\" style=\"fill: none; stroke: #000000; stroke-width: 0.8; stroke-linejoin: miter; stroke-linecap: square\"/>\n   </g>\n   <g id=\"text_23\">\n    <!-- Среднее время задержки вылета по месяцам  -->\n    <g transform=\"translate(265.659063 16.318125) scale(0.12 -0.12)\">\n     <use xlink:href=\"#DejaVuSans-421\"/>\n     <use xlink:href=\"#DejaVuSans-440\" x=\"69.824219\"/>\n     <use xlink:href=\"#DejaVuSans-435\" x=\"133.300781\"/>\n     <use xlink:href=\"#DejaVuSans-434\" x=\"194.824219\"/>\n     <use xlink:href=\"#DejaVuSans-43d\" x=\"263.964844\"/>\n     <use xlink:href=\"#DejaVuSans-435\" x=\"329.345703\"/>\n     <use xlink:href=\"#DejaVuSans-435\" x=\"390.869141\"/>\n     <use xlink:href=\"#DejaVuSans-20\" x=\"452.392578\"/>\n     <use xlink:href=\"#DejaVuSans-432\" x=\"484.179688\"/>\n     <use xlink:href=\"#DejaVuSans-440\" x=\"543.115234\"/>\n     <use xlink:href=\"#DejaVuSans-435\" x=\"606.591797\"/>\n     <use xlink:href=\"#DejaVuSans-43c\" x=\"668.115234\"/>\n     <use xlink:href=\"#DejaVuSans-44f\" x=\"743.554688\"/>\n     <use xlink:href=\"#DejaVuSans-20\" x=\"803.710938\"/>\n     <use xlink:href=\"#DejaVuSans-437\" x=\"835.498047\"/>\n     <use xlink:href=\"#DejaVuSans-430\" x=\"888.671875\"/>\n     <use xlink:href=\"#DejaVuSans-434\" x=\"949.951172\"/>\n     <use xlink:href=\"#DejaVuSans-435\" x=\"1019.091797\"/>\n     <use xlink:href=\"#DejaVuSans-440\" x=\"1080.615234\"/>\n     <use xlink:href=\"#DejaVuSans-436\" x=\"1144.091797\"/>\n     <use xlink:href=\"#DejaVuSans-43a\" x=\"1234.179688\"/>\n     <use xlink:href=\"#DejaVuSans-438\" x=\"1294.580078\"/>\n     <use xlink:href=\"#DejaVuSans-20\" x=\"1359.570312\"/>\n     <use xlink:href=\"#DejaVuSans-432\" x=\"1391.357422\"/>\n     <use xlink:href=\"#DejaVuSans-44b\" x=\"1450.292969\"/>\n     <use xlink:href=\"#DejaVuSans-43b\" x=\"1529.248047\"/>\n     <use xlink:href=\"#DejaVuSans-435\" x=\"1593.164062\"/>\n     <use xlink:href=\"#DejaVuSans-442\" x=\"1654.6875\"/>\n     <use xlink:href=\"#DejaVuSans-430\" x=\"1712.939453\"/>\n     <use xlink:href=\"#DejaVuSans-20\" x=\"1774.21875\"/>\n     <use xlink:href=\"#DejaVuSans-43f\" x=\"1806.005859\"/>\n     <use xlink:href=\"#DejaVuSans-43e\" x=\"1871.386719\"/>\n     <use xlink:href=\"#DejaVuSans-20\" x=\"1932.568359\"/>\n     <use xlink:href=\"#DejaVuSans-43c\" x=\"1964.355469\"/>\n     <use xlink:href=\"#DejaVuSans-435\" x=\"2039.794922\"/>\n     <use xlink:href=\"#DejaVuSans-441\" x=\"2101.318359\"/>\n     <use xlink:href=\"#DejaVuSans-44f\" x=\"2156.298828\"/>\n     <use xlink:href=\"#DejaVuSans-446\" x=\"2216.455078\"/>\n     <use xlink:href=\"#DejaVuSans-430\" x=\"2284.521484\"/>\n     <use xlink:href=\"#DejaVuSans-43c\" x=\"2345.800781\"/>\n     <use xlink:href=\"#DejaVuSans-20\" x=\"2421.240234\"/>\n    </g>\n   </g>\n  </g>\n </g>\n <defs>\n  <clipPath id=\"p7b2662028d\">\n   <rect x=\"50.14375\" y=\"22.318125\" width=\"725.4\" height=\"443.52\"/>\n  </clipPath>\n </defs>\n</svg>\n"
          },
          "metadata": {}
        }
      ],
      "source": [
        "rcParams['figure.figsize'] = 13,8\n",
        "plt.plot(Month, dep_delay_month_average, color = 'red', marker = 'o')\n",
        "plt.plot(Month, dots, color = 'black')\n",
        "plt.fill_between(Month, y1=y1, y2=y2, color = '#E5E4E2')\n",
        "plt.xlabel('Месяцы')\n",
        "plt.ylabel('Среднее время задержки вылета (мин)')\n",
        "plt.title('Среднее время задержки вылета по месяцам ')"
      ]
    },
    {
      "cell_type": "markdown",
      "id": "792f223e-21fd-4951-b8a7-da3bdda47f98",
      "metadata": {
        "id": "792f223e-21fd-4951-b8a7-da3bdda47f98"
      },
      "source": [
        "Для проверки равенства средних воспользуемся t-тестом."
      ]
    },
    {
      "cell_type": "code",
      "execution_count": 20,
      "id": "593f08bd-2adc-4771-96c0-5cc35f606a52",
      "metadata": {
        "id": "593f08bd-2adc-4771-96c0-5cc35f606a52"
      },
      "outputs": [],
      "source": [
        "first_Group = df[df['month'] == 1]['dep_delay']\n",
        "second_Group = df[df['month'] == 2]['dep_delay']"
      ]
    },
    {
      "cell_type": "code",
      "execution_count": 21,
      "id": "0b647ca6-c3ae-4847-a975-5dfc7d376fb8",
      "metadata": {
        "colab": {
          "base_uri": "https://localhost:8080/"
        },
        "id": "0b647ca6-c3ae-4847-a975-5dfc7d376fb8",
        "outputId": "933df2be-24de-4899-b70a-bf066e7bae31"
      },
      "outputs": [
        {
          "output_type": "stream",
          "name": "stdout",
          "text": [
            "P-значение: 0.017013366495100535\n"
          ]
        }
      ],
      "source": [
        "statistics, p = stats.ttest_ind(first_Group, second_Group)\n",
        "print('P-значение:', p)"
      ]
    },
    {
      "cell_type": "markdown",
      "id": "19f36176-95cf-4448-bae6-dade55c90a9e",
      "metadata": {
        "id": "19f36176-95cf-4448-bae6-dade55c90a9e"
      },
      "source": [
        "#### Видим, что p-value = 0.017\n",
        "При $\\alpha = 0.05$ => $p-value < \\alpha$. Тогда следует отвергнуть нулевую гипотезу о равенстве средних. <br>\n",
        "**На уровне значимости 0.01**, то есть при $\\alpha = 0.01$ => $p-value > \\alpha$. <br>\n",
        "**На уровне значимости $\\alpha = 0.01$ можем принять гипотезу о том, что средние в январе и феврале равны.**"
      ]
    },
    {
      "cell_type": "markdown",
      "id": "2ca7294c-c690-4bd0-880e-949fb1473553",
      "metadata": {
        "id": "2ca7294c-c690-4bd0-880e-949fb1473553"
      },
      "source": [
        "### Задание 4: *Найдите коэффициент корреляции между расстоянием distance и временем полета air_time. Постройте точечную диаграмму в осях distance (х) и air_time (y). Найдите коэффициенты линейной регрессии и нанесите полученную прямую на график. Как можно интерпретировать смысл коэффициентов полученной линейной модели?*"
      ]
    },
    {
      "cell_type": "code",
      "execution_count": 22,
      "id": "b9755e46-2ed3-42e4-9349-cb2b940399c3",
      "metadata": {
        "id": "b9755e46-2ed3-42e4-9349-cb2b940399c3"
      },
      "outputs": [],
      "source": [
        "distance = df['distance']\n",
        "airtime = df['air_time']"
      ]
    },
    {
      "cell_type": "code",
      "execution_count": 23,
      "id": "0d6d5863-1010-4949-a51f-e3fde9dc000c",
      "metadata": {
        "colab": {
          "base_uri": "https://localhost:8080/"
        },
        "id": "0d6d5863-1010-4949-a51f-e3fde9dc000c",
        "outputId": "9452efe9-2a68-4f54-d9a5-69fa8b72a7b3"
      },
      "outputs": [
        {
          "output_type": "stream",
          "name": "stdout",
          "text": [
            "Коэффициент корреляции: 0.990649647224856\n",
            "P-значение: 0.0\n"
          ]
        }
      ],
      "source": [
        "corr, p_value = stats.pearsonr(distance, airtime)\n",
        "print('Коэффициент корреляции:', corr)\n",
        "print('P-значение:', p_value)"
      ]
    },
    {
      "cell_type": "markdown",
      "id": "9b89d1ed-f2d8-48e3-879b-54f309d12a5f",
      "metadata": {
        "id": "9b89d1ed-f2d8-48e3-879b-54f309d12a5f"
      },
      "source": [
        "У данного критерия нулевая гипотеза: данные некоррелированы. <br> $p-value = 0$ => **отвергаем $H_0$ => подтвердили коррелированность**"
      ]
    },
    {
      "cell_type": "code",
      "execution_count": 24,
      "id": "c4e00d2c-dae6-4a7a-8a16-4a019a0c77da",
      "metadata": {
        "id": "c4e00d2c-dae6-4a7a-8a16-4a019a0c77da"
      },
      "outputs": [],
      "source": [
        "list_data = ['distance', 'air_time']"
      ]
    },
    {
      "cell_type": "code",
      "execution_count": 27,
      "id": "f0ff7117-58d2-4319-acce-3d080a8f73a1",
      "metadata": {
        "colab": {
          "base_uri": "https://localhost:8080/",
          "height": 727
        },
        "id": "f0ff7117-58d2-4319-acce-3d080a8f73a1",
        "outputId": "e1f80c3a-7091-4132-c81e-9a3c7366d100"
      },
      "outputs": [
        {
          "output_type": "stream",
          "name": "stdout",
          "text": [
            "Уравнение линейной зависимости (зависимость времени полета от расстояния):  \n",
            "0.1261 x + 18.47\n"
          ]
        },
        {
          "output_type": "display_data",
          "data": {
            "text/plain": [
              "<Figure size 1300x800 with 1 Axes>"
            ],
            "image/svg+xml": "<?xml version=\"1.0\" encoding=\"utf-8\" standalone=\"no\"?>\n<!DOCTYPE svg PUBLIC \"-//W3C//DTD SVG 1.1//EN\"\n  \"http://www.w3.org/Graphics/SVG/1.1/DTD/svg11.dtd\">\n<svg xmlns:xlink=\"http://www.w3.org/1999/xlink\" width=\"779.565625pt\" height=\"503.394375pt\" viewBox=\"0 0 779.565625 503.394375\" xmlns=\"http://www.w3.org/2000/svg\" version=\"1.1\">\n <metadata>\n  <rdf:RDF xmlns:dc=\"http://purl.org/dc/elements/1.1/\" xmlns:cc=\"http://creativecommons.org/ns#\" xmlns:rdf=\"http://www.w3.org/1999/02/22-rdf-syntax-ns#\">\n   <cc:Work>\n    <dc:type rdf:resource=\"http://purl.org/dc/dcmitype/StillImage\"/>\n    <dc:date>2024-05-20T12:32:21.584462</dc:date>\n    <dc:format>image/svg+xml</dc:format>\n    <dc:creator>\n     <cc:Agent>\n      <dc:title>Matplotlib v3.7.1, https://matplotlib.org/</dc:title>\n     </cc:Agent>\n    </dc:creator>\n   </cc:Work>\n  </rdf:RDF>\n </metadata>\n <defs>\n  <style type=\"text/css\">*{stroke-linejoin: round; stroke-linecap: butt}</style>\n </defs>\n <g id=\"figure_1\">\n  <g id=\"patch_1\">\n   <path d=\"M 0 503.394375 \nL 779.565625 503.394375 \nL 779.565625 0 \nL 0 0 \nz\n\" style=\"fill: #ffffff\"/>\n  </g>\n  <g id=\"axes_1\">\n   <g id=\"patch_2\">\n    <path d=\"M 46.965625 465.838125 \nL 772.365625 465.838125 \nL 772.365625 22.318125 \nL 46.965625 22.318125 \nz\n\" style=\"fill: #ffffff\"/>\n   </g>\n   <g id=\"matplotlib.axis_1\">\n    <g id=\"xtick_1\">\n     <g id=\"line2d_1\">\n      <defs>\n       <path id=\"mb3f126402e\" d=\"M 0 0 \nL 0 3.5 \n\" style=\"stroke: #000000; stroke-width: 0.8\"/>\n      </defs>\n      <g>\n       <use xlink:href=\"#mb3f126402e\" x=\"69.178335\" y=\"465.838125\" style=\"stroke: #000000; stroke-width: 0.8\"/>\n      </g>\n     </g>\n     <g id=\"text_1\">\n      <!-- 0 -->\n      <g transform=\"translate(65.997085 480.436562) scale(0.1 -0.1)\">\n       <defs>\n        <path id=\"DejaVuSans-30\" d=\"M 2034 4250 \nQ 1547 4250 1301 3770 \nQ 1056 3291 1056 2328 \nQ 1056 1369 1301 889 \nQ 1547 409 2034 409 \nQ 2525 409 2770 889 \nQ 3016 1369 3016 2328 \nQ 3016 3291 2770 3770 \nQ 2525 4250 2034 4250 \nz\nM 2034 4750 \nQ 2819 4750 3233 4129 \nQ 3647 3509 3647 2328 \nQ 3647 1150 3233 529 \nQ 2819 -91 2034 -91 \nQ 1250 -91 836 529 \nQ 422 1150 422 2328 \nQ 422 3509 836 4129 \nQ 1250 4750 2034 4750 \nz\n\" transform=\"scale(0.015625)\"/>\n       </defs>\n       <use xlink:href=\"#DejaVuSans-30\"/>\n      </g>\n     </g>\n    </g>\n    <g id=\"xtick_2\">\n     <g id=\"line2d_2\">\n      <g>\n       <use xlink:href=\"#mb3f126402e\" x=\"203.678548\" y=\"465.838125\" style=\"stroke: #000000; stroke-width: 0.8\"/>\n      </g>\n     </g>\n     <g id=\"text_2\">\n      <!-- 1000 -->\n      <g transform=\"translate(190.953548 480.436562) scale(0.1 -0.1)\">\n       <defs>\n        <path id=\"DejaVuSans-31\" d=\"M 794 531 \nL 1825 531 \nL 1825 4091 \nL 703 3866 \nL 703 4441 \nL 1819 4666 \nL 2450 4666 \nL 2450 531 \nL 3481 531 \nL 3481 0 \nL 794 0 \nL 794 531 \nz\n\" transform=\"scale(0.015625)\"/>\n       </defs>\n       <use xlink:href=\"#DejaVuSans-31\"/>\n       <use xlink:href=\"#DejaVuSans-30\" x=\"63.623047\"/>\n       <use xlink:href=\"#DejaVuSans-30\" x=\"127.246094\"/>\n       <use xlink:href=\"#DejaVuSans-30\" x=\"190.869141\"/>\n      </g>\n     </g>\n    </g>\n    <g id=\"xtick_3\">\n     <g id=\"line2d_3\">\n      <g>\n       <use xlink:href=\"#mb3f126402e\" x=\"338.178762\" y=\"465.838125\" style=\"stroke: #000000; stroke-width: 0.8\"/>\n      </g>\n     </g>\n     <g id=\"text_3\">\n      <!-- 2000 -->\n      <g transform=\"translate(325.453762 480.436562) scale(0.1 -0.1)\">\n       <defs>\n        <path id=\"DejaVuSans-32\" d=\"M 1228 531 \nL 3431 531 \nL 3431 0 \nL 469 0 \nL 469 531 \nQ 828 903 1448 1529 \nQ 2069 2156 2228 2338 \nQ 2531 2678 2651 2914 \nQ 2772 3150 2772 3378 \nQ 2772 3750 2511 3984 \nQ 2250 4219 1831 4219 \nQ 1534 4219 1204 4116 \nQ 875 4013 500 3803 \nL 500 4441 \nQ 881 4594 1212 4672 \nQ 1544 4750 1819 4750 \nQ 2544 4750 2975 4387 \nQ 3406 4025 3406 3419 \nQ 3406 3131 3298 2873 \nQ 3191 2616 2906 2266 \nQ 2828 2175 2409 1742 \nQ 1991 1309 1228 531 \nz\n\" transform=\"scale(0.015625)\"/>\n       </defs>\n       <use xlink:href=\"#DejaVuSans-32\"/>\n       <use xlink:href=\"#DejaVuSans-30\" x=\"63.623047\"/>\n       <use xlink:href=\"#DejaVuSans-30\" x=\"127.246094\"/>\n       <use xlink:href=\"#DejaVuSans-30\" x=\"190.869141\"/>\n      </g>\n     </g>\n    </g>\n    <g id=\"xtick_4\">\n     <g id=\"line2d_4\">\n      <g>\n       <use xlink:href=\"#mb3f126402e\" x=\"472.678975\" y=\"465.838125\" style=\"stroke: #000000; stroke-width: 0.8\"/>\n      </g>\n     </g>\n     <g id=\"text_4\">\n      <!-- 3000 -->\n      <g transform=\"translate(459.953975 480.436562) scale(0.1 -0.1)\">\n       <defs>\n        <path id=\"DejaVuSans-33\" d=\"M 2597 2516 \nQ 3050 2419 3304 2112 \nQ 3559 1806 3559 1356 \nQ 3559 666 3084 287 \nQ 2609 -91 1734 -91 \nQ 1441 -91 1130 -33 \nQ 819 25 488 141 \nL 488 750 \nQ 750 597 1062 519 \nQ 1375 441 1716 441 \nQ 2309 441 2620 675 \nQ 2931 909 2931 1356 \nQ 2931 1769 2642 2001 \nQ 2353 2234 1838 2234 \nL 1294 2234 \nL 1294 2753 \nL 1863 2753 \nQ 2328 2753 2575 2939 \nQ 2822 3125 2822 3475 \nQ 2822 3834 2567 4026 \nQ 2313 4219 1838 4219 \nQ 1578 4219 1281 4162 \nQ 984 4106 628 3988 \nL 628 4550 \nQ 988 4650 1302 4700 \nQ 1616 4750 1894 4750 \nQ 2613 4750 3031 4423 \nQ 3450 4097 3450 3541 \nQ 3450 3153 3228 2886 \nQ 3006 2619 2597 2516 \nz\n\" transform=\"scale(0.015625)\"/>\n       </defs>\n       <use xlink:href=\"#DejaVuSans-33\"/>\n       <use xlink:href=\"#DejaVuSans-30\" x=\"63.623047\"/>\n       <use xlink:href=\"#DejaVuSans-30\" x=\"127.246094\"/>\n       <use xlink:href=\"#DejaVuSans-30\" x=\"190.869141\"/>\n      </g>\n     </g>\n    </g>\n    <g id=\"xtick_5\">\n     <g id=\"line2d_5\">\n      <g>\n       <use xlink:href=\"#mb3f126402e\" x=\"607.179188\" y=\"465.838125\" style=\"stroke: #000000; stroke-width: 0.8\"/>\n      </g>\n     </g>\n     <g id=\"text_5\">\n      <!-- 4000 -->\n      <g transform=\"translate(594.454188 480.436562) scale(0.1 -0.1)\">\n       <defs>\n        <path id=\"DejaVuSans-34\" d=\"M 2419 4116 \nL 825 1625 \nL 2419 1625 \nL 2419 4116 \nz\nM 2253 4666 \nL 3047 4666 \nL 3047 1625 \nL 3713 1625 \nL 3713 1100 \nL 3047 1100 \nL 3047 0 \nL 2419 0 \nL 2419 1100 \nL 313 1100 \nL 313 1709 \nL 2253 4666 \nz\n\" transform=\"scale(0.015625)\"/>\n       </defs>\n       <use xlink:href=\"#DejaVuSans-34\"/>\n       <use xlink:href=\"#DejaVuSans-30\" x=\"63.623047\"/>\n       <use xlink:href=\"#DejaVuSans-30\" x=\"127.246094\"/>\n       <use xlink:href=\"#DejaVuSans-30\" x=\"190.869141\"/>\n      </g>\n     </g>\n    </g>\n    <g id=\"xtick_6\">\n     <g id=\"line2d_6\">\n      <g>\n       <use xlink:href=\"#mb3f126402e\" x=\"741.679401\" y=\"465.838125\" style=\"stroke: #000000; stroke-width: 0.8\"/>\n      </g>\n     </g>\n     <g id=\"text_6\">\n      <!-- 5000 -->\n      <g transform=\"translate(728.954401 480.436562) scale(0.1 -0.1)\">\n       <defs>\n        <path id=\"DejaVuSans-35\" d=\"M 691 4666 \nL 3169 4666 \nL 3169 4134 \nL 1269 4134 \nL 1269 2991 \nQ 1406 3038 1543 3061 \nQ 1681 3084 1819 3084 \nQ 2600 3084 3056 2656 \nQ 3513 2228 3513 1497 \nQ 3513 744 3044 326 \nQ 2575 -91 1722 -91 \nQ 1428 -91 1123 -41 \nQ 819 9 494 109 \nL 494 744 \nQ 775 591 1075 516 \nQ 1375 441 1709 441 \nQ 2250 441 2565 725 \nQ 2881 1009 2881 1497 \nQ 2881 1984 2565 2268 \nQ 2250 2553 1709 2553 \nQ 1456 2553 1204 2497 \nQ 953 2441 691 2322 \nL 691 4666 \nz\n\" transform=\"scale(0.015625)\"/>\n       </defs>\n       <use xlink:href=\"#DejaVuSans-35\"/>\n       <use xlink:href=\"#DejaVuSans-30\" x=\"63.623047\"/>\n       <use xlink:href=\"#DejaVuSans-30\" x=\"127.246094\"/>\n       <use xlink:href=\"#DejaVuSans-30\" x=\"190.869141\"/>\n      </g>\n     </g>\n    </g>\n    <g id=\"text_7\">\n     <!-- Расстояние (км) -->\n     <g transform=\"translate(367.23125 494.114687) scale(0.1 -0.1)\">\n      <defs>\n       <path id=\"DejaVuSans-420\" d=\"M 1259 4147 \nL 1259 2394 \nL 2053 2394 \nQ 2494 2394 2734 2622 \nQ 2975 2850 2975 3272 \nQ 2975 3691 2734 3919 \nQ 2494 4147 2053 4147 \nL 1259 4147 \nz\nM 628 4666 \nL 2053 4666 \nQ 2838 4666 3239 4311 \nQ 3641 3956 3641 3272 \nQ 3641 2581 3239 2228 \nQ 2838 1875 2053 1875 \nL 1259 1875 \nL 1259 0 \nL 628 0 \nL 628 4666 \nz\n\" transform=\"scale(0.015625)\"/>\n       <path id=\"DejaVuSans-430\" d=\"M 2194 1759 \nQ 1497 1759 1228 1600 \nQ 959 1441 959 1056 \nQ 959 750 1161 570 \nQ 1363 391 1709 391 \nQ 2188 391 2477 730 \nQ 2766 1069 2766 1631 \nL 2766 1759 \nL 2194 1759 \nz\nM 3341 1997 \nL 3341 0 \nL 2766 0 \nL 2766 531 \nQ 2569 213 2275 61 \nQ 1981 -91 1556 -91 \nQ 1019 -91 701 211 \nQ 384 513 384 1019 \nQ 384 1609 779 1909 \nQ 1175 2209 1959 2209 \nL 2766 2209 \nL 2766 2266 \nQ 2766 2663 2505 2880 \nQ 2244 3097 1772 3097 \nQ 1472 3097 1187 3025 \nQ 903 2953 641 2809 \nL 641 3341 \nQ 956 3463 1253 3523 \nQ 1550 3584 1831 3584 \nQ 2591 3584 2966 3190 \nQ 3341 2797 3341 1997 \nz\n\" transform=\"scale(0.015625)\"/>\n       <path id=\"DejaVuSans-441\" d=\"M 3122 3366 \nL 3122 2828 \nQ 2878 2963 2633 3030 \nQ 2388 3097 2138 3097 \nQ 1578 3097 1268 2742 \nQ 959 2388 959 1747 \nQ 959 1106 1268 751 \nQ 1578 397 2138 397 \nQ 2388 397 2633 464 \nQ 2878 531 3122 666 \nL 3122 134 \nQ 2881 22 2623 -34 \nQ 2366 -91 2075 -91 \nQ 1284 -91 818 406 \nQ 353 903 353 1747 \nQ 353 2603 823 3093 \nQ 1294 3584 2113 3584 \nQ 2378 3584 2631 3529 \nQ 2884 3475 3122 3366 \nz\n\" transform=\"scale(0.015625)\"/>\n       <path id=\"DejaVuSans-442\" d=\"M 188 3500 \nL 3541 3500 \nL 3541 3041 \nL 2147 3041 \nL 2147 0 \nL 1581 0 \nL 1581 3041 \nL 188 3041 \nL 188 3500 \nz\n\" transform=\"scale(0.015625)\"/>\n       <path id=\"DejaVuSans-43e\" d=\"M 1959 3097 \nQ 1497 3097 1228 2736 \nQ 959 2375 959 1747 \nQ 959 1119 1226 758 \nQ 1494 397 1959 397 \nQ 2419 397 2687 759 \nQ 2956 1122 2956 1747 \nQ 2956 2369 2687 2733 \nQ 2419 3097 1959 3097 \nz\nM 1959 3584 \nQ 2709 3584 3137 3096 \nQ 3566 2609 3566 1747 \nQ 3566 888 3137 398 \nQ 2709 -91 1959 -91 \nQ 1206 -91 779 398 \nQ 353 888 353 1747 \nQ 353 2609 779 3096 \nQ 1206 3584 1959 3584 \nz\n\" transform=\"scale(0.015625)\"/>\n       <path id=\"DejaVuSans-44f\" d=\"M 1181 2491 \nQ 1181 2231 1381 2084 \nQ 1581 1938 1953 1938 \nL 2728 1938 \nL 2728 3041 \nL 1953 3041 \nQ 1581 3041 1381 2897 \nQ 1181 2753 1181 2491 \nz\nM 363 0 \nL 1431 1534 \nQ 1069 1616 828 1830 \nQ 588 2044 588 2491 \nQ 588 2997 923 3248 \nQ 1259 3500 1938 3500 \nL 3306 3500 \nL 3306 0 \nL 2728 0 \nL 2728 1478 \nL 2013 1478 \nL 981 0 \nL 363 0 \nz\n\" transform=\"scale(0.015625)\"/>\n       <path id=\"DejaVuSans-43d\" d=\"M 581 3500 \nL 1159 3500 \nL 1159 2072 \nL 3025 2072 \nL 3025 3500 \nL 3603 3500 \nL 3603 0 \nL 3025 0 \nL 3025 1613 \nL 1159 1613 \nL 1159 0 \nL 581 0 \nL 581 3500 \nz\n\" transform=\"scale(0.015625)\"/>\n       <path id=\"DejaVuSans-438\" d=\"M 3578 3500 \nL 3578 0 \nL 3006 0 \nL 3006 2809 \nL 1319 0 \nL 581 0 \nL 581 3500 \nL 1153 3500 \nL 1153 697 \nL 2838 3500 \nL 3578 3500 \nz\n\" transform=\"scale(0.015625)\"/>\n       <path id=\"DejaVuSans-435\" d=\"M 3597 1894 \nL 3597 1613 \nL 953 1613 \nQ 991 1019 1311 708 \nQ 1631 397 2203 397 \nQ 2534 397 2845 478 \nQ 3156 559 3463 722 \nL 3463 178 \nQ 3153 47 2828 -22 \nQ 2503 -91 2169 -91 \nQ 1331 -91 842 396 \nQ 353 884 353 1716 \nQ 353 2575 817 3079 \nQ 1281 3584 2069 3584 \nQ 2775 3584 3186 3129 \nQ 3597 2675 3597 1894 \nz\nM 3022 2063 \nQ 3016 2534 2758 2815 \nQ 2500 3097 2075 3097 \nQ 1594 3097 1305 2825 \nQ 1016 2553 972 2059 \nL 3022 2063 \nz\n\" transform=\"scale(0.015625)\"/>\n       <path id=\"DejaVuSans-20\" transform=\"scale(0.015625)\"/>\n       <path id=\"DejaVuSans-28\" d=\"M 1984 4856 \nQ 1566 4138 1362 3434 \nQ 1159 2731 1159 2009 \nQ 1159 1288 1364 580 \nQ 1569 -128 1984 -844 \nL 1484 -844 \nQ 1016 -109 783 600 \nQ 550 1309 550 2009 \nQ 550 2706 781 3412 \nQ 1013 4119 1484 4856 \nL 1984 4856 \nz\n\" transform=\"scale(0.015625)\"/>\n       <path id=\"DejaVuSans-43a\" d=\"M 581 3500 \nL 1153 3500 \nL 1153 1856 \nL 2775 3500 \nL 3481 3500 \nL 2144 2147 \nL 3653 0 \nL 3009 0 \nL 1769 1766 \nL 1153 1141 \nL 1153 0 \nL 581 0 \nL 581 3500 \nz\n\" transform=\"scale(0.015625)\"/>\n       <path id=\"DejaVuSans-43c\" d=\"M 581 3500 \nL 1422 3500 \nL 2416 1156 \nL 3413 3500 \nL 4247 3500 \nL 4247 0 \nL 3669 0 \nL 3669 2950 \nL 2703 672 \nL 2128 672 \nL 1159 2950 \nL 1159 0 \nL 581 0 \nL 581 3500 \nz\n\" transform=\"scale(0.015625)\"/>\n       <path id=\"DejaVuSans-29\" d=\"M 513 4856 \nL 1013 4856 \nQ 1481 4119 1714 3412 \nQ 1947 2706 1947 2009 \nQ 1947 1309 1714 600 \nQ 1481 -109 1013 -844 \nL 513 -844 \nQ 928 -128 1133 580 \nQ 1338 1288 1338 2009 \nQ 1338 2731 1133 3434 \nQ 928 4138 513 4856 \nz\n\" transform=\"scale(0.015625)\"/>\n      </defs>\n      <use xlink:href=\"#DejaVuSans-420\"/>\n      <use xlink:href=\"#DejaVuSans-430\" x=\"60.302734\"/>\n      <use xlink:href=\"#DejaVuSans-441\" x=\"121.582031\"/>\n      <use xlink:href=\"#DejaVuSans-441\" x=\"176.5625\"/>\n      <use xlink:href=\"#DejaVuSans-442\" x=\"231.542969\"/>\n      <use xlink:href=\"#DejaVuSans-43e\" x=\"289.794922\"/>\n      <use xlink:href=\"#DejaVuSans-44f\" x=\"350.976562\"/>\n      <use xlink:href=\"#DejaVuSans-43d\" x=\"411.132812\"/>\n      <use xlink:href=\"#DejaVuSans-438\" x=\"476.513672\"/>\n      <use xlink:href=\"#DejaVuSans-435\" x=\"541.503906\"/>\n      <use xlink:href=\"#DejaVuSans-20\" x=\"603.027344\"/>\n      <use xlink:href=\"#DejaVuSans-28\" x=\"634.814453\"/>\n      <use xlink:href=\"#DejaVuSans-43a\" x=\"673.828125\"/>\n      <use xlink:href=\"#DejaVuSans-43c\" x=\"734.228516\"/>\n      <use xlink:href=\"#DejaVuSans-29\" x=\"809.667969\"/>\n     </g>\n    </g>\n   </g>\n   <g id=\"matplotlib.axis_2\">\n    <g id=\"ytick_1\">\n     <g id=\"line2d_7\">\n      <defs>\n       <path id=\"m32a37f434e\" d=\"M 0 0 \nL -3.5 0 \n\" style=\"stroke: #000000; stroke-width: 0.8\"/>\n      </defs>\n      <g>\n       <use xlink:href=\"#m32a37f434e\" x=\"46.965625\" y=\"464.297978\" style=\"stroke: #000000; stroke-width: 0.8\"/>\n      </g>\n     </g>\n     <g id=\"text_8\">\n      <!-- 0 -->\n      <g transform=\"translate(33.603125 468.097197) scale(0.1 -0.1)\">\n       <use xlink:href=\"#DejaVuSans-30\"/>\n      </g>\n     </g>\n    </g>\n    <g id=\"ytick_2\">\n     <g id=\"line2d_8\">\n      <g>\n       <use xlink:href=\"#m32a37f434e\" x=\"46.965625\" y=\"399.093565\" style=\"stroke: #000000; stroke-width: 0.8\"/>\n      </g>\n     </g>\n     <g id=\"text_9\">\n      <!-- 100 -->\n      <g transform=\"translate(20.878125 402.892783) scale(0.1 -0.1)\">\n       <use xlink:href=\"#DejaVuSans-31\"/>\n       <use xlink:href=\"#DejaVuSans-30\" x=\"63.623047\"/>\n       <use xlink:href=\"#DejaVuSans-30\" x=\"127.246094\"/>\n      </g>\n     </g>\n    </g>\n    <g id=\"ytick_3\">\n     <g id=\"line2d_9\">\n      <g>\n       <use xlink:href=\"#m32a37f434e\" x=\"46.965625\" y=\"333.889151\" style=\"stroke: #000000; stroke-width: 0.8\"/>\n      </g>\n     </g>\n     <g id=\"text_10\">\n      <!-- 200 -->\n      <g transform=\"translate(20.878125 337.68837) scale(0.1 -0.1)\">\n       <use xlink:href=\"#DejaVuSans-32\"/>\n       <use xlink:href=\"#DejaVuSans-30\" x=\"63.623047\"/>\n       <use xlink:href=\"#DejaVuSans-30\" x=\"127.246094\"/>\n      </g>\n     </g>\n    </g>\n    <g id=\"ytick_4\">\n     <g id=\"line2d_10\">\n      <g>\n       <use xlink:href=\"#m32a37f434e\" x=\"46.965625\" y=\"268.684737\" style=\"stroke: #000000; stroke-width: 0.8\"/>\n      </g>\n     </g>\n     <g id=\"text_11\">\n      <!-- 300 -->\n      <g transform=\"translate(20.878125 272.483956) scale(0.1 -0.1)\">\n       <use xlink:href=\"#DejaVuSans-33\"/>\n       <use xlink:href=\"#DejaVuSans-30\" x=\"63.623047\"/>\n       <use xlink:href=\"#DejaVuSans-30\" x=\"127.246094\"/>\n      </g>\n     </g>\n    </g>\n    <g id=\"ytick_5\">\n     <g id=\"line2d_11\">\n      <g>\n       <use xlink:href=\"#m32a37f434e\" x=\"46.965625\" y=\"203.480324\" style=\"stroke: #000000; stroke-width: 0.8\"/>\n      </g>\n     </g>\n     <g id=\"text_12\">\n      <!-- 400 -->\n      <g transform=\"translate(20.878125 207.279543) scale(0.1 -0.1)\">\n       <use xlink:href=\"#DejaVuSans-34\"/>\n       <use xlink:href=\"#DejaVuSans-30\" x=\"63.623047\"/>\n       <use xlink:href=\"#DejaVuSans-30\" x=\"127.246094\"/>\n      </g>\n     </g>\n    </g>\n    <g id=\"ytick_6\">\n     <g id=\"line2d_12\">\n      <g>\n       <use xlink:href=\"#m32a37f434e\" x=\"46.965625\" y=\"138.27591\" style=\"stroke: #000000; stroke-width: 0.8\"/>\n      </g>\n     </g>\n     <g id=\"text_13\">\n      <!-- 500 -->\n      <g transform=\"translate(20.878125 142.075129) scale(0.1 -0.1)\">\n       <use xlink:href=\"#DejaVuSans-35\"/>\n       <use xlink:href=\"#DejaVuSans-30\" x=\"63.623047\"/>\n       <use xlink:href=\"#DejaVuSans-30\" x=\"127.246094\"/>\n      </g>\n     </g>\n    </g>\n    <g id=\"ytick_7\">\n     <g id=\"line2d_13\">\n      <g>\n       <use xlink:href=\"#m32a37f434e\" x=\"46.965625\" y=\"73.071497\" style=\"stroke: #000000; stroke-width: 0.8\"/>\n      </g>\n     </g>\n     <g id=\"text_14\">\n      <!-- 600 -->\n      <g transform=\"translate(20.878125 76.870715) scale(0.1 -0.1)\">\n       <defs>\n        <path id=\"DejaVuSans-36\" d=\"M 2113 2584 \nQ 1688 2584 1439 2293 \nQ 1191 2003 1191 1497 \nQ 1191 994 1439 701 \nQ 1688 409 2113 409 \nQ 2538 409 2786 701 \nQ 3034 994 3034 1497 \nQ 3034 2003 2786 2293 \nQ 2538 2584 2113 2584 \nz\nM 3366 4563 \nL 3366 3988 \nQ 3128 4100 2886 4159 \nQ 2644 4219 2406 4219 \nQ 1781 4219 1451 3797 \nQ 1122 3375 1075 2522 \nQ 1259 2794 1537 2939 \nQ 1816 3084 2150 3084 \nQ 2853 3084 3261 2657 \nQ 3669 2231 3669 1497 \nQ 3669 778 3244 343 \nQ 2819 -91 2113 -91 \nQ 1303 -91 875 529 \nQ 447 1150 447 2328 \nQ 447 3434 972 4092 \nQ 1497 4750 2381 4750 \nQ 2619 4750 2861 4703 \nQ 3103 4656 3366 4563 \nz\n\" transform=\"scale(0.015625)\"/>\n       </defs>\n       <use xlink:href=\"#DejaVuSans-36\"/>\n       <use xlink:href=\"#DejaVuSans-30\" x=\"63.623047\"/>\n       <use xlink:href=\"#DejaVuSans-30\" x=\"127.246094\"/>\n      </g>\n     </g>\n    </g>\n    <g id=\"text_15\">\n     <!-- Время полёта (мин) -->\n     <g transform=\"translate(14.798438 296.485937) rotate(-90) scale(0.1 -0.1)\">\n      <defs>\n       <path id=\"DejaVuSans-412\" d=\"M 1259 2228 \nL 1259 519 \nL 2272 519 \nQ 2781 519 3026 730 \nQ 3272 941 3272 1375 \nQ 3272 1813 3026 2020 \nQ 2781 2228 2272 2228 \nL 1259 2228 \nz\nM 1259 4147 \nL 1259 2741 \nL 2194 2741 \nQ 2656 2741 2882 2914 \nQ 3109 3088 3109 3444 \nQ 3109 3797 2882 3972 \nQ 2656 4147 2194 4147 \nL 1259 4147 \nz\nM 628 4666 \nL 2241 4666 \nQ 2963 4666 3353 4366 \nQ 3744 4066 3744 3513 \nQ 3744 3084 3544 2831 \nQ 3344 2578 2956 2516 \nQ 3422 2416 3680 2098 \nQ 3938 1781 3938 1306 \nQ 3938 681 3513 340 \nQ 3088 0 2303 0 \nL 628 0 \nL 628 4666 \nz\n\" transform=\"scale(0.015625)\"/>\n       <path id=\"DejaVuSans-440\" d=\"M 1159 525 \nL 1159 -1331 \nL 581 -1331 \nL 581 3500 \nL 1159 3500 \nL 1159 2969 \nQ 1341 3281 1617 3432 \nQ 1894 3584 2278 3584 \nQ 2916 3584 3314 3078 \nQ 3713 2572 3713 1747 \nQ 3713 922 3314 415 \nQ 2916 -91 2278 -91 \nQ 1894 -91 1617 61 \nQ 1341 213 1159 525 \nz\nM 3116 1747 \nQ 3116 2381 2855 2742 \nQ 2594 3103 2138 3103 \nQ 1681 3103 1420 2742 \nQ 1159 2381 1159 1747 \nQ 1159 1113 1420 752 \nQ 1681 391 2138 391 \nQ 2594 391 2855 752 \nQ 3116 1113 3116 1747 \nz\n\" transform=\"scale(0.015625)\"/>\n       <path id=\"DejaVuSans-43f\" d=\"M 3603 3500 \nL 3603 0 \nL 3025 0 \nL 3025 3041 \nL 1159 3041 \nL 1159 0 \nL 581 0 \nL 581 3500 \nL 3603 3500 \nz\n\" transform=\"scale(0.015625)\"/>\n       <path id=\"DejaVuSans-43b\" d=\"M 238 0 \nL 238 478 \nQ 806 566 981 959 \nQ 1194 1513 1194 2928 \nL 1194 3500 \nL 3559 3500 \nL 3559 0 \nL 2984 0 \nL 2984 3041 \nL 1769 3041 \nL 1769 2694 \nQ 1769 1344 1494 738 \nQ 1200 91 238 0 \nz\n\" transform=\"scale(0.015625)\"/>\n       <path id=\"DejaVuSans-451\" d=\"M 3597 1894 \nL 3597 1613 \nL 953 1613 \nQ 991 1019 1311 708 \nQ 1631 397 2203 397 \nQ 2534 397 2845 478 \nQ 3156 559 3463 722 \nL 3463 178 \nQ 3153 47 2828 -22 \nQ 2503 -91 2169 -91 \nQ 1331 -91 842 396 \nQ 353 884 353 1716 \nQ 353 2575 817 3079 \nQ 1281 3584 2069 3584 \nQ 2775 3584 3186 3129 \nQ 3597 2675 3597 1894 \nz\nM 3022 2063 \nQ 3016 2534 2758 2815 \nQ 2500 3097 2075 3097 \nQ 1594 3097 1305 2825 \nQ 1016 2553 972 2059 \nL 3022 2063 \nz\nM 2366 4850 \nL 3000 4850 \nL 3000 4219 \nL 2366 4219 \nL 2366 4850 \nz\nM 1144 4850 \nL 1778 4850 \nL 1778 4219 \nL 1144 4219 \nL 1144 4850 \nz\n\" transform=\"scale(0.015625)\"/>\n      </defs>\n      <use xlink:href=\"#DejaVuSans-412\"/>\n      <use xlink:href=\"#DejaVuSans-440\" x=\"68.603516\"/>\n      <use xlink:href=\"#DejaVuSans-435\" x=\"132.080078\"/>\n      <use xlink:href=\"#DejaVuSans-43c\" x=\"193.603516\"/>\n      <use xlink:href=\"#DejaVuSans-44f\" x=\"269.042969\"/>\n      <use xlink:href=\"#DejaVuSans-20\" x=\"329.199219\"/>\n      <use xlink:href=\"#DejaVuSans-43f\" x=\"360.986328\"/>\n      <use xlink:href=\"#DejaVuSans-43e\" x=\"426.367188\"/>\n      <use xlink:href=\"#DejaVuSans-43b\" x=\"487.548828\"/>\n      <use xlink:href=\"#DejaVuSans-451\" x=\"551.464844\"/>\n      <use xlink:href=\"#DejaVuSans-442\" x=\"612.988281\"/>\n      <use xlink:href=\"#DejaVuSans-430\" x=\"671.240234\"/>\n      <use xlink:href=\"#DejaVuSans-20\" x=\"732.519531\"/>\n      <use xlink:href=\"#DejaVuSans-28\" x=\"764.306641\"/>\n      <use xlink:href=\"#DejaVuSans-43c\" x=\"803.320312\"/>\n      <use xlink:href=\"#DejaVuSans-438\" x=\"878.759766\"/>\n      <use xlink:href=\"#DejaVuSans-43d\" x=\"943.75\"/>\n      <use xlink:href=\"#DejaVuSans-29\" x=\"1009.130859\"/>\n     </g>\n    </g>\n   </g>\n   <g id=\"line2d_14\">\n    <path d=\"M 257.478634 337.127442 \nL 739.392898 42.478125 \nL 79.938352 445.678125 \nL 286.66518 319.282367 \n\" clip-path=\"url(#pfa024319c7)\" style=\"fill: none; stroke: #ff0000; stroke-width: 1.5; stroke-linecap: square\"/>\n   </g>\n   <g id=\"patch_3\">\n    <path d=\"M 46.965625 465.838125 \nL 46.965625 22.318125 \n\" style=\"fill: none; stroke: #000000; stroke-width: 0.8; stroke-linejoin: miter; stroke-linecap: square\"/>\n   </g>\n   <g id=\"patch_4\">\n    <path d=\"M 772.365625 465.838125 \nL 772.365625 22.318125 \n\" style=\"fill: none; stroke: #000000; stroke-width: 0.8; stroke-linejoin: miter; stroke-linecap: square\"/>\n   </g>\n   <g id=\"patch_5\">\n    <path d=\"M 46.965625 465.838125 \nL 772.365625 465.838125 \n\" style=\"fill: none; stroke: #000000; stroke-width: 0.8; stroke-linejoin: miter; stroke-linecap: square\"/>\n   </g>\n   <g id=\"patch_6\">\n    <path d=\"M 46.965625 22.318125 \nL 772.365625 22.318125 \n\" style=\"fill: none; stroke: #000000; stroke-width: 0.8; stroke-linejoin: miter; stroke-linecap: square\"/>\n   </g>\n   <g id=\"text_16\">\n    <!-- Зависимость времени полета от расстояния -->\n    <g transform=\"translate(268.526875 16.318125) scale(0.12 -0.12)\">\n     <defs>\n      <path id=\"DejaVuSans-417\" d=\"M 1828 4750 \nQ 2597 4750 3084 4423 \nQ 3572 4097 3572 3541 \nQ 3572 3153 3350 2886 \nQ 3128 2619 2719 2516 \nQ 3172 2419 3426 2112 \nQ 3681 1806 3681 1356 \nQ 3681 638 3126 273 \nQ 2572 -91 1828 -91 \nQ 1447 -91 1003 12 \nQ 559 116 422 203 \nL 422 853 \nQ 900 575 1164 508 \nQ 1428 441 1816 441 \nQ 2403 441 2728 666 \nQ 3053 891 3053 1356 \nQ 3053 1769 2764 2001 \nQ 2475 2234 1866 2234 \nL 1228 2234 \nL 1228 2753 \nL 1891 2753 \nQ 2450 2753 2697 2939 \nQ 2944 3125 2944 3475 \nQ 2944 3834 2689 4026 \nQ 2434 4219 1816 4219 \nQ 1397 4219 1253 4181 \nQ 1109 4144 469 3903 \nL 469 4519 \nQ 822 4644 1190 4697 \nQ 1559 4750 1828 4750 \nz\n\" transform=\"scale(0.015625)\"/>\n      <path id=\"DejaVuSans-432\" d=\"M 1156 1613 \nL 1156 459 \nL 1975 459 \nQ 2369 459 2575 607 \nQ 2781 756 2781 1038 \nQ 2781 1319 2575 1466 \nQ 2369 1613 1975 1613 \nL 1156 1613 \nz\nM 1156 3041 \nL 1156 2072 \nL 1913 2072 \nQ 2238 2072 2444 2201 \nQ 2650 2331 2650 2563 \nQ 2650 2794 2444 2917 \nQ 2238 3041 1913 3041 \nL 1156 3041 \nz\nM 581 3500 \nL 1950 3500 \nQ 2566 3500 2897 3275 \nQ 3228 3050 3228 2634 \nQ 3228 2313 3059 2123 \nQ 2891 1934 2559 1888 \nQ 2956 1813 3175 1575 \nQ 3394 1338 3394 981 \nQ 3394 513 3033 256 \nQ 2672 0 2003 0 \nL 581 0 \nL 581 3500 \nz\n\" transform=\"scale(0.015625)\"/>\n      <path id=\"DejaVuSans-44c\" d=\"M 2781 1038 \nQ 2781 1319 2576 1466 \nQ 2372 1613 1978 1613 \nL 1159 1613 \nL 1159 459 \nL 1978 459 \nQ 2372 459 2576 607 \nQ 2781 756 2781 1038 \nz\nM 581 3500 \nL 1159 3500 \nL 1159 2072 \nL 2003 2072 \nQ 2672 2072 3033 1817 \nQ 3394 1563 3394 1038 \nQ 3394 513 3033 256 \nQ 2672 0 2003 0 \nL 581 0 \nL 581 3500 \nz\n\" transform=\"scale(0.015625)\"/>\n     </defs>\n     <use xlink:href=\"#DejaVuSans-417\"/>\n     <use xlink:href=\"#DejaVuSans-430\" x=\"64.111328\"/>\n     <use xlink:href=\"#DejaVuSans-432\" x=\"125.390625\"/>\n     <use xlink:href=\"#DejaVuSans-438\" x=\"184.326172\"/>\n     <use xlink:href=\"#DejaVuSans-441\" x=\"249.316406\"/>\n     <use xlink:href=\"#DejaVuSans-438\" x=\"304.296875\"/>\n     <use xlink:href=\"#DejaVuSans-43c\" x=\"369.287109\"/>\n     <use xlink:href=\"#DejaVuSans-43e\" x=\"444.726562\"/>\n     <use xlink:href=\"#DejaVuSans-441\" x=\"505.908203\"/>\n     <use xlink:href=\"#DejaVuSans-442\" x=\"560.888672\"/>\n     <use xlink:href=\"#DejaVuSans-44c\" x=\"619.140625\"/>\n     <use xlink:href=\"#DejaVuSans-20\" x=\"678.076172\"/>\n     <use xlink:href=\"#DejaVuSans-432\" x=\"709.863281\"/>\n     <use xlink:href=\"#DejaVuSans-440\" x=\"768.798828\"/>\n     <use xlink:href=\"#DejaVuSans-435\" x=\"832.275391\"/>\n     <use xlink:href=\"#DejaVuSans-43c\" x=\"893.798828\"/>\n     <use xlink:href=\"#DejaVuSans-435\" x=\"969.238281\"/>\n     <use xlink:href=\"#DejaVuSans-43d\" x=\"1030.761719\"/>\n     <use xlink:href=\"#DejaVuSans-438\" x=\"1096.142578\"/>\n     <use xlink:href=\"#DejaVuSans-20\" x=\"1161.132812\"/>\n     <use xlink:href=\"#DejaVuSans-43f\" x=\"1192.919922\"/>\n     <use xlink:href=\"#DejaVuSans-43e\" x=\"1258.300781\"/>\n     <use xlink:href=\"#DejaVuSans-43b\" x=\"1319.482422\"/>\n     <use xlink:href=\"#DejaVuSans-435\" x=\"1383.398438\"/>\n     <use xlink:href=\"#DejaVuSans-442\" x=\"1444.921875\"/>\n     <use xlink:href=\"#DejaVuSans-430\" x=\"1503.173828\"/>\n     <use xlink:href=\"#DejaVuSans-20\" x=\"1564.453125\"/>\n     <use xlink:href=\"#DejaVuSans-43e\" x=\"1596.240234\"/>\n     <use xlink:href=\"#DejaVuSans-442\" x=\"1657.421875\"/>\n     <use xlink:href=\"#DejaVuSans-20\" x=\"1715.673828\"/>\n     <use xlink:href=\"#DejaVuSans-440\" x=\"1747.460938\"/>\n     <use xlink:href=\"#DejaVuSans-430\" x=\"1810.9375\"/>\n     <use xlink:href=\"#DejaVuSans-441\" x=\"1872.216797\"/>\n     <use xlink:href=\"#DejaVuSans-441\" x=\"1927.197266\"/>\n     <use xlink:href=\"#DejaVuSans-442\" x=\"1982.177734\"/>\n     <use xlink:href=\"#DejaVuSans-43e\" x=\"2040.429688\"/>\n     <use xlink:href=\"#DejaVuSans-44f\" x=\"2101.611328\"/>\n     <use xlink:href=\"#DejaVuSans-43d\" x=\"2161.767578\"/>\n     <use xlink:href=\"#DejaVuSans-438\" x=\"2227.148438\"/>\n     <use xlink:href=\"#DejaVuSans-44f\" x=\"2292.138672\"/>\n    </g>\n   </g>\n  </g>\n </g>\n <defs>\n  <clipPath id=\"pfa024319c7\">\n   <rect x=\"46.965625\" y=\"22.318125\" width=\"725.4\" height=\"443.52\"/>\n  </clipPath>\n </defs>\n</svg>\n"
          },
          "metadata": {}
        }
      ],
      "source": [
        "#plt.scatter(distance, airtime)\n",
        "plt.xlabel('Расстояние (км)')\n",
        "plt.ylabel('Время полёта (мин)')\n",
        "plt.title('Зависимость времени полета от расстояния')\n",
        "z = np.polyfit(distance, airtime, 1)\n",
        "linear_equation = np.poly1d(z)\n",
        "plt.plot(distance, linear_equation(distance), color = 'red')\n",
        "print('Уравнение линейной зависимости (зависимость времени полета от расстояния):', linear_equation)"
      ]
    },
    {
      "cell_type": "markdown",
      "id": "228e3bed-10cf-4333-a082-67988d443469",
      "metadata": {
        "id": "228e3bed-10cf-4333-a082-67988d443469"
      },
      "source": [
        "Коэффициент **0.1261**x означает, что увеличение расстояния перелета на 1 км приводит в среднем к увеличению времени полета на **0.1261** минут."
      ]
    },
    {
      "cell_type": "markdown",
      "id": "9ad3d183-8ffa-4bf7-9156-2a1ae63f417b",
      "metadata": {
        "id": "9ad3d183-8ffa-4bf7-9156-2a1ae63f417b"
      },
      "source": [
        "Intercept **18.47** в обшем случае это значение времени полета, когда расстояние перелета равно 0. Но расстояние полета, равное 0, не имеет особого смысла, поэтому какой-то наглядной, кроме формальной, интерпретации нет."
      ]
    },
    {
      "cell_type": "markdown",
      "id": "6f1d79a0-797c-4f35-8ed4-d5edaba8fdb5",
      "metadata": {
        "id": "6f1d79a0-797c-4f35-8ed4-d5edaba8fdb5"
      },
      "source": [
        "### Задание 5. *Постройте нормированную гистограмму распределения задержки прилета по тем рейсам, которые вылетели в пределах +/-15 минут от времени в расписании. Сделайте предположение о том, каким распределением может описываться полученная гистограмма, оцените параметры этого распределения и нанесите график плотности на график с гистограммой. Вопрос со звездочкой (необязательный): с помощью подходящего статистического теста проверьте, можно ли принять гипотезу о выбранном распределении?*"
      ]
    },
    {
      "cell_type": "code",
      "execution_count": 28,
      "id": "b92a6e5c-c498-4658-8469-e72cc9ce7f05",
      "metadata": {
        "id": "b92a6e5c-c498-4658-8469-e72cc9ce7f05"
      },
      "outputs": [],
      "source": [
        "df_gist_dep = df[(df['dep_delay'] >= -15) & (df['dep_delay'] <= 15)]"
      ]
    },
    {
      "cell_type": "code",
      "execution_count": 29,
      "id": "94508655-8948-49a2-96dd-6a811a964d03",
      "metadata": {
        "colab": {
          "base_uri": "https://localhost:8080/",
          "height": 423
        },
        "id": "94508655-8948-49a2-96dd-6a811a964d03",
        "outputId": "86d6fcc7-bd0a-4ae7-84b1-4a1782fce1bc"
      },
      "outputs": [
        {
          "output_type": "execute_result",
          "data": {
            "text/plain": [
              "        year  month  day  dep_time  dep_delay  arr_time  arr_delay carrier  \\\n",
              "0       2013      1    1     517.0        2.0     830.0       11.0      UA   \n",
              "1       2013      1    1     533.0        4.0     850.0       20.0      UA   \n",
              "2       2013      1    1     542.0        2.0     923.0       33.0      AA   \n",
              "3       2013      1    1     544.0       -1.0    1004.0      -18.0      B6   \n",
              "4       2013      1    1     554.0       -6.0     812.0      -25.0      DL   \n",
              "...      ...    ...  ...       ...        ...       ...        ...     ...   \n",
              "336765  2013      9   30    2240.0       -5.0    2334.0      -17.0      B6   \n",
              "336766  2013      9   30    2240.0      -10.0    2347.0      -20.0      B6   \n",
              "336767  2013      9   30    2241.0       -5.0    2345.0      -16.0      B6   \n",
              "336768  2013      9   30    2307.0       12.0    2359.0        1.0      B6   \n",
              "336769  2013      9   30    2349.0      -10.0     325.0      -25.0      B6   \n",
              "\n",
              "       tailnum  flight origin dest  air_time  distance  \n",
              "0       N14228    1545    EWR  IAH     227.0      1400  \n",
              "1       N24211    1714    LGA  IAH     227.0      1416  \n",
              "2       N619AA    1141    JFK  MIA     160.0      1089  \n",
              "3       N804JB     725    JFK  BQN     183.0      1576  \n",
              "4       N668DN     461    LGA  ATL     116.0       762  \n",
              "...        ...     ...    ...  ...       ...       ...  \n",
              "336765  N354JB    1816    JFK  SYR      41.0       209  \n",
              "336766  N281JB    2002    JFK  BUF      52.0       301  \n",
              "336767  N346JB     486    JFK  ROC      47.0       264  \n",
              "336768  N565JB     718    JFK  BOS      33.0       187  \n",
              "336769  N516JB     745    JFK  PSE     196.0      1617  \n",
              "\n",
              "[256608 rows x 14 columns]"
            ],
            "text/html": [
              "\n",
              "  <div id=\"df-5edd8931-28a8-46f8-b174-6c85aa980ec6\" class=\"colab-df-container\">\n",
              "    <div>\n",
              "<style scoped>\n",
              "    .dataframe tbody tr th:only-of-type {\n",
              "        vertical-align: middle;\n",
              "    }\n",
              "\n",
              "    .dataframe tbody tr th {\n",
              "        vertical-align: top;\n",
              "    }\n",
              "\n",
              "    .dataframe thead th {\n",
              "        text-align: right;\n",
              "    }\n",
              "</style>\n",
              "<table border=\"1\" class=\"dataframe\">\n",
              "  <thead>\n",
              "    <tr style=\"text-align: right;\">\n",
              "      <th></th>\n",
              "      <th>year</th>\n",
              "      <th>month</th>\n",
              "      <th>day</th>\n",
              "      <th>dep_time</th>\n",
              "      <th>dep_delay</th>\n",
              "      <th>arr_time</th>\n",
              "      <th>arr_delay</th>\n",
              "      <th>carrier</th>\n",
              "      <th>tailnum</th>\n",
              "      <th>flight</th>\n",
              "      <th>origin</th>\n",
              "      <th>dest</th>\n",
              "      <th>air_time</th>\n",
              "      <th>distance</th>\n",
              "    </tr>\n",
              "  </thead>\n",
              "  <tbody>\n",
              "    <tr>\n",
              "      <th>0</th>\n",
              "      <td>2013</td>\n",
              "      <td>1</td>\n",
              "      <td>1</td>\n",
              "      <td>517.0</td>\n",
              "      <td>2.0</td>\n",
              "      <td>830.0</td>\n",
              "      <td>11.0</td>\n",
              "      <td>UA</td>\n",
              "      <td>N14228</td>\n",
              "      <td>1545</td>\n",
              "      <td>EWR</td>\n",
              "      <td>IAH</td>\n",
              "      <td>227.0</td>\n",
              "      <td>1400</td>\n",
              "    </tr>\n",
              "    <tr>\n",
              "      <th>1</th>\n",
              "      <td>2013</td>\n",
              "      <td>1</td>\n",
              "      <td>1</td>\n",
              "      <td>533.0</td>\n",
              "      <td>4.0</td>\n",
              "      <td>850.0</td>\n",
              "      <td>20.0</td>\n",
              "      <td>UA</td>\n",
              "      <td>N24211</td>\n",
              "      <td>1714</td>\n",
              "      <td>LGA</td>\n",
              "      <td>IAH</td>\n",
              "      <td>227.0</td>\n",
              "      <td>1416</td>\n",
              "    </tr>\n",
              "    <tr>\n",
              "      <th>2</th>\n",
              "      <td>2013</td>\n",
              "      <td>1</td>\n",
              "      <td>1</td>\n",
              "      <td>542.0</td>\n",
              "      <td>2.0</td>\n",
              "      <td>923.0</td>\n",
              "      <td>33.0</td>\n",
              "      <td>AA</td>\n",
              "      <td>N619AA</td>\n",
              "      <td>1141</td>\n",
              "      <td>JFK</td>\n",
              "      <td>MIA</td>\n",
              "      <td>160.0</td>\n",
              "      <td>1089</td>\n",
              "    </tr>\n",
              "    <tr>\n",
              "      <th>3</th>\n",
              "      <td>2013</td>\n",
              "      <td>1</td>\n",
              "      <td>1</td>\n",
              "      <td>544.0</td>\n",
              "      <td>-1.0</td>\n",
              "      <td>1004.0</td>\n",
              "      <td>-18.0</td>\n",
              "      <td>B6</td>\n",
              "      <td>N804JB</td>\n",
              "      <td>725</td>\n",
              "      <td>JFK</td>\n",
              "      <td>BQN</td>\n",
              "      <td>183.0</td>\n",
              "      <td>1576</td>\n",
              "    </tr>\n",
              "    <tr>\n",
              "      <th>4</th>\n",
              "      <td>2013</td>\n",
              "      <td>1</td>\n",
              "      <td>1</td>\n",
              "      <td>554.0</td>\n",
              "      <td>-6.0</td>\n",
              "      <td>812.0</td>\n",
              "      <td>-25.0</td>\n",
              "      <td>DL</td>\n",
              "      <td>N668DN</td>\n",
              "      <td>461</td>\n",
              "      <td>LGA</td>\n",
              "      <td>ATL</td>\n",
              "      <td>116.0</td>\n",
              "      <td>762</td>\n",
              "    </tr>\n",
              "    <tr>\n",
              "      <th>...</th>\n",
              "      <td>...</td>\n",
              "      <td>...</td>\n",
              "      <td>...</td>\n",
              "      <td>...</td>\n",
              "      <td>...</td>\n",
              "      <td>...</td>\n",
              "      <td>...</td>\n",
              "      <td>...</td>\n",
              "      <td>...</td>\n",
              "      <td>...</td>\n",
              "      <td>...</td>\n",
              "      <td>...</td>\n",
              "      <td>...</td>\n",
              "      <td>...</td>\n",
              "    </tr>\n",
              "    <tr>\n",
              "      <th>336765</th>\n",
              "      <td>2013</td>\n",
              "      <td>9</td>\n",
              "      <td>30</td>\n",
              "      <td>2240.0</td>\n",
              "      <td>-5.0</td>\n",
              "      <td>2334.0</td>\n",
              "      <td>-17.0</td>\n",
              "      <td>B6</td>\n",
              "      <td>N354JB</td>\n",
              "      <td>1816</td>\n",
              "      <td>JFK</td>\n",
              "      <td>SYR</td>\n",
              "      <td>41.0</td>\n",
              "      <td>209</td>\n",
              "    </tr>\n",
              "    <tr>\n",
              "      <th>336766</th>\n",
              "      <td>2013</td>\n",
              "      <td>9</td>\n",
              "      <td>30</td>\n",
              "      <td>2240.0</td>\n",
              "      <td>-10.0</td>\n",
              "      <td>2347.0</td>\n",
              "      <td>-20.0</td>\n",
              "      <td>B6</td>\n",
              "      <td>N281JB</td>\n",
              "      <td>2002</td>\n",
              "      <td>JFK</td>\n",
              "      <td>BUF</td>\n",
              "      <td>52.0</td>\n",
              "      <td>301</td>\n",
              "    </tr>\n",
              "    <tr>\n",
              "      <th>336767</th>\n",
              "      <td>2013</td>\n",
              "      <td>9</td>\n",
              "      <td>30</td>\n",
              "      <td>2241.0</td>\n",
              "      <td>-5.0</td>\n",
              "      <td>2345.0</td>\n",
              "      <td>-16.0</td>\n",
              "      <td>B6</td>\n",
              "      <td>N346JB</td>\n",
              "      <td>486</td>\n",
              "      <td>JFK</td>\n",
              "      <td>ROC</td>\n",
              "      <td>47.0</td>\n",
              "      <td>264</td>\n",
              "    </tr>\n",
              "    <tr>\n",
              "      <th>336768</th>\n",
              "      <td>2013</td>\n",
              "      <td>9</td>\n",
              "      <td>30</td>\n",
              "      <td>2307.0</td>\n",
              "      <td>12.0</td>\n",
              "      <td>2359.0</td>\n",
              "      <td>1.0</td>\n",
              "      <td>B6</td>\n",
              "      <td>N565JB</td>\n",
              "      <td>718</td>\n",
              "      <td>JFK</td>\n",
              "      <td>BOS</td>\n",
              "      <td>33.0</td>\n",
              "      <td>187</td>\n",
              "    </tr>\n",
              "    <tr>\n",
              "      <th>336769</th>\n",
              "      <td>2013</td>\n",
              "      <td>9</td>\n",
              "      <td>30</td>\n",
              "      <td>2349.0</td>\n",
              "      <td>-10.0</td>\n",
              "      <td>325.0</td>\n",
              "      <td>-25.0</td>\n",
              "      <td>B6</td>\n",
              "      <td>N516JB</td>\n",
              "      <td>745</td>\n",
              "      <td>JFK</td>\n",
              "      <td>PSE</td>\n",
              "      <td>196.0</td>\n",
              "      <td>1617</td>\n",
              "    </tr>\n",
              "  </tbody>\n",
              "</table>\n",
              "<p>256608 rows × 14 columns</p>\n",
              "</div>\n",
              "    <div class=\"colab-df-buttons\">\n",
              "\n",
              "  <div class=\"colab-df-container\">\n",
              "    <button class=\"colab-df-convert\" onclick=\"convertToInteractive('df-5edd8931-28a8-46f8-b174-6c85aa980ec6')\"\n",
              "            title=\"Convert this dataframe to an interactive table.\"\n",
              "            style=\"display:none;\">\n",
              "\n",
              "  <svg xmlns=\"http://www.w3.org/2000/svg\" height=\"24px\" viewBox=\"0 -960 960 960\">\n",
              "    <path d=\"M120-120v-720h720v720H120Zm60-500h600v-160H180v160Zm220 220h160v-160H400v160Zm0 220h160v-160H400v160ZM180-400h160v-160H180v160Zm440 0h160v-160H620v160ZM180-180h160v-160H180v160Zm440 0h160v-160H620v160Z\"/>\n",
              "  </svg>\n",
              "    </button>\n",
              "\n",
              "  <style>\n",
              "    .colab-df-container {\n",
              "      display:flex;\n",
              "      gap: 12px;\n",
              "    }\n",
              "\n",
              "    .colab-df-convert {\n",
              "      background-color: #E8F0FE;\n",
              "      border: none;\n",
              "      border-radius: 50%;\n",
              "      cursor: pointer;\n",
              "      display: none;\n",
              "      fill: #1967D2;\n",
              "      height: 32px;\n",
              "      padding: 0 0 0 0;\n",
              "      width: 32px;\n",
              "    }\n",
              "\n",
              "    .colab-df-convert:hover {\n",
              "      background-color: #E2EBFA;\n",
              "      box-shadow: 0px 1px 2px rgba(60, 64, 67, 0.3), 0px 1px 3px 1px rgba(60, 64, 67, 0.15);\n",
              "      fill: #174EA6;\n",
              "    }\n",
              "\n",
              "    .colab-df-buttons div {\n",
              "      margin-bottom: 4px;\n",
              "    }\n",
              "\n",
              "    [theme=dark] .colab-df-convert {\n",
              "      background-color: #3B4455;\n",
              "      fill: #D2E3FC;\n",
              "    }\n",
              "\n",
              "    [theme=dark] .colab-df-convert:hover {\n",
              "      background-color: #434B5C;\n",
              "      box-shadow: 0px 1px 3px 1px rgba(0, 0, 0, 0.15);\n",
              "      filter: drop-shadow(0px 1px 2px rgba(0, 0, 0, 0.3));\n",
              "      fill: #FFFFFF;\n",
              "    }\n",
              "  </style>\n",
              "\n",
              "    <script>\n",
              "      const buttonEl =\n",
              "        document.querySelector('#df-5edd8931-28a8-46f8-b174-6c85aa980ec6 button.colab-df-convert');\n",
              "      buttonEl.style.display =\n",
              "        google.colab.kernel.accessAllowed ? 'block' : 'none';\n",
              "\n",
              "      async function convertToInteractive(key) {\n",
              "        const element = document.querySelector('#df-5edd8931-28a8-46f8-b174-6c85aa980ec6');\n",
              "        const dataTable =\n",
              "          await google.colab.kernel.invokeFunction('convertToInteractive',\n",
              "                                                    [key], {});\n",
              "        if (!dataTable) return;\n",
              "\n",
              "        const docLinkHtml = 'Like what you see? Visit the ' +\n",
              "          '<a target=\"_blank\" href=https://colab.research.google.com/notebooks/data_table.ipynb>data table notebook</a>'\n",
              "          + ' to learn more about interactive tables.';\n",
              "        element.innerHTML = '';\n",
              "        dataTable['output_type'] = 'display_data';\n",
              "        await google.colab.output.renderOutput(dataTable, element);\n",
              "        const docLink = document.createElement('div');\n",
              "        docLink.innerHTML = docLinkHtml;\n",
              "        element.appendChild(docLink);\n",
              "      }\n",
              "    </script>\n",
              "  </div>\n",
              "\n",
              "\n",
              "<div id=\"df-3756bdd3-bbac-401f-8599-c8608fe0724d\">\n",
              "  <button class=\"colab-df-quickchart\" onclick=\"quickchart('df-3756bdd3-bbac-401f-8599-c8608fe0724d')\"\n",
              "            title=\"Suggest charts\"\n",
              "            style=\"display:none;\">\n",
              "\n",
              "<svg xmlns=\"http://www.w3.org/2000/svg\" height=\"24px\"viewBox=\"0 0 24 24\"\n",
              "     width=\"24px\">\n",
              "    <g>\n",
              "        <path d=\"M19 3H5c-1.1 0-2 .9-2 2v14c0 1.1.9 2 2 2h14c1.1 0 2-.9 2-2V5c0-1.1-.9-2-2-2zM9 17H7v-7h2v7zm4 0h-2V7h2v10zm4 0h-2v-4h2v4z\"/>\n",
              "    </g>\n",
              "</svg>\n",
              "  </button>\n",
              "\n",
              "<style>\n",
              "  .colab-df-quickchart {\n",
              "      --bg-color: #E8F0FE;\n",
              "      --fill-color: #1967D2;\n",
              "      --hover-bg-color: #E2EBFA;\n",
              "      --hover-fill-color: #174EA6;\n",
              "      --disabled-fill-color: #AAA;\n",
              "      --disabled-bg-color: #DDD;\n",
              "  }\n",
              "\n",
              "  [theme=dark] .colab-df-quickchart {\n",
              "      --bg-color: #3B4455;\n",
              "      --fill-color: #D2E3FC;\n",
              "      --hover-bg-color: #434B5C;\n",
              "      --hover-fill-color: #FFFFFF;\n",
              "      --disabled-bg-color: #3B4455;\n",
              "      --disabled-fill-color: #666;\n",
              "  }\n",
              "\n",
              "  .colab-df-quickchart {\n",
              "    background-color: var(--bg-color);\n",
              "    border: none;\n",
              "    border-radius: 50%;\n",
              "    cursor: pointer;\n",
              "    display: none;\n",
              "    fill: var(--fill-color);\n",
              "    height: 32px;\n",
              "    padding: 0;\n",
              "    width: 32px;\n",
              "  }\n",
              "\n",
              "  .colab-df-quickchart:hover {\n",
              "    background-color: var(--hover-bg-color);\n",
              "    box-shadow: 0 1px 2px rgba(60, 64, 67, 0.3), 0 1px 3px 1px rgba(60, 64, 67, 0.15);\n",
              "    fill: var(--button-hover-fill-color);\n",
              "  }\n",
              "\n",
              "  .colab-df-quickchart-complete:disabled,\n",
              "  .colab-df-quickchart-complete:disabled:hover {\n",
              "    background-color: var(--disabled-bg-color);\n",
              "    fill: var(--disabled-fill-color);\n",
              "    box-shadow: none;\n",
              "  }\n",
              "\n",
              "  .colab-df-spinner {\n",
              "    border: 2px solid var(--fill-color);\n",
              "    border-color: transparent;\n",
              "    border-bottom-color: var(--fill-color);\n",
              "    animation:\n",
              "      spin 1s steps(1) infinite;\n",
              "  }\n",
              "\n",
              "  @keyframes spin {\n",
              "    0% {\n",
              "      border-color: transparent;\n",
              "      border-bottom-color: var(--fill-color);\n",
              "      border-left-color: var(--fill-color);\n",
              "    }\n",
              "    20% {\n",
              "      border-color: transparent;\n",
              "      border-left-color: var(--fill-color);\n",
              "      border-top-color: var(--fill-color);\n",
              "    }\n",
              "    30% {\n",
              "      border-color: transparent;\n",
              "      border-left-color: var(--fill-color);\n",
              "      border-top-color: var(--fill-color);\n",
              "      border-right-color: var(--fill-color);\n",
              "    }\n",
              "    40% {\n",
              "      border-color: transparent;\n",
              "      border-right-color: var(--fill-color);\n",
              "      border-top-color: var(--fill-color);\n",
              "    }\n",
              "    60% {\n",
              "      border-color: transparent;\n",
              "      border-right-color: var(--fill-color);\n",
              "    }\n",
              "    80% {\n",
              "      border-color: transparent;\n",
              "      border-right-color: var(--fill-color);\n",
              "      border-bottom-color: var(--fill-color);\n",
              "    }\n",
              "    90% {\n",
              "      border-color: transparent;\n",
              "      border-bottom-color: var(--fill-color);\n",
              "    }\n",
              "  }\n",
              "</style>\n",
              "\n",
              "  <script>\n",
              "    async function quickchart(key) {\n",
              "      const quickchartButtonEl =\n",
              "        document.querySelector('#' + key + ' button');\n",
              "      quickchartButtonEl.disabled = true;  // To prevent multiple clicks.\n",
              "      quickchartButtonEl.classList.add('colab-df-spinner');\n",
              "      try {\n",
              "        const charts = await google.colab.kernel.invokeFunction(\n",
              "            'suggestCharts', [key], {});\n",
              "      } catch (error) {\n",
              "        console.error('Error during call to suggestCharts:', error);\n",
              "      }\n",
              "      quickchartButtonEl.classList.remove('colab-df-spinner');\n",
              "      quickchartButtonEl.classList.add('colab-df-quickchart-complete');\n",
              "    }\n",
              "    (() => {\n",
              "      let quickchartButtonEl =\n",
              "        document.querySelector('#df-3756bdd3-bbac-401f-8599-c8608fe0724d button');\n",
              "      quickchartButtonEl.style.display =\n",
              "        google.colab.kernel.accessAllowed ? 'block' : 'none';\n",
              "    })();\n",
              "  </script>\n",
              "</div>\n",
              "    </div>\n",
              "  </div>\n"
            ],
            "application/vnd.google.colaboratory.intrinsic+json": {
              "type": "dataframe",
              "variable_name": "df_gist_dep"
            }
          },
          "metadata": {},
          "execution_count": 29
        }
      ],
      "source": [
        "df_gist_dep"
      ]
    },
    {
      "cell_type": "code",
      "execution_count": 30,
      "id": "198e5d29-4e19-4099-90ae-50922f278e96",
      "metadata": {
        "id": "198e5d29-4e19-4099-90ae-50922f278e96"
      },
      "outputs": [],
      "source": [
        "df_gist_arr = df_gist_dep['arr_delay']"
      ]
    },
    {
      "cell_type": "code",
      "execution_count": 31,
      "id": "a3cad369-2d56-41c1-a57f-a33102c2a267",
      "metadata": {
        "colab": {
          "base_uri": "https://localhost:8080/"
        },
        "id": "a3cad369-2d56-41c1-a57f-a33102c2a267",
        "outputId": "91c8080a-2926-4e6e-bbd8-569d8c910e5d"
      },
      "outputs": [
        {
          "output_type": "execute_result",
          "data": {
            "text/plain": [
              "0         11.0\n",
              "1         20.0\n",
              "2         33.0\n",
              "3        -18.0\n",
              "4        -25.0\n",
              "          ... \n",
              "336765   -17.0\n",
              "336766   -20.0\n",
              "336767   -16.0\n",
              "336768     1.0\n",
              "336769   -25.0\n",
              "Name: arr_delay, Length: 256608, dtype: float64"
            ]
          },
          "metadata": {},
          "execution_count": 31
        }
      ],
      "source": [
        "df_gist_arr"
      ]
    },
    {
      "cell_type": "code",
      "execution_count": 32,
      "id": "ec7e42bc-bfaa-430e-82b3-1eded7378f4e",
      "metadata": {
        "colab": {
          "base_uri": "https://localhost:8080/",
          "height": 692
        },
        "id": "ec7e42bc-bfaa-430e-82b3-1eded7378f4e",
        "outputId": "a228d79b-a950-49d6-fd4f-830c114366d8"
      },
      "outputs": [
        {
          "output_type": "execute_result",
          "data": {
            "text/plain": [
              "<Axes: title={'center': 'Нормированная гистограмма распределения задержки прилета'}, ylabel='Density'>"
            ]
          },
          "metadata": {},
          "execution_count": 32
        },
        {
          "output_type": "display_data",
          "data": {
            "text/plain": [
              "<Figure size 1300x800 with 1 Axes>"
            ],
            "image/svg+xml": "<?xml version=\"1.0\" encoding=\"utf-8\" standalone=\"no\"?>\n<!DOCTYPE svg PUBLIC \"-//W3C//DTD SVG 1.1//EN\"\n  \"http://www.w3.org/Graphics/SVG/1.1/DTD/svg11.dtd\">\n<svg xmlns:xlink=\"http://www.w3.org/1999/xlink\" width=\"798.65pt\" height=\"489.71625pt\" viewBox=\"0 0 798.65 489.71625\" xmlns=\"http://www.w3.org/2000/svg\" version=\"1.1\">\n <metadata>\n  <rdf:RDF xmlns:dc=\"http://purl.org/dc/elements/1.1/\" xmlns:cc=\"http://creativecommons.org/ns#\" xmlns:rdf=\"http://www.w3.org/1999/02/22-rdf-syntax-ns#\">\n   <cc:Work>\n    <dc:type rdf:resource=\"http://purl.org/dc/dcmitype/StillImage\"/>\n    <dc:date>2024-05-20T12:32:35.446660</dc:date>\n    <dc:format>image/svg+xml</dc:format>\n    <dc:creator>\n     <cc:Agent>\n      <dc:title>Matplotlib v3.7.1, https://matplotlib.org/</dc:title>\n     </cc:Agent>\n    </dc:creator>\n   </cc:Work>\n  </rdf:RDF>\n </metadata>\n <defs>\n  <style type=\"text/css\">*{stroke-linejoin: round; stroke-linecap: butt}</style>\n </defs>\n <g id=\"figure_1\">\n  <g id=\"patch_1\">\n   <path d=\"M -0 489.71625 \nL 798.65 489.71625 \nL 798.65 0 \nL -0 0 \nz\n\" style=\"fill: #ffffff\"/>\n  </g>\n  <g id=\"axes_1\">\n   <g id=\"patch_2\">\n    <path d=\"M 56.50625 465.838125 \nL 781.90625 465.838125 \nL 781.90625 22.318125 \nL 56.50625 22.318125 \nz\n\" style=\"fill: #ffffff\"/>\n   </g>\n   <g id=\"patch_3\">\n    <path d=\"M 107.28425 465.838125 \nL 117.43985 465.838125 \nL 117.43985 465.817711 \nL 107.28425 465.817711 \nz\n\" clip-path=\"url(#pba9e76f60d)\" style=\"fill: #1f77b4\"/>\n   </g>\n   <g id=\"patch_4\">\n    <path d=\"M 117.43985 465.838125 \nL 127.59545 465.838125 \nL 127.59545 465.838125 \nL 117.43985 465.838125 \nz\n\" clip-path=\"url(#pba9e76f60d)\" style=\"fill: #1f77b4\"/>\n   </g>\n   <g id=\"patch_5\">\n    <path d=\"M 127.59545 465.838125 \nL 137.75105 465.838125 \nL 137.75105 465.838125 \nL 127.59545 465.838125 \nz\n\" clip-path=\"url(#pba9e76f60d)\" style=\"fill: #1f77b4\"/>\n   </g>\n   <g id=\"patch_6\">\n    <path d=\"M 137.75105 465.838125 \nL 147.90665 465.838125 \nL 147.90665 465.797298 \nL 137.75105 465.797298 \nz\n\" clip-path=\"url(#pba9e76f60d)\" style=\"fill: #1f77b4\"/>\n   </g>\n   <g id=\"patch_7\">\n    <path d=\"M 147.90665 465.838125 \nL 158.06225 465.838125 \nL 158.06225 465.797298 \nL 147.90665 465.797298 \nz\n\" clip-path=\"url(#pba9e76f60d)\" style=\"fill: #1f77b4\"/>\n   </g>\n   <g id=\"patch_8\">\n    <path d=\"M 158.06225 465.838125 \nL 168.21785 465.838125 \nL 168.21785 465.613574 \nL 158.06225 465.613574 \nz\n\" clip-path=\"url(#pba9e76f60d)\" style=\"fill: #1f77b4\"/>\n   </g>\n   <g id=\"patch_9\">\n    <path d=\"M 168.21785 465.838125 \nL 178.37345 465.838125 \nL 178.37345 465.307369 \nL 168.21785 465.307369 \nz\n\" clip-path=\"url(#pba9e76f60d)\" style=\"fill: #1f77b4\"/>\n   </g>\n   <g id=\"patch_10\">\n    <path d=\"M 178.37345 465.838125 \nL 188.52905 465.838125 \nL 188.52905 464.878682 \nL 178.37345 464.878682 \nz\n\" clip-path=\"url(#pba9e76f60d)\" style=\"fill: #1f77b4\"/>\n   </g>\n   <g id=\"patch_11\">\n    <path d=\"M 188.52905 465.838125 \nL 198.68465 465.838125 \nL 198.68465 463.715102 \nL 188.52905 463.715102 \nz\n\" clip-path=\"url(#pba9e76f60d)\" style=\"fill: #1f77b4\"/>\n   </g>\n   <g id=\"patch_12\">\n    <path d=\"M 198.68465 465.838125 \nL 208.84025 465.838125 \nL 208.84025 464.20503 \nL 198.68465 464.20503 \nz\n\" clip-path=\"url(#pba9e76f60d)\" style=\"fill: #1f77b4\"/>\n   </g>\n   <g id=\"patch_13\">\n    <path d=\"M 208.84025 465.838125 \nL 218.99585 465.838125 \nL 218.99585 461.87787 \nL 208.84025 461.87787 \nz\n\" clip-path=\"url(#pba9e76f60d)\" style=\"fill: #1f77b4\"/>\n   </g>\n   <g id=\"patch_14\">\n    <path d=\"M 218.99585 465.838125 \nL 229.15145 465.838125 \nL 229.15145 459.632364 \nL 218.99585 459.632364 \nz\n\" clip-path=\"url(#pba9e76f60d)\" style=\"fill: #1f77b4\"/>\n   </g>\n   <g id=\"patch_15\">\n    <path d=\"M 229.15145 465.838125 \nL 239.30705 465.838125 \nL 239.30705 455.325076 \nL 229.15145 455.325076 \nz\n\" clip-path=\"url(#pba9e76f60d)\" style=\"fill: #1f77b4\"/>\n   </g>\n   <g id=\"patch_16\">\n    <path d=\"M 239.30705 465.838125 \nL 249.46265 465.838125 \nL 249.46265 449.384694 \nL 239.30705 449.384694 \nz\n\" clip-path=\"url(#pba9e76f60d)\" style=\"fill: #1f77b4\"/>\n   </g>\n   <g id=\"patch_17\">\n    <path d=\"M 249.46265 465.838125 \nL 259.61825 465.838125 \nL 259.61825 449.180557 \nL 249.46265 449.180557 \nz\n\" clip-path=\"url(#pba9e76f60d)\" style=\"fill: #1f77b4\"/>\n   </g>\n   <g id=\"patch_18\">\n    <path d=\"M 259.61825 465.838125 \nL 269.77385 465.838125 \nL 269.77385 432.19637 \nL 259.61825 432.19637 \nz\n\" clip-path=\"url(#pba9e76f60d)\" style=\"fill: #1f77b4\"/>\n   </g>\n   <g id=\"patch_19\">\n    <path d=\"M 269.77385 465.838125 \nL 279.92945 465.838125 \nL 279.92945 416.926932 \nL 269.77385 416.926932 \nz\n\" clip-path=\"url(#pba9e76f60d)\" style=\"fill: #1f77b4\"/>\n   </g>\n   <g id=\"patch_20\">\n    <path d=\"M 279.92945 465.838125 \nL 290.08505 465.838125 \nL 290.08505 392.471336 \nL 279.92945 392.471336 \nz\n\" clip-path=\"url(#pba9e76f60d)\" style=\"fill: #1f77b4\"/>\n   </g>\n   <g id=\"patch_21\">\n    <path d=\"M 290.08505 465.838125 \nL 300.24065 465.838125 \nL 300.24065 363.504315 \nL 290.08505 363.504315 \nz\n\" clip-path=\"url(#pba9e76f60d)\" style=\"fill: #1f77b4\"/>\n   </g>\n   <g id=\"patch_22\">\n    <path d=\"M 300.24065 465.838125 \nL 310.39625 465.838125 \nL 310.39625 377.548931 \nL 300.24065 377.548931 \nz\n\" clip-path=\"url(#pba9e76f60d)\" style=\"fill: #1f77b4\"/>\n   </g>\n   <g id=\"patch_23\">\n    <path d=\"M 310.39625 465.838125 \nL 320.55185 465.838125 \nL 320.55185 292.260549 \nL 310.39625 292.260549 \nz\n\" clip-path=\"url(#pba9e76f60d)\" style=\"fill: #1f77b4\"/>\n   </g>\n   <g id=\"patch_24\">\n    <path d=\"M 320.55185 465.838125 \nL 330.70745 465.838125 \nL 330.70745 243.512666 \nL 320.55185 243.512666 \nz\n\" clip-path=\"url(#pba9e76f60d)\" style=\"fill: #1f77b4\"/>\n   </g>\n   <g id=\"patch_25\">\n    <path d=\"M 330.70745 465.838125 \nL 340.86305 465.838125 \nL 340.86305 179.842378 \nL 330.70745 179.842378 \nz\n\" clip-path=\"url(#pba9e76f60d)\" style=\"fill: #1f77b4\"/>\n   </g>\n   <g id=\"patch_26\">\n    <path d=\"M 340.86305 465.838125 \nL 351.01865 465.838125 \nL 351.01865 121.336752 \nL 340.86305 121.336752 \nz\n\" clip-path=\"url(#pba9e76f60d)\" style=\"fill: #1f77b4\"/>\n   </g>\n   <g id=\"patch_27\">\n    <path d=\"M 351.01865 465.838125 \nL 361.17425 465.838125 \nL 361.17425 202.399501 \nL 351.01865 202.399501 \nz\n\" clip-path=\"url(#pba9e76f60d)\" style=\"fill: #1f77b4\"/>\n   </g>\n   <g id=\"patch_28\">\n    <path d=\"M 361.17425 465.838125 \nL 371.32985 465.838125 \nL 371.32985 56.972399 \nL 361.17425 56.972399 \nz\n\" clip-path=\"url(#pba9e76f60d)\" style=\"fill: #1f77b4\"/>\n   </g>\n   <g id=\"patch_29\">\n    <path d=\"M 371.32985 465.838125 \nL 381.48545 465.838125 \nL 381.48545 43.438125 \nL 371.32985 43.438125 \nz\n\" clip-path=\"url(#pba9e76f60d)\" style=\"fill: #1f77b4\"/>\n   </g>\n   <g id=\"patch_30\">\n    <path d=\"M 381.48545 465.838125 \nL 391.64105 465.838125 \nL 391.64105 57.217363 \nL 381.48545 57.217363 \nz\n\" clip-path=\"url(#pba9e76f60d)\" style=\"fill: #1f77b4\"/>\n   </g>\n   <g id=\"patch_31\">\n    <path d=\"M 391.64105 465.838125 \nL 401.79665 465.838125 \nL 401.79665 80.080692 \nL 391.64105 80.080692 \nz\n\" clip-path=\"url(#pba9e76f60d)\" style=\"fill: #1f77b4\"/>\n   </g>\n   <g id=\"patch_32\">\n    <path d=\"M 401.79665 465.838125 \nL 411.95225 465.838125 \nL 411.95225 231.101145 \nL 401.79665 231.101145 \nz\n\" clip-path=\"url(#pba9e76f60d)\" style=\"fill: #1f77b4\"/>\n   </g>\n   <g id=\"patch_33\">\n    <path d=\"M 411.95225 465.838125 \nL 422.10785 465.838125 \nL 422.10785 151.304044 \nL 411.95225 151.304044 \nz\n\" clip-path=\"url(#pba9e76f60d)\" style=\"fill: #1f77b4\"/>\n   </g>\n   <g id=\"patch_34\">\n    <path d=\"M 422.10785 465.838125 \nL 432.26345 465.838125 \nL 432.26345 199.357862 \nL 422.10785 199.357862 \nz\n\" clip-path=\"url(#pba9e76f60d)\" style=\"fill: #1f77b4\"/>\n   </g>\n   <g id=\"patch_35\">\n    <path d=\"M 432.26345 465.838125 \nL 442.41905 465.838125 \nL 442.41905 242.002053 \nL 432.26345 242.002053 \nz\n\" clip-path=\"url(#pba9e76f60d)\" style=\"fill: #1f77b4\"/>\n   </g>\n   <g id=\"patch_36\">\n    <path d=\"M 442.41905 465.838125 \nL 452.57465 465.838125 \nL 452.57465 284.360452 \nL 442.41905 284.360452 \nz\n\" clip-path=\"url(#pba9e76f60d)\" style=\"fill: #1f77b4\"/>\n   </g>\n   <g id=\"patch_37\">\n    <path d=\"M 452.57465 465.838125 \nL 462.73025 465.838125 \nL 462.73025 364.606654 \nL 452.57465 364.606654 \nz\n\" clip-path=\"url(#pba9e76f60d)\" style=\"fill: #1f77b4\"/>\n   </g>\n   <g id=\"patch_38\">\n    <path d=\"M 462.73025 465.838125 \nL 472.88585 465.838125 \nL 472.88585 339.436579 \nL 462.73025 339.436579 \nz\n\" clip-path=\"url(#pba9e76f60d)\" style=\"fill: #1f77b4\"/>\n   </g>\n   <g id=\"patch_39\">\n    <path d=\"M 472.88585 465.838125 \nL 483.04145 465.838125 \nL 483.04145 368.485254 \nL 472.88585 368.485254 \nz\n\" clip-path=\"url(#pba9e76f60d)\" style=\"fill: #1f77b4\"/>\n   </g>\n   <g id=\"patch_40\">\n    <path d=\"M 483.04145 465.838125 \nL 493.19705 465.838125 \nL 493.19705 388.898941 \nL 483.04145 388.898941 \nz\n\" clip-path=\"url(#pba9e76f60d)\" style=\"fill: #1f77b4\"/>\n   </g>\n   <g id=\"patch_41\">\n    <path d=\"M 493.19705 465.838125 \nL 503.35265 465.838125 \nL 503.35265 407.55705 \nL 493.19705 407.55705 \nz\n\" clip-path=\"url(#pba9e76f60d)\" style=\"fill: #1f77b4\"/>\n   </g>\n   <g id=\"patch_42\">\n    <path d=\"M 503.35265 465.838125 \nL 513.50825 465.838125 \nL 513.50825 434.054015 \nL 503.35265 434.054015 \nz\n\" clip-path=\"url(#pba9e76f60d)\" style=\"fill: #1f77b4\"/>\n   </g>\n   <g id=\"patch_43\">\n    <path d=\"M 513.50825 465.838125 \nL 523.66385 465.838125 \nL 523.66385 425.521094 \nL 513.50825 425.521094 \nz\n\" clip-path=\"url(#pba9e76f60d)\" style=\"fill: #1f77b4\"/>\n   </g>\n   <g id=\"patch_44\">\n    <path d=\"M 523.66385 465.838125 \nL 533.81945 465.838125 \nL 533.81945 435.360491 \nL 523.66385 435.360491 \nz\n\" clip-path=\"url(#pba9e76f60d)\" style=\"fill: #1f77b4\"/>\n   </g>\n   <g id=\"patch_45\">\n    <path d=\"M 533.81945 465.838125 \nL 543.97505 465.838125 \nL 543.97505 441.157978 \nL 533.81945 441.157978 \nz\n\" clip-path=\"url(#pba9e76f60d)\" style=\"fill: #1f77b4\"/>\n   </g>\n   <g id=\"patch_46\">\n    <path d=\"M 543.97505 465.838125 \nL 554.13065 465.838125 \nL 554.13065 446.608432 \nL 543.97505 446.608432 \nz\n\" clip-path=\"url(#pba9e76f60d)\" style=\"fill: #1f77b4\"/>\n   </g>\n   <g id=\"patch_47\">\n    <path d=\"M 554.13065 465.838125 \nL 564.28625 465.838125 \nL 564.28625 455.73335 \nL 554.13065 455.73335 \nz\n\" clip-path=\"url(#pba9e76f60d)\" style=\"fill: #1f77b4\"/>\n   </g>\n   <g id=\"patch_48\">\n    <path d=\"M 564.28625 465.838125 \nL 574.44185 465.838125 \nL 574.44185 452.324265 \nL 564.28625 452.324265 \nz\n\" clip-path=\"url(#pba9e76f60d)\" style=\"fill: #1f77b4\"/>\n   </g>\n   <g id=\"patch_49\">\n    <path d=\"M 574.44185 465.838125 \nL 584.59745 465.838125 \nL 584.59745 455.488386 \nL 574.44185 455.488386 \nz\n\" clip-path=\"url(#pba9e76f60d)\" style=\"fill: #1f77b4\"/>\n   </g>\n   <g id=\"patch_50\">\n    <path d=\"M 584.59745 465.838125 \nL 594.75305 465.838125 \nL 594.75305 456.876517 \nL 584.59745 456.876517 \nz\n\" clip-path=\"url(#pba9e76f60d)\" style=\"fill: #1f77b4\"/>\n   </g>\n   <g id=\"patch_51\">\n    <path d=\"M 594.75305 465.838125 \nL 604.90865 465.838125 \nL 604.90865 459.224091 \nL 594.75305 459.224091 \nz\n\" clip-path=\"url(#pba9e76f60d)\" style=\"fill: #1f77b4\"/>\n   </g>\n   <g id=\"patch_52\">\n    <path d=\"M 604.90865 465.838125 \nL 615.06425 465.838125 \nL 615.06425 462.000352 \nL 604.90865 462.000352 \nz\n\" clip-path=\"url(#pba9e76f60d)\" style=\"fill: #1f77b4\"/>\n   </g>\n   <g id=\"patch_53\">\n    <path d=\"M 615.06425 465.838125 \nL 625.21985 465.838125 \nL 625.21985 460.857186 \nL 615.06425 460.857186 \nz\n\" clip-path=\"url(#pba9e76f60d)\" style=\"fill: #1f77b4\"/>\n   </g>\n   <g id=\"patch_54\">\n    <path d=\"M 625.21985 465.838125 \nL 635.37545 465.838125 \nL 635.37545 461.71456 \nL 625.21985 461.71456 \nz\n\" clip-path=\"url(#pba9e76f60d)\" style=\"fill: #1f77b4\"/>\n   </g>\n   <g id=\"patch_55\">\n    <path d=\"M 635.37545 465.838125 \nL 645.53105 465.838125 \nL 645.53105 462.204489 \nL 635.37545 462.204489 \nz\n\" clip-path=\"url(#pba9e76f60d)\" style=\"fill: #1f77b4\"/>\n   </g>\n   <g id=\"patch_56\">\n    <path d=\"M 645.53105 465.838125 \nL 655.68665 465.838125 \nL 655.68665 462.939382 \nL 645.53105 462.939382 \nz\n\" clip-path=\"url(#pba9e76f60d)\" style=\"fill: #1f77b4\"/>\n   </g>\n   <g id=\"patch_57\">\n    <path d=\"M 655.68665 465.838125 \nL 665.84225 465.838125 \nL 665.84225 463.98048 \nL 655.68665 463.98048 \nz\n\" clip-path=\"url(#pba9e76f60d)\" style=\"fill: #1f77b4\"/>\n   </g>\n   <g id=\"patch_58\">\n    <path d=\"M 665.84225 465.838125 \nL 675.99785 465.838125 \nL 675.99785 463.286414 \nL 665.84225 463.286414 \nz\n\" clip-path=\"url(#pba9e76f60d)\" style=\"fill: #1f77b4\"/>\n   </g>\n   <g id=\"patch_59\">\n    <path d=\"M 675.99785 465.838125 \nL 686.15345 465.838125 \nL 686.15345 463.449724 \nL 675.99785 463.449724 \nz\n\" clip-path=\"url(#pba9e76f60d)\" style=\"fill: #1f77b4\"/>\n   </g>\n   <g id=\"patch_60\">\n    <path d=\"M 686.15345 465.838125 \nL 696.30905 465.838125 \nL 696.30905 463.919238 \nL 686.15345 463.919238 \nz\n\" clip-path=\"url(#pba9e76f60d)\" style=\"fill: #1f77b4\"/>\n   </g>\n   <g id=\"patch_61\">\n    <path d=\"M 696.30905 465.838125 \nL 706.46465 465.838125 \nL 706.46465 464.409167 \nL 696.30905 464.409167 \nz\n\" clip-path=\"url(#pba9e76f60d)\" style=\"fill: #1f77b4\"/>\n   </g>\n   <g id=\"patch_62\">\n    <path d=\"M 706.46465 465.838125 \nL 716.62025 465.838125 \nL 716.62025 465.184887 \nL 706.46465 465.184887 \nz\n\" clip-path=\"url(#pba9e76f60d)\" style=\"fill: #1f77b4\"/>\n   </g>\n   <g id=\"patch_63\">\n    <path d=\"M 716.62025 465.838125 \nL 726.77585 465.838125 \nL 726.77585 464.429581 \nL 716.62025 464.429581 \nz\n\" clip-path=\"url(#pba9e76f60d)\" style=\"fill: #1f77b4\"/>\n   </g>\n   <g id=\"patch_64\">\n    <path d=\"M 726.77585 465.838125 \nL 736.93145 465.838125 \nL 736.93145 464.797027 \nL 726.77585 464.797027 \nz\n\" clip-path=\"url(#pba9e76f60d)\" style=\"fill: #1f77b4\"/>\n   </g>\n   <g id=\"patch_65\">\n    <path d=\"M 736.93145 465.838125 \nL 747.08705 465.838125 \nL 747.08705 464.939923 \nL 736.93145 464.939923 \nz\n\" clip-path=\"url(#pba9e76f60d)\" style=\"fill: #1f77b4\"/>\n   </g>\n   <g id=\"patch_66\">\n    <path d=\"M 747.08705 465.838125 \nL 757.24265 465.838125 \nL 757.24265 465.14406 \nL 747.08705 465.14406 \nz\n\" clip-path=\"url(#pba9e76f60d)\" style=\"fill: #1f77b4\"/>\n   </g>\n   <g id=\"patch_67\">\n    <path d=\"M 757.24265 465.838125 \nL 767.39825 465.838125 \nL 767.39825 465.36861 \nL 757.24265 465.36861 \nz\n\" clip-path=\"url(#pba9e76f60d)\" style=\"fill: #1f77b4\"/>\n   </g>\n   <g id=\"patch_68\">\n    <path d=\"M 767.39825 465.838125 \nL 777.55385 465.838125 \nL 777.55385 465.062405 \nL 767.39825 465.062405 \nz\n\" clip-path=\"url(#pba9e76f60d)\" style=\"fill: #1f77b4\"/>\n   </g>\n   <g id=\"patch_69\">\n    <path d=\"M 777.55385 465.838125 \nL 787.70945 465.838125 \nL 787.70945 465.266542 \nL 777.55385 465.266542 \nz\n\" clip-path=\"url(#pba9e76f60d)\" style=\"fill: #1f77b4\"/>\n   </g>\n   <g id=\"patch_70\">\n    <path d=\"M 787.70945 465.838125 \nL 797.86505 465.838125 \nL 797.86505 465.225714 \nL 787.70945 465.225714 \nz\n\" clip-path=\"url(#pba9e76f60d)\" style=\"fill: #1f77b4\"/>\n   </g>\n   <g id=\"patch_71\">\n    <path d=\"M 797.86505 465.838125 \nL 808.02065 465.838125 \nL 808.02065 465.348197 \nL 797.86505 465.348197 \nz\n\" clip-path=\"url(#pba9e76f60d)\" style=\"fill: #1f77b4\"/>\n   </g>\n   <g id=\"patch_72\">\n    <path d=\"M 808.02065 465.838125 \nL 818.17625 465.838125 \nL 818.17625 465.633988 \nL 808.02065 465.633988 \nz\n\" clip-path=\"url(#pba9e76f60d)\" style=\"fill: #1f77b4\"/>\n   </g>\n   <g id=\"patch_73\">\n    <path d=\"M 818.17625 465.838125 \nL 828.33185 465.838125 \nL 828.33185 465.429851 \nL 818.17625 465.429851 \nz\n\" clip-path=\"url(#pba9e76f60d)\" style=\"fill: #1f77b4\"/>\n   </g>\n   <g id=\"patch_74\">\n    <path d=\"M 828.33185 465.838125 \nL 838.48745 465.838125 \nL 838.48745 465.470679 \nL 828.33185 465.470679 \nz\n\" clip-path=\"url(#pba9e76f60d)\" style=\"fill: #1f77b4\"/>\n   </g>\n   <g id=\"patch_75\">\n    <path d=\"M 838.48745 465.838125 \nL 848.64305 465.838125 \nL 848.64305 465.674816 \nL 838.48745 465.674816 \nz\n\" clip-path=\"url(#pba9e76f60d)\" style=\"fill: #1f77b4\"/>\n   </g>\n   <g id=\"patch_76\">\n    <path d=\"M 848.64305 465.838125 \nL 858.79865 465.838125 \nL 858.79865 465.572747 \nL 848.64305 465.572747 \nz\n\" clip-path=\"url(#pba9e76f60d)\" style=\"fill: #1f77b4\"/>\n   </g>\n   <g id=\"patch_77\">\n    <path d=\"M 858.79865 465.838125 \nL 868.95425 465.838125 \nL 868.95425 465.715643 \nL 858.79865 465.715643 \nz\n\" clip-path=\"url(#pba9e76f60d)\" style=\"fill: #1f77b4\"/>\n   </g>\n   <g id=\"patch_78\">\n    <path d=\"M 868.95425 465.838125 \nL 879.10985 465.838125 \nL 879.10985 465.613574 \nL 868.95425 465.613574 \nz\n\" clip-path=\"url(#pba9e76f60d)\" style=\"fill: #1f77b4\"/>\n   </g>\n   <g id=\"patch_79\">\n    <path d=\"M 879.10985 465.838125 \nL 889.26545 465.838125 \nL 889.26545 465.695229 \nL 879.10985 465.695229 \nz\n\" clip-path=\"url(#pba9e76f60d)\" style=\"fill: #1f77b4\"/>\n   </g>\n   <g id=\"patch_80\">\n    <path d=\"M 889.26545 465.838125 \nL 899.42105 465.838125 \nL 899.42105 465.695229 \nL 889.26545 465.695229 \nz\n\" clip-path=\"url(#pba9e76f60d)\" style=\"fill: #1f77b4\"/>\n   </g>\n   <g id=\"patch_81\">\n    <path d=\"M 899.42105 465.838125 \nL 909.57665 465.838125 \nL 909.57665 465.817711 \nL 899.42105 465.817711 \nz\n\" clip-path=\"url(#pba9e76f60d)\" style=\"fill: #1f77b4\"/>\n   </g>\n   <g id=\"patch_82\">\n    <path d=\"M 909.57665 465.838125 \nL 919.73225 465.838125 \nL 919.73225 465.797298 \nL 909.57665 465.797298 \nz\n\" clip-path=\"url(#pba9e76f60d)\" style=\"fill: #1f77b4\"/>\n   </g>\n   <g id=\"patch_83\">\n    <path d=\"M 919.73225 465.838125 \nL 929.88785 465.838125 \nL 929.88785 465.75647 \nL 919.73225 465.75647 \nz\n\" clip-path=\"url(#pba9e76f60d)\" style=\"fill: #1f77b4\"/>\n   </g>\n   <g id=\"patch_84\">\n    <path d=\"M 929.88785 465.838125 \nL 940.04345 465.838125 \nL 940.04345 465.776884 \nL 929.88785 465.776884 \nz\n\" clip-path=\"url(#pba9e76f60d)\" style=\"fill: #1f77b4\"/>\n   </g>\n   <g id=\"patch_85\">\n    <path d=\"M 940.04345 465.838125 \nL 950.19905 465.838125 \nL 950.19905 465.797298 \nL 940.04345 465.797298 \nz\n\" clip-path=\"url(#pba9e76f60d)\" style=\"fill: #1f77b4\"/>\n   </g>\n   <g id=\"patch_86\">\n    <path d=\"M 950.19905 465.838125 \nL 960.35465 465.838125 \nL 960.35465 465.817711 \nL 950.19905 465.817711 \nz\n\" clip-path=\"url(#pba9e76f60d)\" style=\"fill: #1f77b4\"/>\n   </g>\n   <g id=\"patch_87\">\n    <path d=\"M 960.35465 465.838125 \nL 970.51025 465.838125 \nL 970.51025 465.838125 \nL 960.35465 465.838125 \nz\n\" clip-path=\"url(#pba9e76f60d)\" style=\"fill: #1f77b4\"/>\n   </g>\n   <g id=\"patch_88\">\n    <path d=\"M 970.51025 465.838125 \nL 980.66585 465.838125 \nL 980.66585 465.838125 \nL 970.51025 465.838125 \nz\n\" clip-path=\"url(#pba9e76f60d)\" style=\"fill: #1f77b4\"/>\n   </g>\n   <g id=\"patch_89\">\n    <path d=\"M 980.66585 465.838125 \nL 990.82145 465.838125 \nL 990.82145 465.838125 \nL 980.66585 465.838125 \nz\n\" clip-path=\"url(#pba9e76f60d)\" style=\"fill: #1f77b4\"/>\n   </g>\n   <g id=\"patch_90\">\n    <path d=\"M 990.82145 465.838125 \nL 1000.97705 465.838125 \nL 1000.97705 465.838125 \nL 990.82145 465.838125 \nz\n\" clip-path=\"url(#pba9e76f60d)\" style=\"fill: #1f77b4\"/>\n   </g>\n   <g id=\"patch_91\">\n    <path d=\"M 1000.97705 465.838125 \nL 1011.13265 465.838125 \nL 1011.13265 465.817711 \nL 1000.97705 465.817711 \nz\n\" clip-path=\"url(#pba9e76f60d)\" style=\"fill: #1f77b4\"/>\n   </g>\n   <g id=\"patch_92\">\n    <path d=\"M 1011.13265 465.838125 \nL 1021.28825 465.838125 \nL 1021.28825 465.817711 \nL 1011.13265 465.817711 \nz\n\" clip-path=\"url(#pba9e76f60d)\" style=\"fill: #1f77b4\"/>\n   </g>\n   <g id=\"patch_93\">\n    <path d=\"M 1021.28825 465.838125 \nL 1031.44385 465.838125 \nL 1031.44385 465.838125 \nL 1021.28825 465.838125 \nz\n\" clip-path=\"url(#pba9e76f60d)\" style=\"fill: #1f77b4\"/>\n   </g>\n   <g id=\"patch_94\">\n    <path d=\"M 1031.44385 465.838125 \nL 1041.59945 465.838125 \nL 1041.59945 465.838125 \nL 1031.44385 465.838125 \nz\n\" clip-path=\"url(#pba9e76f60d)\" style=\"fill: #1f77b4\"/>\n   </g>\n   <g id=\"patch_95\">\n    <path d=\"M 1041.59945 465.838125 \nL 1051.75505 465.838125 \nL 1051.75505 465.838125 \nL 1041.59945 465.838125 \nz\n\" clip-path=\"url(#pba9e76f60d)\" style=\"fill: #1f77b4\"/>\n   </g>\n   <g id=\"patch_96\">\n    <path d=\"M 1051.75505 465.838125 \nL 1061.91065 465.838125 \nL 1061.91065 465.838125 \nL 1051.75505 465.838125 \nz\n\" clip-path=\"url(#pba9e76f60d)\" style=\"fill: #1f77b4\"/>\n   </g>\n   <g id=\"patch_97\">\n    <path d=\"M 1061.91065 465.838125 \nL 1072.06625 465.838125 \nL 1072.06625 465.817711 \nL 1061.91065 465.817711 \nz\n\" clip-path=\"url(#pba9e76f60d)\" style=\"fill: #1f77b4\"/>\n   </g>\n   <g id=\"patch_98\">\n    <path d=\"M 1072.06625 465.838125 \nL 1082.22185 465.838125 \nL 1082.22185 465.838125 \nL 1072.06625 465.838125 \nz\n\" clip-path=\"url(#pba9e76f60d)\" style=\"fill: #1f77b4\"/>\n   </g>\n   <g id=\"patch_99\">\n    <path d=\"M 1082.22185 465.838125 \nL 1092.37745 465.838125 \nL 1092.37745 465.838125 \nL 1082.22185 465.838125 \nz\n\" clip-path=\"url(#pba9e76f60d)\" style=\"fill: #1f77b4\"/>\n   </g>\n   <g id=\"patch_100\">\n    <path d=\"M 1092.37745 465.838125 \nL 1102.53305 465.838125 \nL 1102.53305 465.838125 \nL 1092.37745 465.838125 \nz\n\" clip-path=\"url(#pba9e76f60d)\" style=\"fill: #1f77b4\"/>\n   </g>\n   <g id=\"patch_101\">\n    <path d=\"M 1102.53305 465.838125 \nL 1112.68865 465.838125 \nL 1112.68865 465.838125 \nL 1102.53305 465.838125 \nz\n\" clip-path=\"url(#pba9e76f60d)\" style=\"fill: #1f77b4\"/>\n   </g>\n   <g id=\"patch_102\">\n    <path d=\"M 1112.68865 465.838125 \nL 1122.84425 465.838125 \nL 1122.84425 465.817711 \nL 1112.68865 465.817711 \nz\n\" clip-path=\"url(#pba9e76f60d)\" style=\"fill: #1f77b4\"/>\n   </g>\n   <g id=\"PolyCollection_1\">\n    <defs>\n     <path id=\"ma7f0d7a997\" d=\"M 113.824626 -23.880466 \nL 113.824626 -23.878125 \nL 116.515007 -23.878125 \nL 119.205389 -23.878125 \nL 121.89577 -23.878125 \nL 124.586152 -23.878125 \nL 127.276533 -23.878125 \nL 129.966914 -23.878125 \nL 132.657296 -23.878125 \nL 135.347677 -23.878125 \nL 138.038059 -23.878125 \nL 140.72844 -23.878125 \nL 143.418822 -23.878125 \nL 146.109203 -23.878125 \nL 148.799584 -23.878125 \nL 151.489966 -23.878125 \nL 154.180347 -23.878125 \nL 156.870729 -23.878125 \nL 159.56111 -23.878125 \nL 162.251491 -23.878125 \nL 164.941873 -23.878125 \nL 167.632254 -23.878125 \nL 170.322636 -23.878125 \nL 173.013017 -23.878125 \nL 175.703398 -23.878125 \nL 178.39378 -23.878125 \nL 181.084161 -23.878125 \nL 183.774543 -23.878125 \nL 186.464924 -23.878125 \nL 189.155306 -23.878125 \nL 191.845687 -23.878125 \nL 194.536068 -23.878125 \nL 197.22645 -23.878125 \nL 199.916831 -23.878125 \nL 202.607213 -23.878125 \nL 205.297594 -23.878125 \nL 207.987975 -23.878125 \nL 210.678357 -23.878125 \nL 213.368738 -23.878125 \nL 216.05912 -23.878125 \nL 218.749501 -23.878125 \nL 221.439882 -23.878125 \nL 224.130264 -23.878125 \nL 226.820645 -23.878125 \nL 229.511027 -23.878125 \nL 232.201408 -23.878125 \nL 234.89179 -23.878125 \nL 237.582171 -23.878125 \nL 240.272552 -23.878125 \nL 242.962934 -23.878125 \nL 245.653315 -23.878125 \nL 248.343697 -23.878125 \nL 251.034078 -23.878125 \nL 253.724459 -23.878125 \nL 256.414841 -23.878125 \nL 259.105222 -23.878125 \nL 261.795604 -23.878125 \nL 264.485985 -23.878125 \nL 267.176366 -23.878125 \nL 269.866748 -23.878125 \nL 272.557129 -23.878125 \nL 275.247511 -23.878125 \nL 277.937892 -23.878125 \nL 280.628274 -23.878125 \nL 283.318655 -23.878125 \nL 286.009036 -23.878125 \nL 288.699418 -23.878125 \nL 291.389799 -23.878125 \nL 294.080181 -23.878125 \nL 296.770562 -23.878125 \nL 299.460943 -23.878125 \nL 302.151325 -23.878125 \nL 304.841706 -23.878125 \nL 307.532088 -23.878125 \nL 310.222469 -23.878125 \nL 312.91285 -23.878125 \nL 315.603232 -23.878125 \nL 318.293613 -23.878125 \nL 320.983995 -23.878125 \nL 323.674376 -23.878125 \nL 326.364757 -23.878125 \nL 329.055139 -23.878125 \nL 331.74552 -23.878125 \nL 334.435902 -23.878125 \nL 337.126283 -23.878125 \nL 339.816665 -23.878125 \nL 342.507046 -23.878125 \nL 345.197427 -23.878125 \nL 347.887809 -23.878125 \nL 350.57819 -23.878125 \nL 353.268572 -23.878125 \nL 355.958953 -23.878125 \nL 358.649334 -23.878125 \nL 361.339716 -23.878125 \nL 364.030097 -23.878125 \nL 366.720479 -23.878125 \nL 369.41086 -23.878125 \nL 372.101241 -23.878125 \nL 374.791623 -23.878125 \nL 377.482004 -23.878125 \nL 380.172386 -23.878125 \nL 382.862767 -23.878125 \nL 385.553149 -23.878125 \nL 388.24353 -23.878125 \nL 390.933911 -23.878125 \nL 393.624293 -23.878125 \nL 396.314674 -23.878125 \nL 399.005056 -23.878125 \nL 401.695437 -23.878125 \nL 404.385818 -23.878125 \nL 407.0762 -23.878125 \nL 409.766581 -23.878125 \nL 412.456963 -23.878125 \nL 415.147344 -23.878125 \nL 417.837725 -23.878125 \nL 420.528107 -23.878125 \nL 423.218488 -23.878125 \nL 425.90887 -23.878125 \nL 428.599251 -23.878125 \nL 431.289633 -23.878125 \nL 433.980014 -23.878125 \nL 436.670395 -23.878125 \nL 439.360777 -23.878125 \nL 442.051158 -23.878125 \nL 444.74154 -23.878125 \nL 447.431921 -23.878125 \nL 450.122302 -23.878125 \nL 452.812684 -23.878125 \nL 455.503065 -23.878125 \nL 458.193447 -23.878125 \nL 460.883828 -23.878125 \nL 463.574209 -23.878125 \nL 466.264591 -23.878125 \nL 468.954972 -23.878125 \nL 471.645354 -23.878125 \nL 474.335735 -23.878125 \nL 477.026117 -23.878125 \nL 479.716498 -23.878125 \nL 482.406879 -23.878125 \nL 485.097261 -23.878125 \nL 487.787642 -23.878125 \nL 490.478024 -23.878125 \nL 493.168405 -23.878125 \nL 495.858786 -23.878125 \nL 498.549168 -23.878125 \nL 501.239549 -23.878125 \nL 503.929931 -23.878125 \nL 506.620312 -23.878125 \nL 509.310693 -23.878125 \nL 512.001075 -23.878125 \nL 514.691456 -23.878125 \nL 517.381838 -23.878125 \nL 520.072219 -23.878125 \nL 522.762601 -23.878125 \nL 525.452982 -23.878125 \nL 528.143363 -23.878125 \nL 530.833745 -23.878125 \nL 533.524126 -23.878125 \nL 536.214508 -23.878125 \nL 538.904889 -23.878125 \nL 541.59527 -23.878125 \nL 544.285652 -23.878125 \nL 546.976033 -23.878125 \nL 549.666415 -23.878125 \nL 552.356796 -23.878125 \nL 555.047177 -23.878125 \nL 557.737559 -23.878125 \nL 560.42794 -23.878125 \nL 563.118322 -23.878125 \nL 565.808703 -23.878125 \nL 568.499085 -23.878125 \nL 571.189466 -23.878125 \nL 573.879847 -23.878125 \nL 576.570229 -23.878125 \nL 579.26061 -23.878125 \nL 581.950992 -23.878125 \nL 584.641373 -23.878125 \nL 587.331754 -23.878125 \nL 590.022136 -23.878125 \nL 592.712517 -23.878125 \nL 595.402899 -23.878125 \nL 598.09328 -23.878125 \nL 600.783661 -23.878125 \nL 603.474043 -23.878125 \nL 606.164424 -23.878125 \nL 608.854806 -23.878125 \nL 611.545187 -23.878125 \nL 614.235568 -23.878125 \nL 616.92595 -23.878125 \nL 619.616331 -23.878125 \nL 622.306713 -23.878125 \nL 624.997094 -23.878125 \nL 627.687476 -23.878125 \nL 630.377857 -23.878125 \nL 633.068238 -23.878125 \nL 635.75862 -23.878125 \nL 638.449001 -23.878125 \nL 641.139383 -23.878125 \nL 643.829764 -23.878125 \nL 646.520145 -23.878125 \nL 649.210527 -23.878125 \nL 649.210527 -23.881176 \nL 649.210527 -23.881176 \nL 646.520145 -23.884934 \nL 643.829764 -23.892424 \nL 641.139383 -23.906403 \nL 638.449001 -23.930831 \nL 635.75862 -23.970774 \nL 633.068238 -24.031845 \nL 630.377857 -24.119053 \nL 627.687476 -24.235201 \nL 624.997094 -24.37927 \nL 622.306713 -24.545552 \nL 619.616331 -24.724297 \nL 616.92595 -24.904278 \nL 614.235568 -25.076796 \nL 611.545187 -25.239807 \nL 608.854806 -25.400292 \nL 606.164424 -25.573441 \nL 603.474043 -25.778362 \nL 600.783661 -26.031674 \nL 598.09328 -26.341411 \nL 595.402899 -26.70379 \nL 592.712517 -27.104367 \nL 590.022136 -27.523405 \nL 587.331754 -27.943599 \nL 584.641373 -28.357382 \nL 581.950992 -28.771192 \nL 579.26061 -29.205247 \nL 576.570229 -29.689197 \nL 573.879847 -30.25551 \nL 571.189466 -30.93308 \nL 568.499085 -31.742933 \nL 565.808703 -32.696552 \nL 563.118322 -33.795988 \nL 560.42794 -35.034485 \nL 557.737559 -36.396813 \nL 555.047177 -37.859496 \nL 552.356796 -39.391818 \nL 549.666415 -40.958511 \nL 546.976033 -42.524499 \nL 544.285652 -44.061526 \nL 541.59527 -45.556168 \nL 538.904889 -47.0185 \nL 536.214508 -48.489944 \nL 533.524126 -50.047643 \nL 530.833745 -51.801673 \nL 528.143363 -53.881977 \nL 525.452982 -56.414892 \nL 522.762601 -59.494132 \nL 520.072219 -63.155689 \nL 517.381838 -67.367378 \nL 514.691456 -72.03963 \nL 512.001075 -77.055504 \nL 509.310693 -82.30864 \nL 506.620312 -87.733098 \nL 503.929931 -93.312176 \nL 501.239549 -99.063549 \nL 498.549168 -105.010314 \nL 495.858786 -111.154825 \nL 493.168405 -117.470253 \nL 490.478024 -123.914463 \nL 487.787642 -130.458016 \nL 485.097261 -137.110158 \nL 482.406879 -143.927815 \nL 479.716498 -151.001726 \nL 477.026117 -158.425337 \nL 474.335735 -166.259815 \nL 471.645354 -174.509105 \nL 468.954972 -183.113145 \nL 466.264591 -191.958832 \nL 463.574209 -200.901468 \nL 460.883828 -209.787003 \nL 458.193447 -218.467887 \nL 455.503065 -226.810972 \nL 452.812684 -234.701543 \nL 450.122302 -242.049789 \nL 447.431921 -248.803341 \nL 444.74154 -254.963414 \nL 442.051158 -260.596649 \nL 439.360777 -265.833922 \nL 436.670395 -270.852108 \nL 433.980014 -275.841841 \nL 431.289633 -280.969464 \nL 428.599251 -286.342292 \nL 425.90887 -291.984384 \nL 423.218488 -297.828095 \nL 420.528107 -303.725508 \nL 417.837725 -309.481672 \nL 415.147344 -314.905862 \nL 412.456963 -319.868377 \nL 409.766581 -324.343065 \nL 407.0762 -328.415788 \nL 404.385818 -332.249171 \nL 401.695437 -336.011278 \nL 399.005056 -339.792255 \nL 396.314674 -343.540239 \nL 393.624293 -347.042051 \nL 390.933911 -349.958358 \nL 388.24353 -351.904042 \nL 385.553149 -352.549876 \nL 382.862767 -351.715009 \nL 380.172386 -349.422252 \nL 377.482004 -345.898254 \nL 374.791623 -341.516667 \nL 372.101241 -336.700464 \nL 369.41086 -331.813875 \nL 366.720479 -327.078426 \nL 364.030097 -322.538207 \nL 361.339716 -318.080385 \nL 358.649334 -313.496994 \nL 355.958953 -308.562457 \nL 353.268572 -303.10149 \nL 350.57819 -297.030699 \nL 347.887809 -290.368025 \nL 345.197427 -283.213063 \nL 342.507046 -275.707471 \nL 339.816665 -267.989035 \nL 337.126283 -260.154465 \nL 334.435902 -252.242897 \nL 331.74552 -244.244105 \nL 329.055139 -236.125617 \nL 326.364757 -227.866257 \nL 323.674376 -219.482986 \nL 320.983995 -211.042478 \nL 318.293613 -202.655191 \nL 315.603232 -194.454601 \nL 312.91285 -186.567222 \nL 310.222469 -179.080896 \nL 307.532088 -172.020341 \nL 304.841706 -165.33898 \nL 302.151325 -158.932694 \nL 299.460943 -152.673678 \nL 296.770562 -146.453379 \nL 294.080181 -140.217433 \nL 291.389799 -133.977287 \nL 288.699418 -127.793278 \nL 286.009036 -121.737902 \nL 283.318655 -115.857735 \nL 280.628274 -110.152448 \nL 277.937892 -104.579511 \nL 275.247511 -99.07984 \nL 272.557129 -93.610353 \nL 269.866748 -88.168397 \nL 267.176366 -82.799102 \nL 264.485985 -77.58529 \nL 261.795604 -72.62607 \nL 259.105222 -68.012741 \nL 256.414841 -63.809666 \nL 253.724459 -60.044627 \nL 251.034078 -56.709444 \nL 248.343697 -53.768304 \nL 245.653315 -51.169447 \nL 242.962934 -48.856059 \nL 240.272552 -46.774134 \nL 237.582171 -44.877299 \nL 234.89179 -43.129718 \nL 232.201408 -41.507646 \nL 229.511027 -39.998961 \nL 226.820645 -38.5996 \nL 224.130264 -37.307091 \nL 221.439882 -36.113558 \nL 218.749501 -35.001875 \nL 216.05912 -33.947633 \nL 213.368738 -32.926553 \nL 210.678357 -31.923747 \nL 207.987975 -30.940013 \nL 205.297594 -29.992003 \nL 202.607213 -29.10639 \nL 199.916831 -28.311111 \nL 197.22645 -27.627507 \nL 194.536068 -27.065905 \nL 191.845687 -26.624988 \nL 189.155306 -26.293818 \nL 186.464924 -26.055026 \nL 183.774543 -25.888137 \nL 181.084161 -25.772504 \nL 178.39378 -25.689471 \nL 175.703398 -25.623533 \nL 173.013017 -25.562465 \nL 170.322636 -25.496855 \nL 167.632254 -25.41965 \nL 164.941873 -25.326201 \nL 162.251491 -25.214759 \nL 159.56111 -25.086926 \nL 156.870729 -24.947476 \nL 154.180347 -24.803279 \nL 151.489966 -24.661607 \nL 148.799584 -24.52847 \nL 146.109203 -24.407656 \nL 143.418822 -24.300715 \nL 140.72844 -24.207697 \nL 138.038059 -24.128061 \nL 135.347677 -24.061288 \nL 132.657296 -24.006982 \nL 129.966914 -23.964612 \nL 127.276533 -23.933213 \nL 124.586152 -23.911283 \nL 121.89577 -23.896923 \nL 119.205389 -23.888138 \nL 116.515007 -23.883127 \nL 113.824626 -23.880466 \nz\n\" style=\"stroke: #1f77b4\"/>\n    </defs>\n    <g clip-path=\"url(#pba9e76f60d)\">\n     <use xlink:href=\"#ma7f0d7a997\" x=\"0\" y=\"489.71625\" style=\"fill: #1f77b4; fill-opacity: 0.25; stroke: #1f77b4\"/>\n    </g>\n   </g>\n   <g id=\"matplotlib.axis_1\">\n    <g id=\"xtick_1\">\n     <g id=\"line2d_1\">\n      <defs>\n       <path id=\"mc543cab5fc\" d=\"M 0 0 \nL 0 3.5 \n\" style=\"stroke: #000000; stroke-width: 0.8\"/>\n      </defs>\n      <g>\n       <use xlink:href=\"#mc543cab5fc\" x=\"56.50625\" y=\"465.838125\" style=\"stroke: #000000; stroke-width: 0.8\"/>\n      </g>\n     </g>\n     <g id=\"text_1\">\n      <!-- −100 -->\n      <g transform=\"translate(42.772656 480.436562) scale(0.1 -0.1)\">\n       <defs>\n        <path id=\"DejaVuSans-2212\" d=\"M 678 2272 \nL 4684 2272 \nL 4684 1741 \nL 678 1741 \nL 678 2272 \nz\n\" transform=\"scale(0.015625)\"/>\n        <path id=\"DejaVuSans-31\" d=\"M 794 531 \nL 1825 531 \nL 1825 4091 \nL 703 3866 \nL 703 4441 \nL 1819 4666 \nL 2450 4666 \nL 2450 531 \nL 3481 531 \nL 3481 0 \nL 794 0 \nL 794 531 \nz\n\" transform=\"scale(0.015625)\"/>\n        <path id=\"DejaVuSans-30\" d=\"M 2034 4250 \nQ 1547 4250 1301 3770 \nQ 1056 3291 1056 2328 \nQ 1056 1369 1301 889 \nQ 1547 409 2034 409 \nQ 2525 409 2770 889 \nQ 3016 1369 3016 2328 \nQ 3016 3291 2770 3770 \nQ 2525 4250 2034 4250 \nz\nM 2034 4750 \nQ 2819 4750 3233 4129 \nQ 3647 3509 3647 2328 \nQ 3647 1150 3233 529 \nQ 2819 -91 2034 -91 \nQ 1250 -91 836 529 \nQ 422 1150 422 2328 \nQ 422 3509 836 4129 \nQ 1250 4750 2034 4750 \nz\n\" transform=\"scale(0.015625)\"/>\n       </defs>\n       <use xlink:href=\"#DejaVuSans-2212\"/>\n       <use xlink:href=\"#DejaVuSans-31\" x=\"83.789062\"/>\n       <use xlink:href=\"#DejaVuSans-30\" x=\"147.412109\"/>\n       <use xlink:href=\"#DejaVuSans-30\" x=\"211.035156\"/>\n      </g>\n     </g>\n    </g>\n    <g id=\"xtick_2\">\n     <g id=\"line2d_2\">\n      <g>\n       <use xlink:href=\"#mc543cab5fc\" x=\"147.18125\" y=\"465.838125\" style=\"stroke: #000000; stroke-width: 0.8\"/>\n      </g>\n     </g>\n     <g id=\"text_2\">\n      <!-- −75 -->\n      <g transform=\"translate(136.628906 480.436562) scale(0.1 -0.1)\">\n       <defs>\n        <path id=\"DejaVuSans-37\" d=\"M 525 4666 \nL 3525 4666 \nL 3525 4397 \nL 1831 0 \nL 1172 0 \nL 2766 4134 \nL 525 4134 \nL 525 4666 \nz\n\" transform=\"scale(0.015625)\"/>\n        <path id=\"DejaVuSans-35\" d=\"M 691 4666 \nL 3169 4666 \nL 3169 4134 \nL 1269 4134 \nL 1269 2991 \nQ 1406 3038 1543 3061 \nQ 1681 3084 1819 3084 \nQ 2600 3084 3056 2656 \nQ 3513 2228 3513 1497 \nQ 3513 744 3044 326 \nQ 2575 -91 1722 -91 \nQ 1428 -91 1123 -41 \nQ 819 9 494 109 \nL 494 744 \nQ 775 591 1075 516 \nQ 1375 441 1709 441 \nQ 2250 441 2565 725 \nQ 2881 1009 2881 1497 \nQ 2881 1984 2565 2268 \nQ 2250 2553 1709 2553 \nQ 1456 2553 1204 2497 \nQ 953 2441 691 2322 \nL 691 4666 \nz\n\" transform=\"scale(0.015625)\"/>\n       </defs>\n       <use xlink:href=\"#DejaVuSans-2212\"/>\n       <use xlink:href=\"#DejaVuSans-37\" x=\"83.789062\"/>\n       <use xlink:href=\"#DejaVuSans-35\" x=\"147.412109\"/>\n      </g>\n     </g>\n    </g>\n    <g id=\"xtick_3\">\n     <g id=\"line2d_3\">\n      <g>\n       <use xlink:href=\"#mc543cab5fc\" x=\"237.85625\" y=\"465.838125\" style=\"stroke: #000000; stroke-width: 0.8\"/>\n      </g>\n     </g>\n     <g id=\"text_3\">\n      <!-- −50 -->\n      <g transform=\"translate(227.303906 480.436562) scale(0.1 -0.1)\">\n       <use xlink:href=\"#DejaVuSans-2212\"/>\n       <use xlink:href=\"#DejaVuSans-35\" x=\"83.789062\"/>\n       <use xlink:href=\"#DejaVuSans-30\" x=\"147.412109\"/>\n      </g>\n     </g>\n    </g>\n    <g id=\"xtick_4\">\n     <g id=\"line2d_4\">\n      <g>\n       <use xlink:href=\"#mc543cab5fc\" x=\"328.53125\" y=\"465.838125\" style=\"stroke: #000000; stroke-width: 0.8\"/>\n      </g>\n     </g>\n     <g id=\"text_4\">\n      <!-- −25 -->\n      <g transform=\"translate(317.978906 480.436562) scale(0.1 -0.1)\">\n       <defs>\n        <path id=\"DejaVuSans-32\" d=\"M 1228 531 \nL 3431 531 \nL 3431 0 \nL 469 0 \nL 469 531 \nQ 828 903 1448 1529 \nQ 2069 2156 2228 2338 \nQ 2531 2678 2651 2914 \nQ 2772 3150 2772 3378 \nQ 2772 3750 2511 3984 \nQ 2250 4219 1831 4219 \nQ 1534 4219 1204 4116 \nQ 875 4013 500 3803 \nL 500 4441 \nQ 881 4594 1212 4672 \nQ 1544 4750 1819 4750 \nQ 2544 4750 2975 4387 \nQ 3406 4025 3406 3419 \nQ 3406 3131 3298 2873 \nQ 3191 2616 2906 2266 \nQ 2828 2175 2409 1742 \nQ 1991 1309 1228 531 \nz\n\" transform=\"scale(0.015625)\"/>\n       </defs>\n       <use xlink:href=\"#DejaVuSans-2212\"/>\n       <use xlink:href=\"#DejaVuSans-32\" x=\"83.789062\"/>\n       <use xlink:href=\"#DejaVuSans-35\" x=\"147.412109\"/>\n      </g>\n     </g>\n    </g>\n    <g id=\"xtick_5\">\n     <g id=\"line2d_5\">\n      <g>\n       <use xlink:href=\"#mc543cab5fc\" x=\"419.20625\" y=\"465.838125\" style=\"stroke: #000000; stroke-width: 0.8\"/>\n      </g>\n     </g>\n     <g id=\"text_5\">\n      <!-- 0 -->\n      <g transform=\"translate(416.025 480.436562) scale(0.1 -0.1)\">\n       <use xlink:href=\"#DejaVuSans-30\"/>\n      </g>\n     </g>\n    </g>\n    <g id=\"xtick_6\">\n     <g id=\"line2d_6\">\n      <g>\n       <use xlink:href=\"#mc543cab5fc\" x=\"509.88125\" y=\"465.838125\" style=\"stroke: #000000; stroke-width: 0.8\"/>\n      </g>\n     </g>\n     <g id=\"text_6\">\n      <!-- 25 -->\n      <g transform=\"translate(503.51875 480.436562) scale(0.1 -0.1)\">\n       <use xlink:href=\"#DejaVuSans-32\"/>\n       <use xlink:href=\"#DejaVuSans-35\" x=\"63.623047\"/>\n      </g>\n     </g>\n    </g>\n    <g id=\"xtick_7\">\n     <g id=\"line2d_7\">\n      <g>\n       <use xlink:href=\"#mc543cab5fc\" x=\"600.55625\" y=\"465.838125\" style=\"stroke: #000000; stroke-width: 0.8\"/>\n      </g>\n     </g>\n     <g id=\"text_7\">\n      <!-- 50 -->\n      <g transform=\"translate(594.19375 480.436562) scale(0.1 -0.1)\">\n       <use xlink:href=\"#DejaVuSans-35\"/>\n       <use xlink:href=\"#DejaVuSans-30\" x=\"63.623047\"/>\n      </g>\n     </g>\n    </g>\n    <g id=\"xtick_8\">\n     <g id=\"line2d_8\">\n      <g>\n       <use xlink:href=\"#mc543cab5fc\" x=\"691.23125\" y=\"465.838125\" style=\"stroke: #000000; stroke-width: 0.8\"/>\n      </g>\n     </g>\n     <g id=\"text_8\">\n      <!-- 75 -->\n      <g transform=\"translate(684.86875 480.436562) scale(0.1 -0.1)\">\n       <use xlink:href=\"#DejaVuSans-37\"/>\n       <use xlink:href=\"#DejaVuSans-35\" x=\"63.623047\"/>\n      </g>\n     </g>\n    </g>\n    <g id=\"xtick_9\">\n     <g id=\"line2d_9\">\n      <g>\n       <use xlink:href=\"#mc543cab5fc\" x=\"781.90625\" y=\"465.838125\" style=\"stroke: #000000; stroke-width: 0.8\"/>\n      </g>\n     </g>\n     <g id=\"text_9\">\n      <!-- 100 -->\n      <g transform=\"translate(772.3625 480.436562) scale(0.1 -0.1)\">\n       <use xlink:href=\"#DejaVuSans-31\"/>\n       <use xlink:href=\"#DejaVuSans-30\" x=\"63.623047\"/>\n       <use xlink:href=\"#DejaVuSans-30\" x=\"127.246094\"/>\n      </g>\n     </g>\n    </g>\n   </g>\n   <g id=\"matplotlib.axis_2\">\n    <g id=\"ytick_1\">\n     <g id=\"line2d_10\">\n      <defs>\n       <path id=\"m4e26145dcc\" d=\"M 0 0 \nL -3.5 0 \n\" style=\"stroke: #000000; stroke-width: 0.8\"/>\n      </defs>\n      <g>\n       <use xlink:href=\"#m4e26145dcc\" x=\"56.50625\" y=\"465.838125\" style=\"stroke: #000000; stroke-width: 0.8\"/>\n      </g>\n     </g>\n     <g id=\"text_10\">\n      <!-- 0.000 -->\n      <g transform=\"translate(20.878125 469.637344) scale(0.1 -0.1)\">\n       <defs>\n        <path id=\"DejaVuSans-2e\" d=\"M 684 794 \nL 1344 794 \nL 1344 0 \nL 684 0 \nL 684 794 \nz\n\" transform=\"scale(0.015625)\"/>\n       </defs>\n       <use xlink:href=\"#DejaVuSans-30\"/>\n       <use xlink:href=\"#DejaVuSans-2e\" x=\"63.623047\"/>\n       <use xlink:href=\"#DejaVuSans-30\" x=\"95.410156\"/>\n       <use xlink:href=\"#DejaVuSans-30\" x=\"159.033203\"/>\n       <use xlink:href=\"#DejaVuSans-30\" x=\"222.65625\"/>\n      </g>\n     </g>\n    </g>\n    <g id=\"ytick_2\">\n     <g id=\"line2d_11\">\n      <g>\n       <use xlink:href=\"#m4e26145dcc\" x=\"56.50625\" y=\"392.501711\" style=\"stroke: #000000; stroke-width: 0.8\"/>\n      </g>\n     </g>\n     <g id=\"text_11\">\n      <!-- 0.005 -->\n      <g transform=\"translate(20.878125 396.30093) scale(0.1 -0.1)\">\n       <use xlink:href=\"#DejaVuSans-30\"/>\n       <use xlink:href=\"#DejaVuSans-2e\" x=\"63.623047\"/>\n       <use xlink:href=\"#DejaVuSans-30\" x=\"95.410156\"/>\n       <use xlink:href=\"#DejaVuSans-30\" x=\"159.033203\"/>\n       <use xlink:href=\"#DejaVuSans-35\" x=\"222.65625\"/>\n      </g>\n     </g>\n    </g>\n    <g id=\"ytick_3\">\n     <g id=\"line2d_12\">\n      <g>\n       <use xlink:href=\"#m4e26145dcc\" x=\"56.50625\" y=\"319.165298\" style=\"stroke: #000000; stroke-width: 0.8\"/>\n      </g>\n     </g>\n     <g id=\"text_12\">\n      <!-- 0.010 -->\n      <g transform=\"translate(20.878125 322.964517) scale(0.1 -0.1)\">\n       <use xlink:href=\"#DejaVuSans-30\"/>\n       <use xlink:href=\"#DejaVuSans-2e\" x=\"63.623047\"/>\n       <use xlink:href=\"#DejaVuSans-30\" x=\"95.410156\"/>\n       <use xlink:href=\"#DejaVuSans-31\" x=\"159.033203\"/>\n       <use xlink:href=\"#DejaVuSans-30\" x=\"222.65625\"/>\n      </g>\n     </g>\n    </g>\n    <g id=\"ytick_4\">\n     <g id=\"line2d_13\">\n      <g>\n       <use xlink:href=\"#m4e26145dcc\" x=\"56.50625\" y=\"245.828884\" style=\"stroke: #000000; stroke-width: 0.8\"/>\n      </g>\n     </g>\n     <g id=\"text_13\">\n      <!-- 0.015 -->\n      <g transform=\"translate(20.878125 249.628103) scale(0.1 -0.1)\">\n       <use xlink:href=\"#DejaVuSans-30\"/>\n       <use xlink:href=\"#DejaVuSans-2e\" x=\"63.623047\"/>\n       <use xlink:href=\"#DejaVuSans-30\" x=\"95.410156\"/>\n       <use xlink:href=\"#DejaVuSans-31\" x=\"159.033203\"/>\n       <use xlink:href=\"#DejaVuSans-35\" x=\"222.65625\"/>\n      </g>\n     </g>\n    </g>\n    <g id=\"ytick_5\">\n     <g id=\"line2d_14\">\n      <g>\n       <use xlink:href=\"#m4e26145dcc\" x=\"56.50625\" y=\"172.492471\" style=\"stroke: #000000; stroke-width: 0.8\"/>\n      </g>\n     </g>\n     <g id=\"text_14\">\n      <!-- 0.020 -->\n      <g transform=\"translate(20.878125 176.29169) scale(0.1 -0.1)\">\n       <use xlink:href=\"#DejaVuSans-30\"/>\n       <use xlink:href=\"#DejaVuSans-2e\" x=\"63.623047\"/>\n       <use xlink:href=\"#DejaVuSans-30\" x=\"95.410156\"/>\n       <use xlink:href=\"#DejaVuSans-32\" x=\"159.033203\"/>\n       <use xlink:href=\"#DejaVuSans-30\" x=\"222.65625\"/>\n      </g>\n     </g>\n    </g>\n    <g id=\"ytick_6\">\n     <g id=\"line2d_15\">\n      <g>\n       <use xlink:href=\"#m4e26145dcc\" x=\"56.50625\" y=\"99.156057\" style=\"stroke: #000000; stroke-width: 0.8\"/>\n      </g>\n     </g>\n     <g id=\"text_15\">\n      <!-- 0.025 -->\n      <g transform=\"translate(20.878125 102.955276) scale(0.1 -0.1)\">\n       <use xlink:href=\"#DejaVuSans-30\"/>\n       <use xlink:href=\"#DejaVuSans-2e\" x=\"63.623047\"/>\n       <use xlink:href=\"#DejaVuSans-30\" x=\"95.410156\"/>\n       <use xlink:href=\"#DejaVuSans-32\" x=\"159.033203\"/>\n       <use xlink:href=\"#DejaVuSans-35\" x=\"222.65625\"/>\n      </g>\n     </g>\n    </g>\n    <g id=\"ytick_7\">\n     <g id=\"line2d_16\">\n      <g>\n       <use xlink:href=\"#m4e26145dcc\" x=\"56.50625\" y=\"25.819644\" style=\"stroke: #000000; stroke-width: 0.8\"/>\n      </g>\n     </g>\n     <g id=\"text_16\">\n      <!-- 0.030 -->\n      <g transform=\"translate(20.878125 29.618863) scale(0.1 -0.1)\">\n       <defs>\n        <path id=\"DejaVuSans-33\" d=\"M 2597 2516 \nQ 3050 2419 3304 2112 \nQ 3559 1806 3559 1356 \nQ 3559 666 3084 287 \nQ 2609 -91 1734 -91 \nQ 1441 -91 1130 -33 \nQ 819 25 488 141 \nL 488 750 \nQ 750 597 1062 519 \nQ 1375 441 1716 441 \nQ 2309 441 2620 675 \nQ 2931 909 2931 1356 \nQ 2931 1769 2642 2001 \nQ 2353 2234 1838 2234 \nL 1294 2234 \nL 1294 2753 \nL 1863 2753 \nQ 2328 2753 2575 2939 \nQ 2822 3125 2822 3475 \nQ 2822 3834 2567 4026 \nQ 2313 4219 1838 4219 \nQ 1578 4219 1281 4162 \nQ 984 4106 628 3988 \nL 628 4550 \nQ 988 4650 1302 4700 \nQ 1616 4750 1894 4750 \nQ 2613 4750 3031 4423 \nQ 3450 4097 3450 3541 \nQ 3450 3153 3228 2886 \nQ 3006 2619 2597 2516 \nz\n\" transform=\"scale(0.015625)\"/>\n       </defs>\n       <use xlink:href=\"#DejaVuSans-30\"/>\n       <use xlink:href=\"#DejaVuSans-2e\" x=\"63.623047\"/>\n       <use xlink:href=\"#DejaVuSans-30\" x=\"95.410156\"/>\n       <use xlink:href=\"#DejaVuSans-33\" x=\"159.033203\"/>\n       <use xlink:href=\"#DejaVuSans-30\" x=\"222.65625\"/>\n      </g>\n     </g>\n    </g>\n    <g id=\"text_17\">\n     <!-- Density -->\n     <g transform=\"translate(14.798437 263.086719) rotate(-90) scale(0.1 -0.1)\">\n      <defs>\n       <path id=\"DejaVuSans-44\" d=\"M 1259 4147 \nL 1259 519 \nL 2022 519 \nQ 2988 519 3436 956 \nQ 3884 1394 3884 2338 \nQ 3884 3275 3436 3711 \nQ 2988 4147 2022 4147 \nL 1259 4147 \nz\nM 628 4666 \nL 1925 4666 \nQ 3281 4666 3915 4102 \nQ 4550 3538 4550 2338 \nQ 4550 1131 3912 565 \nQ 3275 0 1925 0 \nL 628 0 \nL 628 4666 \nz\n\" transform=\"scale(0.015625)\"/>\n       <path id=\"DejaVuSans-65\" d=\"M 3597 1894 \nL 3597 1613 \nL 953 1613 \nQ 991 1019 1311 708 \nQ 1631 397 2203 397 \nQ 2534 397 2845 478 \nQ 3156 559 3463 722 \nL 3463 178 \nQ 3153 47 2828 -22 \nQ 2503 -91 2169 -91 \nQ 1331 -91 842 396 \nQ 353 884 353 1716 \nQ 353 2575 817 3079 \nQ 1281 3584 2069 3584 \nQ 2775 3584 3186 3129 \nQ 3597 2675 3597 1894 \nz\nM 3022 2063 \nQ 3016 2534 2758 2815 \nQ 2500 3097 2075 3097 \nQ 1594 3097 1305 2825 \nQ 1016 2553 972 2059 \nL 3022 2063 \nz\n\" transform=\"scale(0.015625)\"/>\n       <path id=\"DejaVuSans-6e\" d=\"M 3513 2113 \nL 3513 0 \nL 2938 0 \nL 2938 2094 \nQ 2938 2591 2744 2837 \nQ 2550 3084 2163 3084 \nQ 1697 3084 1428 2787 \nQ 1159 2491 1159 1978 \nL 1159 0 \nL 581 0 \nL 581 3500 \nL 1159 3500 \nL 1159 2956 \nQ 1366 3272 1645 3428 \nQ 1925 3584 2291 3584 \nQ 2894 3584 3203 3211 \nQ 3513 2838 3513 2113 \nz\n\" transform=\"scale(0.015625)\"/>\n       <path id=\"DejaVuSans-73\" d=\"M 2834 3397 \nL 2834 2853 \nQ 2591 2978 2328 3040 \nQ 2066 3103 1784 3103 \nQ 1356 3103 1142 2972 \nQ 928 2841 928 2578 \nQ 928 2378 1081 2264 \nQ 1234 2150 1697 2047 \nL 1894 2003 \nQ 2506 1872 2764 1633 \nQ 3022 1394 3022 966 \nQ 3022 478 2636 193 \nQ 2250 -91 1575 -91 \nQ 1294 -91 989 -36 \nQ 684 19 347 128 \nL 347 722 \nQ 666 556 975 473 \nQ 1284 391 1588 391 \nQ 1994 391 2212 530 \nQ 2431 669 2431 922 \nQ 2431 1156 2273 1281 \nQ 2116 1406 1581 1522 \nL 1381 1569 \nQ 847 1681 609 1914 \nQ 372 2147 372 2553 \nQ 372 3047 722 3315 \nQ 1072 3584 1716 3584 \nQ 2034 3584 2315 3537 \nQ 2597 3491 2834 3397 \nz\n\" transform=\"scale(0.015625)\"/>\n       <path id=\"DejaVuSans-69\" d=\"M 603 3500 \nL 1178 3500 \nL 1178 0 \nL 603 0 \nL 603 3500 \nz\nM 603 4863 \nL 1178 4863 \nL 1178 4134 \nL 603 4134 \nL 603 4863 \nz\n\" transform=\"scale(0.015625)\"/>\n       <path id=\"DejaVuSans-74\" d=\"M 1172 4494 \nL 1172 3500 \nL 2356 3500 \nL 2356 3053 \nL 1172 3053 \nL 1172 1153 \nQ 1172 725 1289 603 \nQ 1406 481 1766 481 \nL 2356 481 \nL 2356 0 \nL 1766 0 \nQ 1100 0 847 248 \nQ 594 497 594 1153 \nL 594 3053 \nL 172 3053 \nL 172 3500 \nL 594 3500 \nL 594 4494 \nL 1172 4494 \nz\n\" transform=\"scale(0.015625)\"/>\n       <path id=\"DejaVuSans-79\" d=\"M 2059 -325 \nQ 1816 -950 1584 -1140 \nQ 1353 -1331 966 -1331 \nL 506 -1331 \nL 506 -850 \nL 844 -850 \nQ 1081 -850 1212 -737 \nQ 1344 -625 1503 -206 \nL 1606 56 \nL 191 3500 \nL 800 3500 \nL 1894 763 \nL 2988 3500 \nL 3597 3500 \nL 2059 -325 \nz\n\" transform=\"scale(0.015625)\"/>\n      </defs>\n      <use xlink:href=\"#DejaVuSans-44\"/>\n      <use xlink:href=\"#DejaVuSans-65\" x=\"77.001953\"/>\n      <use xlink:href=\"#DejaVuSans-6e\" x=\"138.525391\"/>\n      <use xlink:href=\"#DejaVuSans-73\" x=\"201.904297\"/>\n      <use xlink:href=\"#DejaVuSans-69\" x=\"254.003906\"/>\n      <use xlink:href=\"#DejaVuSans-74\" x=\"281.787109\"/>\n      <use xlink:href=\"#DejaVuSans-79\" x=\"320.996094\"/>\n     </g>\n    </g>\n   </g>\n   <g id=\"patch_103\">\n    <path d=\"M 56.50625 465.838125 \nL 56.50625 22.318125 \n\" style=\"fill: none; stroke: #000000; stroke-width: 0.8; stroke-linejoin: miter; stroke-linecap: square\"/>\n   </g>\n   <g id=\"patch_104\">\n    <path d=\"M 781.90625 465.838125 \nL 781.90625 22.318125 \n\" style=\"fill: none; stroke: #000000; stroke-width: 0.8; stroke-linejoin: miter; stroke-linecap: square\"/>\n   </g>\n   <g id=\"patch_105\">\n    <path d=\"M 56.50625 465.838125 \nL 781.90625 465.838125 \n\" style=\"fill: none; stroke: #000000; stroke-width: 0.8; stroke-linejoin: miter; stroke-linecap: square\"/>\n   </g>\n   <g id=\"patch_106\">\n    <path d=\"M 56.50625 22.318125 \nL 781.90625 22.318125 \n\" style=\"fill: none; stroke: #000000; stroke-width: 0.8; stroke-linejoin: miter; stroke-linecap: square\"/>\n   </g>\n   <g id=\"text_18\">\n    <!-- Нормированная гистограмма распределения задержки прилета -->\n    <g transform=\"translate(213.66875 16.318125) scale(0.12 -0.12)\">\n     <defs>\n      <path id=\"DejaVuSans-41d\" d=\"M 628 4666 \nL 1259 4666 \nL 1259 2753 \nL 3553 2753 \nL 3553 4666 \nL 4184 4666 \nL 4184 0 \nL 3553 0 \nL 3553 2222 \nL 1259 2222 \nL 1259 0 \nL 628 0 \nL 628 4666 \nz\n\" transform=\"scale(0.015625)\"/>\n      <path id=\"DejaVuSans-43e\" d=\"M 1959 3097 \nQ 1497 3097 1228 2736 \nQ 959 2375 959 1747 \nQ 959 1119 1226 758 \nQ 1494 397 1959 397 \nQ 2419 397 2687 759 \nQ 2956 1122 2956 1747 \nQ 2956 2369 2687 2733 \nQ 2419 3097 1959 3097 \nz\nM 1959 3584 \nQ 2709 3584 3137 3096 \nQ 3566 2609 3566 1747 \nQ 3566 888 3137 398 \nQ 2709 -91 1959 -91 \nQ 1206 -91 779 398 \nQ 353 888 353 1747 \nQ 353 2609 779 3096 \nQ 1206 3584 1959 3584 \nz\n\" transform=\"scale(0.015625)\"/>\n      <path id=\"DejaVuSans-440\" d=\"M 1159 525 \nL 1159 -1331 \nL 581 -1331 \nL 581 3500 \nL 1159 3500 \nL 1159 2969 \nQ 1341 3281 1617 3432 \nQ 1894 3584 2278 3584 \nQ 2916 3584 3314 3078 \nQ 3713 2572 3713 1747 \nQ 3713 922 3314 415 \nQ 2916 -91 2278 -91 \nQ 1894 -91 1617 61 \nQ 1341 213 1159 525 \nz\nM 3116 1747 \nQ 3116 2381 2855 2742 \nQ 2594 3103 2138 3103 \nQ 1681 3103 1420 2742 \nQ 1159 2381 1159 1747 \nQ 1159 1113 1420 752 \nQ 1681 391 2138 391 \nQ 2594 391 2855 752 \nQ 3116 1113 3116 1747 \nz\n\" transform=\"scale(0.015625)\"/>\n      <path id=\"DejaVuSans-43c\" d=\"M 581 3500 \nL 1422 3500 \nL 2416 1156 \nL 3413 3500 \nL 4247 3500 \nL 4247 0 \nL 3669 0 \nL 3669 2950 \nL 2703 672 \nL 2128 672 \nL 1159 2950 \nL 1159 0 \nL 581 0 \nL 581 3500 \nz\n\" transform=\"scale(0.015625)\"/>\n      <path id=\"DejaVuSans-438\" d=\"M 3578 3500 \nL 3578 0 \nL 3006 0 \nL 3006 2809 \nL 1319 0 \nL 581 0 \nL 581 3500 \nL 1153 3500 \nL 1153 697 \nL 2838 3500 \nL 3578 3500 \nz\n\" transform=\"scale(0.015625)\"/>\n      <path id=\"DejaVuSans-432\" d=\"M 1156 1613 \nL 1156 459 \nL 1975 459 \nQ 2369 459 2575 607 \nQ 2781 756 2781 1038 \nQ 2781 1319 2575 1466 \nQ 2369 1613 1975 1613 \nL 1156 1613 \nz\nM 1156 3041 \nL 1156 2072 \nL 1913 2072 \nQ 2238 2072 2444 2201 \nQ 2650 2331 2650 2563 \nQ 2650 2794 2444 2917 \nQ 2238 3041 1913 3041 \nL 1156 3041 \nz\nM 581 3500 \nL 1950 3500 \nQ 2566 3500 2897 3275 \nQ 3228 3050 3228 2634 \nQ 3228 2313 3059 2123 \nQ 2891 1934 2559 1888 \nQ 2956 1813 3175 1575 \nQ 3394 1338 3394 981 \nQ 3394 513 3033 256 \nQ 2672 0 2003 0 \nL 581 0 \nL 581 3500 \nz\n\" transform=\"scale(0.015625)\"/>\n      <path id=\"DejaVuSans-430\" d=\"M 2194 1759 \nQ 1497 1759 1228 1600 \nQ 959 1441 959 1056 \nQ 959 750 1161 570 \nQ 1363 391 1709 391 \nQ 2188 391 2477 730 \nQ 2766 1069 2766 1631 \nL 2766 1759 \nL 2194 1759 \nz\nM 3341 1997 \nL 3341 0 \nL 2766 0 \nL 2766 531 \nQ 2569 213 2275 61 \nQ 1981 -91 1556 -91 \nQ 1019 -91 701 211 \nQ 384 513 384 1019 \nQ 384 1609 779 1909 \nQ 1175 2209 1959 2209 \nL 2766 2209 \nL 2766 2266 \nQ 2766 2663 2505 2880 \nQ 2244 3097 1772 3097 \nQ 1472 3097 1187 3025 \nQ 903 2953 641 2809 \nL 641 3341 \nQ 956 3463 1253 3523 \nQ 1550 3584 1831 3584 \nQ 2591 3584 2966 3190 \nQ 3341 2797 3341 1997 \nz\n\" transform=\"scale(0.015625)\"/>\n      <path id=\"DejaVuSans-43d\" d=\"M 581 3500 \nL 1159 3500 \nL 1159 2072 \nL 3025 2072 \nL 3025 3500 \nL 3603 3500 \nL 3603 0 \nL 3025 0 \nL 3025 1613 \nL 1159 1613 \nL 1159 0 \nL 581 0 \nL 581 3500 \nz\n\" transform=\"scale(0.015625)\"/>\n      <path id=\"DejaVuSans-44f\" d=\"M 1181 2491 \nQ 1181 2231 1381 2084 \nQ 1581 1938 1953 1938 \nL 2728 1938 \nL 2728 3041 \nL 1953 3041 \nQ 1581 3041 1381 2897 \nQ 1181 2753 1181 2491 \nz\nM 363 0 \nL 1431 1534 \nQ 1069 1616 828 1830 \nQ 588 2044 588 2491 \nQ 588 2997 923 3248 \nQ 1259 3500 1938 3500 \nL 3306 3500 \nL 3306 0 \nL 2728 0 \nL 2728 1478 \nL 2013 1478 \nL 981 0 \nL 363 0 \nz\n\" transform=\"scale(0.015625)\"/>\n      <path id=\"DejaVuSans-20\" transform=\"scale(0.015625)\"/>\n      <path id=\"DejaVuSans-433\" d=\"M 581 0 \nL 581 3500 \nL 3050 3500 \nL 3050 3041 \nL 1159 3041 \nL 1159 0 \nL 581 0 \nz\n\" transform=\"scale(0.015625)\"/>\n      <path id=\"DejaVuSans-441\" d=\"M 3122 3366 \nL 3122 2828 \nQ 2878 2963 2633 3030 \nQ 2388 3097 2138 3097 \nQ 1578 3097 1268 2742 \nQ 959 2388 959 1747 \nQ 959 1106 1268 751 \nQ 1578 397 2138 397 \nQ 2388 397 2633 464 \nQ 2878 531 3122 666 \nL 3122 134 \nQ 2881 22 2623 -34 \nQ 2366 -91 2075 -91 \nQ 1284 -91 818 406 \nQ 353 903 353 1747 \nQ 353 2603 823 3093 \nQ 1294 3584 2113 3584 \nQ 2378 3584 2631 3529 \nQ 2884 3475 3122 3366 \nz\n\" transform=\"scale(0.015625)\"/>\n      <path id=\"DejaVuSans-442\" d=\"M 188 3500 \nL 3541 3500 \nL 3541 3041 \nL 2147 3041 \nL 2147 0 \nL 1581 0 \nL 1581 3041 \nL 188 3041 \nL 188 3500 \nz\n\" transform=\"scale(0.015625)\"/>\n      <path id=\"DejaVuSans-43f\" d=\"M 3603 3500 \nL 3603 0 \nL 3025 0 \nL 3025 3041 \nL 1159 3041 \nL 1159 0 \nL 581 0 \nL 581 3500 \nL 3603 3500 \nz\n\" transform=\"scale(0.015625)\"/>\n      <path id=\"DejaVuSans-435\" d=\"M 3597 1894 \nL 3597 1613 \nL 953 1613 \nQ 991 1019 1311 708 \nQ 1631 397 2203 397 \nQ 2534 397 2845 478 \nQ 3156 559 3463 722 \nL 3463 178 \nQ 3153 47 2828 -22 \nQ 2503 -91 2169 -91 \nQ 1331 -91 842 396 \nQ 353 884 353 1716 \nQ 353 2575 817 3079 \nQ 1281 3584 2069 3584 \nQ 2775 3584 3186 3129 \nQ 3597 2675 3597 1894 \nz\nM 3022 2063 \nQ 3016 2534 2758 2815 \nQ 2500 3097 2075 3097 \nQ 1594 3097 1305 2825 \nQ 1016 2553 972 2059 \nL 3022 2063 \nz\n\" transform=\"scale(0.015625)\"/>\n      <path id=\"DejaVuSans-434\" d=\"M 1384 459 \nL 3053 459 \nL 3053 3041 \nL 1844 3041 \nL 1844 2603 \nQ 1844 1316 1475 628 \nL 1384 459 \nz\nM 550 459 \nQ 834 584 959 850 \nQ 1266 1509 1266 2838 \nL 1266 3500 \nL 3631 3500 \nL 3631 459 \nL 4091 459 \nL 4091 -884 \nL 3631 -884 \nL 3631 0 \nL 794 0 \nL 794 -884 \nL 334 -884 \nL 334 459 \nL 550 459 \nz\n\" transform=\"scale(0.015625)\"/>\n      <path id=\"DejaVuSans-43b\" d=\"M 238 0 \nL 238 478 \nQ 806 566 981 959 \nQ 1194 1513 1194 2928 \nL 1194 3500 \nL 3559 3500 \nL 3559 0 \nL 2984 0 \nL 2984 3041 \nL 1769 3041 \nL 1769 2694 \nQ 1769 1344 1494 738 \nQ 1200 91 238 0 \nz\n\" transform=\"scale(0.015625)\"/>\n      <path id=\"DejaVuSans-437\" d=\"M 2206 1888 \nQ 2594 1813 2809 1584 \nQ 3025 1356 3025 1019 \nQ 3025 478 2622 193 \nQ 2219 -91 1475 -91 \nQ 1225 -91 961 -47 \nQ 697 -3 416 84 \nL 416 619 \nQ 638 503 903 445 \nQ 1169 388 1459 388 \nQ 1931 388 2195 563 \nQ 2459 738 2459 1019 \nQ 2459 1294 2225 1461 \nQ 1991 1628 1563 1628 \nL 1100 1628 \nL 1100 2103 \nL 1584 2103 \nQ 1947 2103 2158 2242 \nQ 2369 2381 2369 2600 \nQ 2369 2800 2151 2944 \nQ 1934 3088 1563 3088 \nQ 1341 3088 1089 3047 \nQ 838 3006 534 2916 \nL 534 3438 \nQ 841 3513 1106 3550 \nQ 1372 3588 1609 3588 \nQ 2222 3588 2576 3342 \nQ 2931 3097 2931 2656 \nQ 2931 2366 2743 2164 \nQ 2556 1963 2206 1888 \nz\n\" transform=\"scale(0.015625)\"/>\n      <path id=\"DejaVuSans-436\" d=\"M 2597 3500 \nL 3169 3500 \nL 3169 1856 \nL 4697 3500 \nL 5366 3500 \nL 4109 2153 \nL 5547 0 \nL 4931 0 \nL 3753 1769 \nL 3169 1141 \nL 3169 0 \nL 2597 0 \nL 2597 1141 \nL 2013 1769 \nL 834 0 \nL 219 0 \nL 1656 2153 \nL 400 3500 \nL 1069 3500 \nL 2597 1856 \nL 2597 3500 \nz\n\" transform=\"scale(0.015625)\"/>\n      <path id=\"DejaVuSans-43a\" d=\"M 581 3500 \nL 1153 3500 \nL 1153 1856 \nL 2775 3500 \nL 3481 3500 \nL 2144 2147 \nL 3653 0 \nL 3009 0 \nL 1769 1766 \nL 1153 1141 \nL 1153 0 \nL 581 0 \nL 581 3500 \nz\n\" transform=\"scale(0.015625)\"/>\n     </defs>\n     <use xlink:href=\"#DejaVuSans-41d\"/>\n     <use xlink:href=\"#DejaVuSans-43e\" x=\"75.195312\"/>\n     <use xlink:href=\"#DejaVuSans-440\" x=\"136.376953\"/>\n     <use xlink:href=\"#DejaVuSans-43c\" x=\"199.853516\"/>\n     <use xlink:href=\"#DejaVuSans-438\" x=\"275.292969\"/>\n     <use xlink:href=\"#DejaVuSans-440\" x=\"340.283203\"/>\n     <use xlink:href=\"#DejaVuSans-43e\" x=\"403.759766\"/>\n     <use xlink:href=\"#DejaVuSans-432\" x=\"464.941406\"/>\n     <use xlink:href=\"#DejaVuSans-430\" x=\"523.876953\"/>\n     <use xlink:href=\"#DejaVuSans-43d\" x=\"585.15625\"/>\n     <use xlink:href=\"#DejaVuSans-43d\" x=\"650.537109\"/>\n     <use xlink:href=\"#DejaVuSans-430\" x=\"715.917969\"/>\n     <use xlink:href=\"#DejaVuSans-44f\" x=\"777.197266\"/>\n     <use xlink:href=\"#DejaVuSans-20\" x=\"837.353516\"/>\n     <use xlink:href=\"#DejaVuSans-433\" x=\"869.140625\"/>\n     <use xlink:href=\"#DejaVuSans-438\" x=\"921.679688\"/>\n     <use xlink:href=\"#DejaVuSans-441\" x=\"986.669922\"/>\n     <use xlink:href=\"#DejaVuSans-442\" x=\"1041.650391\"/>\n     <use xlink:href=\"#DejaVuSans-43e\" x=\"1099.902344\"/>\n     <use xlink:href=\"#DejaVuSans-433\" x=\"1161.083984\"/>\n     <use xlink:href=\"#DejaVuSans-440\" x=\"1213.623047\"/>\n     <use xlink:href=\"#DejaVuSans-430\" x=\"1277.099609\"/>\n     <use xlink:href=\"#DejaVuSans-43c\" x=\"1338.378906\"/>\n     <use xlink:href=\"#DejaVuSans-43c\" x=\"1413.818359\"/>\n     <use xlink:href=\"#DejaVuSans-430\" x=\"1489.257812\"/>\n     <use xlink:href=\"#DejaVuSans-20\" x=\"1550.537109\"/>\n     <use xlink:href=\"#DejaVuSans-440\" x=\"1582.324219\"/>\n     <use xlink:href=\"#DejaVuSans-430\" x=\"1645.800781\"/>\n     <use xlink:href=\"#DejaVuSans-441\" x=\"1707.080078\"/>\n     <use xlink:href=\"#DejaVuSans-43f\" x=\"1762.060547\"/>\n     <use xlink:href=\"#DejaVuSans-440\" x=\"1827.441406\"/>\n     <use xlink:href=\"#DejaVuSans-435\" x=\"1890.917969\"/>\n     <use xlink:href=\"#DejaVuSans-434\" x=\"1952.441406\"/>\n     <use xlink:href=\"#DejaVuSans-435\" x=\"2021.582031\"/>\n     <use xlink:href=\"#DejaVuSans-43b\" x=\"2083.105469\"/>\n     <use xlink:href=\"#DejaVuSans-435\" x=\"2147.021484\"/>\n     <use xlink:href=\"#DejaVuSans-43d\" x=\"2208.544922\"/>\n     <use xlink:href=\"#DejaVuSans-438\" x=\"2273.925781\"/>\n     <use xlink:href=\"#DejaVuSans-44f\" x=\"2338.916016\"/>\n     <use xlink:href=\"#DejaVuSans-20\" x=\"2399.072266\"/>\n     <use xlink:href=\"#DejaVuSans-437\" x=\"2430.859375\"/>\n     <use xlink:href=\"#DejaVuSans-430\" x=\"2484.033203\"/>\n     <use xlink:href=\"#DejaVuSans-434\" x=\"2545.3125\"/>\n     <use xlink:href=\"#DejaVuSans-435\" x=\"2614.453125\"/>\n     <use xlink:href=\"#DejaVuSans-440\" x=\"2675.976562\"/>\n     <use xlink:href=\"#DejaVuSans-436\" x=\"2739.453125\"/>\n     <use xlink:href=\"#DejaVuSans-43a\" x=\"2829.541016\"/>\n     <use xlink:href=\"#DejaVuSans-438\" x=\"2889.941406\"/>\n     <use xlink:href=\"#DejaVuSans-20\" x=\"2954.931641\"/>\n     <use xlink:href=\"#DejaVuSans-43f\" x=\"2986.71875\"/>\n     <use xlink:href=\"#DejaVuSans-440\" x=\"3052.099609\"/>\n     <use xlink:href=\"#DejaVuSans-438\" x=\"3115.576172\"/>\n     <use xlink:href=\"#DejaVuSans-43b\" x=\"3180.566406\"/>\n     <use xlink:href=\"#DejaVuSans-435\" x=\"3244.482422\"/>\n     <use xlink:href=\"#DejaVuSans-442\" x=\"3306.005859\"/>\n     <use xlink:href=\"#DejaVuSans-430\" x=\"3364.257812\"/>\n    </g>\n   </g>\n  </g>\n </g>\n <defs>\n  <clipPath id=\"pba9e76f60d\">\n   <rect x=\"56.50625\" y=\"22.318125\" width=\"725.4\" height=\"443.52\"/>\n  </clipPath>\n </defs>\n</svg>\n"
          },
          "metadata": {}
        }
      ],
      "source": [
        "plt.hist(df_gist_arr, bins = 100, density=True)\n",
        "plt.title('Нормированная гистограмма распределения задержки прилета')\n",
        "plt.xlim(-100, 100)\n",
        "normal_function = stats.norm(loc = df_gist_arr.mean(), scale = df_gist_arr.std(ddof=1)).rvs(10000)\n",
        "sns.kdeplot(normal_function, fill=True)"
      ]
    },
    {
      "cell_type": "markdown",
      "id": "e89a4321-aaf0-4a77-a468-6ccd2e2443dd",
      "metadata": {
        "id": "e89a4321-aaf0-4a77-a468-6ccd2e2443dd"
      },
      "source": [
        "Кажется, что полученная гистрограмма может описываться нормальным распределением. Воспользуемся `критерием Колмогорова-Смирнова.`"
      ]
    },
    {
      "cell_type": "code",
      "execution_count": 33,
      "id": "51a15e8d-04fb-4a0b-9024-f86795ff90d6",
      "metadata": {
        "colab": {
          "base_uri": "https://localhost:8080/"
        },
        "id": "51a15e8d-04fb-4a0b-9024-f86795ff90d6",
        "outputId": "28cf3386-bd5a-4d37-f6cd-08afeed685ed"
      },
      "outputs": [
        {
          "output_type": "execute_result",
          "data": {
            "text/plain": [
              "KstestResult(statistic=0.06353745240085662, pvalue=0.0, statistic_location=-3.0, statistic_sign=1)"
            ]
          },
          "metadata": {},
          "execution_count": 33
        }
      ],
      "source": [
        "stats.kstest(df_gist_arr, 'norm', args=(df_gist_arr.mean(), df_gist_arr.std(ddof=1)))"
      ]
    },
    {
      "cell_type": "markdown",
      "id": "52348fda-e257-4577-8c3e-a79cbc720e34",
      "metadata": {
        "id": "52348fda-e257-4577-8c3e-a79cbc720e34"
      },
      "source": [
        "$p-value = 0$ => гипотеза о нормальности **отвергается.**"
      ]
    }
  ],
  "metadata": {
    "kernelspec": {
      "display_name": "Python 3 (ipykernel)",
      "language": "python",
      "name": "python3"
    },
    "language_info": {
      "codemirror_mode": {
        "name": "ipython",
        "version": 3
      },
      "file_extension": ".py",
      "mimetype": "text/x-python",
      "name": "python",
      "nbconvert_exporter": "python",
      "pygments_lexer": "ipython3",
      "version": "3.12.2"
    },
    "colab": {
      "provenance": [],
      "include_colab_link": true
    }
  },
  "nbformat": 4,
  "nbformat_minor": 5
}